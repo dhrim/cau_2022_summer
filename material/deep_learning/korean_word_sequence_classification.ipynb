{
  "nbformat": 4,
  "nbformat_minor": 0,
  "metadata": {
    "colab": {
      "name": "korean_word_sequence_classification.ipynb",
      "provenance": [],
      "collapsed_sections": [],
      "toc_visible": true,
      "machine_shape": "hm"
    },
    "kernelspec": {
      "name": "python3",
      "display_name": "Python 3"
    },
    "language_info": {
      "name": "python"
    },
    "accelerator": "GPU"
  },
  "cells": [
    {
      "cell_type": "markdown",
      "metadata": {
        "id": "h3lPGp8Our_W"
      },
      "source": [
        "# 한글 단어열 예측 "
      ]
    },
    {
      "cell_type": "code",
      "metadata": {
        "id": "GcRRFwxOBbR4"
      },
      "source": [
        "import pandas as pd\n",
        "import numpy as np  \n",
        "import re\n",
        "import pickle\n",
        "\n",
        "import tensorflow as tf\n",
        "from tensorflow import keras\n",
        "from tensorflow.keras import backend as K\n",
        "from tensorflow.keras import Input, Model\n",
        "from tensorflow.keras import optimizers\n",
        "\n",
        "import codecs\n",
        "from tqdm import tqdm\n",
        "import shutil"
      ],
      "execution_count": 2,
      "outputs": []
    },
    {
      "cell_type": "markdown",
      "metadata": {
        "id": "rtr1QFbwXFd4"
      },
      "source": [
        "# 데이터"
      ]
    },
    {
      "cell_type": "code",
      "metadata": {
        "id": "Aj5gT8T6-jQK"
      },
      "source": [
        ""
      ],
      "execution_count": null,
      "outputs": []
    },
    {
      "cell_type": "markdown",
      "metadata": {
        "id": "C73YVM8W-j7K"
      },
      "source": [
        "## Tokenizer 설치 - Kkma\n"
      ]
    },
    {
      "cell_type": "code",
      "metadata": {
        "colab": {
          "base_uri": "https://localhost:8080/"
        },
        "id": "nmQNNaep-rDW",
        "outputId": "99450c98-2e8b-4e83-8fad-84c8d132217c"
      },
      "source": [
        "!pip install konlpy"
      ],
      "execution_count": 3,
      "outputs": [
        {
          "output_type": "stream",
          "name": "stdout",
          "text": [
            "Looking in indexes: https://pypi.org/simple, https://us-python.pkg.dev/colab-wheels/public/simple/\n",
            "Collecting konlpy\n",
            "  Downloading konlpy-0.6.0-py2.py3-none-any.whl (19.4 MB)\n",
            "\u001b[K     |████████████████████████████████| 19.4 MB 12.8 MB/s \n",
            "\u001b[?25hRequirement already satisfied: lxml>=4.1.0 in /usr/local/lib/python3.7/dist-packages (from konlpy) (4.2.6)\n",
            "Requirement already satisfied: numpy>=1.6 in /usr/local/lib/python3.7/dist-packages (from konlpy) (1.21.6)\n",
            "Collecting JPype1>=0.7.0\n",
            "  Downloading JPype1-1.4.0-cp37-cp37m-manylinux_2_5_x86_64.manylinux1_x86_64.whl (453 kB)\n",
            "\u001b[K     |████████████████████████████████| 453 kB 67.0 MB/s \n",
            "\u001b[?25hRequirement already satisfied: typing-extensions in /usr/local/lib/python3.7/dist-packages (from JPype1>=0.7.0->konlpy) (4.1.1)\n",
            "Installing collected packages: JPype1, konlpy\n",
            "Successfully installed JPype1-1.4.0 konlpy-0.6.0\n"
          ]
        }
      ]
    },
    {
      "cell_type": "code",
      "metadata": {
        "id": "Bwt0hWEnXCtO"
      },
      "source": [
        "from konlpy.tag import Okt\n",
        "\n",
        "tokenizer = Okt()"
      ],
      "execution_count": 4,
      "outputs": []
    },
    {
      "cell_type": "code",
      "metadata": {
        "id": "2katSGDV-jIC"
      },
      "source": [
        "poses = tokenizer.pos('토크나이징이 잘 되나요?')"
      ],
      "execution_count": 6,
      "outputs": []
    },
    {
      "cell_type": "code",
      "metadata": {
        "colab": {
          "base_uri": "https://localhost:8080/"
        },
        "id": "lp-ZjgsEB-e6",
        "outputId": "3aa6f371-a1a9-42df-b52e-1a9c8ddd53c0"
      },
      "source": [
        "tokens = []\n",
        "for pos in poses:\n",
        "  print(pos)\n",
        "  tokens.append(pos[0])\n",
        "print(tokens)"
      ],
      "execution_count": 7,
      "outputs": [
        {
          "output_type": "stream",
          "name": "stdout",
          "text": [
            "('토크', 'Noun')\n",
            "('나', 'Josa')\n",
            "('이징', 'Noun')\n",
            "('이', 'Josa')\n",
            "('잘', 'Verb')\n",
            "('되나요', 'Verb')\n",
            "('?', 'Punctuation')\n",
            "['토크', '나', '이징', '이', '잘', '되나요', '?']\n"
          ]
        }
      ]
    },
    {
      "cell_type": "markdown",
      "metadata": {
        "id": "bobHiFxmBN01"
      },
      "source": [
        "## 데이터 다운로드"
      ]
    },
    {
      "cell_type": "code",
      "metadata": {
        "id": "5-pgao0HxEbn",
        "colab": {
          "base_uri": "https://localhost:8080/"
        },
        "outputId": "2bbd74fd-85e6-49b4-83c1-f11838a7108f"
      },
      "source": [
        "!wget https://github.com/dhrim/deep_learning_data/raw/master/movie_ratings.txt"
      ],
      "execution_count": 8,
      "outputs": [
        {
          "output_type": "stream",
          "name": "stdout",
          "text": [
            "--2022-07-01 01:38:02--  https://github.com/dhrim/deep_learning_data/raw/master/movie_ratings.txt\n",
            "Resolving github.com (github.com)... 140.82.121.4\n",
            "Connecting to github.com (github.com)|140.82.121.4|:443... connected.\n",
            "HTTP request sent, awaiting response... 302 Found\n",
            "Location: https://raw.githubusercontent.com/dhrim/deep_learning_data/main/movie_ratings.txt [following]\n",
            "--2022-07-01 01:38:02--  https://raw.githubusercontent.com/dhrim/deep_learning_data/main/movie_ratings.txt\n",
            "Resolving raw.githubusercontent.com (raw.githubusercontent.com)... 185.199.108.133, 185.199.109.133, 185.199.110.133, ...\n",
            "Connecting to raw.githubusercontent.com (raw.githubusercontent.com)|185.199.108.133|:443... connected.\n",
            "HTTP request sent, awaiting response... 200 OK\n",
            "Length: 19515078 (19M) [text/plain]\n",
            "Saving to: ‘movie_ratings.txt’\n",
            "\n",
            "movie_ratings.txt   100%[===================>]  18.61M  --.-KB/s    in 0.07s   \n",
            "\n",
            "2022-07-01 01:38:04 (253 MB/s) - ‘movie_ratings.txt’ saved [19515078/19515078]\n",
            "\n"
          ]
        }
      ]
    },
    {
      "cell_type": "code",
      "source": [
        "!head movie_ratings.txt"
      ],
      "metadata": {
        "id": "-G6N4a2iaIoq",
        "outputId": "ae8e2fc8-d3bd-40e4-c0dc-46a80077b9e1",
        "colab": {
          "base_uri": "https://localhost:8080/"
        }
      },
      "execution_count": 9,
      "outputs": [
        {
          "output_type": "stream",
          "name": "stdout",
          "text": [
            "id\tdocument\tlabel\n",
            "8112052\t어릴때보고 지금다시봐도 재밌어요ㅋㅋ\t1\n",
            "8132799\t디자인을 배우는 학생으로, 외국디자이너와 그들이 일군 전통을 통해 발전해가는 문화산업이 부러웠는데. 사실 우리나라에서도 그 어려운시절에 끝까지 열정을 지킨 노라노 같은 전통이있어 저와 같은 사람들이 꿈을 꾸고 이뤄나갈 수 있다는 것에 감사합니다.\t1\n",
            "4655635\t폴리스스토리 시리즈는 1부터 뉴까지 버릴께 하나도 없음.. 최고.\t1\n",
            "9251303\t와.. 연기가 진짜 개쩔구나.. 지루할거라고 생각했는데 몰입해서 봤다.. 그래 이런게 진짜 영화지\t1\n",
            "10067386\t안개 자욱한 밤하늘에 떠 있는 초승달 같은 영화.\t1\n",
            "2190435\t사랑을 해본사람이라면 처음부터 끝까지 웃을수 있는영화\t1\n",
            "9279041\t완전 감동입니다 다시봐도 감동\t1\n",
            "7865729\t개들의 전쟁2 나오나요? 나오면 1빠로 보고 싶음\t1\n",
            "7477618\t굿\t1\n"
          ]
        }
      ]
    },
    {
      "cell_type": "markdown",
      "metadata": {
        "id": "QZu1lTyM28Rf"
      },
      "source": [
        "## 데이터 로딩"
      ]
    },
    {
      "cell_type": "code",
      "metadata": {
        "id": "lsyECR_ixL2t"
      },
      "source": [
        "df = pd.read_table(\"movie_ratings.txt\")"
      ],
      "execution_count": 10,
      "outputs": []
    },
    {
      "cell_type": "code",
      "metadata": {
        "colab": {
          "base_uri": "https://localhost:8080/",
          "height": 206
        },
        "id": "kVPkn52ZxbU8",
        "outputId": "8bedfc3a-380e-4fb9-ce7c-4eb287b9b522"
      },
      "source": [
        "df.head()"
      ],
      "execution_count": 11,
      "outputs": [
        {
          "output_type": "execute_result",
          "data": {
            "text/plain": [
              "         id                                           document  label\n",
              "0   8112052                                어릴때보고 지금다시봐도 재밌어요ㅋㅋ      1\n",
              "1   8132799  디자인을 배우는 학생으로, 외국디자이너와 그들이 일군 전통을 통해 발전해가는 문화산...      1\n",
              "2   4655635               폴리스스토리 시리즈는 1부터 뉴까지 버릴께 하나도 없음.. 최고.      1\n",
              "3   9251303  와.. 연기가 진짜 개쩔구나.. 지루할거라고 생각했는데 몰입해서 봤다.. 그래 이런...      1\n",
              "4  10067386                        안개 자욱한 밤하늘에 떠 있는 초승달 같은 영화.      1"
            ],
            "text/html": [
              "\n",
              "  <div id=\"df-7be9f2ff-2b36-4ffb-9aef-c7e7b1ffb186\">\n",
              "    <div class=\"colab-df-container\">\n",
              "      <div>\n",
              "<style scoped>\n",
              "    .dataframe tbody tr th:only-of-type {\n",
              "        vertical-align: middle;\n",
              "    }\n",
              "\n",
              "    .dataframe tbody tr th {\n",
              "        vertical-align: top;\n",
              "    }\n",
              "\n",
              "    .dataframe thead th {\n",
              "        text-align: right;\n",
              "    }\n",
              "</style>\n",
              "<table border=\"1\" class=\"dataframe\">\n",
              "  <thead>\n",
              "    <tr style=\"text-align: right;\">\n",
              "      <th></th>\n",
              "      <th>id</th>\n",
              "      <th>document</th>\n",
              "      <th>label</th>\n",
              "    </tr>\n",
              "  </thead>\n",
              "  <tbody>\n",
              "    <tr>\n",
              "      <th>0</th>\n",
              "      <td>8112052</td>\n",
              "      <td>어릴때보고 지금다시봐도 재밌어요ㅋㅋ</td>\n",
              "      <td>1</td>\n",
              "    </tr>\n",
              "    <tr>\n",
              "      <th>1</th>\n",
              "      <td>8132799</td>\n",
              "      <td>디자인을 배우는 학생으로, 외국디자이너와 그들이 일군 전통을 통해 발전해가는 문화산...</td>\n",
              "      <td>1</td>\n",
              "    </tr>\n",
              "    <tr>\n",
              "      <th>2</th>\n",
              "      <td>4655635</td>\n",
              "      <td>폴리스스토리 시리즈는 1부터 뉴까지 버릴께 하나도 없음.. 최고.</td>\n",
              "      <td>1</td>\n",
              "    </tr>\n",
              "    <tr>\n",
              "      <th>3</th>\n",
              "      <td>9251303</td>\n",
              "      <td>와.. 연기가 진짜 개쩔구나.. 지루할거라고 생각했는데 몰입해서 봤다.. 그래 이런...</td>\n",
              "      <td>1</td>\n",
              "    </tr>\n",
              "    <tr>\n",
              "      <th>4</th>\n",
              "      <td>10067386</td>\n",
              "      <td>안개 자욱한 밤하늘에 떠 있는 초승달 같은 영화.</td>\n",
              "      <td>1</td>\n",
              "    </tr>\n",
              "  </tbody>\n",
              "</table>\n",
              "</div>\n",
              "      <button class=\"colab-df-convert\" onclick=\"convertToInteractive('df-7be9f2ff-2b36-4ffb-9aef-c7e7b1ffb186')\"\n",
              "              title=\"Convert this dataframe to an interactive table.\"\n",
              "              style=\"display:none;\">\n",
              "        \n",
              "  <svg xmlns=\"http://www.w3.org/2000/svg\" height=\"24px\"viewBox=\"0 0 24 24\"\n",
              "       width=\"24px\">\n",
              "    <path d=\"M0 0h24v24H0V0z\" fill=\"none\"/>\n",
              "    <path d=\"M18.56 5.44l.94 2.06.94-2.06 2.06-.94-2.06-.94-.94-2.06-.94 2.06-2.06.94zm-11 1L8.5 8.5l.94-2.06 2.06-.94-2.06-.94L8.5 2.5l-.94 2.06-2.06.94zm10 10l.94 2.06.94-2.06 2.06-.94-2.06-.94-.94-2.06-.94 2.06-2.06.94z\"/><path d=\"M17.41 7.96l-1.37-1.37c-.4-.4-.92-.59-1.43-.59-.52 0-1.04.2-1.43.59L10.3 9.45l-7.72 7.72c-.78.78-.78 2.05 0 2.83L4 21.41c.39.39.9.59 1.41.59.51 0 1.02-.2 1.41-.59l7.78-7.78 2.81-2.81c.8-.78.8-2.07 0-2.86zM5.41 20L4 18.59l7.72-7.72 1.47 1.35L5.41 20z\"/>\n",
              "  </svg>\n",
              "      </button>\n",
              "      \n",
              "  <style>\n",
              "    .colab-df-container {\n",
              "      display:flex;\n",
              "      flex-wrap:wrap;\n",
              "      gap: 12px;\n",
              "    }\n",
              "\n",
              "    .colab-df-convert {\n",
              "      background-color: #E8F0FE;\n",
              "      border: none;\n",
              "      border-radius: 50%;\n",
              "      cursor: pointer;\n",
              "      display: none;\n",
              "      fill: #1967D2;\n",
              "      height: 32px;\n",
              "      padding: 0 0 0 0;\n",
              "      width: 32px;\n",
              "    }\n",
              "\n",
              "    .colab-df-convert:hover {\n",
              "      background-color: #E2EBFA;\n",
              "      box-shadow: 0px 1px 2px rgba(60, 64, 67, 0.3), 0px 1px 3px 1px rgba(60, 64, 67, 0.15);\n",
              "      fill: #174EA6;\n",
              "    }\n",
              "\n",
              "    [theme=dark] .colab-df-convert {\n",
              "      background-color: #3B4455;\n",
              "      fill: #D2E3FC;\n",
              "    }\n",
              "\n",
              "    [theme=dark] .colab-df-convert:hover {\n",
              "      background-color: #434B5C;\n",
              "      box-shadow: 0px 1px 3px 1px rgba(0, 0, 0, 0.15);\n",
              "      filter: drop-shadow(0px 1px 2px rgba(0, 0, 0, 0.3));\n",
              "      fill: #FFFFFF;\n",
              "    }\n",
              "  </style>\n",
              "\n",
              "      <script>\n",
              "        const buttonEl =\n",
              "          document.querySelector('#df-7be9f2ff-2b36-4ffb-9aef-c7e7b1ffb186 button.colab-df-convert');\n",
              "        buttonEl.style.display =\n",
              "          google.colab.kernel.accessAllowed ? 'block' : 'none';\n",
              "\n",
              "        async function convertToInteractive(key) {\n",
              "          const element = document.querySelector('#df-7be9f2ff-2b36-4ffb-9aef-c7e7b1ffb186');\n",
              "          const dataTable =\n",
              "            await google.colab.kernel.invokeFunction('convertToInteractive',\n",
              "                                                     [key], {});\n",
              "          if (!dataTable) return;\n",
              "\n",
              "          const docLinkHtml = 'Like what you see? Visit the ' +\n",
              "            '<a target=\"_blank\" href=https://colab.research.google.com/notebooks/data_table.ipynb>data table notebook</a>'\n",
              "            + ' to learn more about interactive tables.';\n",
              "          element.innerHTML = '';\n",
              "          dataTable['output_type'] = 'display_data';\n",
              "          await google.colab.output.renderOutput(dataTable, element);\n",
              "          const docLink = document.createElement('div');\n",
              "          docLink.innerHTML = docLinkHtml;\n",
              "          element.appendChild(docLink);\n",
              "        }\n",
              "      </script>\n",
              "    </div>\n",
              "  </div>\n",
              "  "
            ]
          },
          "metadata": {},
          "execution_count": 11
        }
      ]
    },
    {
      "cell_type": "markdown",
      "metadata": {
        "id": "Satro0bK25CA"
      },
      "source": [
        "## 데이터 섞기"
      ]
    },
    {
      "cell_type": "code",
      "metadata": {
        "colab": {
          "base_uri": "https://localhost:8080/",
          "height": 206
        },
        "id": "Rj4fWpN523i8",
        "outputId": "ac3a50f8-6e09-4863-9332-cdda7685669a"
      },
      "source": [
        "df = df.sample(frac=1).reset_index(drop=True) \n",
        "\n",
        "df.head()"
      ],
      "execution_count": 12,
      "outputs": [
        {
          "output_type": "execute_result",
          "data": {
            "text/plain": [
              "        id                                       document  label\n",
              "0   277999                                  뒤로 갈수록 유치뽕짝..      0\n",
              "1  6402862  긴장감을 늦출수 없는 흡입력이 뛰어나지만 개연성 한계는 느껴지는 킬링타임용 영화.      1\n",
              "2  9109601               아... 2014년 34살에 처음보는 내내 눈물이 흐른다.      1\n",
              "3  6393700                                   공유 보려고 보는 영화      0\n",
              "4  5769238                                 이 영화는 좀 아닌듯...      0"
            ],
            "text/html": [
              "\n",
              "  <div id=\"df-1d89d214-6990-4d9f-8428-b9681fa35c1b\">\n",
              "    <div class=\"colab-df-container\">\n",
              "      <div>\n",
              "<style scoped>\n",
              "    .dataframe tbody tr th:only-of-type {\n",
              "        vertical-align: middle;\n",
              "    }\n",
              "\n",
              "    .dataframe tbody tr th {\n",
              "        vertical-align: top;\n",
              "    }\n",
              "\n",
              "    .dataframe thead th {\n",
              "        text-align: right;\n",
              "    }\n",
              "</style>\n",
              "<table border=\"1\" class=\"dataframe\">\n",
              "  <thead>\n",
              "    <tr style=\"text-align: right;\">\n",
              "      <th></th>\n",
              "      <th>id</th>\n",
              "      <th>document</th>\n",
              "      <th>label</th>\n",
              "    </tr>\n",
              "  </thead>\n",
              "  <tbody>\n",
              "    <tr>\n",
              "      <th>0</th>\n",
              "      <td>277999</td>\n",
              "      <td>뒤로 갈수록 유치뽕짝..</td>\n",
              "      <td>0</td>\n",
              "    </tr>\n",
              "    <tr>\n",
              "      <th>1</th>\n",
              "      <td>6402862</td>\n",
              "      <td>긴장감을 늦출수 없는 흡입력이 뛰어나지만 개연성 한계는 느껴지는 킬링타임용 영화.</td>\n",
              "      <td>1</td>\n",
              "    </tr>\n",
              "    <tr>\n",
              "      <th>2</th>\n",
              "      <td>9109601</td>\n",
              "      <td>아... 2014년 34살에 처음보는 내내 눈물이 흐른다.</td>\n",
              "      <td>1</td>\n",
              "    </tr>\n",
              "    <tr>\n",
              "      <th>3</th>\n",
              "      <td>6393700</td>\n",
              "      <td>공유 보려고 보는 영화</td>\n",
              "      <td>0</td>\n",
              "    </tr>\n",
              "    <tr>\n",
              "      <th>4</th>\n",
              "      <td>5769238</td>\n",
              "      <td>이 영화는 좀 아닌듯...</td>\n",
              "      <td>0</td>\n",
              "    </tr>\n",
              "  </tbody>\n",
              "</table>\n",
              "</div>\n",
              "      <button class=\"colab-df-convert\" onclick=\"convertToInteractive('df-1d89d214-6990-4d9f-8428-b9681fa35c1b')\"\n",
              "              title=\"Convert this dataframe to an interactive table.\"\n",
              "              style=\"display:none;\">\n",
              "        \n",
              "  <svg xmlns=\"http://www.w3.org/2000/svg\" height=\"24px\"viewBox=\"0 0 24 24\"\n",
              "       width=\"24px\">\n",
              "    <path d=\"M0 0h24v24H0V0z\" fill=\"none\"/>\n",
              "    <path d=\"M18.56 5.44l.94 2.06.94-2.06 2.06-.94-2.06-.94-.94-2.06-.94 2.06-2.06.94zm-11 1L8.5 8.5l.94-2.06 2.06-.94-2.06-.94L8.5 2.5l-.94 2.06-2.06.94zm10 10l.94 2.06.94-2.06 2.06-.94-2.06-.94-.94-2.06-.94 2.06-2.06.94z\"/><path d=\"M17.41 7.96l-1.37-1.37c-.4-.4-.92-.59-1.43-.59-.52 0-1.04.2-1.43.59L10.3 9.45l-7.72 7.72c-.78.78-.78 2.05 0 2.83L4 21.41c.39.39.9.59 1.41.59.51 0 1.02-.2 1.41-.59l7.78-7.78 2.81-2.81c.8-.78.8-2.07 0-2.86zM5.41 20L4 18.59l7.72-7.72 1.47 1.35L5.41 20z\"/>\n",
              "  </svg>\n",
              "      </button>\n",
              "      \n",
              "  <style>\n",
              "    .colab-df-container {\n",
              "      display:flex;\n",
              "      flex-wrap:wrap;\n",
              "      gap: 12px;\n",
              "    }\n",
              "\n",
              "    .colab-df-convert {\n",
              "      background-color: #E8F0FE;\n",
              "      border: none;\n",
              "      border-radius: 50%;\n",
              "      cursor: pointer;\n",
              "      display: none;\n",
              "      fill: #1967D2;\n",
              "      height: 32px;\n",
              "      padding: 0 0 0 0;\n",
              "      width: 32px;\n",
              "    }\n",
              "\n",
              "    .colab-df-convert:hover {\n",
              "      background-color: #E2EBFA;\n",
              "      box-shadow: 0px 1px 2px rgba(60, 64, 67, 0.3), 0px 1px 3px 1px rgba(60, 64, 67, 0.15);\n",
              "      fill: #174EA6;\n",
              "    }\n",
              "\n",
              "    [theme=dark] .colab-df-convert {\n",
              "      background-color: #3B4455;\n",
              "      fill: #D2E3FC;\n",
              "    }\n",
              "\n",
              "    [theme=dark] .colab-df-convert:hover {\n",
              "      background-color: #434B5C;\n",
              "      box-shadow: 0px 1px 3px 1px rgba(0, 0, 0, 0.15);\n",
              "      filter: drop-shadow(0px 1px 2px rgba(0, 0, 0, 0.3));\n",
              "      fill: #FFFFFF;\n",
              "    }\n",
              "  </style>\n",
              "\n",
              "      <script>\n",
              "        const buttonEl =\n",
              "          document.querySelector('#df-1d89d214-6990-4d9f-8428-b9681fa35c1b button.colab-df-convert');\n",
              "        buttonEl.style.display =\n",
              "          google.colab.kernel.accessAllowed ? 'block' : 'none';\n",
              "\n",
              "        async function convertToInteractive(key) {\n",
              "          const element = document.querySelector('#df-1d89d214-6990-4d9f-8428-b9681fa35c1b');\n",
              "          const dataTable =\n",
              "            await google.colab.kernel.invokeFunction('convertToInteractive',\n",
              "                                                     [key], {});\n",
              "          if (!dataTable) return;\n",
              "\n",
              "          const docLinkHtml = 'Like what you see? Visit the ' +\n",
              "            '<a target=\"_blank\" href=https://colab.research.google.com/notebooks/data_table.ipynb>data table notebook</a>'\n",
              "            + ' to learn more about interactive tables.';\n",
              "          element.innerHTML = '';\n",
              "          dataTable['output_type'] = 'display_data';\n",
              "          await google.colab.output.renderOutput(dataTable, element);\n",
              "          const docLink = document.createElement('div');\n",
              "          docLink.innerHTML = docLinkHtml;\n",
              "          element.appendChild(docLink);\n",
              "        }\n",
              "      </script>\n",
              "    </div>\n",
              "  </div>\n",
              "  "
            ]
          },
          "metadata": {},
          "execution_count": 12
        }
      ]
    },
    {
      "cell_type": "markdown",
      "metadata": {
        "id": "-ke8GRyV3AMJ"
      },
      "source": [
        "## 입력과 출력 데이터 분리"
      ]
    },
    {
      "cell_type": "code",
      "metadata": {
        "id": "qrebOR3Ixtah"
      },
      "source": [
        "reviews = df.document.values.copy()\n",
        "labels = df.label.values.copy()"
      ],
      "execution_count": 13,
      "outputs": []
    },
    {
      "cell_type": "code",
      "metadata": {
        "colab": {
          "base_uri": "https://localhost:8080/"
        },
        "id": "_pPRFEcJEfrU",
        "outputId": "8d6fd737-6b87-4aa0-bc7b-3197d53666cf"
      },
      "source": [
        "print(reviews.shape)\n",
        "print(labels.shape)"
      ],
      "execution_count": 14,
      "outputs": [
        {
          "output_type": "stream",
          "name": "stdout",
          "text": [
            "(200000,)\n",
            "(200000,)\n"
          ]
        }
      ]
    },
    {
      "cell_type": "markdown",
      "metadata": {
        "id": "vqIppyJQS_4A"
      },
      "source": [
        "## 토큰나이징"
      ]
    },
    {
      "cell_type": "code",
      "metadata": {
        "id": "pLBjr69W9rPH"
      },
      "source": [
        "PAD = \"[PAD]\"\n",
        "UNK = \"[UNK]\""
      ],
      "execution_count": 15,
      "outputs": []
    },
    {
      "cell_type": "code",
      "metadata": {
        "id": "1lGlrtErOebZ"
      },
      "source": [
        "VOCA_SIZE = 4000 # 어휘 사전의 크기\n",
        "SEQ_LENGTH = 128 # 리뷰 최대 길이"
      ],
      "execution_count": 16,
      "outputs": []
    },
    {
      "cell_type": "code",
      "metadata": {
        "id": "QYDXGfAg4icy"
      },
      "source": [
        "from tqdm import tqdm\n",
        "from konlpy.tag import Okt\n",
        "\n",
        "def tokenize(reviews):\n",
        "  tokenizer = Okt()\n",
        "  tokenized = []\n",
        "  # for review in tqdm(reviews):\n",
        "  for review in reviews:\n",
        "    review = str(review)\n",
        "    # review = '꽤 괜찮은거같아요 ~~'\n",
        "    poses = tokenizer.pos(review)\n",
        "    tokens = [pos[0] for pos in poses]\n",
        "    # tokens = ['꽤', '괜찮은', '거', '같아요', '~~']\n",
        "    tokens = tokens[:SEQ_LENGTH]\n",
        "    tokenized.append(tokens)\n",
        "  return tokenized"
      ],
      "execution_count": 17,
      "outputs": []
    },
    {
      "cell_type": "code",
      "metadata": {
        "colab": {
          "base_uri": "https://localhost:8080/"
        },
        "id": "58aBlC0wSAfx",
        "outputId": "f1bfcc0d-092d-4b29-827b-9069c5c74ac7"
      },
      "source": [
        "print(len(reviews))"
      ],
      "execution_count": 18,
      "outputs": [
        {
          "output_type": "stream",
          "name": "stdout",
          "text": [
            "200000\n"
          ]
        }
      ]
    },
    {
      "cell_type": "code",
      "metadata": {
        "id": "yaDgZZQ_fb3I"
      },
      "source": [
        "tokenized_reviews = tokenize(reviews)"
      ],
      "execution_count": 19,
      "outputs": []
    },
    {
      "cell_type": "markdown",
      "metadata": {
        "id": "ESOc7d44S58U"
      },
      "source": [
        "## 인코딩"
      ]
    },
    {
      "cell_type": "code",
      "metadata": {
        "id": "JaGz9O6dNJM5",
        "colab": {
          "base_uri": "https://localhost:8080/"
        },
        "outputId": "11ab4658-b4e6-4839-c56f-fd9bedb36caa"
      },
      "source": [
        "import collections\n",
        "from collections import OrderedDict\n",
        "\n",
        "def build_index(tokenized_reviews):\n",
        "\n",
        "  all_tokens = []\n",
        "  for tokens in tokenized_reviews:\n",
        "    all_tokens.extend(tokens)\n",
        "\n",
        " # 빈도 순으로 정열\n",
        "  counts = collections.Counter(all_tokens)\n",
        "  sorted_tokens = sorted(all_tokens, key=counts.get, reverse=True)\n",
        "\n",
        "  # 단어 중복 삭제\n",
        "  sorted_tokens = list(OrderedDict.fromkeys(sorted_tokens))\n",
        "\n",
        "  # voca 크기 이상의 단어는 버린다.\n",
        "  print(\"len(sorted_tokens) =\", len(sorted_tokens))\n",
        "  sorted_tokens = sorted_tokens[:VOCA_SIZE-2] # PAD, UNK 2개\n",
        "  sorted_tokens.insert(0, UNK)\n",
        "  sorted_tokens.insert(0, PAD)\n",
        "  print(\"len(sorted_tokens) =\", len(sorted_tokens))\n",
        "\n",
        "  word2index = { word:index for index,word in enumerate(sorted_tokens)}\n",
        "  index2word = { index:word for index,word in enumerate(sorted_tokens)}\n",
        "\n",
        "  return word2index, index2word\n",
        "\n",
        "\n",
        "def encode(tokenized_reviews, word2index):\n",
        "\n",
        "  encoded_reviews = []\n",
        "  for tokens in tokenized_reviews:\n",
        "    # tokens = ['아', '더', '빙', '..', '진짜', '짜증', '나네', '요', '목소리']\n",
        "\n",
        "    encoded = []\n",
        "    for token in tokens:\n",
        "      token = token if token in word2index else UNK\n",
        "      encoded.append(word2index[token])\n",
        "\n",
        "    # encoding = [2, 3, 4, 1, 5, 6, 7, 8, 9]\n",
        "\n",
        "    # 길이가 모자라면 PAD(0)으로 채운다.\n",
        "    padding_length = SEQ_LENGTH - len(encoded)\n",
        "    encoded.extend([word2index[PAD]]*padding_length)\n",
        "    # encoded = [2, 3, 4, 1, 5, 6, 7, 8, 9, 0, 0, 0, 0, 0, 0, 0, ... ]\n",
        "    encoded_reviews.append(encoded)\n",
        "\n",
        "  return encoded_reviews\n",
        "\n",
        "word2index, index2word = build_index(tokenized_reviews)\n",
        "encoded_reviews = encode(tokenized_reviews, word2index)\n"
      ],
      "execution_count": 20,
      "outputs": [
        {
          "output_type": "stream",
          "name": "stdout",
          "text": [
            "len(sorted_tokens) = 122829\n",
            "len(sorted_tokens) = 4000\n"
          ]
        }
      ]
    },
    {
      "cell_type": "code",
      "metadata": {
        "colab": {
          "base_uri": "https://localhost:8080/"
        },
        "id": "etzbF_G8jAr1",
        "outputId": "c7e521f2-c57f-4304-dd89-9caf3433a1d9"
      },
      "source": [
        "print(word2index)\n",
        "print(index2word)"
      ],
      "execution_count": 21,
      "outputs": [
        {
          "output_type": "stream",
          "name": "stdout",
          "text": [
            "{'[PAD]': 0, '[UNK]': 1, '.': 2, '이': 3, '영화': 4, '의': 5, '..': 6, '가': 7, '에': 8, '을': 9, '...': 10, '도': 11, '들': 12, ',': 13, '는': 14, '를': 15, '은': 16, '너무': 17, '?': 18, '한': 19, '다': 20, '정말': 21, '적': 22, '만': 23, '진짜': 24, '!': 25, '점': 26, '으로': 27, '로': 28, '에서': 29, '연기': 30, '과': 31, '평점': 32, '것': 33, '최고': 34, '~': 35, '내': 36, '나': 37, '그': 38, '잘': 39, '와': 40, '인': 41, '안': 42, '이런': 43, '생각': 44, '스토리': 45, '못': 46, '왜': 47, '....': 48, '게': 49, '드라마': 50, '이다': 51, '감동': 52, '사람': 53, '1': 54, '하는': 55, '보고': 56, '하고': 57, '말': 58, '고': 59, '더': 60, '때': 61, '아': 62, 'ㅋㅋ': 63, '배우': 64, '감독': 65, '거': 66, '그냥': 67, '요': 68, '본': 69, '내용': 70, '재미': 71, '중': 72, '까지': 73, '뭐': 74, '!!': 75, '좀': 76, '보다': 77, '없는': 78, '쓰레기': 79, '시간': 80, '수': 81, '지': 82, '네': 83, '봤는데': 84, '사랑': 85, '작품': 86, '10': 87, '볼': 88, '할': 89, '없다': 90, '다시': 91, '하나': 92, '마지막': 93, '이건': 94, 'ㅋ': 95, '좋은': 96, '저': 97, '같은': 98, '정도': 99, '2': 100, '입니다': 101, '완전': 102, '있는': 103, 'ㅋㅋㅋ': 104, '처음': 105, '장면': 106, '주인공': 107, '액션': 108, '대': 109, '이렇게': 110, 'ㅠㅠ': 111, '걸': 112, '보는': 113, '최악': 114, '개': 115, '지금': 116, '3': 117, \"'\": 118, '이야기': 119, '돈': 120, '하': 121, '임': 122, '별로': 123, '참': 124, '봐도': 125, '연출': 126, '없고': 127, '느낌': 128, '끝': 129, '라': 130, '듯': 131, '명작': 132, '인데': 133, '별': 134, '역시': 135, '그리고': 136, '기': 137, '서': 138, '난': 139, '많이': 140, '재밌게': 141, '이해': 142, '^^': 143, 'ㅡㅡ': 144, '면': 145, '라고': 146, '!!!': 147, '이영화': 148, '보면': 149, '때문': 150, '또': 151, '여자': 152, '이나': 153, '부터': 154, '성': 155, '전': 156, '해서': 157, '꼭': 158, '아깝다': 159, '두': 160, '된': 161, '보기': 162, '편': 163, '에게': 164, '이고': 165, '짱': 166, '여': 167, '무슨': 168, '기억': 169, '일': 170, '인생': 171, '엔': 172, '같다': 173, '결말': 174, '야': 175, '마음': 176, '랑': 177, 'ㅎㅎ': 178, '애': 179, 'ㅠ': 180, '소재': 181, '수준': 182, '님': 183, '넘': 184, '~~': 185, '영': 186, '없이': 187, '한다': 188, '현실': 189, '제': 190, '한번': 191, '해': 192, '속': 193, '반전': 194, '씨': 195, '함': 196, ';;': 197, '매력': 198, '라는': 199, '??': 200, '전개': 201, '급': 202, '남자': 203, '가슴': 204, '한국': 205, '가장': 206, '하게': 207, '하지만': 208, '되는': 209, '뿐': 210, '알': 211, '아이': 212, '음악': 213, '다른': 214, '니': 215, '만든': 216, '인간': 217, '냐': 218, '줄': 219, '우리': 220, '추천': 221, '원작': 222, '번': 223, '눈물': 224, '봤다': 225, '모든': 226, '않고': 227, '화': 228, '자체': 229, '합니다': 230, '인지': 231, '하지': 232, '지만': 233, '눈': 234, '\"': 235, '인가': 236, '캐릭터': 237, '코미디': 238, '좋다': 239, '모두': 240, '솔직히': 241, '처럼': 242, '대한': 243, 'ㅋㅋㅋㅋ': 244, '뭔가': 245, '대박': 246, '했다': 247, '그래도': 248, '연기력': 249, '이상': 250, '있다': 251, '모습': 252, '움': 253, '전혀': 254, '여운': 255, '굿': 256, '기대': 257, '개봉': 258, '이네': 259, '시리즈': 260, '중간': 261, '표현': 262, '공감': 263, '일본': 264, '계속': 265, '근데': 266, '아주': 267, '자': 268, '부분': 269, '허': 270, '에는': 271, '(': 272, '분': 273, '영상': 274, '이라': 275, ';': 276, '실망': 277, '그런': 278, ')': 279, '제목': 280, '이랑': 281, '하면': 282, '재밌다': 283, 'OO': 284, '가족': 285, '진심': 286, 'ㅎ': 287, '내내': 288, '보지': 289, '작': 290, '-': 291, '많은': 292, '없음': 293, '였다': 294, '뭔': 295, '후': 296, '이제': 297, '기분': 298, '어떻게': 299, '건지': 300, '나오는': 301, '재미있게': 302, '몰입': 303, 'ㅜㅜ': 304, '봐': 305, ',,': 306, '했는데': 307, '봤습니다': 308, '밖에': 309, '재미없다': 310, '아니다': 311, '작가': 312, '4': 313, '공포': 314, '감': 315, '건': 316, '아니라': 317, '아니고': 318, '요즘': 319, '이라는': 320, '보면서': 321, '용': 322, '위': 323, '점도': 324, '않은': 325, '대사': 326, '잼': 327, '긴장감': 328, '아닌': 329, '애니': 330, '스릴러': 331, '하다': 332, '조금': 333, '개인': 334, '극장': 335, '않는': 336, '특히': 337, '삶': 338, '이유': 339, '노래': 340, '욕': 341, '0': 342, '보다가': 343, 'ㅡ': 344, '아까운': 345, '한테': 346, '딱': 347, '노잼': 348, '알바': 349, '좋고': 350, '시작': 351, '나름': 352, '놈': 353, '연': 354, '제대로': 355, '오랜': 356, '이란': 357, '아름다운': 358, '점수': 359, '재밌어요': 360, '차라리': 361, '이지': 362, '시': 363, '.....': 364, '친구': 365, '막장': 366, '에도': 367, '제일': 368, '의미': 369, '당시': 370, '영화로': 371, '보게': 372, '만드는': 373, '극': 374, '명': 375, '보세요': 376, '력': 377, '몇': 378, '해도': 379, '세상': 380, '같이': 381, '있고': 382, '뻔한': 383, '봤어요': 384, '식': 385, '류': 386, '절대': 387, '공포영화': 388, '아직도': 389, '이라고': 390, '싶다': 391, '오': 392, '위해': 393, '♥': 394, '웃음': 395, '봄': 396, '무엇': 397, '앞': 398, '보니': 399, '도대체': 400, '아무': 401, '미국': 402, '우리나라': 403, '너': 404, '7': 405, '나도': 406, '설정': 407, '데': 408, '뭘': 409, '걍': 410, '마다': 411, '좋아하는': 412, '물': 413, '엄청': 414, '어': 415, '5': 416, '주고': 417, '출연': 418, '수작': 419, '초반': 420, '된다': 421, '남': 422, '시나리오': 423, '사실': 424, '좋았다': 425, '보는내내': 426, '한국영': 427, 'OOO': 428, '장난': 429, '준다': 430, '분위기': 431, '시대': 432, '관객': 433, '추억': 434, '이야': 435, '남는': 436, '세': 437, '안되는': 438, '주는': 439, '가지': 440, '지루함': 441, '든': 442, '살': 443, '같아요': 444, '최고다': 445, '좋아요': 446, '졸작': 447, '결국': 448, '자신': 449, '지루하고': 450, '이딴': 451, '봤던': 452, '팬': 453, '준': 454, '반': 455, '소리': 456, '제발': 457, '감정': 458, '인상': 459, '영화관': 460, '접': 461, '정신': 462, '구': 463, '엄마': 464, '오늘': 465, '~~~': 466, '더빙': 467, '엔딩': 468, '주': 469, '이지만': 470, '라면': 471, '니까': 472, '문제': 473, '재밌음': 474, '아무리': 475, '신': 476, '포스터': 477, '될': 478, '코믹': 479, '어떤': 480, '8': 481, '평가': 482, '멋진': 483, '대해': 484, '캐스팅': 485, '그저': 486, '함께': 487, '음': 488, '어릴': 489, '엉': 490, '얼마나': 491, '뒤': 492, '애니메이션': 493, '그렇게': 494, '킬링타임': 495, '봐서': 496, '!!!!': 497, '강추': 498, '배경': 499, '개연': 500, '괜찮은': 501, '했던': 502, '티비': 503, '스릴': 504, '충격': 505, '갈수록': 506, '첨': 507, '아니': 508, '전쟁': 509, '몰입도': 510, '얘기': 511, '이름': 512, '옛날': 513, '맘': 514, '질': 515, '싶은': 516, '큰': 517, '구성': 518, '까': 519, '같은데': 520, '얼굴': 521, '머': 522, '예술': 523, '머리': 524, 'ㅜ': 525, '만화': 526, '건가': 527, '조': 528, '하면서': 529, '울': 530, '보단': 531, '후회': 532, '기도': 533, '영화인': 534, '지루한': 535, '집': 536, '책': 537, '나온': 538, '장르': 539, '재밌는': 540, '않는다': 541, '모르겠다': 542, '후반': 543, '웃기': 544, '이후': 545, '그래서': 546, '9': 547, '간': 548, '매우': 549, '집중': 550, '총': 551, '너무나': 552, '어디': 553, '주연': 554, '다큐': 555, '비': 556, '봐라': 557, '하는데': 558, '만들어': 559, '상황': 560, '+': 561, '역사': 562, ',,,': 563, '날': 564, '꽤': 565, '여기': 566, '원': 567, '진': 568, '아직': 569, '지루하다': 570, '???': 571, '억지': 572, '누구': 573, '재미없음': 574, '글': 575, '짜증': 576, '다운': 577, '그것': 578, '걸작': 579, '시즌': 580, '존나': 581, '소름': 582, '보는데': 583, '이리': 584, '분들': 585, '상': 586, '언제': 587, '씬': 588, '했지만': 589, '먹': 590, '마세요': 591, '어느': 592, '등': 593, 'B': 594, '실화': 595, '약간': 596, '한마디': 597, '않다': 598, '그나마': 599, '인물': 600, '자기': 601, '본다': 602, '아님': 603, '훨씬': 604, '대체': 605, '~!': 606, '예전': 607, '누가': 608, '시절': 609, '6': 610, '방송': 611, '동안': 612, '부': 613, '봤음': 614, '봤지만': 615, '할수': 616, '그대로': 617, '비교': 618, '이었다': 619, '아들': 620, '만점': 621, '휴': 622, '초딩': 623, '비디오': 624, '발연기': 625, '없어': 626, '됨': 627, '보': 628, '없네': 629, '네이버': 630, '판': 631, '사회': 632, '하기': 633, '다음': 634, '로맨스': 635, '재밌고': 636, '꿈': 637, '아까': 638, '전체': 639, '감성': 640, '나와서': 641, 'CG': 642, '간만': 643, '소설': 644, '같음': 645, '없었다': 646, '라도': 647, '혼자': 648, '코': 649, 'ㅉㅉ': 650, '편이': 651, '여배우': 652, '해야': 653, '나이': 654, '나라': 655, '바로': 656, '였습니다': 657, '죠': 658, '여주': 659, ';;;': 660, '성룡': 661, '주제': 662, '재': 663, '보다는': 664, '좋은데': 665, '없어서': 666, '에요': 667, '재미있어요': 668, '어렸을': 669, '목소리': 670, '굳': 671, '빨리': 672, '삼류': 673, '힘': 674, '가는': 675, '하네요': 676, '열': 677, '교훈': 678, '이라도': 679, '년': 680, '당신': 681, '어설픈': 682, '만큼': 683, '죽': 684, '낭비': 685, '순간': 686, '미친': 687, '그만': 688, '장': 689, '안보': 690, '아쉽다': 691, '존재': 692, '쯤': 693, '낸': 694, '재밋': 695, '거의': 696, '질질': 697, '짜리': 698, '몇번': 699, '상당히': 700, '진정한': 701, '좋아': 702, '......': 703, '/': 704, '점주': 705, '잔잔한': 706, '좀비': 707, '는데': 708, '아버지': 709, '보여주는': 710, '있지만': 711, '재미있다': 712, '맛': 713, '말고': 714, '줄거리': 715, '실제': 716, '판타지': 717, '만하': 718, '어른': 719, '쳐': 720, '평론가': 721, '전부': 722, '답': 723, '모': 724, '각본': 725, '재밌네요': 726, '되고': 727, '시청률': 728, '에선': 729, '라니': 730, '히': 731, '바': 732, '소': 733, '상영': 734, '발': 735, '같네요': 736, '그러나': 737, '란': 738, 'ㅎㅎㅎ': 739, '저런': 740, '이번': 741, '굉장히': 742, '난다': 743, '되어': 744, '으로도': 745, '믿고': 746, '피': 747, '가치': 748, '버린': 749, '의도': 750, '이하': 751, '하며': 752, '갑자기': 753, '제작': 754, '사': 755, '딸': 756, '극장판': 757, '곳': 758, '단': 759, '10년': 760, '간다': 761, '선': 762, 'TV': 763, '필요': 764, '중국': 765, '화면': 766, '하네': 767, '세계': 768, '땜': 769, '당': 770, '그런지': 771, '첫': 772, '있어': 773, '그녀': 774, '한편': 775, '어린': 776, '볼때': 777, '그때': 778, '대로': 779, '둘': 780, '나온다': 781, '밑': 782, '항상': 783, '형': 784, '해주는': 785, '요소': 786, '평': 787, '있을까': 788, '에서도': 789, '봤네요': 790, '있는데': 791, '선택': 792, '재미있는': 793, '비해': 794, '있어서': 795, '터': 796, '올': 797, '되지': 798, '복수': 799, '라서': 800, '좋음': 801, '뻔': 802, '좋네요': 803, '막': 804, '흥행': 805, '슬픈': 806, '훌륭한': 807, '성우': 808, '온': 809, '치고': 810, '스타일': 811, '에서는': 812, '햇': 813, '참고': 814, '거기': 815, '여러': 816, '똥': 817, '봐야': 818, '일단': 819, '이냐': 820, '이에요': 821, '없네요': 822, '멜로': 823, '점점': 824, '인거': 825, '모르고': 826, '또한': 827, '어디서': 828, '역': 829, '더럽게': 830, '아빠': 831, '역대': 832, '관람': 833, '였음': 834, '어이': 835, '더욱': 836, 'tv': 837, '초': 838, '새': 839, 'ㅠㅠㅠ': 840, '개그': 841, '상미': 842, '거지': 843, '수가': 844, '물론': 845, '사건': 846, 'ㅋㅋㅋㅋㅋ': 847, '충분히': 848, '낫다': 849, '래': 850, '깊은': 851, '완성': 852, '진행': 853, '짓': 854, '술': 855, '보는게': 856, '재미없는': 857, '군': 858, '병맛': 859, '편집': 860, '에겐': 861, '화이팅': 862, '씩': 863, '했음': 864, '여서': 865, '해준': 866, '엉망': 867, '무': 868, '좋겠다': 869, '현': 870, '잠': 871, '어쩔': 872, '키': 873, '알았는데': 874, '꿀잼': 875, '프랑스': 876, '전형': 877, '아까워': 878, '따뜻한': 879, '새로운': 880, '나오고': 881, '리': 882, '화보': 883, '귀': 884, '~!!': 885, '그게': 886, '드': 887, '중반': 888, '있음': 889, '원래': 890, '미화': 891, '몸': 892, '암': 893, '감상': 894, '하는게': 895, '아닌가': 896, '나옴': 897, '죽음': 898, '그래픽': 899, '예상': 900, '관': 901, '대단한': 902, '였어요': 903, '배': 904, '손': 905, '안된다': 906, '-_-': 907, '새끼': 908, '만에': 909, '있게': 910, '20': 911, 'good': 912, '척': 913, '티': 914, '나올': 915, '학교': 916, '불륜': 917, '일이': 918, '취향': 919, '알았다': 920, '흥미': 921, '댓글': 922, '액션영화': 923, '재밌는데': 924, '좋았어요': 925, '연기자': 926, '예고편': 927, '노력': 928, '가서': 929, '같아': 930, '흥미진진': 931, '자극': 932, '헐': 933, '과거': 934, '따': 935, '잘만': 936, '만이': 937, '한다는': 938, '엄청난': 939, '이라니': 940, '상상': 941, '화가': 942, '자꾸': 943, '바보': 944, 'ㄷㄷ': 945, '괜히': 946, '미': 947, '마무리': 948, '게임': 949, '나쁜': 950, '무조건': 951, '만으로도': 952, '거리': 953, '설명': 954, '천재': 955, '속편': 956, '대한민국': 957, '도저히': 958, '억': 959, '않음': 960, '같습니다': 961, '야할': 962, '전달': 963, ':': 964, '오히려': 965, '예': 966, '심리': 967, '결혼': 968, '그림': 969, '땐': 970, '기대하고': 971, '유치': 972, '보이': 973, '재밌었다': 974, '이래': 975, '스타': 976, '하는지': 977, 'ost': 978, '흠': 979, '타': 980, '아저씨': 981, '전편': 982, '♡': 983, '억지로': 984, '우연히': 985, '법': 986, '대작': 987, '드는': 988, '완벽한': 989, '영환': 990, '젠': 991, '양': 992, '안됨': 993, '표정': 994, '조차': 995, '짐': 996, '봤을': 997, '하하': 998, '스러운': 999, '귀신': 1000, '며': 1001, '맨': 1002, '높은': 1003, '회': 1004, '오빠': 1005, 'SF': 1006, '최근': 1007, '환상': 1008, '되': 1009, '느끼게': 1010, '있을': 1011, '재미없고': 1012, '일까': 1013, '지루': 1014, '다가': 1015, '타임': 1016, '길': 1017, '오래': 1018, '메세지': 1019, '촬영': 1020, '재미있고': 1021, '전설': 1022, '주의': 1023, '노': 1024, '90년': 1025, '관계': 1026, '동': 1027, '꺼': 1028, '산': 1029, '재미없어': 1030, '그닥': 1031, '순': 1032, '무비': 1033, '경찰': 1034, '현재': 1035, '먼저': 1036, '있었다': 1037, '공': 1038, '행동': 1039, '쓴': 1040, '놔': 1041, '하는거': 1042, '동화': 1043, '입': 1044, '했으면': 1045, '소녀': 1046, '프로그램': 1047, '2시간': 1048, '마': 1049, '전작': 1050, '묘사': 1051, '그렇고': 1052, '유머': 1053, '100': 1054, '예요': 1055, '만의': 1056, '엇': 1057, '짜': 1058, '아니면': 1059, '조연': 1060, 'ㅇ': 1061, '살다': 1062, '관심': 1063, '힘든': 1064, '영웅': 1065, '통해': 1066, '아쉬움': 1067, '이미': 1068, '노출': 1069, '비슷한': 1070, '>': 1071, '먹고': 1072, '망작': 1073, '서로': 1074, '볼수': 1075, '지루하지': 1076, '따라': 1077, '아쉬운': 1078, '그런데': 1079, '정': 1080, '존': 1081, '등장': 1082, '다행': 1083, '모르는': 1084, '프로': 1085, '나중': 1086, '살인': 1087, '리메이크': 1088, '유치하고': 1089, '역할': 1090, '예산': 1091, '으': 1092, '맞는': 1093, '해요': 1094, '재밌었어요': 1095, '바람': 1096, '외': 1097, '봣': 1098, '마치': 1099, '긴': 1100, '되었다': 1101, '졸라': 1102, '제작비': 1103, 'D': 1104, '좋았습니다': 1105, '이며': 1106, '좋았음': 1107, '강': 1108, '안되고': 1109, '채널': 1110, '유치한': 1111, '보고싶다': 1112, '효과': 1113, '반개': 1114, '받아': 1115, '보고나서': 1116, '이상한': 1117, '화려한': 1118, '아닐까': 1119, '80년': 1120, '만들': 1121, '없을': 1122, '가끔': 1123, '안나': 1124, '특유': 1125, '지루해': 1126, '철학': 1127, '.......': 1128, '과정': 1129, '좋았고': 1130, '아니지만': 1131, '하냐': 1132, '보시길': 1133, '감사합니다': 1134, '깊이': 1135, '왕': 1136, '인정': 1137, '보이는': 1138, '생': 1139, '않았다': 1140, '미래': 1141, '청춘': 1142, '이런거': 1143, '느낄': 1144, '같아서': 1145, '진부한': 1146, '너무나도': 1147, 'cg': 1148, '낚': 1149, '형님': 1150, '싫다': 1151, '나왔으면': 1152, '만들지': 1153, '케이블': 1154, '희망': 1155, '범인': 1156, '아닌데': 1157, '런가': 1158, '다만': 1159, '만들었다': 1160, '필요없다': 1161, '체': 1162, '사이': 1163, '였는데': 1164, '그리': 1165, '슬프다': 1166, '능력': 1167, '봤으면': 1168, '있나': 1169, 'OST': 1170, '엿': 1171, '왠지': 1172, '차': 1173, '께': 1174, '비추': 1175, '이런게': 1176, '스케일': 1177, '군대': 1178, '카메라': 1179, '기세': 1180, '재미있음': 1181, '이면': 1182, '메디': 1183, 'ㅅㅂ': 1184, '낮은': 1185, '생애': 1186, '되게': 1187, '계': 1188, '지난': 1189, '재밌어': 1190, '용도': 1191, '상상력': 1192, '다소': 1193, '빼고': 1194, '대안': 1195, '로는': 1196, '고생': 1197, '깊게': 1198, '독립영화': 1199, '든다': 1200, '나를': 1201, '끝나고': 1202, '대단하다': 1203, '좋았는데': 1204, '미소': 1205, '잘못': 1206, '리얼': 1207, '얼': 1208, '않게': 1209, '평생': 1210, '않아': 1211, '없나': 1212, '없지만': 1213, '자막': 1214, '필요없는': 1215, '봤었는데': 1216, '확실히': 1217, '버렸다': 1218, '치': 1219, '줌': 1220, '로맨틱': 1221, '메시지': 1222, '진실': 1223, '고민': 1224, '어린이': 1225, '보고싶은': 1226, '볼수록': 1227, '시도': 1228, '돼': 1229, '대의': 1230, '^': 1231, '결론': 1232, '리뷰': 1233, '봤다가': 1234, '우': 1235, '매': 1236, '들어': 1237, '멋': 1238, '그래': 1239, '부족': 1240, '부족한': 1241, '유쾌한': 1242, '나와': 1243, '커플': 1244, '의리': 1245, '있다는': 1246, '박수': 1247, '마라': 1248, '드립니다': 1249, '밤': 1250, '손발': 1251, '스': 1252, '보여준': 1253, '약': 1254, '사극': 1255, '굳이': 1256, '슬픔': 1257, '할까': 1258, '문화': 1259, '있다면': 1260, '으로는': 1261, '여성': 1262, '했을': 1263, '스럽다': 1264, '발견': 1265, '포장': 1266, 'ㅇㅇ': 1267, '남는다': 1268, '보시': 1269, '같고': 1270, '광고': 1271, '짱짱': 1272, '웃김': 1273, '아침': 1274, '해라': 1275, '흐름': 1276, '과연': 1277, '어이없는': 1278, '한계': 1279, '는걸': 1280, '봅니다': 1281, '로서': 1282, '저렇게': 1283, '지도': 1284, '괴물': 1285, '범죄': 1286, '감탄': 1287, '<': 1288, '아는': 1289, '언': 1290, '어색한': 1291, '여전히': 1292, '동생': 1293, '귀여운': 1294, '무서운': 1295, '수도': 1296, '어찌': 1297, '랄': 1298, '용이': 1299, '성인': 1300, '문': 1301, '언니': 1302, '쩐다': 1303, '됩니다': 1304, '개판': 1305, '시청자': 1306, '별루': 1307, '인기': 1308, '상처': 1309, '..?': 1310, '아름답고': 1311, '심': 1312, '있네': 1313, '폭력': 1314, '유': 1315, '주기': 1316, '써': 1317, '대충': 1318, '자연': 1319, '용서': 1320, '살짝': 1321, '볼거리': 1322, '개도': 1323, '재밌었는데': 1324, '뜻': 1325, '순수한': 1326, '사는': 1327, '정서': 1328, '독특한': 1329, '진정': 1330, '몸매': 1331, '귀엽고': 1332, '느껴지는': 1333, '방': 1334, '않나': 1335, '~^^': 1336, '않을': 1337, '성도': 1338, '조폭': 1339, '그럼': 1340, '나서': 1341, '홍보': 1342, '핵': 1343, '재밌습니다': 1344, '젤': 1345, '~~~~': 1346, '일상': 1347, '보라': 1348, '덕분': 1349, '빨': 1350, '아닌듯': 1351, '재밌었음': 1352, '겁나': 1353, '있었던': 1354, '만들어진': 1355, '연애': 1356, '섹스': 1357, '지는': 1358, '삼': 1359, '스럽게': 1360, '그럭저럭': 1361, '시선': 1362, '힐링': 1363, '게이': 1364, '좋아서': 1365, '끼리': 1366, '평범한': 1367, '열심히': 1368, '있지': 1369, '있습니다': 1370, '오락': 1371, '잼있게': 1372, '쓰': 1373, '달': 1374, '눈빛': 1375, '30분': 1376, '노답': 1377, '정말로': 1378, '표절': 1379, '포기': 1380, '병': 1381, '빛': 1382, '끌': 1383, '무협': 1384, '죄': 1385, '아오': 1386, '남녀': 1387, '비극': 1388, '실감': 1389, '아름답다': 1390, '버리고': 1391, '20년': 1392, '갈': 1393, '받고': 1394, '되네요': 1395, '어제': 1396, '하루': 1397, '춤': 1398, '자유': 1399, '짜증나는': 1400, '등장인물': 1401, '하세요': 1402, '퀄리티': 1403, '해피엔딩': 1404, '신선한': 1405, '에서의': 1406, '뜬금': 1407, '들이': 1408, '없지': 1409, '쓰래': 1410, '와는': 1411, '크게': 1412, '=': 1413, '낮아서': 1414, '우정': 1415, '코드': 1416, '10분': 1417, '국민': 1418, '혹시': 1419, '남편': 1420, '풀어': 1421, '재미없네': 1422, '하니': 1423, '떨어지는': 1424, 'b': 1425, '먼': 1426, '북한': 1427, '하자': 1428, '정치': 1429, '나머지': 1430, '이기': 1431, '(?)': 1432, '보다도': 1433, '말로': 1434, '펑펑': 1435, '웃겨': 1436, '반성': 1437, '막판': 1438, '보지마': 1439, '종교': 1440, '팔': 1441, '마저': 1442, '좋게': 1443, '좋습니다': 1444, '슬프고': 1445, '홍콩': 1446, '보긴': 1447, '있어요': 1448, '가진': 1449, '없는데': 1450, '하다가': 1451, '쉽게': 1452, '가볍게': 1453, '공부': 1454, '있네요': 1455, '보아': 1456, '보러': 1457, '만으로': 1458, '자식': 1459, '표': 1460, '재미있네요': 1461, '이연걸': 1462, '않': 1463, '뮤지컬': 1464, '아깝지': 1465, '지루해서': 1466, '라지': 1467, '했습니다': 1468, '했어요': 1469, '만들고': 1470, '몰라도': 1471, '차이': 1472, '악당': 1473, '만든다': 1474, '악역': 1475, '까지는': 1476, '형편': 1477, '느와르': 1478, '많다': 1479, '게다가': 1480, '감명': 1481, '아픈': 1482, '악': 1483, '이쁘고': 1484, '암튼': 1485, '서야': 1486, '다큐멘터리': 1487, '가면': 1488, '으론': 1489, '벌써': 1490, '권': 1491, '불가': 1492, '받은': 1493, '의문': 1494, '에게는': 1495, '입장': 1496, '행복': 1497, '죽는줄': 1498, '누나': 1499, '그걸': 1500, '멋지다': 1501, '불구': 1502, '토': 1503, '하다니': 1504, '대가': 1505, '새벽': 1506, '디즈니': 1507, '고전': 1508, '이라서': 1509, '소장': 1510, '발전': 1511, '희생': 1512, '불': 1513, '좋아하는데': 1514, '예쁜': 1515, '까진': 1516, '있으면': 1517, '모르게': 1518, '높다': 1519, '그다지': 1520, '결과': 1521, '기본': 1522, '무시': 1523, '&': 1524, '둘다': 1525, '올해': 1526, '싸구려': 1527, '그린': 1528, '하여': 1529, '걸까': 1530, '에만': 1531, '제로': 1532, '오는': 1533, '인가요': 1534, '넘치는': 1535, '않지만': 1536, '기적': 1537, '드럽게': 1538, '빼고는': 1539, '비주': 1540, '동물': 1541, '오버': 1542, '좀더': 1543, '_': 1544, '웃긴': 1545, '뻔하고': 1546, '따위': 1547, '받아서': 1548, '기술': 1549, '잊혀지지': 1550, '꼴': 1551, '반복': 1552, '본방': 1553, '그렇다고': 1554, '연예인': 1555, '지구': 1556, '긴장': 1557, '호러': 1558, '외국': 1559, '흑': 1560, '아이돌': 1561, '열정': 1562, '보인다': 1563, '좋': 1564, '쩝': 1565, '백': 1566, '시사회': 1567, '쇼': 1568, '재밌네': 1569, '방식': 1570, '창': 1571, 'ㅠㅠㅠㅠ': 1572, '까지도': 1573, '과는': 1574, '언제나': 1575, '평이': 1576, '선생님': 1577, '라인': 1578, '아줌마': 1579, '러닝': 1580, '이제야': 1581, '싸움': 1582, '되서': 1583, '청소년': 1584, '맨날': 1585, '실력': 1586, '하려는': 1587, '금': 1588, '대화': 1589, '어머니': 1590, '실패': 1591, '나오면': 1592, '쫌': 1593, '글쎄': 1594, '보길': 1595, '팀': 1596, '밥': 1597, '쓰고': 1598, '에로': 1599, '아픔': 1600, '늘': 1601, '본인': 1602, '전문가': 1603, '달라': 1604, '으리': 1605, '본게': 1606, '짝': 1607, '젊은': 1608, '할말이': 1609, '이니': 1610, '즈': 1611, '무섭지도': 1612, '외모': 1613, '많고': 1614, '세기': 1615, '방금': 1616, '주기도': 1617, '필름': 1618, '꽝': 1619, '갑니다': 1620, '돌려': 1621, '과의': 1622, '한국인': 1623, '아름다': 1624, 'ㅋㅋㅋㅋㅋㅋ': 1625, '뛰어난': 1626, '찍은': 1627, '1시간': 1628, '없어요': 1629, '분노': 1630, '죄다': 1631, '떠나서': 1632, '조절': 1633, '재미있었다': 1634, '미드': 1635, '한다고': 1636, '해석': 1637, '어휴': 1638, '헐리우드': 1639, '무섭다': 1640, '견자단': 1641, '단지': 1642, '질리': 1643, '베스트': 1644, '누군가': 1645, '편의': 1646, '이미지': 1647, '가고': 1648, '왜케': 1649, '좋았던': 1650, '갈등': 1651, '학생': 1652, '시트콤': 1653, '짝퉁': 1654, '방법': 1655, '대표': 1656, '진리': 1657, '시각': 1658, '보지마라': 1659, '재미없어요': 1660, '비판': 1661, '봐요': 1662, '이었습니다': 1663, '냥': 1664, '애기': 1665, '재밋다': 1666, '극치': 1667, '하고자': 1668, '여행': 1669, '로만': 1670, '존경': 1671, '이든': 1672, '가는줄': 1673, '히어로': 1674, '김기덕': 1675, '작은': 1676, '굿굿': 1677, '성한': 1678, '본다면': 1679, '만족': 1680, '유발': 1681, '단순한': 1682, '내고': 1683, '에피소드': 1684, '로봇': 1685, '스스로': 1686, '딱히': 1687, '끼': 1688, '명품': 1689, '싶네요': 1690, '나오네': 1691, '최': 1692, '그거': 1693, '사랑스러운': 1694, '대부분': 1695, '아쉽네요': 1696, '부모': 1697, '조합': 1698, '째': 1699, '인해': 1700, '좋아해서': 1701, '푹': 1702, '쪽': 1703, '테러': 1704, '19': 1705, '쵝오': 1706, '빠진': 1707, '허세': 1708, '재미있었어요': 1709, '주말': 1710, '피해자': 1711, '????': 1712, '심장': 1713, '즐겁게': 1714, '국내': 1715, '양심': 1716, '가요': 1717, '담': 1718, '받는': 1719, '자리': 1720, '은근': 1721, '전개도': 1722, '생각나는': 1723, '개념': 1724, '기대했는데': 1725, '잔잔하고': 1726, '경험': 1727, '이자': 1728, '이정': 1729, '모르겠고': 1730, '분명': 1731, '와우': 1732, '30': 1733, '코난': 1734, '좋겠어요': 1735, '보았다': 1736, '검색': 1737, '그렇지': 1738, '개성': 1739, '과장': 1740, '탄탄한': 1741, '한데': 1742, '망': 1743, '했고': 1744, '따뜻해지는': 1745, '맥': 1746, '라이': 1747, '신분': 1748, '크': 1749, '편견': 1750, '봤더니': 1751, '훨': 1752, '연속': 1753, '개뿔': 1754, '이쁘다': 1755, '기자': 1756, '사기': 1757, '단연': 1758, '해주세요': 1759, '신선하고': 1760, '미모': 1761, '...?': 1762, '번째': 1763, '무척': 1764, '헐리웃': 1765, '안타깝다': 1766, '무언가': 1767, '의외로': 1768, '챙겨': 1769, '우와': 1770, '생활': 1771, '짜증난다': 1772, '딴': 1773, '오브': 1774, '보고나면': 1775, '외계인': 1776, '두고': 1777, '캐리': 1778, '근': 1779, '영어': 1780, '겁니다': 1781, '웃기지도': 1782, '할머니': 1783, '들었다': 1784, '경': 1785, '직접': 1786, '희': 1787, '울었다': 1788, '한참': 1789, '자살': 1790, '싸이코': 1791, '형사': 1792, '끝날': 1793, '얘': 1794, '나오지': 1795, '[': 1796, '나쁘지': 1797, '빠져': 1798, '옛': 1799, '없다는': 1800, '........': 1801, '레알': 1802, '뒷': 1803, '왠만하면': 1804, '도안': 1805, '좋지만': 1806, '봣는데': 1807, '이여': 1808, ',,,,': 1809, '전반': 1810, '묘': 1811, '어려운': 1812, '18': 1813, '만들어도': 1814, '카': 1815, '명성': 1816, '보려고': 1817, '더불어': 1818, '흔한': 1819, '먹는': 1820, '으로서': 1821, '의식': 1822, '풍경': 1823, '마이너스': 1824, '고양이': 1825, '성장': 1826, '초등학생': 1827, '보겠다': 1828, '보며': 1829, '보자': 1830, '하던': 1831, '이따위': 1832, '도전': 1833, '아내': 1834, '힘들다': 1835, '칼': 1836, '마이클': 1837, '남주': 1838, '확': 1839, '달달': 1840, '멍청한': 1841, '쩌': 1842, '점준': 1843, '싶을': 1844, '♥♥': 1845, '재밋어': 1846, '으로만': 1847, '개막': 1848, '모르겠지만': 1849, '봐야지': 1850, '했는지': 1851, '하나로': 1852, '보았습니다': 1853, '아마': 1854, '만들기': 1855, '향': 1856, '그렇다': 1857, '영혼': 1858, '쉬': 1859, '?!': 1860, ']': 1861, '아깝고': 1862, '막장드라마': 1863, '짜증나': 1864, '아아': 1865, '악마': 1866, '않을까': 1867, '야동': 1868, '주변': 1869, '이보': 1870, '무지': 1871, '가수': 1872, '신고': 1873, '카리스마': 1874, '하는건': 1875, '튼': 1876, '봤': 1877, '변화': 1878, '스럽지': 1879, '본거': 1880, '않네요': 1881, '러브': 1882, '버림': 1883, '더러운': 1884, '로써': 1885, '정의': 1886, '지루했다': 1887, '되면': 1888, '멋있다': 1889, '응원': 1890, '감히': 1891, '왠': 1892, '주성치': 1893, '비현실적': 1894, '학년': 1895, '스트레스': 1896, '행복한': 1897, '기만': 1898, '레전드': 1899, '완전히': 1900, '듣고': 1901, '답답하고': 1902, 'x': 1903, '연결': 1904, '사수': 1905, '맞지': 1906, '그려': 1907, '이도': 1908, '없': 1909, '겨우': 1910, '야하는': 1911, '빼면': 1912, '지루하게': 1913, 'ㅋㅋㅋㅋㅋㅋㅋ': 1914, '옆': 1915, '처': 1916, '끝나는': 1917, '유쾌하고': 1918, '잠깐': 1919, '시키는': 1920, '쓰는': 1921, '남아': 1922, '면서': 1923, '기준': 1924, '빈': 1925, '12': 1926, '베': 1927, '잼있어요': 1928, '에나': 1929, '설마': 1930, '다시는': 1931, '홍콩영화': 1932, '좋았지만': 1933, '없습니다': 1934, '상업': 1935, '내면': 1936, '하려고': 1937, '좋았으나': 1938, '롭고': 1939, '투자': 1940, '넘게': 1941, '형제': 1942, '각': 1943, '만해': 1944, '덜': 1945, '시청': 1946, '모르겠음': 1947, '포르노': 1948, '관점': 1949, '신경': 1950, '하길래': 1951, '하기엔': 1952, '없게': 1953, '느끼는': 1954, '으로써': 1955, '있었지만': 1956, '세번': 1957, '김': 1958, '이상은': 1959, '되는데': 1960, '세월': 1961, 'M': 1962, 'C': 1963, '니깐': 1964, '십': 1965, '특수': 1966, '칠': 1967, '등등': 1968, '참으로': 1969, '없었던': 1970, '착한': 1971, '성격': 1972, '포인트': 1973, '편도': 1974, '어린시절': 1975, ',.': 1976, '겨': 1977, '잔인한': 1978, '위대한': 1979, '압권': 1980, '야한다': 1981, '따로': 1982, '얼마': 1983, '21': 1984, '했다는': 1985, '위로': 1986, '욕망': 1987, '답답한': 1988, '느껴진다': 1989, '예쁘고': 1990, '가본': 1991, '한다면': 1992, '기회': 1993, '받을': 1994, '즐거운': 1995, '교육': 1996, '투': 1997, '전쟁영화': 1998, '크리스마스': 1999, '로그인': 2000, '우주': 2001, '우려': 2002, '리즈': 2003, '정체': 2004, '잊지': 2005, '동시': 2006, '싶은데': 2007, '007': 2008, '운명': 2009, '유치하다': 2010, '고통': 2011, '국가': 2012, '인들': 2013, '보네': 2014, '젠장': 2015, '색감': 2016, '알수': 2017, '지루할': 2018, '효': 2019, '방영': 2020, '만큼은': 2021, '잔': 2022, '예능': 2023, '했나': 2024, '빼곤': 2025, '씀': 2026, '아예': 2027, '일품': 2028, '갑': 2029, '높아': 2030, '적임': 2031, '똑같은': 2032, 'ㄱ': 2033, '변태': 2034, '시킨': 2035, '조작': 2036, '케': 2037, '이용': 2038, '생각나서': 2039, '해야지': 2040, '최강': 2041, '루': 2042, '다룬': 2043, '죽는': 2044, '이어서': 2045, '듬': 2046, '넌': 2047, 'ㅅ': 2048, '들고': 2049, '바다': 2050, '틈': 2051, '서는': 2052, '채': 2053, '수고': 2054, '흥미로운': 2055, '초등학교': 2056, '봤네': 2057, '확인': 2058, 'the': 2059, '갔다': 2060, '에로영화': 2061, '목': 2062, '몇몇': 2063, '선물': 2064, '배역': 2065, '살면서': 2066, '무술': 2067, '안습': 2068, '그럴': 2069, '괜찮은데': 2070, '사진': 2071, '흑인': 2072, '전에': 2073, '보던': 2074, '캐': 2075, '갓': 2076, '정신병': 2077, '재밌다고': 2078, '부모님': 2079, '풍자': 2080, '냄새': 2081, '설득': 2082, 'DVD': 2083, '만들다니': 2084, '깨': 2085, '데리': 2086, '린': 2087, '이었음': 2088, '좋을': 2089, '내생': 2090, '워': 2091, '이래서': 2092, '망한': 2093, '결정': 2094, '봤을까': 2095, '공포물': 2096, '감안': 2097, '했으나': 2098, '탓': 2099, '잼있다': 2100, '최초': 2101, '그건': 2102, '공짜': 2103, '미가': 2104, '끔': 2105, '근래': 2106, '관련': 2107, '어울리는': 2108, '옷': 2109, '봤는데도': 2110, '떨어진다': 2111, '영원히': 2112, '감흥': 2113, '낮지': 2114, '바랍니다': 2115, '이쁜': 2116, '만남': 2117, '꼬마': 2118, '시점': 2119, '거짓말': 2120, '있었는데': 2121, '지나치게': 2122, '놓고': 2123, '대본': 2124, '갠': 2125, '보여준다': 2126, '오랫': 2127, '녀': 2128, '거나': 2129, '비밀': 2130, '용기': 2131, ';;;;': 2132, '의심': 2133, '파': 2134, '깜짝': 2135, '부부': 2136, '덕': 2137, '하긴': 2138, 'ㄷㄷㄷ': 2139, '재미없게': 2140, '케릭': 2141, '보통': 2142, '영국': 2143, '패': 2144, '진부하고': 2145, '해결': 2146, '드림': 2147, '아래': 2148, '치는': 2149, '성은': 2150, '박': 2151, '자주': 2152, '색다른': 2153, '많아서': 2154, '대중': 2155, '부족하다': 2156, '낮다': 2157, '5분': 2158, '재미있습니다': 2159, '톰': 2160, '껏': 2161, '영화계': 2162, '여러가지': 2163, '잇는': 2164, '첫사랑': 2165, '단어': 2166, '번은': 2167, '같': 2168, '하겠다': 2169, '아동': 2170, '심하게': 2171, 'ㅉㅉㅉ': 2172, '명화': 2173, '스크린': 2174, '달리': 2175, 'ㅠㅜ': 2176, '전율': 2177, '본적': 2178, '땅': 2179, '가득': 2180, '셈': 2181, '았': 2182, '여러분': 2183, '만을': 2184, '스런': 2185, '트': 2186, '깨닫게': 2187, '버리는': 2188, '빵점': 2189, '물이': 2190, 'X': 2191, '있구나': 2192, '던데': 2193, '상태': 2194, '찾아': 2195, '하지마라': 2196, '디': 2197, '할듯': 2198, '있는지': 2199, '감각': 2200, '브루스': 2201, '만은': 2202, '한심한': 2203, '갖고': 2204, '둘째': 2205, '아닙니다': 2206, '와의': 2207, '훈훈한': 2208, '연인': 2209, '중요한': 2210, '않아서': 2211, '만들면': 2212, '하는것': 2213, '됐다': 2214, '신의': 2215, '알겠는데': 2216, '가족영화': 2217, '높게': 2218, '소년': 2219, '유명한': 2220, '두번째': 2221, '안타까운': 2222, '아역': 2223, '골': 2224, '짜증나서': 2225, '많은데': 2226, '탄생': 2227, '잔뜩': 2228, '선동': 2229, '목적': 2230, '낮게': 2231, '심지어': 2232, '이쁨': 2233, '떨어지고': 2234, '줍니다': 2235, '재밌': 2236, '매니아': 2237, '쥐': 2238, '만들었는지': 2239, '삭제': 2240, '기를': 2241, '줘': 2242, '사상': 2243, '명의': 2244, '15': 2245, '작위': 2246, '야한': 2247, '기법': 2248, '훌륭하다': 2249, '야구': 2250, '하나같이': 2251, '잼나게': 2252, '장가': 2253, '20분': 2254, '빵빵': 2255, '통': 2256, '점줌': 2257, '폐지': 2258, '소소한': 2259, '결코': 2260, '려고': 2261, 'A': 2262, '한숨': 2263, '마시길': 2264, 'sf': 2265, '풍': 2266, '였던': 2267, '짜임새': 2268, '집착': 2269, '철': 2270, '잊을': 2271, '이상하게': 2272, '이따': 2273, '이런건': 2274, '시기': 2275, '빌려': 2276, '애가': 2277, '할아버지': 2278, '탑': 2279, '났다': 2280, '70년': 2281, '느낀': 2282, '종영': 2283, '좋겠네요': 2284, '낮네': 2285, '본듯': 2286, '패러디': 2287, '배우도': 2288, '재밌던데': 2289, '제외': 2290, '말고는': 2291, '금보': 2292, '11': 2293, '감정이입': 2294, '곡': 2295, '했을까': 2296, '같지': 2297, '목숨': 2298, '느꼈다': 2299, '후속작': 2300, '메': 2301, '기독교': 2302, '값': 2303, '열연': 2304, '아쉽지만': 2305, '아까웠다': 2306, '뇌': 2307, '마리': 2308, '어설프고': 2309, '따뜻하고': 2310, '뭐라': 2311, '낫': 2312, '..;;': 2313, '무서움': 2314, '죽여': 2315, '틱': 2316, '아무런': 2317, '죽은': 2318, '다양한': 2319, '봤다면': 2320, '욕심': 2321, '보구': 2322, '읽어': 2323, '오래전': 2324, '많은걸': 2325, '무료': 2326, '포스': 2327, '어쩜': 2328, '보여주고': 2329, '있': 2330, '거부': 2331, '보여': 2332, '본지': 2333, '하늘': 2334, '타고': 2335, '시켜': 2336, '중독': 2337, '그만큼': 2338, '식상한': 2339, '재난영화': 2340, 'ㅎㅎㅎㅎ': 2341, '본건데': 2342, '신파': 2343, '없었음': 2344, '맞아': 2345, '기는': 2346, '대놓고': 2347, '짜증남': 2348, '틀': 2349, '모양': 2350, '모험': 2351, '아이디어': 2352, '아깝네': 2353, '한개': 2354, '했네': 2355, '정작': 2356, '밋': 2357, '아까울': 2358, '느낄수': 2359, '무섭고': 2360, '유치함': 2361, '승리': 2362, '팔이': 2363, '아기': 2364, ':)': 2365, '이었어요': 2366, '있던': 2367, '이만': 2368, '혹은': 2369, '호': 2370, '웃고': 2371, '태어나서': 2372, '볼려고': 2373, '구나': 2374, '잼있음': 2375, '필요한': 2376, '담배': 2377, '울컥': 2378, '블록버스터': 2379, '라이언': 2380, '없으면': 2381, '주제가': 2382, '마이': 2383, '!!!!!': 2384, '없다고': 2385, '오래된': 2386, '지나도': 2387, '이상하고': 2388, '버전': 2389, '낚였다': 2390, '귀여워': 2391, '보신': 2392, '볼수있는': 2393, '추리': 2394, '배우는': 2395, '사고': 2396, '찾기': 2397, '성하고': 2398, '아니야': 2399, '여름': 2400, '가정': 2401, '구리': 2402, '탈': 2403, '였지만': 2404, '재미없었다': 2405, '소중한': 2406, '재밌어서': 2407, '천': 2408, '같지만': 2409, 'ㅁ': 2410, '장국영': 2411, '수많은': 2412, '강한': 2413, '클레멘타인': 2414, '높아서': 2415, '져': 2416, '탄': 2417, '싶어요': 2418, '재능': 2419, '여태': 2420, '적이네요': 2421, '싶지': 2422, '이긴': 2423, 'I': 2424, '호구': 2425, '어색하고': 2426, '배경음악': 2427, '하아': 2428, '당연히': 2429, '.^^': 2430, '요리': 2431, '이었던': 2432, '최대': 2433, '린다': 2434, '자고': 2435, '재미없어서': 2436, '조카': 2437, '맞고': 2438, '케빈': 2439, '색': 2440, '..^^': 2441, '남네요': 2442, '지경': 2443, '낚시': 2444, '보다니': 2445, '성공': 2446, 'ㅋㅋㅋㅋㅋㅋㅋㅋ': 2447, '길게': 2448, '할말': 2449, '로코': 2450, '졸': 2451, '하시는': 2452, '유일하게': 2453, '아니라고': 2454, '아프다': 2455, '틴': 2456, '저리': 2457, '로버트': 2458, '대통령': 2459, '나왔다': 2460, '보이지': 2461, '절정': 2462, '억지스러운': 2463, '흥': 2464, '같네': 2465, '가능한': 2466, '참나': 2467, '뭥미': 2468, '있어야': 2469, '깍': 2470, '잡': 2471, '공간': 2472, '치곤': 2473, '앞뒤': 2474, '했다고': 2475, '다섯': 2476, '빵': 2477, '플롯': 2478, '대신': 2479, '사투리': 2480, '파괴': 2481, '터미네이터': 2482, '아냐': 2483, '없냐': 2484, '해준다': 2485, '고등학교': 2486, '재밋음': 2487, '매일': 2488, '했네요': 2489, '습': 2490, '교과서': 2491, '조니뎁': 2492, '들은': 2493, '적어도': 2494, '안감': 2495, '먼가': 2496, '~!!!': 2497, '어처구니': 2498, '바탕': 2499, '짧은': 2500, '임팩트': 2501, '인지도': 2502, '부터가': 2503, '졸리': 2504, '따름': 2505, '돼지': 2506, '일본인': 2507, '괜찮음': 2508, '만약': 2509, '제이슨': 2510, '된거': 2511, '없나요': 2512, '배트맨': 2513, '또다른': 2514, '링': 2515, '쓸': 2516, '웃': 2517, '발상': 2518, '과학': 2519, '잤다': 2520, '유덕화': 2521, '심형래': 2522, '이어': 2523, '어쩌': 2524, '이소룡': 2525, '적당히': 2526, '모를': 2527, '왔다': 2528, '절': 2529, '중심': 2530, '꼬': 2531, '조화': 2532, '마냥': 2533, '있다니': 2534, '있냐': 2535, '하품': 2536, '착각': 2537, '잠시': 2538, '그립다': 2539, '뱀파이어': 2540, '캬': 2541, '일부러': 2542, '사운드': 2543, '중학교': 2544, '남은': 2545, '화의': 2546, '귀엽다': 2547, '잡고': 2548, '쿡': 2549, '너무도': 2550, '숨겨진': 2551, '탈출': 2552, '모르겠네요': 2553, '레': 2554, '없는게': 2555, '인터넷': 2556, '그야말로': 2557, '논': 2558, '아니지': 2559, '디워': 2560, '하도': 2561, '예쁘다': 2562, '나은': 2563, '에게도': 2564, '단순히': 2565, '걱정': 2566, '울면': 2567, '이군': 2568, '불쌍하다': 2569, '알았음': 2570, '봤지': 2571, '반대': 2572, '베리': 2573, '돋보이는': 2574, '.........': 2575, '놀랍다': 2576, '좋아할': 2577, '토록': 2578, '아름답게': 2579, '이뻐서': 2580, '동성애': 2581, '여친': 2582, '와서': 2583, '♥♥♥': 2584, '숨': 2585, '나고': 2586, '영화제': 2587, '상실': 2588, '같았다': 2589, '참신한': 2590, '가득한': 2591, '몰랐다': 2592, '센스': 2593, '@': 2594, '현대': 2595, '만드': 2596, '주지': 2597, '남겨': 2598, '고딩': 2599, '앤': 2600, '보는듯': 2601, 'ㅈ': 2602, '나네요': 2603, 'ㄴ': 2604, '있다고': 2605, '떠나': 2606, '30년': 2607, '13': 2608, '짜증나고': 2609, '정이': 2610, '베드': 2611, '메이드': 2612, '도에': 2613, '쓸데없이': 2614, '끌어': 2615, '해리포터': 2616, '웃으면서': 2617, '재밌다는': 2618, '보았는데': 2619, '단순': 2620, '제니퍼': 2621, '가벼운': 2622, '우뢰매': 2623, '인내심': 2624, '실수': 2625, '겉': 2626, '그동안': 2627, '유일한': 2628, '떨어짐': 2629, '버려': 2630, '컨셉': 2631, '능': 2632, '보소': 2633, 'dvd': 2634, '않은데': 2635, '재미나': 2636, 'ㄷ': 2637, '부작': 2638, '도움': 2639, '레이': 2640, '될듯': 2641, '음식': 2642, '인형': 2643, '이었는데': 2644, '손색': 2645, '연극': 2646, '응': 2647, '꽃': 2648, '아깝네요': 2649, '나가는': 2650, '던': 2651, 'ㅣ': 2652, '무서워': 2653, '어디가': 2654, '말투': 2655, '할만': 2656, '여자애': 2657, '천국': 2658, '치고는': 2659, '불쌍한': 2660, 'ㅉ': 2661, '보셈': 2662, '상어': 2663, '류작': 2664, '좋다고': 2665, '난리': 2666, '않았지만': 2667, '선정': 2668, '궁금하다': 2669, '나오는데': 2670, '거장': 2671, '에다': 2672, '무기': 2673, '인도': 2674, '끼워': 2675, '//': 2676, '다신': 2677, '멋지고': 2678, '주윤발': 2679, '네티즌': 2680, '해주고': 2681, '이전': 2682, '끝난': 2683, '허허': 2684, '웬': 2685, '잭': 2686, '성의': 2687, '신은': 2688, '폴': 2689, '특별한': 2690, '당황': 2691, '애초': 2692, '재미없': 2693, '의사': 2694, '찍고': 2695, '싶어': 2696, '다리': 2697, '준비': 2698, '평균': 2699, '살린': 2700, '박진': 2701, '아까워서': 2702, '무대': 2703, '만화책': 2704, '괜찮았다': 2705, '의상': 2706, '계기': 2707, '다르게': 2708, '반드시': 2709, '재미없다고': 2710, '야함': 2711, '슴': 2712, '여자친구': 2713, '단체': 2714, '괜찮다': 2715, '운': 2716, '살인마': 2717, '제임스': 2718, '대결': 2719, '--': 2720, '괜찮고': 2721, '분량': 2722, '리얼리티': 2723, '논리': 2724, '임창정': 2725, '폭발': 2726, '아무튼': 2727, '하이': 2728, '하던데': 2729, '수입': 2730, '에이': 2731, '판단': 2732, '블랙': 2733, '호기심': 2734, '하지원': 2735, '40': 2736, '생각난다': 2737, '했더니': 2738, '발음': 2739, '100%': 2740, '감사': 2741, '궁금해서': 2742, '박중훈': 2743, '좋지': 2744, '보는거': 2745, '죽고': 2746, '괜찮았는데': 2747, '겨울': 2748, '들어서': 2749, '포': 2750, '홍상수': 2751, '론': 2752, '유럽': 2753, '잖아': 2754, '기존': 2755, '혐오': 2756, '의지': 2757, '화란': 2758, '따듯': 2759, '컴퓨터': 2760, '어거지': 2761, '어색': 2762, '2014년': 2763, '보임': 2764, '갔는데': 2765, '겁': 2766, '살아가는': 2767, '빨갱이': 2768, '민폐': 2769, '영화감독': 2770, '김치': 2771, '션': 2772, '키드': 2773, '첨부': 2774, '여인': 2775, '하정우': 2776, '과도': 2777, '무난': 2778, '되나': 2779, '스럽고': 2780, '명대사': 2781, '낮아': 2782, '무게': 2783, '만들었을까': 2784, '정보': 2785, '각색': 2786, '남성': 2787, '키스': 2788, '보네요': 2789, '도무지': 2790, '압도': 2791, '루즈': 2792, '흐르는': 2793, '끝내': 2794, '출신': 2795, '아깝': 2796, 'ㅏ': 2797, '체적': 2798, '읽고': 2799, '강렬한': 2800, '진수': 2801, '차원': 2802, '자동차': 2803, '인류': 2804, '..........': 2805, '배신': 2806, '불편한': 2807, '등록': 2808, '잔잔하게': 2809, '및': 2810, '많아': 2811, '마음속': 2812, '손가락': 2813, '시키지': 2814, '비중': 2815, '필': 2816, '듭니': 2817, '전투': 2818, '일반': 2819, '아놀드': 2820, '개콘': 2821, '니콜': 2822, '지겹다': 2823, '나레이션': 2824, '적은': 2825, '친': 2826, '하러': 2827, '죽이는': 2828, '이니까': 2829, '영향': 2830, '뭐임': 2831, '신인': 2832, '대사도': 2833, '황당한': 2834, '환경': 2835, '영원한': 2836, '할수가': 2837, '에다가': 2838, '동영상': 2839, '데뷔': 2840, '극복': 2841, '때려': 2842, '했다면': 2843, '스포': 2844, '길이': 2845, '개그맨': 2846, '드디어': 2847, '빠른': 2848, '요새': 2849, '였고': 2850, '만도': 2851, '피해': 2852, '누군지': 2853, '옴': 2854, '화일': 2855, '동심': 2856, '?...': 2857, '생긴': 2858, '러시아': 2859, '웰': 2860, '찬': 2861, '쓸데없는': 2862, 'ㅋㅋㅋㅋㅋㅋㅋㅋㅋ': 2863, '역사상': 2864, '끝나': 2865, '별하나': 2866, '다세포': 2867, '이를': 2868, '축구': 2869, '울리는': 2870, '좋을듯': 2871, '만들어서': 2872, '리지': 2873, '게스트': 2874, '최소한': 2875, '단점': 2876, '극단': 2877, '열자': 2878, '스티븐': 2879, '어쩌면': 2880, '내일': 2881, '범죄자': 2882, '.,': 2883, '이병헌': 2884, '윌리스': 2885, '어렵다': 2886, '황당': 2887, '적절한': 2888, '재미있는데': 2889, '아치': 2890, '고뇌': 2891, '몽환': 2892, '강력': 2893, '할거': 2894, '부정': 2895, '할리우드': 2896, '않아요': 2897, '컷': 2898, '최고봉': 2899, '마약': 2900, '탄탄하고': 2901, '듣기': 2902, '거품': 2903, '재미있었음': 2904, '알겠다': 2905, '흡입': 2906, '성적': 2907, '찾아서': 2908, '했어': 2909, '한국판': 2910, 'ㅄ': 2911, '그렇지만': 2912, 'of': 2913, '와도': 2914, '하고는': 2915, '놀라운': 2916, '추': 2917, '사용': 2918, '곧': 2919, '무한': 2920, '빛나는': 2921, '죽어': 2922, '코메디': 2923, '경우': 2924, '소중함을': 2925, '파리': 2926, '정우성': 2927, '오프닝': 2928, '싸우는': 2929, 'a': 2930, '실험': 2931, '잇': 2932, '염': 2933, '온다': 2934, '인게': 2935, 'd': 2936, '즐겨': 2937, '담아': 2938, '때매': 2939, '찾는': 2940, '왜곡': 2941, '좋았을': 2942, '평소': 2943, '게뭐': 2944, '봤고': 2945, '깡패': 2946, '절망': 2947, '리가': 2948, '샘': 2949, '..!': 2950, '도데': 2951, '않았던': 2952, '좋아하지만': 2953, '끝나서': 2954, '재미있었습니다': 2955, '나오네요': 2956, '만들어라': 2957, '널': 2958, '송강호': 2959, '버튼': 2960, '빠져서': 2961, '보고있어요': 2962, '왔습니다': 2963, '쩔어': 2964, '알았네': 2965, '힘들': 2966, '공룡': 2967, '뻔했다': 2968, '향수': 2969, '콩': 2970, '무리': 2971, '명복': 2972, '최소': 2973, '다르다': 2974, '장점': 2975, '쉽지': 2976, '놀랐다': 2977, '필요없음': 2978, '진지하게': 2979, '중년': 2980, '이해도': 2981, '전하': 2982, '슈퍼': 2983, '담긴': 2984, '글자': 2985, '감도': 2986, '아닌것': 2987, '판이': 2988, '킬링': 2989, '여신': 2990, '왔는데': 2991, '하자는': 2992, '역량': 2993, '폭풍': 2994, '괜찮게': 2995, '만화영화': 2996, '배급사': 2997, '깨알': 2998, '범': 2999, '군인': 3000, '먹은': 3001, '이구나': 3002, '나간': 3003, '흉내': 3004, '하길': 3005, '라스트': 3006, '치유': 3007, '졸업': 3008, '서부': 3009, 'Good': 3010, '`': 3011, '독일': 3012, '완벽': 3013, '멋있는': 3014, '1년': 3015, '미스': 3016, '드니': 3017, '겉멋': 3018, '우연': 3019, '풋풋한': 3020, '매미': 3021, '우선': 3022, '잉': 3023, '잊을수': 3024, '유치해서': 3025, '할지': 3026, '부인': 3027, '씹': 3028, '밖': 3029, 'T': 3030, 'ㅎㄷㄷ': 3031, '담은': 3032, '볼거': 3033, '느껴': 3034, '버': 3035, '왤케': 3036, '왠만한': 3037, '선생': 3038, '커': 3039, '영화사': 3040, '극적': 3041, '내게': 3042, '지옥': 3043, '화장실': 3044, '거지같은': 3045, '봤는지': 3046, '앙': 3047, '에서만': 3048, '파격': 3049, '방해': 3050, '라기': 3051, '바닥': 3052, '보고있는데': 3053, '나루토': 3054, '보느니': 3055, '액션씬': 3056, '정부': 3057, '뭐라고': 3058, '하기도': 3059, '아만다': 3060, '낮네요': 3061, '멍': 3062, '절대로': 3063, '케이': 3064, '직업': 3065, '한순간': 3066, '진지한': 3067, '상대': 3068, '중딩': 3069, '유지': 3070, '향연': 3071, '돋는': 3072, '보고싶은데': 3073, '처리': 3074, '재미있어': 3075, '했었는데': 3076, '캐릭': 3077, '류승범': 3078, '서도': 3079, '모르지만': 3080, '멋있고': 3081, '알려': 3082, '거짓': 3083, '도시': 3084, '절로': 3085, '에가': 3086, '쭉': 3087, '든지': 3088, '아프고': 3089, '없던': 3090, '아오이': 3091, '한가지': 3092, '존스': 3093, '단편': 3094, '부족함': 3095, 'you': 3096, '서울': 3097, '비호감': 3098, '분장': 3099, '어이없다': 3100, '동네': 3101, '그대': 3102, '귀여워요': 3103, '1회': 3104, '정상': 3105, '미도': 3106, '싶어서': 3107, '언젠가': 3108, '가히': 3109, '미녀': 3110, '위트': 3111, '중국영화': 3112, '생명': 3113, '녀석': 3114, '만들었나': 3115, '봤나': 3116, '2년': 3117, '찬양': 3118, '놀이': 3119, '안해': 3120, '됐는데': 3121, '속지': 3122, '뜬금없이': 3123, '좋았을텐데': 3124, '이구만': 3125, '했': 3126, '에서나': 3127, '했지': 3128, '산만하고': 3129, '년전': 3130, '뒤죽박죽': 3131, '하라': 3132, '부로': 3133, '만큼이나': 3134, '괜찮았음': 3135, '노인': 3136, '똑같이': 3137, '하는듯': 3138, '땀': 3139, '넘어': 3140, '별거': 3141, '무거운': 3142, '본것': 3143, '절제': 3144, '도중': 3145, '비행기': 3146, '아쉽': 3147, '매번': 3148, '해보게': 3149, '아쉬워요': 3150, '하나님': 3151, '맡은': 3152, '유쾌하게': 3153, '대에': 3154, '순위': 3155, 'ㅜㅠ': 3156, '멋짐': 3157, '정리': 3158, '소화': 3159, '좋네': 3160, '낭만': 3161, '부활': 3162, '광구': 3163, '소통': 3164, '배꼽': 3165, '순수하고': 3166, '추합니다': 3167, '하려': 3168, '되었습니다': 3169, '교회': 3170, '만세': 3171, '높지': 3172, '있었으면': 3173, '좋겠습니다': 3174, '명불허전': 3175, '엄청나게': 3176, '신하균': 3177, '재난': 3178, '무재': 3179, '알파': 3180, '인걸': 3181, '한심하다': 3182, '울었어요': 3183, '인듯': 3184, '강동원': 3185, '공유': 3186, '짜증나게': 3187, '줘도': 3188, '식이': 3189, '허무한': 3190, '이별': 3191, '권력': 3192, '지나': 3193, '무간도': 3194, '원숭이': 3195, '느끼고': 3196, '일듯': 3197, '세대': 3198, '일지': 3199, '들게': 3200, '★': 3201, '잊고': 3202, '있었고': 3203, '년도': 3204, '이안': 3205, '의외': 3206, '드문': 3207, '많네': 3208, '예측': 3209, '전성기': 3210, '본질': 3211, '나을듯': 3212, '가능성': 3213, '갖다': 3214, '잔인함': 3215, '오글거리는': 3216, '답답하다': 3217, '괜찮네요': 3218, '쓰지': 3219, 'EBS': 3220, '칭찬': 3221, '빠': 3222, '백인': 3223, '잊지못': 3224, '받았다': 3225, '회사': 3226, '어이없음': 3227, '랑은': 3228, '된다는': 3229, '중학생': 3230, '말씀': 3231, '오글오글': 3232, '각자': 3233, '쌍': 3234, '박보영': 3235, '1등': 3236, '보고싶어요': 3237, '구만': 3238, '추가': 3239, '고증': 3240, '소개': 3241, '강간': 3242, '쟁이': 3243, '다해': 3244, '변신': 3245, '명연기': 3246, '대부': 3247, '2000년': 3248, '짬뽕': 3249, '닥': 3250, '90분': 3251, '15년': 3252, '다는': 3253, '석': 3254, '믿음': 3255, '부는': 3256, '제작자': 3257, '모른다': 3258, '모로': 3259, '기획': 3260, '보나': 3261, '부탁': 3262, '만든거': 3263, '광기': 3264, '형식': 3265, '수록': 3266, '비록': 3267, '몰라': 3268, '역겨운': 3269, '문득': 3270, '50': 3271, '진한': 3272, '치노': 3273, 'ㅈㄴ': 3274, '멋져요': 3275, '싶었다': 3276, '무어': 3277, '찌질': 3278, '망친': 3279, '낮은지': 3280, '연습': 3281, '솔': 3282, '어떻': 3283, '~~^^': 3284, '로움': 3285, '피아노': 3286, '기대하지': 3287, '두운': 3288, '아무나': 3289, '밀': 3290, '줄수': 3291, '블랙코미디': 3292, '흔': 3293, '쯧쯧': 3294, '이기도': 3295, '아마추어': 3296, '이상해': 3297, '모르겠네': 3298, '준것': 3299, '커버': 3300, '엽기': 3301, '일주일': 3302, '낼': 3303, '나음': 3304, '난무': 3305, '타란티노': 3306, '어울리지': 3307, '가나': 3308, '과대': 3309, '고인': 3310, '빕니다': 3311, '본능': 3312, '장애인': 3313, '부산': 3314, '되었는데': 3315, '선사': 3316, '합': 3317, '워낙': 3318, '스파이더맨': 3319, '반응': 3320, '뎅': 3321, '하지도': 3322, '까지만': 3323, '나무': 3324, '베일': 3325, '시종일관': 3326, '보았던': 3327, '잃은': 3328, '없는듯': 3329, '한지': 3330, '속이': 3331, '보는것': 3332, '권상우': 3333, '웃겨서': 3334, '미학': 3335, '디카프리오': 3336, '섬세한': 3337, '줬다': 3338, '하면서도': 3339, '스타워즈': 3340, '놀란': 3341, '선수': 3342, '어설프다': 3343, '가야': 3344, '징': 3345, '스필버그': 3346, '국어': 3347, '즐거움': 3348, '보고나니': 3349, '싶습니다': 3350, '아이유': 3351, '답답': 3352, '재밌었던': 3353, '싸': 3354, '낫겠다': 3355, '미스터리': 3356, '?..': 3357, '애정': 3358, '사랑스럽고': 3359, '닥치고': 3360, '아누': 3361, '출연자': 3362, '상식': 3363, '조선': 3364, '싫어': 3365, '아니잖아': 3366, '유치해': 3367, '호불호': 3368, '만들수': 3369, '찍는': 3370, '않습니다': 3371, '멜로영화': 3372, '나게': 3373, '최후': 3374, '늦게': 3375, '티나': 3376, '디테일': 3377, '고문': 3378, '국': 3379, '낮': 3380, '상이': 3381, '구로': 3382, '도둑': 3383, '아닌가요': 3384, '떡': 3385, '맞음': 3386, '유아': 3387, '너희': 3388, '냈다': 3389, '필요한가': 3390, '아니었다': 3391, '가까운': 3392, '슈퍼맨': 3393, '멋지게': 3394, '설': 3395, '살이': 3396, '남자배우': 3397, '뎀': 3398, '풀': 3399, '부터는': 3400, '하시길': 3401, '민족': 3402, '재미없네요': 3403, '리암': 3404, '재미있었는데': 3405, '오로지': 3406, '커서': 3407, '혁명': 3408, '구분': 3409, '레옹': 3410, '심사': 3411, '반영': 3412, '느껴졌다': 3413, '찬사': 3414, '역겹다': 3415, '다시금': 3416, '연관': 3417, '우린': 3418, '잼있네요': 3419, '연상': 3420, '맞나': 3421, '본격': 3422, '아닌거': 3423, '호흡': 3424, '개는': 3425, '돋는다': 3426, '감은': 3427, '페이크': 3428, '행복하게': 3429, '좋으나': 3430, '빠지게': 3431, '작화': 3432, '케미': 3433, '주세요': 3434, '산다': 3435, '뭐랄까': 3436, '명장': 3437, '살려': 3438, '홀로': 3439, '웃기는': 3440, '클': 3441, '가라': 3442, '웃었다': 3443, '순수': 3444, '외국인': 3445, '국산': 3446, '데이빗': 3447, '할수있는': 3448, '간지': 3449, '특집': 3450, '안되': 3451, '강아지': 3452, '봤다는': 3453, '덩어리': 3454, '만드냐': 3455, '안타까': 3456, '트리': 3457, '상징': 3458, '다른사람': 3459, '일반인': 3460, '정점': 3461, '...^^': 3462, '적당한': 3463, '초월': 3464, '있으나': 3465, '돌': 3466, '나면': 3467, '사랑스럽다': 3468, '심하다': 3469, '엄정화': 3470, '허나': 3471, '올레': 3472, '주고싶다': 3473, '마저도': 3474, '차승원': 3475, '너무하네': 3476, '능가': 3477, '무섭게': 3478, '당장': 3479, '리도': 3480, '객관': 3481, '싫은': 3482, '신화': 3483, '로빈': 3484, '섬': 3485, '화질': 3486, '40분': 3487, '가게': 3488, '맞추기': 3489, '남친': 3490, '공주': 3491, '성과': 3492, 's': 3493, '되어서': 3494, '진창': 3495, '없어도': 3496, '한석규': 3497, '무섭지': 3498, '끝남': 3499, '쏘우': 3500, '고독': 3501, '믿을': 3502, '적당': 3503, '대단': 3504, '깔끔한': 3505, '마찬가지': 3506, '남는게': 3507, '나왔음': 3508, '스텝': 3509, '업': 3510, '할것': 3511, '실': 3512, '쓰는데': 3513, '아우': 3514, '니콜라스': 3515, '보고싶네요': 3516, '4.44': 3517, '하신': 3518, '스릴러물': 3519, '가까이': 3520, '비쥬': 3521, '킬러': 3522, '가짜': 3523, 'ㅂ': 3524, '머냐': 3525, '짜집기': 3526, '독특하고': 3527, '만들었냐': 3528, '않았음': 3529, '버리지': 3530, '스포츠': 3531, '시키고': 3532, '아바타': 3533, '수면제': 3534, '화중': 3535, '클래식': 3536, '뭣': 3537, '하는것도': 3538, '인권': 3539, '없었는데': 3540, '보려': 3541, '안되네': 3542, '아깝습니다': 3543, '아담': 3544, '거임': 3545, '메이': 3546, '이었고': 3547, '클라라': 3548, '포드': 3549, 'ㅜㅜㅜ': 3550, '...........': 3551, '빠순이': 3552, '첨으로': 3553, '해지': 3554, '행': 3555, '시체': 3556, '된게': 3557, '되길': 3558, '하지마': 3559, '이러지': 3560, '잡는': 3561, '미스캐스팅': 3562, '원조': 3563, '찍어': 3564, '장진': 3565, '봤어': 3566, '대는': 3567, '꿀': 3568, '위주': 3569, '조잡한': 3570, 'ㅋㅋㅋㅋㅋㅋㅋㅋㅋㅋ': 3571, '인식': 3572, '다이하드': 3573, '믿기지': 3574, '나로': 3575, '사람과': 3576, '지식': 3577, '눈치': 3578, '나올까': 3579, '고등학생': 3580, '볼라': 3581, '!!!!!!': 3582, '리기': 3583, '이드': 3584, '드네': 3585, '흑백': 3586, '터짐': 3587, '미안하다': 3588, '->': 3589, '아쉬울': 3590, '김희선': 3591, '깜놀': 3592, '허무': 3593, '기전': 3594, '떄': 3595, '우드': 3596, '전문': 3597, '하지말고': 3598, '혼란': 3599, '이상하다': 3600, '느껴지지': 3601, '슨': 3602, '택시': 3603, '역작': 3604, '포함': 3605, '장소': 3606, '미달': 3607, '충분한': 3608, '영구': 3609, '~~!!': 3610, 'bb': 3611, '난해한': 3612, '해줘서': 3613, '김수현': 3614, '아니라면': 3615, '사과': 3616, '돌아': 3617, '멋져': 3618, 'is': 3619, '싫어하는': 3620, '잇어요': 3621, '검사': 3622, '미스테리': 3623, '않네': 3624, '맞다': 3625, '납득': 3626, '망할': 3627, '일부': 3628, '...!': 3629, '돌아보게': 3630, '있겠지만': 3631, '천사': 3632, '에바': 3633, '오직': 3634, '당하는': 3635, '벨': 3636, '지지': 3637, 'bad': 3638, '였지': 3639, '인연': 3640, '다니는': 3641, '동감': 3642, '왕조현': 3643, '한효주': 3644, '맙시': 3645, '보는줄': 3646, '테이큰': 3647, '당할': 3648, '관리': 3649, '구조': 3650, '주가': 3651, '공연': 3652, '태국': 3653, '들지': 3654, '스펙': 3655, '유치원': 3656, '망치': 3657, '재앙': 3658, '로맨틱코미디': 3659, '마누라': 3660, '웃겼다': 3661, '한동안': 3662, '싸이코패스': 3663, '놓은': 3664, '터지는': 3665, '힘들었다': 3666, '모욕': 3667, '세계관': 3668, '되어야': 3669, '하기에는': 3670, '아까워요': 3671, '시험': 3672, '목사': 3673, '짱짱맨': 3674, '넘치고': 3675, '주인': 3676, '외면': 3677, '데이': 3678, '세트': 3679, '농담': 3680, '껐다': 3681, '온갖': 3682, '않아도': 3683, '섹시': 3684, '뉴스': 3685, '해본': 3686, '옥': 3687, '만난': 3688, '했다가': 3689, '잇다': 3690, '떡밥': 3691, '납니다': 3692, '소름끼치는': 3693, '알바생': 3694, '뜨': 3695, '파워': 3696, '뻔하다': 3697, '우는': 3698, '하기가': 3699, '볼까': 3700, '찍': 3701, '청년': 3702, '넹': 3703, '마블': 3704, '머릿속': 3705, '질문': 3706, '같다는': 3707, '.\"': 3708, '있는듯': 3709, '음향': 3710, '거듭': 3711, '스러': 3712, '승부': 3713, 'ㅋㅋㅋㅋㅋㅋㅋㅋㅋㅋㅋ': 3714, '픽사': 3715, '좋더라': 3716, '기발한': 3717, '좋아하네요': 3718, '폼': 3719, '난후': 3720, '만들었으면': 3721, '될것': 3722, '예고': 3723, '롱': 3724, '어울림': 3725, '성형': 3726, '애니매이션': 3727, '엔딩크레딧': 3728, '있었음': 3729, '조지': 3730, '어쨌든': 3731, '톤': 3732, '에로물': 3733, '볼것': 3734, '기억나는': 3735, '타인': 3736, '억지스럽고': 3737, '안될': 3738, '주위': 3739, '소품': 3740, '김혜수': 3741, '어차피': 3742, '였어': 3743, '로운': 3744, '참여': 3745, '만들었네': 3746, '하는구나': 3747, '시골': 3748, '해놓고': 3749, '저희': 3750, '어째': 3751, '3시간': 3752, '뻔함': 3753, '마을': 3754, '-_-;;': 3755, '바란다': 3756, '누님': 3757, '라스': 3758, '짱구': 3759, '신부': 3760, '느낀다': 3761, '미치는': 3762, '차별': 3763, '렉': 3764, '좋아하시는': 3765, '학살': 3766, '대역': 3767, '닷': 3768, '스콧': 3769, '슬프네요': 3770, '완벽하다': 3771, '하시고': 3772, '완벽하게': 3773, '기사': 3774, '여지': 3775, '헉': 3776, '살때': 3777, '애인': 3778, '^-^': 3779, '아련한': 3780, '색채': 3781, '장애': 3782, '최민수': 3783, '반감': 3784, '만화가': 3785, '있는가': 3786, '유혹': 3787, '싶다면': 3788, '나오나': 3789, '재방송': 3790, '불쌍해': 3791, '러셀': 3792, '상큼': 3793, '강요': 3794, '살리지': 3795, '두고두고': 3796, '편하게': 3797, '껴': 3798, '종': 3799, '대학': 3800, '빠져들게': 3801, '제시카': 3802, '볼줄': 3803, '않으면': 3804, '동양': 3805, '뛰어넘는': 3806, '지극히': 3807, '부를': 3808, '흘러가는': 3809, '복선': 3810, '어설프게': 3811, '재치': 3812, '높은지': 3813, '층': 3814, '박찬욱': 3815, '구석': 3816, '해야하나': 3817, '삶은': 3818, '이럼': 3819, '전라도': 3820, '하는가': 3821, '사이코': 3822, '향기': 3823, '끈': 3824, '많음': 3825, '된다고': 3826, '자랑': 3827, '살아있는': 3828, '더욱더': 3829, '입고': 3830, '환자': 3831, '잔인하고': 3832, '새삼': 3833, '걸린': 3834, '곤': 3835, '잼있는': 3836, '가네': 3837, '하더라': 3838, '들의': 3839, '대상': 3840, '치료': 3841, '내는': 3842, '세련된': 3843, '그런거': 3844, '..!!': 3845, '이상함': 3846, '숨은': 3847, '싶음': 3848, '아니네요': 3849, '광': 3850, '꼽': 3851, '!~': 3852, '될수': 3853, '슬퍼': 3854, '전지현': 3855, '시장': 3856, '되냐': 3857, '나왔던': 3858, '둔': 3859, '원하는': 3860, '송승헌': 3861, '피디': 3862, '색깔': 3863, '손예진': 3864, '예수': 3865, '높네': 3866, '먹기': 3867, '기억난다': 3868, '영활': 3869, '오해': 3870, '모독': 3871, '러브스토리': 3872, '홧팅': 3873, '깨달음': 3874, '잇고': 3875, '하고도': 3876, '절반': 3877, '추격': 3878, '콜린': 3879, '재미없었음': 3880, '자본': 3881, '원주율': 3882, '남고': 3883, '차태현': 3884, '아깝다는': 3885, '설경구': 3886, '지루했음': 3887, '였으면': 3888, '멀리': 3889, '이정재': 3890, '안되서': 3891, '피식': 3892, '답답해': 3893, '크리스찬': 3894, '싶었던': 3895, '박평': 3896, '오지': 3897, '레이첼': 3898, '백배': 3899, '황정민': 3900, '살렸다': 3901, '가식': 3902, '고작': 3903, '군더더기': 3904, '봐야겠다': 3905, '...(': 3906, '신세계': 3907, '갖춘': 3908, '로드': 3909, '정화': 3910, '억지스런': 3911, '정선': 3912, '재방': 3913, '부담': 3914, '람보': 3915, '사무라이': 3916, '평화': 3917, '회상': 3918, '찌': 3919, '진영화': 3920, '하고싶은': 3921, 'ㅓ': 3922, '있어도': 3923, '없으니': 3924, '웃다가': 3925, '없구': 3926, '힙합': 3927, '재밋네': 3928, '들아': 3929, '주온': 3930, '버릴': 3931, '젊은이': 3932, '의해': 3933, '김구라': 3934, '수십': 3935, '신비': 3936, '에드': 3937, '재미있어서': 3938, '번역': 3939, '맞게': 3940, '대하': 3941, '크레딧': 3942, '하기에': 3943, '밋밋한': 3944, '엑스맨': 3945, '하더니': 3946, '하던가': 3947, '주원': 3948, '대학생': 3949, '재밌었습니다': 3950, '클라스': 3951, '할려고': 3952, '출현': 3953, '웬만하면': 3954, '60년': 3955, '신도': 3956, '납치': 3957, '낀': 3958, '5년': 3959, '오그라드는': 3960, '킹': 3961, '언어': 3962, '만든것': 3963, '통쾌한': 3964, '가관': 3965, '오랫동안': 3966, '매주': 3967, '우롱': 3968, '주관': 3969, '토니': 3970, '개똥': 3971, '건데': 3972, '의견': 3973, '마시고': 3974, '웃긴다': 3975, '혹': 3976, '겨울왕국': 3977, '디테': 3978, '잼나요': 3979, '구혜선': 3980, '까는': 3981, '왕자': 3982, '하고싶다': 3983, '외로움': 3984, '만드는지': 3985, '하자면': 3986, '해외': 3987, '흥미롭게': 3988, '심각하게': 3989, '싶었는데': 3990, '팍팍': 3991, '각각': 3992, '기타': 3993, '기승': 3994, '유우': 3995, '도를': 3996, '래야': 3997, '울림': 3998, '밖에는': 3999}\n",
            "{0: '[PAD]', 1: '[UNK]', 2: '.', 3: '이', 4: '영화', 5: '의', 6: '..', 7: '가', 8: '에', 9: '을', 10: '...', 11: '도', 12: '들', 13: ',', 14: '는', 15: '를', 16: '은', 17: '너무', 18: '?', 19: '한', 20: '다', 21: '정말', 22: '적', 23: '만', 24: '진짜', 25: '!', 26: '점', 27: '으로', 28: '로', 29: '에서', 30: '연기', 31: '과', 32: '평점', 33: '것', 34: '최고', 35: '~', 36: '내', 37: '나', 38: '그', 39: '잘', 40: '와', 41: '인', 42: '안', 43: '이런', 44: '생각', 45: '스토리', 46: '못', 47: '왜', 48: '....', 49: '게', 50: '드라마', 51: '이다', 52: '감동', 53: '사람', 54: '1', 55: '하는', 56: '보고', 57: '하고', 58: '말', 59: '고', 60: '더', 61: '때', 62: '아', 63: 'ㅋㅋ', 64: '배우', 65: '감독', 66: '거', 67: '그냥', 68: '요', 69: '본', 70: '내용', 71: '재미', 72: '중', 73: '까지', 74: '뭐', 75: '!!', 76: '좀', 77: '보다', 78: '없는', 79: '쓰레기', 80: '시간', 81: '수', 82: '지', 83: '네', 84: '봤는데', 85: '사랑', 86: '작품', 87: '10', 88: '볼', 89: '할', 90: '없다', 91: '다시', 92: '하나', 93: '마지막', 94: '이건', 95: 'ㅋ', 96: '좋은', 97: '저', 98: '같은', 99: '정도', 100: '2', 101: '입니다', 102: '완전', 103: '있는', 104: 'ㅋㅋㅋ', 105: '처음', 106: '장면', 107: '주인공', 108: '액션', 109: '대', 110: '이렇게', 111: 'ㅠㅠ', 112: '걸', 113: '보는', 114: '최악', 115: '개', 116: '지금', 117: '3', 118: \"'\", 119: '이야기', 120: '돈', 121: '하', 122: '임', 123: '별로', 124: '참', 125: '봐도', 126: '연출', 127: '없고', 128: '느낌', 129: '끝', 130: '라', 131: '듯', 132: '명작', 133: '인데', 134: '별', 135: '역시', 136: '그리고', 137: '기', 138: '서', 139: '난', 140: '많이', 141: '재밌게', 142: '이해', 143: '^^', 144: 'ㅡㅡ', 145: '면', 146: '라고', 147: '!!!', 148: '이영화', 149: '보면', 150: '때문', 151: '또', 152: '여자', 153: '이나', 154: '부터', 155: '성', 156: '전', 157: '해서', 158: '꼭', 159: '아깝다', 160: '두', 161: '된', 162: '보기', 163: '편', 164: '에게', 165: '이고', 166: '짱', 167: '여', 168: '무슨', 169: '기억', 170: '일', 171: '인생', 172: '엔', 173: '같다', 174: '결말', 175: '야', 176: '마음', 177: '랑', 178: 'ㅎㅎ', 179: '애', 180: 'ㅠ', 181: '소재', 182: '수준', 183: '님', 184: '넘', 185: '~~', 186: '영', 187: '없이', 188: '한다', 189: '현실', 190: '제', 191: '한번', 192: '해', 193: '속', 194: '반전', 195: '씨', 196: '함', 197: ';;', 198: '매력', 199: '라는', 200: '??', 201: '전개', 202: '급', 203: '남자', 204: '가슴', 205: '한국', 206: '가장', 207: '하게', 208: '하지만', 209: '되는', 210: '뿐', 211: '알', 212: '아이', 213: '음악', 214: '다른', 215: '니', 216: '만든', 217: '인간', 218: '냐', 219: '줄', 220: '우리', 221: '추천', 222: '원작', 223: '번', 224: '눈물', 225: '봤다', 226: '모든', 227: '않고', 228: '화', 229: '자체', 230: '합니다', 231: '인지', 232: '하지', 233: '지만', 234: '눈', 235: '\"', 236: '인가', 237: '캐릭터', 238: '코미디', 239: '좋다', 240: '모두', 241: '솔직히', 242: '처럼', 243: '대한', 244: 'ㅋㅋㅋㅋ', 245: '뭔가', 246: '대박', 247: '했다', 248: '그래도', 249: '연기력', 250: '이상', 251: '있다', 252: '모습', 253: '움', 254: '전혀', 255: '여운', 256: '굿', 257: '기대', 258: '개봉', 259: '이네', 260: '시리즈', 261: '중간', 262: '표현', 263: '공감', 264: '일본', 265: '계속', 266: '근데', 267: '아주', 268: '자', 269: '부분', 270: '허', 271: '에는', 272: '(', 273: '분', 274: '영상', 275: '이라', 276: ';', 277: '실망', 278: '그런', 279: ')', 280: '제목', 281: '이랑', 282: '하면', 283: '재밌다', 284: 'OO', 285: '가족', 286: '진심', 287: 'ㅎ', 288: '내내', 289: '보지', 290: '작', 291: '-', 292: '많은', 293: '없음', 294: '였다', 295: '뭔', 296: '후', 297: '이제', 298: '기분', 299: '어떻게', 300: '건지', 301: '나오는', 302: '재미있게', 303: '몰입', 304: 'ㅜㅜ', 305: '봐', 306: ',,', 307: '했는데', 308: '봤습니다', 309: '밖에', 310: '재미없다', 311: '아니다', 312: '작가', 313: '4', 314: '공포', 315: '감', 316: '건', 317: '아니라', 318: '아니고', 319: '요즘', 320: '이라는', 321: '보면서', 322: '용', 323: '위', 324: '점도', 325: '않은', 326: '대사', 327: '잼', 328: '긴장감', 329: '아닌', 330: '애니', 331: '스릴러', 332: '하다', 333: '조금', 334: '개인', 335: '극장', 336: '않는', 337: '특히', 338: '삶', 339: '이유', 340: '노래', 341: '욕', 342: '0', 343: '보다가', 344: 'ㅡ', 345: '아까운', 346: '한테', 347: '딱', 348: '노잼', 349: '알바', 350: '좋고', 351: '시작', 352: '나름', 353: '놈', 354: '연', 355: '제대로', 356: '오랜', 357: '이란', 358: '아름다운', 359: '점수', 360: '재밌어요', 361: '차라리', 362: '이지', 363: '시', 364: '.....', 365: '친구', 366: '막장', 367: '에도', 368: '제일', 369: '의미', 370: '당시', 371: '영화로', 372: '보게', 373: '만드는', 374: '극', 375: '명', 376: '보세요', 377: '력', 378: '몇', 379: '해도', 380: '세상', 381: '같이', 382: '있고', 383: '뻔한', 384: '봤어요', 385: '식', 386: '류', 387: '절대', 388: '공포영화', 389: '아직도', 390: '이라고', 391: '싶다', 392: '오', 393: '위해', 394: '♥', 395: '웃음', 396: '봄', 397: '무엇', 398: '앞', 399: '보니', 400: '도대체', 401: '아무', 402: '미국', 403: '우리나라', 404: '너', 405: '7', 406: '나도', 407: '설정', 408: '데', 409: '뭘', 410: '걍', 411: '마다', 412: '좋아하는', 413: '물', 414: '엄청', 415: '어', 416: '5', 417: '주고', 418: '출연', 419: '수작', 420: '초반', 421: '된다', 422: '남', 423: '시나리오', 424: '사실', 425: '좋았다', 426: '보는내내', 427: '한국영', 428: 'OOO', 429: '장난', 430: '준다', 431: '분위기', 432: '시대', 433: '관객', 434: '추억', 435: '이야', 436: '남는', 437: '세', 438: '안되는', 439: '주는', 440: '가지', 441: '지루함', 442: '든', 443: '살', 444: '같아요', 445: '최고다', 446: '좋아요', 447: '졸작', 448: '결국', 449: '자신', 450: '지루하고', 451: '이딴', 452: '봤던', 453: '팬', 454: '준', 455: '반', 456: '소리', 457: '제발', 458: '감정', 459: '인상', 460: '영화관', 461: '접', 462: '정신', 463: '구', 464: '엄마', 465: '오늘', 466: '~~~', 467: '더빙', 468: '엔딩', 469: '주', 470: '이지만', 471: '라면', 472: '니까', 473: '문제', 474: '재밌음', 475: '아무리', 476: '신', 477: '포스터', 478: '될', 479: '코믹', 480: '어떤', 481: '8', 482: '평가', 483: '멋진', 484: '대해', 485: '캐스팅', 486: '그저', 487: '함께', 488: '음', 489: '어릴', 490: '엉', 491: '얼마나', 492: '뒤', 493: '애니메이션', 494: '그렇게', 495: '킬링타임', 496: '봐서', 497: '!!!!', 498: '강추', 499: '배경', 500: '개연', 501: '괜찮은', 502: '했던', 503: '티비', 504: '스릴', 505: '충격', 506: '갈수록', 507: '첨', 508: '아니', 509: '전쟁', 510: '몰입도', 511: '얘기', 512: '이름', 513: '옛날', 514: '맘', 515: '질', 516: '싶은', 517: '큰', 518: '구성', 519: '까', 520: '같은데', 521: '얼굴', 522: '머', 523: '예술', 524: '머리', 525: 'ㅜ', 526: '만화', 527: '건가', 528: '조', 529: '하면서', 530: '울', 531: '보단', 532: '후회', 533: '기도', 534: '영화인', 535: '지루한', 536: '집', 537: '책', 538: '나온', 539: '장르', 540: '재밌는', 541: '않는다', 542: '모르겠다', 543: '후반', 544: '웃기', 545: '이후', 546: '그래서', 547: '9', 548: '간', 549: '매우', 550: '집중', 551: '총', 552: '너무나', 553: '어디', 554: '주연', 555: '다큐', 556: '비', 557: '봐라', 558: '하는데', 559: '만들어', 560: '상황', 561: '+', 562: '역사', 563: ',,,', 564: '날', 565: '꽤', 566: '여기', 567: '원', 568: '진', 569: '아직', 570: '지루하다', 571: '???', 572: '억지', 573: '누구', 574: '재미없음', 575: '글', 576: '짜증', 577: '다운', 578: '그것', 579: '걸작', 580: '시즌', 581: '존나', 582: '소름', 583: '보는데', 584: '이리', 585: '분들', 586: '상', 587: '언제', 588: '씬', 589: '했지만', 590: '먹', 591: '마세요', 592: '어느', 593: '등', 594: 'B', 595: '실화', 596: '약간', 597: '한마디', 598: '않다', 599: '그나마', 600: '인물', 601: '자기', 602: '본다', 603: '아님', 604: '훨씬', 605: '대체', 606: '~!', 607: '예전', 608: '누가', 609: '시절', 610: '6', 611: '방송', 612: '동안', 613: '부', 614: '봤음', 615: '봤지만', 616: '할수', 617: '그대로', 618: '비교', 619: '이었다', 620: '아들', 621: '만점', 622: '휴', 623: '초딩', 624: '비디오', 625: '발연기', 626: '없어', 627: '됨', 628: '보', 629: '없네', 630: '네이버', 631: '판', 632: '사회', 633: '하기', 634: '다음', 635: '로맨스', 636: '재밌고', 637: '꿈', 638: '아까', 639: '전체', 640: '감성', 641: '나와서', 642: 'CG', 643: '간만', 644: '소설', 645: '같음', 646: '없었다', 647: '라도', 648: '혼자', 649: '코', 650: 'ㅉㅉ', 651: '편이', 652: '여배우', 653: '해야', 654: '나이', 655: '나라', 656: '바로', 657: '였습니다', 658: '죠', 659: '여주', 660: ';;;', 661: '성룡', 662: '주제', 663: '재', 664: '보다는', 665: '좋은데', 666: '없어서', 667: '에요', 668: '재미있어요', 669: '어렸을', 670: '목소리', 671: '굳', 672: '빨리', 673: '삼류', 674: '힘', 675: '가는', 676: '하네요', 677: '열', 678: '교훈', 679: '이라도', 680: '년', 681: '당신', 682: '어설픈', 683: '만큼', 684: '죽', 685: '낭비', 686: '순간', 687: '미친', 688: '그만', 689: '장', 690: '안보', 691: '아쉽다', 692: '존재', 693: '쯤', 694: '낸', 695: '재밋', 696: '거의', 697: '질질', 698: '짜리', 699: '몇번', 700: '상당히', 701: '진정한', 702: '좋아', 703: '......', 704: '/', 705: '점주', 706: '잔잔한', 707: '좀비', 708: '는데', 709: '아버지', 710: '보여주는', 711: '있지만', 712: '재미있다', 713: '맛', 714: '말고', 715: '줄거리', 716: '실제', 717: '판타지', 718: '만하', 719: '어른', 720: '쳐', 721: '평론가', 722: '전부', 723: '답', 724: '모', 725: '각본', 726: '재밌네요', 727: '되고', 728: '시청률', 729: '에선', 730: '라니', 731: '히', 732: '바', 733: '소', 734: '상영', 735: '발', 736: '같네요', 737: '그러나', 738: '란', 739: 'ㅎㅎㅎ', 740: '저런', 741: '이번', 742: '굉장히', 743: '난다', 744: '되어', 745: '으로도', 746: '믿고', 747: '피', 748: '가치', 749: '버린', 750: '의도', 751: '이하', 752: '하며', 753: '갑자기', 754: '제작', 755: '사', 756: '딸', 757: '극장판', 758: '곳', 759: '단', 760: '10년', 761: '간다', 762: '선', 763: 'TV', 764: '필요', 765: '중국', 766: '화면', 767: '하네', 768: '세계', 769: '땜', 770: '당', 771: '그런지', 772: '첫', 773: '있어', 774: '그녀', 775: '한편', 776: '어린', 777: '볼때', 778: '그때', 779: '대로', 780: '둘', 781: '나온다', 782: '밑', 783: '항상', 784: '형', 785: '해주는', 786: '요소', 787: '평', 788: '있을까', 789: '에서도', 790: '봤네요', 791: '있는데', 792: '선택', 793: '재미있는', 794: '비해', 795: '있어서', 796: '터', 797: '올', 798: '되지', 799: '복수', 800: '라서', 801: '좋음', 802: '뻔', 803: '좋네요', 804: '막', 805: '흥행', 806: '슬픈', 807: '훌륭한', 808: '성우', 809: '온', 810: '치고', 811: '스타일', 812: '에서는', 813: '햇', 814: '참고', 815: '거기', 816: '여러', 817: '똥', 818: '봐야', 819: '일단', 820: '이냐', 821: '이에요', 822: '없네요', 823: '멜로', 824: '점점', 825: '인거', 826: '모르고', 827: '또한', 828: '어디서', 829: '역', 830: '더럽게', 831: '아빠', 832: '역대', 833: '관람', 834: '였음', 835: '어이', 836: '더욱', 837: 'tv', 838: '초', 839: '새', 840: 'ㅠㅠㅠ', 841: '개그', 842: '상미', 843: '거지', 844: '수가', 845: '물론', 846: '사건', 847: 'ㅋㅋㅋㅋㅋ', 848: '충분히', 849: '낫다', 850: '래', 851: '깊은', 852: '완성', 853: '진행', 854: '짓', 855: '술', 856: '보는게', 857: '재미없는', 858: '군', 859: '병맛', 860: '편집', 861: '에겐', 862: '화이팅', 863: '씩', 864: '했음', 865: '여서', 866: '해준', 867: '엉망', 868: '무', 869: '좋겠다', 870: '현', 871: '잠', 872: '어쩔', 873: '키', 874: '알았는데', 875: '꿀잼', 876: '프랑스', 877: '전형', 878: '아까워', 879: '따뜻한', 880: '새로운', 881: '나오고', 882: '리', 883: '화보', 884: '귀', 885: '~!!', 886: '그게', 887: '드', 888: '중반', 889: '있음', 890: '원래', 891: '미화', 892: '몸', 893: '암', 894: '감상', 895: '하는게', 896: '아닌가', 897: '나옴', 898: '죽음', 899: '그래픽', 900: '예상', 901: '관', 902: '대단한', 903: '였어요', 904: '배', 905: '손', 906: '안된다', 907: '-_-', 908: '새끼', 909: '만에', 910: '있게', 911: '20', 912: 'good', 913: '척', 914: '티', 915: '나올', 916: '학교', 917: '불륜', 918: '일이', 919: '취향', 920: '알았다', 921: '흥미', 922: '댓글', 923: '액션영화', 924: '재밌는데', 925: '좋았어요', 926: '연기자', 927: '예고편', 928: '노력', 929: '가서', 930: '같아', 931: '흥미진진', 932: '자극', 933: '헐', 934: '과거', 935: '따', 936: '잘만', 937: '만이', 938: '한다는', 939: '엄청난', 940: '이라니', 941: '상상', 942: '화가', 943: '자꾸', 944: '바보', 945: 'ㄷㄷ', 946: '괜히', 947: '미', 948: '마무리', 949: '게임', 950: '나쁜', 951: '무조건', 952: '만으로도', 953: '거리', 954: '설명', 955: '천재', 956: '속편', 957: '대한민국', 958: '도저히', 959: '억', 960: '않음', 961: '같습니다', 962: '야할', 963: '전달', 964: ':', 965: '오히려', 966: '예', 967: '심리', 968: '결혼', 969: '그림', 970: '땐', 971: '기대하고', 972: '유치', 973: '보이', 974: '재밌었다', 975: '이래', 976: '스타', 977: '하는지', 978: 'ost', 979: '흠', 980: '타', 981: '아저씨', 982: '전편', 983: '♡', 984: '억지로', 985: '우연히', 986: '법', 987: '대작', 988: '드는', 989: '완벽한', 990: '영환', 991: '젠', 992: '양', 993: '안됨', 994: '표정', 995: '조차', 996: '짐', 997: '봤을', 998: '하하', 999: '스러운', 1000: '귀신', 1001: '며', 1002: '맨', 1003: '높은', 1004: '회', 1005: '오빠', 1006: 'SF', 1007: '최근', 1008: '환상', 1009: '되', 1010: '느끼게', 1011: '있을', 1012: '재미없고', 1013: '일까', 1014: '지루', 1015: '다가', 1016: '타임', 1017: '길', 1018: '오래', 1019: '메세지', 1020: '촬영', 1021: '재미있고', 1022: '전설', 1023: '주의', 1024: '노', 1025: '90년', 1026: '관계', 1027: '동', 1028: '꺼', 1029: '산', 1030: '재미없어', 1031: '그닥', 1032: '순', 1033: '무비', 1034: '경찰', 1035: '현재', 1036: '먼저', 1037: '있었다', 1038: '공', 1039: '행동', 1040: '쓴', 1041: '놔', 1042: '하는거', 1043: '동화', 1044: '입', 1045: '했으면', 1046: '소녀', 1047: '프로그램', 1048: '2시간', 1049: '마', 1050: '전작', 1051: '묘사', 1052: '그렇고', 1053: '유머', 1054: '100', 1055: '예요', 1056: '만의', 1057: '엇', 1058: '짜', 1059: '아니면', 1060: '조연', 1061: 'ㅇ', 1062: '살다', 1063: '관심', 1064: '힘든', 1065: '영웅', 1066: '통해', 1067: '아쉬움', 1068: '이미', 1069: '노출', 1070: '비슷한', 1071: '>', 1072: '먹고', 1073: '망작', 1074: '서로', 1075: '볼수', 1076: '지루하지', 1077: '따라', 1078: '아쉬운', 1079: '그런데', 1080: '정', 1081: '존', 1082: '등장', 1083: '다행', 1084: '모르는', 1085: '프로', 1086: '나중', 1087: '살인', 1088: '리메이크', 1089: '유치하고', 1090: '역할', 1091: '예산', 1092: '으', 1093: '맞는', 1094: '해요', 1095: '재밌었어요', 1096: '바람', 1097: '외', 1098: '봣', 1099: '마치', 1100: '긴', 1101: '되었다', 1102: '졸라', 1103: '제작비', 1104: 'D', 1105: '좋았습니다', 1106: '이며', 1107: '좋았음', 1108: '강', 1109: '안되고', 1110: '채널', 1111: '유치한', 1112: '보고싶다', 1113: '효과', 1114: '반개', 1115: '받아', 1116: '보고나서', 1117: '이상한', 1118: '화려한', 1119: '아닐까', 1120: '80년', 1121: '만들', 1122: '없을', 1123: '가끔', 1124: '안나', 1125: '특유', 1126: '지루해', 1127: '철학', 1128: '.......', 1129: '과정', 1130: '좋았고', 1131: '아니지만', 1132: '하냐', 1133: '보시길', 1134: '감사합니다', 1135: '깊이', 1136: '왕', 1137: '인정', 1138: '보이는', 1139: '생', 1140: '않았다', 1141: '미래', 1142: '청춘', 1143: '이런거', 1144: '느낄', 1145: '같아서', 1146: '진부한', 1147: '너무나도', 1148: 'cg', 1149: '낚', 1150: '형님', 1151: '싫다', 1152: '나왔으면', 1153: '만들지', 1154: '케이블', 1155: '희망', 1156: '범인', 1157: '아닌데', 1158: '런가', 1159: '다만', 1160: '만들었다', 1161: '필요없다', 1162: '체', 1163: '사이', 1164: '였는데', 1165: '그리', 1166: '슬프다', 1167: '능력', 1168: '봤으면', 1169: '있나', 1170: 'OST', 1171: '엿', 1172: '왠지', 1173: '차', 1174: '께', 1175: '비추', 1176: '이런게', 1177: '스케일', 1178: '군대', 1179: '카메라', 1180: '기세', 1181: '재미있음', 1182: '이면', 1183: '메디', 1184: 'ㅅㅂ', 1185: '낮은', 1186: '생애', 1187: '되게', 1188: '계', 1189: '지난', 1190: '재밌어', 1191: '용도', 1192: '상상력', 1193: '다소', 1194: '빼고', 1195: '대안', 1196: '로는', 1197: '고생', 1198: '깊게', 1199: '독립영화', 1200: '든다', 1201: '나를', 1202: '끝나고', 1203: '대단하다', 1204: '좋았는데', 1205: '미소', 1206: '잘못', 1207: '리얼', 1208: '얼', 1209: '않게', 1210: '평생', 1211: '않아', 1212: '없나', 1213: '없지만', 1214: '자막', 1215: '필요없는', 1216: '봤었는데', 1217: '확실히', 1218: '버렸다', 1219: '치', 1220: '줌', 1221: '로맨틱', 1222: '메시지', 1223: '진실', 1224: '고민', 1225: '어린이', 1226: '보고싶은', 1227: '볼수록', 1228: '시도', 1229: '돼', 1230: '대의', 1231: '^', 1232: '결론', 1233: '리뷰', 1234: '봤다가', 1235: '우', 1236: '매', 1237: '들어', 1238: '멋', 1239: '그래', 1240: '부족', 1241: '부족한', 1242: '유쾌한', 1243: '나와', 1244: '커플', 1245: '의리', 1246: '있다는', 1247: '박수', 1248: '마라', 1249: '드립니다', 1250: '밤', 1251: '손발', 1252: '스', 1253: '보여준', 1254: '약', 1255: '사극', 1256: '굳이', 1257: '슬픔', 1258: '할까', 1259: '문화', 1260: '있다면', 1261: '으로는', 1262: '여성', 1263: '했을', 1264: '스럽다', 1265: '발견', 1266: '포장', 1267: 'ㅇㅇ', 1268: '남는다', 1269: '보시', 1270: '같고', 1271: '광고', 1272: '짱짱', 1273: '웃김', 1274: '아침', 1275: '해라', 1276: '흐름', 1277: '과연', 1278: '어이없는', 1279: '한계', 1280: '는걸', 1281: '봅니다', 1282: '로서', 1283: '저렇게', 1284: '지도', 1285: '괴물', 1286: '범죄', 1287: '감탄', 1288: '<', 1289: '아는', 1290: '언', 1291: '어색한', 1292: '여전히', 1293: '동생', 1294: '귀여운', 1295: '무서운', 1296: '수도', 1297: '어찌', 1298: '랄', 1299: '용이', 1300: '성인', 1301: '문', 1302: '언니', 1303: '쩐다', 1304: '됩니다', 1305: '개판', 1306: '시청자', 1307: '별루', 1308: '인기', 1309: '상처', 1310: '..?', 1311: '아름답고', 1312: '심', 1313: '있네', 1314: '폭력', 1315: '유', 1316: '주기', 1317: '써', 1318: '대충', 1319: '자연', 1320: '용서', 1321: '살짝', 1322: '볼거리', 1323: '개도', 1324: '재밌었는데', 1325: '뜻', 1326: '순수한', 1327: '사는', 1328: '정서', 1329: '독특한', 1330: '진정', 1331: '몸매', 1332: '귀엽고', 1333: '느껴지는', 1334: '방', 1335: '않나', 1336: '~^^', 1337: '않을', 1338: '성도', 1339: '조폭', 1340: '그럼', 1341: '나서', 1342: '홍보', 1343: '핵', 1344: '재밌습니다', 1345: '젤', 1346: '~~~~', 1347: '일상', 1348: '보라', 1349: '덕분', 1350: '빨', 1351: '아닌듯', 1352: '재밌었음', 1353: '겁나', 1354: '있었던', 1355: '만들어진', 1356: '연애', 1357: '섹스', 1358: '지는', 1359: '삼', 1360: '스럽게', 1361: '그럭저럭', 1362: '시선', 1363: '힐링', 1364: '게이', 1365: '좋아서', 1366: '끼리', 1367: '평범한', 1368: '열심히', 1369: '있지', 1370: '있습니다', 1371: '오락', 1372: '잼있게', 1373: '쓰', 1374: '달', 1375: '눈빛', 1376: '30분', 1377: '노답', 1378: '정말로', 1379: '표절', 1380: '포기', 1381: '병', 1382: '빛', 1383: '끌', 1384: '무협', 1385: '죄', 1386: '아오', 1387: '남녀', 1388: '비극', 1389: '실감', 1390: '아름답다', 1391: '버리고', 1392: '20년', 1393: '갈', 1394: '받고', 1395: '되네요', 1396: '어제', 1397: '하루', 1398: '춤', 1399: '자유', 1400: '짜증나는', 1401: '등장인물', 1402: '하세요', 1403: '퀄리티', 1404: '해피엔딩', 1405: '신선한', 1406: '에서의', 1407: '뜬금', 1408: '들이', 1409: '없지', 1410: '쓰래', 1411: '와는', 1412: '크게', 1413: '=', 1414: '낮아서', 1415: '우정', 1416: '코드', 1417: '10분', 1418: '국민', 1419: '혹시', 1420: '남편', 1421: '풀어', 1422: '재미없네', 1423: '하니', 1424: '떨어지는', 1425: 'b', 1426: '먼', 1427: '북한', 1428: '하자', 1429: '정치', 1430: '나머지', 1431: '이기', 1432: '(?)', 1433: '보다도', 1434: '말로', 1435: '펑펑', 1436: '웃겨', 1437: '반성', 1438: '막판', 1439: '보지마', 1440: '종교', 1441: '팔', 1442: '마저', 1443: '좋게', 1444: '좋습니다', 1445: '슬프고', 1446: '홍콩', 1447: '보긴', 1448: '있어요', 1449: '가진', 1450: '없는데', 1451: '하다가', 1452: '쉽게', 1453: '가볍게', 1454: '공부', 1455: '있네요', 1456: '보아', 1457: '보러', 1458: '만으로', 1459: '자식', 1460: '표', 1461: '재미있네요', 1462: '이연걸', 1463: '않', 1464: '뮤지컬', 1465: '아깝지', 1466: '지루해서', 1467: '라지', 1468: '했습니다', 1469: '했어요', 1470: '만들고', 1471: '몰라도', 1472: '차이', 1473: '악당', 1474: '만든다', 1475: '악역', 1476: '까지는', 1477: '형편', 1478: '느와르', 1479: '많다', 1480: '게다가', 1481: '감명', 1482: '아픈', 1483: '악', 1484: '이쁘고', 1485: '암튼', 1486: '서야', 1487: '다큐멘터리', 1488: '가면', 1489: '으론', 1490: '벌써', 1491: '권', 1492: '불가', 1493: '받은', 1494: '의문', 1495: '에게는', 1496: '입장', 1497: '행복', 1498: '죽는줄', 1499: '누나', 1500: '그걸', 1501: '멋지다', 1502: '불구', 1503: '토', 1504: '하다니', 1505: '대가', 1506: '새벽', 1507: '디즈니', 1508: '고전', 1509: '이라서', 1510: '소장', 1511: '발전', 1512: '희생', 1513: '불', 1514: '좋아하는데', 1515: '예쁜', 1516: '까진', 1517: '있으면', 1518: '모르게', 1519: '높다', 1520: '그다지', 1521: '결과', 1522: '기본', 1523: '무시', 1524: '&', 1525: '둘다', 1526: '올해', 1527: '싸구려', 1528: '그린', 1529: '하여', 1530: '걸까', 1531: '에만', 1532: '제로', 1533: '오는', 1534: '인가요', 1535: '넘치는', 1536: '않지만', 1537: '기적', 1538: '드럽게', 1539: '빼고는', 1540: '비주', 1541: '동물', 1542: '오버', 1543: '좀더', 1544: '_', 1545: '웃긴', 1546: '뻔하고', 1547: '따위', 1548: '받아서', 1549: '기술', 1550: '잊혀지지', 1551: '꼴', 1552: '반복', 1553: '본방', 1554: '그렇다고', 1555: '연예인', 1556: '지구', 1557: '긴장', 1558: '호러', 1559: '외국', 1560: '흑', 1561: '아이돌', 1562: '열정', 1563: '보인다', 1564: '좋', 1565: '쩝', 1566: '백', 1567: '시사회', 1568: '쇼', 1569: '재밌네', 1570: '방식', 1571: '창', 1572: 'ㅠㅠㅠㅠ', 1573: '까지도', 1574: '과는', 1575: '언제나', 1576: '평이', 1577: '선생님', 1578: '라인', 1579: '아줌마', 1580: '러닝', 1581: '이제야', 1582: '싸움', 1583: '되서', 1584: '청소년', 1585: '맨날', 1586: '실력', 1587: '하려는', 1588: '금', 1589: '대화', 1590: '어머니', 1591: '실패', 1592: '나오면', 1593: '쫌', 1594: '글쎄', 1595: '보길', 1596: '팀', 1597: '밥', 1598: '쓰고', 1599: '에로', 1600: '아픔', 1601: '늘', 1602: '본인', 1603: '전문가', 1604: '달라', 1605: '으리', 1606: '본게', 1607: '짝', 1608: '젊은', 1609: '할말이', 1610: '이니', 1611: '즈', 1612: '무섭지도', 1613: '외모', 1614: '많고', 1615: '세기', 1616: '방금', 1617: '주기도', 1618: '필름', 1619: '꽝', 1620: '갑니다', 1621: '돌려', 1622: '과의', 1623: '한국인', 1624: '아름다', 1625: 'ㅋㅋㅋㅋㅋㅋ', 1626: '뛰어난', 1627: '찍은', 1628: '1시간', 1629: '없어요', 1630: '분노', 1631: '죄다', 1632: '떠나서', 1633: '조절', 1634: '재미있었다', 1635: '미드', 1636: '한다고', 1637: '해석', 1638: '어휴', 1639: '헐리우드', 1640: '무섭다', 1641: '견자단', 1642: '단지', 1643: '질리', 1644: '베스트', 1645: '누군가', 1646: '편의', 1647: '이미지', 1648: '가고', 1649: '왜케', 1650: '좋았던', 1651: '갈등', 1652: '학생', 1653: '시트콤', 1654: '짝퉁', 1655: '방법', 1656: '대표', 1657: '진리', 1658: '시각', 1659: '보지마라', 1660: '재미없어요', 1661: '비판', 1662: '봐요', 1663: '이었습니다', 1664: '냥', 1665: '애기', 1666: '재밋다', 1667: '극치', 1668: '하고자', 1669: '여행', 1670: '로만', 1671: '존경', 1672: '이든', 1673: '가는줄', 1674: '히어로', 1675: '김기덕', 1676: '작은', 1677: '굿굿', 1678: '성한', 1679: '본다면', 1680: '만족', 1681: '유발', 1682: '단순한', 1683: '내고', 1684: '에피소드', 1685: '로봇', 1686: '스스로', 1687: '딱히', 1688: '끼', 1689: '명품', 1690: '싶네요', 1691: '나오네', 1692: '최', 1693: '그거', 1694: '사랑스러운', 1695: '대부분', 1696: '아쉽네요', 1697: '부모', 1698: '조합', 1699: '째', 1700: '인해', 1701: '좋아해서', 1702: '푹', 1703: '쪽', 1704: '테러', 1705: '19', 1706: '쵝오', 1707: '빠진', 1708: '허세', 1709: '재미있었어요', 1710: '주말', 1711: '피해자', 1712: '????', 1713: '심장', 1714: '즐겁게', 1715: '국내', 1716: '양심', 1717: '가요', 1718: '담', 1719: '받는', 1720: '자리', 1721: '은근', 1722: '전개도', 1723: '생각나는', 1724: '개념', 1725: '기대했는데', 1726: '잔잔하고', 1727: '경험', 1728: '이자', 1729: '이정', 1730: '모르겠고', 1731: '분명', 1732: '와우', 1733: '30', 1734: '코난', 1735: '좋겠어요', 1736: '보았다', 1737: '검색', 1738: '그렇지', 1739: '개성', 1740: '과장', 1741: '탄탄한', 1742: '한데', 1743: '망', 1744: '했고', 1745: '따뜻해지는', 1746: '맥', 1747: '라이', 1748: '신분', 1749: '크', 1750: '편견', 1751: '봤더니', 1752: '훨', 1753: '연속', 1754: '개뿔', 1755: '이쁘다', 1756: '기자', 1757: '사기', 1758: '단연', 1759: '해주세요', 1760: '신선하고', 1761: '미모', 1762: '...?', 1763: '번째', 1764: '무척', 1765: '헐리웃', 1766: '안타깝다', 1767: '무언가', 1768: '의외로', 1769: '챙겨', 1770: '우와', 1771: '생활', 1772: '짜증난다', 1773: '딴', 1774: '오브', 1775: '보고나면', 1776: '외계인', 1777: '두고', 1778: '캐리', 1779: '근', 1780: '영어', 1781: '겁니다', 1782: '웃기지도', 1783: '할머니', 1784: '들었다', 1785: '경', 1786: '직접', 1787: '희', 1788: '울었다', 1789: '한참', 1790: '자살', 1791: '싸이코', 1792: '형사', 1793: '끝날', 1794: '얘', 1795: '나오지', 1796: '[', 1797: '나쁘지', 1798: '빠져', 1799: '옛', 1800: '없다는', 1801: '........', 1802: '레알', 1803: '뒷', 1804: '왠만하면', 1805: '도안', 1806: '좋지만', 1807: '봣는데', 1808: '이여', 1809: ',,,,', 1810: '전반', 1811: '묘', 1812: '어려운', 1813: '18', 1814: '만들어도', 1815: '카', 1816: '명성', 1817: '보려고', 1818: '더불어', 1819: '흔한', 1820: '먹는', 1821: '으로서', 1822: '의식', 1823: '풍경', 1824: '마이너스', 1825: '고양이', 1826: '성장', 1827: '초등학생', 1828: '보겠다', 1829: '보며', 1830: '보자', 1831: '하던', 1832: '이따위', 1833: '도전', 1834: '아내', 1835: '힘들다', 1836: '칼', 1837: '마이클', 1838: '남주', 1839: '확', 1840: '달달', 1841: '멍청한', 1842: '쩌', 1843: '점준', 1844: '싶을', 1845: '♥♥', 1846: '재밋어', 1847: '으로만', 1848: '개막', 1849: '모르겠지만', 1850: '봐야지', 1851: '했는지', 1852: '하나로', 1853: '보았습니다', 1854: '아마', 1855: '만들기', 1856: '향', 1857: '그렇다', 1858: '영혼', 1859: '쉬', 1860: '?!', 1861: ']', 1862: '아깝고', 1863: '막장드라마', 1864: '짜증나', 1865: '아아', 1866: '악마', 1867: '않을까', 1868: '야동', 1869: '주변', 1870: '이보', 1871: '무지', 1872: '가수', 1873: '신고', 1874: '카리스마', 1875: '하는건', 1876: '튼', 1877: '봤', 1878: '변화', 1879: '스럽지', 1880: '본거', 1881: '않네요', 1882: '러브', 1883: '버림', 1884: '더러운', 1885: '로써', 1886: '정의', 1887: '지루했다', 1888: '되면', 1889: '멋있다', 1890: '응원', 1891: '감히', 1892: '왠', 1893: '주성치', 1894: '비현실적', 1895: '학년', 1896: '스트레스', 1897: '행복한', 1898: '기만', 1899: '레전드', 1900: '완전히', 1901: '듣고', 1902: '답답하고', 1903: 'x', 1904: '연결', 1905: '사수', 1906: '맞지', 1907: '그려', 1908: '이도', 1909: '없', 1910: '겨우', 1911: '야하는', 1912: '빼면', 1913: '지루하게', 1914: 'ㅋㅋㅋㅋㅋㅋㅋ', 1915: '옆', 1916: '처', 1917: '끝나는', 1918: '유쾌하고', 1919: '잠깐', 1920: '시키는', 1921: '쓰는', 1922: '남아', 1923: '면서', 1924: '기준', 1925: '빈', 1926: '12', 1927: '베', 1928: '잼있어요', 1929: '에나', 1930: '설마', 1931: '다시는', 1932: '홍콩영화', 1933: '좋았지만', 1934: '없습니다', 1935: '상업', 1936: '내면', 1937: '하려고', 1938: '좋았으나', 1939: '롭고', 1940: '투자', 1941: '넘게', 1942: '형제', 1943: '각', 1944: '만해', 1945: '덜', 1946: '시청', 1947: '모르겠음', 1948: '포르노', 1949: '관점', 1950: '신경', 1951: '하길래', 1952: '하기엔', 1953: '없게', 1954: '느끼는', 1955: '으로써', 1956: '있었지만', 1957: '세번', 1958: '김', 1959: '이상은', 1960: '되는데', 1961: '세월', 1962: 'M', 1963: 'C', 1964: '니깐', 1965: '십', 1966: '특수', 1967: '칠', 1968: '등등', 1969: '참으로', 1970: '없었던', 1971: '착한', 1972: '성격', 1973: '포인트', 1974: '편도', 1975: '어린시절', 1976: ',.', 1977: '겨', 1978: '잔인한', 1979: '위대한', 1980: '압권', 1981: '야한다', 1982: '따로', 1983: '얼마', 1984: '21', 1985: '했다는', 1986: '위로', 1987: '욕망', 1988: '답답한', 1989: '느껴진다', 1990: '예쁘고', 1991: '가본', 1992: '한다면', 1993: '기회', 1994: '받을', 1995: '즐거운', 1996: '교육', 1997: '투', 1998: '전쟁영화', 1999: '크리스마스', 2000: '로그인', 2001: '우주', 2002: '우려', 2003: '리즈', 2004: '정체', 2005: '잊지', 2006: '동시', 2007: '싶은데', 2008: '007', 2009: '운명', 2010: '유치하다', 2011: '고통', 2012: '국가', 2013: '인들', 2014: '보네', 2015: '젠장', 2016: '색감', 2017: '알수', 2018: '지루할', 2019: '효', 2020: '방영', 2021: '만큼은', 2022: '잔', 2023: '예능', 2024: '했나', 2025: '빼곤', 2026: '씀', 2027: '아예', 2028: '일품', 2029: '갑', 2030: '높아', 2031: '적임', 2032: '똑같은', 2033: 'ㄱ', 2034: '변태', 2035: '시킨', 2036: '조작', 2037: '케', 2038: '이용', 2039: '생각나서', 2040: '해야지', 2041: '최강', 2042: '루', 2043: '다룬', 2044: '죽는', 2045: '이어서', 2046: '듬', 2047: '넌', 2048: 'ㅅ', 2049: '들고', 2050: '바다', 2051: '틈', 2052: '서는', 2053: '채', 2054: '수고', 2055: '흥미로운', 2056: '초등학교', 2057: '봤네', 2058: '확인', 2059: 'the', 2060: '갔다', 2061: '에로영화', 2062: '목', 2063: '몇몇', 2064: '선물', 2065: '배역', 2066: '살면서', 2067: '무술', 2068: '안습', 2069: '그럴', 2070: '괜찮은데', 2071: '사진', 2072: '흑인', 2073: '전에', 2074: '보던', 2075: '캐', 2076: '갓', 2077: '정신병', 2078: '재밌다고', 2079: '부모님', 2080: '풍자', 2081: '냄새', 2082: '설득', 2083: 'DVD', 2084: '만들다니', 2085: '깨', 2086: '데리', 2087: '린', 2088: '이었음', 2089: '좋을', 2090: '내생', 2091: '워', 2092: '이래서', 2093: '망한', 2094: '결정', 2095: '봤을까', 2096: '공포물', 2097: '감안', 2098: '했으나', 2099: '탓', 2100: '잼있다', 2101: '최초', 2102: '그건', 2103: '공짜', 2104: '미가', 2105: '끔', 2106: '근래', 2107: '관련', 2108: '어울리는', 2109: '옷', 2110: '봤는데도', 2111: '떨어진다', 2112: '영원히', 2113: '감흥', 2114: '낮지', 2115: '바랍니다', 2116: '이쁜', 2117: '만남', 2118: '꼬마', 2119: '시점', 2120: '거짓말', 2121: '있었는데', 2122: '지나치게', 2123: '놓고', 2124: '대본', 2125: '갠', 2126: '보여준다', 2127: '오랫', 2128: '녀', 2129: '거나', 2130: '비밀', 2131: '용기', 2132: ';;;;', 2133: '의심', 2134: '파', 2135: '깜짝', 2136: '부부', 2137: '덕', 2138: '하긴', 2139: 'ㄷㄷㄷ', 2140: '재미없게', 2141: '케릭', 2142: '보통', 2143: '영국', 2144: '패', 2145: '진부하고', 2146: '해결', 2147: '드림', 2148: '아래', 2149: '치는', 2150: '성은', 2151: '박', 2152: '자주', 2153: '색다른', 2154: '많아서', 2155: '대중', 2156: '부족하다', 2157: '낮다', 2158: '5분', 2159: '재미있습니다', 2160: '톰', 2161: '껏', 2162: '영화계', 2163: '여러가지', 2164: '잇는', 2165: '첫사랑', 2166: '단어', 2167: '번은', 2168: '같', 2169: '하겠다', 2170: '아동', 2171: '심하게', 2172: 'ㅉㅉㅉ', 2173: '명화', 2174: '스크린', 2175: '달리', 2176: 'ㅠㅜ', 2177: '전율', 2178: '본적', 2179: '땅', 2180: '가득', 2181: '셈', 2182: '았', 2183: '여러분', 2184: '만을', 2185: '스런', 2186: '트', 2187: '깨닫게', 2188: '버리는', 2189: '빵점', 2190: '물이', 2191: 'X', 2192: '있구나', 2193: '던데', 2194: '상태', 2195: '찾아', 2196: '하지마라', 2197: '디', 2198: '할듯', 2199: '있는지', 2200: '감각', 2201: '브루스', 2202: '만은', 2203: '한심한', 2204: '갖고', 2205: '둘째', 2206: '아닙니다', 2207: '와의', 2208: '훈훈한', 2209: '연인', 2210: '중요한', 2211: '않아서', 2212: '만들면', 2213: '하는것', 2214: '됐다', 2215: '신의', 2216: '알겠는데', 2217: '가족영화', 2218: '높게', 2219: '소년', 2220: '유명한', 2221: '두번째', 2222: '안타까운', 2223: '아역', 2224: '골', 2225: '짜증나서', 2226: '많은데', 2227: '탄생', 2228: '잔뜩', 2229: '선동', 2230: '목적', 2231: '낮게', 2232: '심지어', 2233: '이쁨', 2234: '떨어지고', 2235: '줍니다', 2236: '재밌', 2237: '매니아', 2238: '쥐', 2239: '만들었는지', 2240: '삭제', 2241: '기를', 2242: '줘', 2243: '사상', 2244: '명의', 2245: '15', 2246: '작위', 2247: '야한', 2248: '기법', 2249: '훌륭하다', 2250: '야구', 2251: '하나같이', 2252: '잼나게', 2253: '장가', 2254: '20분', 2255: '빵빵', 2256: '통', 2257: '점줌', 2258: '폐지', 2259: '소소한', 2260: '결코', 2261: '려고', 2262: 'A', 2263: '한숨', 2264: '마시길', 2265: 'sf', 2266: '풍', 2267: '였던', 2268: '짜임새', 2269: '집착', 2270: '철', 2271: '잊을', 2272: '이상하게', 2273: '이따', 2274: '이런건', 2275: '시기', 2276: '빌려', 2277: '애가', 2278: '할아버지', 2279: '탑', 2280: '났다', 2281: '70년', 2282: '느낀', 2283: '종영', 2284: '좋겠네요', 2285: '낮네', 2286: '본듯', 2287: '패러디', 2288: '배우도', 2289: '재밌던데', 2290: '제외', 2291: '말고는', 2292: '금보', 2293: '11', 2294: '감정이입', 2295: '곡', 2296: '했을까', 2297: '같지', 2298: '목숨', 2299: '느꼈다', 2300: '후속작', 2301: '메', 2302: '기독교', 2303: '값', 2304: '열연', 2305: '아쉽지만', 2306: '아까웠다', 2307: '뇌', 2308: '마리', 2309: '어설프고', 2310: '따뜻하고', 2311: '뭐라', 2312: '낫', 2313: '..;;', 2314: '무서움', 2315: '죽여', 2316: '틱', 2317: '아무런', 2318: '죽은', 2319: '다양한', 2320: '봤다면', 2321: '욕심', 2322: '보구', 2323: '읽어', 2324: '오래전', 2325: '많은걸', 2326: '무료', 2327: '포스', 2328: '어쩜', 2329: '보여주고', 2330: '있', 2331: '거부', 2332: '보여', 2333: '본지', 2334: '하늘', 2335: '타고', 2336: '시켜', 2337: '중독', 2338: '그만큼', 2339: '식상한', 2340: '재난영화', 2341: 'ㅎㅎㅎㅎ', 2342: '본건데', 2343: '신파', 2344: '없었음', 2345: '맞아', 2346: '기는', 2347: '대놓고', 2348: '짜증남', 2349: '틀', 2350: '모양', 2351: '모험', 2352: '아이디어', 2353: '아깝네', 2354: '한개', 2355: '했네', 2356: '정작', 2357: '밋', 2358: '아까울', 2359: '느낄수', 2360: '무섭고', 2361: '유치함', 2362: '승리', 2363: '팔이', 2364: '아기', 2365: ':)', 2366: '이었어요', 2367: '있던', 2368: '이만', 2369: '혹은', 2370: '호', 2371: '웃고', 2372: '태어나서', 2373: '볼려고', 2374: '구나', 2375: '잼있음', 2376: '필요한', 2377: '담배', 2378: '울컥', 2379: '블록버스터', 2380: '라이언', 2381: '없으면', 2382: '주제가', 2383: '마이', 2384: '!!!!!', 2385: '없다고', 2386: '오래된', 2387: '지나도', 2388: '이상하고', 2389: '버전', 2390: '낚였다', 2391: '귀여워', 2392: '보신', 2393: '볼수있는', 2394: '추리', 2395: '배우는', 2396: '사고', 2397: '찾기', 2398: '성하고', 2399: '아니야', 2400: '여름', 2401: '가정', 2402: '구리', 2403: '탈', 2404: '였지만', 2405: '재미없었다', 2406: '소중한', 2407: '재밌어서', 2408: '천', 2409: '같지만', 2410: 'ㅁ', 2411: '장국영', 2412: '수많은', 2413: '강한', 2414: '클레멘타인', 2415: '높아서', 2416: '져', 2417: '탄', 2418: '싶어요', 2419: '재능', 2420: '여태', 2421: '적이네요', 2422: '싶지', 2423: '이긴', 2424: 'I', 2425: '호구', 2426: '어색하고', 2427: '배경음악', 2428: '하아', 2429: '당연히', 2430: '.^^', 2431: '요리', 2432: '이었던', 2433: '최대', 2434: '린다', 2435: '자고', 2436: '재미없어서', 2437: '조카', 2438: '맞고', 2439: '케빈', 2440: '색', 2441: '..^^', 2442: '남네요', 2443: '지경', 2444: '낚시', 2445: '보다니', 2446: '성공', 2447: 'ㅋㅋㅋㅋㅋㅋㅋㅋ', 2448: '길게', 2449: '할말', 2450: '로코', 2451: '졸', 2452: '하시는', 2453: '유일하게', 2454: '아니라고', 2455: '아프다', 2456: '틴', 2457: '저리', 2458: '로버트', 2459: '대통령', 2460: '나왔다', 2461: '보이지', 2462: '절정', 2463: '억지스러운', 2464: '흥', 2465: '같네', 2466: '가능한', 2467: '참나', 2468: '뭥미', 2469: '있어야', 2470: '깍', 2471: '잡', 2472: '공간', 2473: '치곤', 2474: '앞뒤', 2475: '했다고', 2476: '다섯', 2477: '빵', 2478: '플롯', 2479: '대신', 2480: '사투리', 2481: '파괴', 2482: '터미네이터', 2483: '아냐', 2484: '없냐', 2485: '해준다', 2486: '고등학교', 2487: '재밋음', 2488: '매일', 2489: '했네요', 2490: '습', 2491: '교과서', 2492: '조니뎁', 2493: '들은', 2494: '적어도', 2495: '안감', 2496: '먼가', 2497: '~!!!', 2498: '어처구니', 2499: '바탕', 2500: '짧은', 2501: '임팩트', 2502: '인지도', 2503: '부터가', 2504: '졸리', 2505: '따름', 2506: '돼지', 2507: '일본인', 2508: '괜찮음', 2509: '만약', 2510: '제이슨', 2511: '된거', 2512: '없나요', 2513: '배트맨', 2514: '또다른', 2515: '링', 2516: '쓸', 2517: '웃', 2518: '발상', 2519: '과학', 2520: '잤다', 2521: '유덕화', 2522: '심형래', 2523: '이어', 2524: '어쩌', 2525: '이소룡', 2526: '적당히', 2527: '모를', 2528: '왔다', 2529: '절', 2530: '중심', 2531: '꼬', 2532: '조화', 2533: '마냥', 2534: '있다니', 2535: '있냐', 2536: '하품', 2537: '착각', 2538: '잠시', 2539: '그립다', 2540: '뱀파이어', 2541: '캬', 2542: '일부러', 2543: '사운드', 2544: '중학교', 2545: '남은', 2546: '화의', 2547: '귀엽다', 2548: '잡고', 2549: '쿡', 2550: '너무도', 2551: '숨겨진', 2552: '탈출', 2553: '모르겠네요', 2554: '레', 2555: '없는게', 2556: '인터넷', 2557: '그야말로', 2558: '논', 2559: '아니지', 2560: '디워', 2561: '하도', 2562: '예쁘다', 2563: '나은', 2564: '에게도', 2565: '단순히', 2566: '걱정', 2567: '울면', 2568: '이군', 2569: '불쌍하다', 2570: '알았음', 2571: '봤지', 2572: '반대', 2573: '베리', 2574: '돋보이는', 2575: '.........', 2576: '놀랍다', 2577: '좋아할', 2578: '토록', 2579: '아름답게', 2580: '이뻐서', 2581: '동성애', 2582: '여친', 2583: '와서', 2584: '♥♥♥', 2585: '숨', 2586: '나고', 2587: '영화제', 2588: '상실', 2589: '같았다', 2590: '참신한', 2591: '가득한', 2592: '몰랐다', 2593: '센스', 2594: '@', 2595: '현대', 2596: '만드', 2597: '주지', 2598: '남겨', 2599: '고딩', 2600: '앤', 2601: '보는듯', 2602: 'ㅈ', 2603: '나네요', 2604: 'ㄴ', 2605: '있다고', 2606: '떠나', 2607: '30년', 2608: '13', 2609: '짜증나고', 2610: '정이', 2611: '베드', 2612: '메이드', 2613: '도에', 2614: '쓸데없이', 2615: '끌어', 2616: '해리포터', 2617: '웃으면서', 2618: '재밌다는', 2619: '보았는데', 2620: '단순', 2621: '제니퍼', 2622: '가벼운', 2623: '우뢰매', 2624: '인내심', 2625: '실수', 2626: '겉', 2627: '그동안', 2628: '유일한', 2629: '떨어짐', 2630: '버려', 2631: '컨셉', 2632: '능', 2633: '보소', 2634: 'dvd', 2635: '않은데', 2636: '재미나', 2637: 'ㄷ', 2638: '부작', 2639: '도움', 2640: '레이', 2641: '될듯', 2642: '음식', 2643: '인형', 2644: '이었는데', 2645: '손색', 2646: '연극', 2647: '응', 2648: '꽃', 2649: '아깝네요', 2650: '나가는', 2651: '던', 2652: 'ㅣ', 2653: '무서워', 2654: '어디가', 2655: '말투', 2656: '할만', 2657: '여자애', 2658: '천국', 2659: '치고는', 2660: '불쌍한', 2661: 'ㅉ', 2662: '보셈', 2663: '상어', 2664: '류작', 2665: '좋다고', 2666: '난리', 2667: '않았지만', 2668: '선정', 2669: '궁금하다', 2670: '나오는데', 2671: '거장', 2672: '에다', 2673: '무기', 2674: '인도', 2675: '끼워', 2676: '//', 2677: '다신', 2678: '멋지고', 2679: '주윤발', 2680: '네티즌', 2681: '해주고', 2682: '이전', 2683: '끝난', 2684: '허허', 2685: '웬', 2686: '잭', 2687: '성의', 2688: '신은', 2689: '폴', 2690: '특별한', 2691: '당황', 2692: '애초', 2693: '재미없', 2694: '의사', 2695: '찍고', 2696: '싶어', 2697: '다리', 2698: '준비', 2699: '평균', 2700: '살린', 2701: '박진', 2702: '아까워서', 2703: '무대', 2704: '만화책', 2705: '괜찮았다', 2706: '의상', 2707: '계기', 2708: '다르게', 2709: '반드시', 2710: '재미없다고', 2711: '야함', 2712: '슴', 2713: '여자친구', 2714: '단체', 2715: '괜찮다', 2716: '운', 2717: '살인마', 2718: '제임스', 2719: '대결', 2720: '--', 2721: '괜찮고', 2722: '분량', 2723: '리얼리티', 2724: '논리', 2725: '임창정', 2726: '폭발', 2727: '아무튼', 2728: '하이', 2729: '하던데', 2730: '수입', 2731: '에이', 2732: '판단', 2733: '블랙', 2734: '호기심', 2735: '하지원', 2736: '40', 2737: '생각난다', 2738: '했더니', 2739: '발음', 2740: '100%', 2741: '감사', 2742: '궁금해서', 2743: '박중훈', 2744: '좋지', 2745: '보는거', 2746: '죽고', 2747: '괜찮았는데', 2748: '겨울', 2749: '들어서', 2750: '포', 2751: '홍상수', 2752: '론', 2753: '유럽', 2754: '잖아', 2755: '기존', 2756: '혐오', 2757: '의지', 2758: '화란', 2759: '따듯', 2760: '컴퓨터', 2761: '어거지', 2762: '어색', 2763: '2014년', 2764: '보임', 2765: '갔는데', 2766: '겁', 2767: '살아가는', 2768: '빨갱이', 2769: '민폐', 2770: '영화감독', 2771: '김치', 2772: '션', 2773: '키드', 2774: '첨부', 2775: '여인', 2776: '하정우', 2777: '과도', 2778: '무난', 2779: '되나', 2780: '스럽고', 2781: '명대사', 2782: '낮아', 2783: '무게', 2784: '만들었을까', 2785: '정보', 2786: '각색', 2787: '남성', 2788: '키스', 2789: '보네요', 2790: '도무지', 2791: '압도', 2792: '루즈', 2793: '흐르는', 2794: '끝내', 2795: '출신', 2796: '아깝', 2797: 'ㅏ', 2798: '체적', 2799: '읽고', 2800: '강렬한', 2801: '진수', 2802: '차원', 2803: '자동차', 2804: '인류', 2805: '..........', 2806: '배신', 2807: '불편한', 2808: '등록', 2809: '잔잔하게', 2810: '및', 2811: '많아', 2812: '마음속', 2813: '손가락', 2814: '시키지', 2815: '비중', 2816: '필', 2817: '듭니', 2818: '전투', 2819: '일반', 2820: '아놀드', 2821: '개콘', 2822: '니콜', 2823: '지겹다', 2824: '나레이션', 2825: '적은', 2826: '친', 2827: '하러', 2828: '죽이는', 2829: '이니까', 2830: '영향', 2831: '뭐임', 2832: '신인', 2833: '대사도', 2834: '황당한', 2835: '환경', 2836: '영원한', 2837: '할수가', 2838: '에다가', 2839: '동영상', 2840: '데뷔', 2841: '극복', 2842: '때려', 2843: '했다면', 2844: '스포', 2845: '길이', 2846: '개그맨', 2847: '드디어', 2848: '빠른', 2849: '요새', 2850: '였고', 2851: '만도', 2852: '피해', 2853: '누군지', 2854: '옴', 2855: '화일', 2856: '동심', 2857: '?...', 2858: '생긴', 2859: '러시아', 2860: '웰', 2861: '찬', 2862: '쓸데없는', 2863: 'ㅋㅋㅋㅋㅋㅋㅋㅋㅋ', 2864: '역사상', 2865: '끝나', 2866: '별하나', 2867: '다세포', 2868: '이를', 2869: '축구', 2870: '울리는', 2871: '좋을듯', 2872: '만들어서', 2873: '리지', 2874: '게스트', 2875: '최소한', 2876: '단점', 2877: '극단', 2878: '열자', 2879: '스티븐', 2880: '어쩌면', 2881: '내일', 2882: '범죄자', 2883: '.,', 2884: '이병헌', 2885: '윌리스', 2886: '어렵다', 2887: '황당', 2888: '적절한', 2889: '재미있는데', 2890: '아치', 2891: '고뇌', 2892: '몽환', 2893: '강력', 2894: '할거', 2895: '부정', 2896: '할리우드', 2897: '않아요', 2898: '컷', 2899: '최고봉', 2900: '마약', 2901: '탄탄하고', 2902: '듣기', 2903: '거품', 2904: '재미있었음', 2905: '알겠다', 2906: '흡입', 2907: '성적', 2908: '찾아서', 2909: '했어', 2910: '한국판', 2911: 'ㅄ', 2912: '그렇지만', 2913: 'of', 2914: '와도', 2915: '하고는', 2916: '놀라운', 2917: '추', 2918: '사용', 2919: '곧', 2920: '무한', 2921: '빛나는', 2922: '죽어', 2923: '코메디', 2924: '경우', 2925: '소중함을', 2926: '파리', 2927: '정우성', 2928: '오프닝', 2929: '싸우는', 2930: 'a', 2931: '실험', 2932: '잇', 2933: '염', 2934: '온다', 2935: '인게', 2936: 'd', 2937: '즐겨', 2938: '담아', 2939: '때매', 2940: '찾는', 2941: '왜곡', 2942: '좋았을', 2943: '평소', 2944: '게뭐', 2945: '봤고', 2946: '깡패', 2947: '절망', 2948: '리가', 2949: '샘', 2950: '..!', 2951: '도데', 2952: '않았던', 2953: '좋아하지만', 2954: '끝나서', 2955: '재미있었습니다', 2956: '나오네요', 2957: '만들어라', 2958: '널', 2959: '송강호', 2960: '버튼', 2961: '빠져서', 2962: '보고있어요', 2963: '왔습니다', 2964: '쩔어', 2965: '알았네', 2966: '힘들', 2967: '공룡', 2968: '뻔했다', 2969: '향수', 2970: '콩', 2971: '무리', 2972: '명복', 2973: '최소', 2974: '다르다', 2975: '장점', 2976: '쉽지', 2977: '놀랐다', 2978: '필요없음', 2979: '진지하게', 2980: '중년', 2981: '이해도', 2982: '전하', 2983: '슈퍼', 2984: '담긴', 2985: '글자', 2986: '감도', 2987: '아닌것', 2988: '판이', 2989: '킬링', 2990: '여신', 2991: '왔는데', 2992: '하자는', 2993: '역량', 2994: '폭풍', 2995: '괜찮게', 2996: '만화영화', 2997: '배급사', 2998: '깨알', 2999: '범', 3000: '군인', 3001: '먹은', 3002: '이구나', 3003: '나간', 3004: '흉내', 3005: '하길', 3006: '라스트', 3007: '치유', 3008: '졸업', 3009: '서부', 3010: 'Good', 3011: '`', 3012: '독일', 3013: '완벽', 3014: '멋있는', 3015: '1년', 3016: '미스', 3017: '드니', 3018: '겉멋', 3019: '우연', 3020: '풋풋한', 3021: '매미', 3022: '우선', 3023: '잉', 3024: '잊을수', 3025: '유치해서', 3026: '할지', 3027: '부인', 3028: '씹', 3029: '밖', 3030: 'T', 3031: 'ㅎㄷㄷ', 3032: '담은', 3033: '볼거', 3034: '느껴', 3035: '버', 3036: '왤케', 3037: '왠만한', 3038: '선생', 3039: '커', 3040: '영화사', 3041: '극적', 3042: '내게', 3043: '지옥', 3044: '화장실', 3045: '거지같은', 3046: '봤는지', 3047: '앙', 3048: '에서만', 3049: '파격', 3050: '방해', 3051: '라기', 3052: '바닥', 3053: '보고있는데', 3054: '나루토', 3055: '보느니', 3056: '액션씬', 3057: '정부', 3058: '뭐라고', 3059: '하기도', 3060: '아만다', 3061: '낮네요', 3062: '멍', 3063: '절대로', 3064: '케이', 3065: '직업', 3066: '한순간', 3067: '진지한', 3068: '상대', 3069: '중딩', 3070: '유지', 3071: '향연', 3072: '돋는', 3073: '보고싶은데', 3074: '처리', 3075: '재미있어', 3076: '했었는데', 3077: '캐릭', 3078: '류승범', 3079: '서도', 3080: '모르지만', 3081: '멋있고', 3082: '알려', 3083: '거짓', 3084: '도시', 3085: '절로', 3086: '에가', 3087: '쭉', 3088: '든지', 3089: '아프고', 3090: '없던', 3091: '아오이', 3092: '한가지', 3093: '존스', 3094: '단편', 3095: '부족함', 3096: 'you', 3097: '서울', 3098: '비호감', 3099: '분장', 3100: '어이없다', 3101: '동네', 3102: '그대', 3103: '귀여워요', 3104: '1회', 3105: '정상', 3106: '미도', 3107: '싶어서', 3108: '언젠가', 3109: '가히', 3110: '미녀', 3111: '위트', 3112: '중국영화', 3113: '생명', 3114: '녀석', 3115: '만들었나', 3116: '봤나', 3117: '2년', 3118: '찬양', 3119: '놀이', 3120: '안해', 3121: '됐는데', 3122: '속지', 3123: '뜬금없이', 3124: '좋았을텐데', 3125: '이구만', 3126: '했', 3127: '에서나', 3128: '했지', 3129: '산만하고', 3130: '년전', 3131: '뒤죽박죽', 3132: '하라', 3133: '부로', 3134: '만큼이나', 3135: '괜찮았음', 3136: '노인', 3137: '똑같이', 3138: '하는듯', 3139: '땀', 3140: '넘어', 3141: '별거', 3142: '무거운', 3143: '본것', 3144: '절제', 3145: '도중', 3146: '비행기', 3147: '아쉽', 3148: '매번', 3149: '해보게', 3150: '아쉬워요', 3151: '하나님', 3152: '맡은', 3153: '유쾌하게', 3154: '대에', 3155: '순위', 3156: 'ㅜㅠ', 3157: '멋짐', 3158: '정리', 3159: '소화', 3160: '좋네', 3161: '낭만', 3162: '부활', 3163: '광구', 3164: '소통', 3165: '배꼽', 3166: '순수하고', 3167: '추합니다', 3168: '하려', 3169: '되었습니다', 3170: '교회', 3171: '만세', 3172: '높지', 3173: '있었으면', 3174: '좋겠습니다', 3175: '명불허전', 3176: '엄청나게', 3177: '신하균', 3178: '재난', 3179: '무재', 3180: '알파', 3181: '인걸', 3182: '한심하다', 3183: '울었어요', 3184: '인듯', 3185: '강동원', 3186: '공유', 3187: '짜증나게', 3188: '줘도', 3189: '식이', 3190: '허무한', 3191: '이별', 3192: '권력', 3193: '지나', 3194: '무간도', 3195: '원숭이', 3196: '느끼고', 3197: '일듯', 3198: '세대', 3199: '일지', 3200: '들게', 3201: '★', 3202: '잊고', 3203: '있었고', 3204: '년도', 3205: '이안', 3206: '의외', 3207: '드문', 3208: '많네', 3209: '예측', 3210: '전성기', 3211: '본질', 3212: '나을듯', 3213: '가능성', 3214: '갖다', 3215: '잔인함', 3216: '오글거리는', 3217: '답답하다', 3218: '괜찮네요', 3219: '쓰지', 3220: 'EBS', 3221: '칭찬', 3222: '빠', 3223: '백인', 3224: '잊지못', 3225: '받았다', 3226: '회사', 3227: '어이없음', 3228: '랑은', 3229: '된다는', 3230: '중학생', 3231: '말씀', 3232: '오글오글', 3233: '각자', 3234: '쌍', 3235: '박보영', 3236: '1등', 3237: '보고싶어요', 3238: '구만', 3239: '추가', 3240: '고증', 3241: '소개', 3242: '강간', 3243: '쟁이', 3244: '다해', 3245: '변신', 3246: '명연기', 3247: '대부', 3248: '2000년', 3249: '짬뽕', 3250: '닥', 3251: '90분', 3252: '15년', 3253: '다는', 3254: '석', 3255: '믿음', 3256: '부는', 3257: '제작자', 3258: '모른다', 3259: '모로', 3260: '기획', 3261: '보나', 3262: '부탁', 3263: '만든거', 3264: '광기', 3265: '형식', 3266: '수록', 3267: '비록', 3268: '몰라', 3269: '역겨운', 3270: '문득', 3271: '50', 3272: '진한', 3273: '치노', 3274: 'ㅈㄴ', 3275: '멋져요', 3276: '싶었다', 3277: '무어', 3278: '찌질', 3279: '망친', 3280: '낮은지', 3281: '연습', 3282: '솔', 3283: '어떻', 3284: '~~^^', 3285: '로움', 3286: '피아노', 3287: '기대하지', 3288: '두운', 3289: '아무나', 3290: '밀', 3291: '줄수', 3292: '블랙코미디', 3293: '흔', 3294: '쯧쯧', 3295: '이기도', 3296: '아마추어', 3297: '이상해', 3298: '모르겠네', 3299: '준것', 3300: '커버', 3301: '엽기', 3302: '일주일', 3303: '낼', 3304: '나음', 3305: '난무', 3306: '타란티노', 3307: '어울리지', 3308: '가나', 3309: '과대', 3310: '고인', 3311: '빕니다', 3312: '본능', 3313: '장애인', 3314: '부산', 3315: '되었는데', 3316: '선사', 3317: '합', 3318: '워낙', 3319: '스파이더맨', 3320: '반응', 3321: '뎅', 3322: '하지도', 3323: '까지만', 3324: '나무', 3325: '베일', 3326: '시종일관', 3327: '보았던', 3328: '잃은', 3329: '없는듯', 3330: '한지', 3331: '속이', 3332: '보는것', 3333: '권상우', 3334: '웃겨서', 3335: '미학', 3336: '디카프리오', 3337: '섬세한', 3338: '줬다', 3339: '하면서도', 3340: '스타워즈', 3341: '놀란', 3342: '선수', 3343: '어설프다', 3344: '가야', 3345: '징', 3346: '스필버그', 3347: '국어', 3348: '즐거움', 3349: '보고나니', 3350: '싶습니다', 3351: '아이유', 3352: '답답', 3353: '재밌었던', 3354: '싸', 3355: '낫겠다', 3356: '미스터리', 3357: '?..', 3358: '애정', 3359: '사랑스럽고', 3360: '닥치고', 3361: '아누', 3362: '출연자', 3363: '상식', 3364: '조선', 3365: '싫어', 3366: '아니잖아', 3367: '유치해', 3368: '호불호', 3369: '만들수', 3370: '찍는', 3371: '않습니다', 3372: '멜로영화', 3373: '나게', 3374: '최후', 3375: '늦게', 3376: '티나', 3377: '디테일', 3378: '고문', 3379: '국', 3380: '낮', 3381: '상이', 3382: '구로', 3383: '도둑', 3384: '아닌가요', 3385: '떡', 3386: '맞음', 3387: '유아', 3388: '너희', 3389: '냈다', 3390: '필요한가', 3391: '아니었다', 3392: '가까운', 3393: '슈퍼맨', 3394: '멋지게', 3395: '설', 3396: '살이', 3397: '남자배우', 3398: '뎀', 3399: '풀', 3400: '부터는', 3401: '하시길', 3402: '민족', 3403: '재미없네요', 3404: '리암', 3405: '재미있었는데', 3406: '오로지', 3407: '커서', 3408: '혁명', 3409: '구분', 3410: '레옹', 3411: '심사', 3412: '반영', 3413: '느껴졌다', 3414: '찬사', 3415: '역겹다', 3416: '다시금', 3417: '연관', 3418: '우린', 3419: '잼있네요', 3420: '연상', 3421: '맞나', 3422: '본격', 3423: '아닌거', 3424: '호흡', 3425: '개는', 3426: '돋는다', 3427: '감은', 3428: '페이크', 3429: '행복하게', 3430: '좋으나', 3431: '빠지게', 3432: '작화', 3433: '케미', 3434: '주세요', 3435: '산다', 3436: '뭐랄까', 3437: '명장', 3438: '살려', 3439: '홀로', 3440: '웃기는', 3441: '클', 3442: '가라', 3443: '웃었다', 3444: '순수', 3445: '외국인', 3446: '국산', 3447: '데이빗', 3448: '할수있는', 3449: '간지', 3450: '특집', 3451: '안되', 3452: '강아지', 3453: '봤다는', 3454: '덩어리', 3455: '만드냐', 3456: '안타까', 3457: '트리', 3458: '상징', 3459: '다른사람', 3460: '일반인', 3461: '정점', 3462: '...^^', 3463: '적당한', 3464: '초월', 3465: '있으나', 3466: '돌', 3467: '나면', 3468: '사랑스럽다', 3469: '심하다', 3470: '엄정화', 3471: '허나', 3472: '올레', 3473: '주고싶다', 3474: '마저도', 3475: '차승원', 3476: '너무하네', 3477: '능가', 3478: '무섭게', 3479: '당장', 3480: '리도', 3481: '객관', 3482: '싫은', 3483: '신화', 3484: '로빈', 3485: '섬', 3486: '화질', 3487: '40분', 3488: '가게', 3489: '맞추기', 3490: '남친', 3491: '공주', 3492: '성과', 3493: 's', 3494: '되어서', 3495: '진창', 3496: '없어도', 3497: '한석규', 3498: '무섭지', 3499: '끝남', 3500: '쏘우', 3501: '고독', 3502: '믿을', 3503: '적당', 3504: '대단', 3505: '깔끔한', 3506: '마찬가지', 3507: '남는게', 3508: '나왔음', 3509: '스텝', 3510: '업', 3511: '할것', 3512: '실', 3513: '쓰는데', 3514: '아우', 3515: '니콜라스', 3516: '보고싶네요', 3517: '4.44', 3518: '하신', 3519: '스릴러물', 3520: '가까이', 3521: '비쥬', 3522: '킬러', 3523: '가짜', 3524: 'ㅂ', 3525: '머냐', 3526: '짜집기', 3527: '독특하고', 3528: '만들었냐', 3529: '않았음', 3530: '버리지', 3531: '스포츠', 3532: '시키고', 3533: '아바타', 3534: '수면제', 3535: '화중', 3536: '클래식', 3537: '뭣', 3538: '하는것도', 3539: '인권', 3540: '없었는데', 3541: '보려', 3542: '안되네', 3543: '아깝습니다', 3544: '아담', 3545: '거임', 3546: '메이', 3547: '이었고', 3548: '클라라', 3549: '포드', 3550: 'ㅜㅜㅜ', 3551: '...........', 3552: '빠순이', 3553: '첨으로', 3554: '해지', 3555: '행', 3556: '시체', 3557: '된게', 3558: '되길', 3559: '하지마', 3560: '이러지', 3561: '잡는', 3562: '미스캐스팅', 3563: '원조', 3564: '찍어', 3565: '장진', 3566: '봤어', 3567: '대는', 3568: '꿀', 3569: '위주', 3570: '조잡한', 3571: 'ㅋㅋㅋㅋㅋㅋㅋㅋㅋㅋ', 3572: '인식', 3573: '다이하드', 3574: '믿기지', 3575: '나로', 3576: '사람과', 3577: '지식', 3578: '눈치', 3579: '나올까', 3580: '고등학생', 3581: '볼라', 3582: '!!!!!!', 3583: '리기', 3584: '이드', 3585: '드네', 3586: '흑백', 3587: '터짐', 3588: '미안하다', 3589: '->', 3590: '아쉬울', 3591: '김희선', 3592: '깜놀', 3593: '허무', 3594: '기전', 3595: '떄', 3596: '우드', 3597: '전문', 3598: '하지말고', 3599: '혼란', 3600: '이상하다', 3601: '느껴지지', 3602: '슨', 3603: '택시', 3604: '역작', 3605: '포함', 3606: '장소', 3607: '미달', 3608: '충분한', 3609: '영구', 3610: '~~!!', 3611: 'bb', 3612: '난해한', 3613: '해줘서', 3614: '김수현', 3615: '아니라면', 3616: '사과', 3617: '돌아', 3618: '멋져', 3619: 'is', 3620: '싫어하는', 3621: '잇어요', 3622: '검사', 3623: '미스테리', 3624: '않네', 3625: '맞다', 3626: '납득', 3627: '망할', 3628: '일부', 3629: '...!', 3630: '돌아보게', 3631: '있겠지만', 3632: '천사', 3633: '에바', 3634: '오직', 3635: '당하는', 3636: '벨', 3637: '지지', 3638: 'bad', 3639: '였지', 3640: '인연', 3641: '다니는', 3642: '동감', 3643: '왕조현', 3644: '한효주', 3645: '맙시', 3646: '보는줄', 3647: '테이큰', 3648: '당할', 3649: '관리', 3650: '구조', 3651: '주가', 3652: '공연', 3653: '태국', 3654: '들지', 3655: '스펙', 3656: '유치원', 3657: '망치', 3658: '재앙', 3659: '로맨틱코미디', 3660: '마누라', 3661: '웃겼다', 3662: '한동안', 3663: '싸이코패스', 3664: '놓은', 3665: '터지는', 3666: '힘들었다', 3667: '모욕', 3668: '세계관', 3669: '되어야', 3670: '하기에는', 3671: '아까워요', 3672: '시험', 3673: '목사', 3674: '짱짱맨', 3675: '넘치고', 3676: '주인', 3677: '외면', 3678: '데이', 3679: '세트', 3680: '농담', 3681: '껐다', 3682: '온갖', 3683: '않아도', 3684: '섹시', 3685: '뉴스', 3686: '해본', 3687: '옥', 3688: '만난', 3689: '했다가', 3690: '잇다', 3691: '떡밥', 3692: '납니다', 3693: '소름끼치는', 3694: '알바생', 3695: '뜨', 3696: '파워', 3697: '뻔하다', 3698: '우는', 3699: '하기가', 3700: '볼까', 3701: '찍', 3702: '청년', 3703: '넹', 3704: '마블', 3705: '머릿속', 3706: '질문', 3707: '같다는', 3708: '.\"', 3709: '있는듯', 3710: '음향', 3711: '거듭', 3712: '스러', 3713: '승부', 3714: 'ㅋㅋㅋㅋㅋㅋㅋㅋㅋㅋㅋ', 3715: '픽사', 3716: '좋더라', 3717: '기발한', 3718: '좋아하네요', 3719: '폼', 3720: '난후', 3721: '만들었으면', 3722: '될것', 3723: '예고', 3724: '롱', 3725: '어울림', 3726: '성형', 3727: '애니매이션', 3728: '엔딩크레딧', 3729: '있었음', 3730: '조지', 3731: '어쨌든', 3732: '톤', 3733: '에로물', 3734: '볼것', 3735: '기억나는', 3736: '타인', 3737: '억지스럽고', 3738: '안될', 3739: '주위', 3740: '소품', 3741: '김혜수', 3742: '어차피', 3743: '였어', 3744: '로운', 3745: '참여', 3746: '만들었네', 3747: '하는구나', 3748: '시골', 3749: '해놓고', 3750: '저희', 3751: '어째', 3752: '3시간', 3753: '뻔함', 3754: '마을', 3755: '-_-;;', 3756: '바란다', 3757: '누님', 3758: '라스', 3759: '짱구', 3760: '신부', 3761: '느낀다', 3762: '미치는', 3763: '차별', 3764: '렉', 3765: '좋아하시는', 3766: '학살', 3767: '대역', 3768: '닷', 3769: '스콧', 3770: '슬프네요', 3771: '완벽하다', 3772: '하시고', 3773: '완벽하게', 3774: '기사', 3775: '여지', 3776: '헉', 3777: '살때', 3778: '애인', 3779: '^-^', 3780: '아련한', 3781: '색채', 3782: '장애', 3783: '최민수', 3784: '반감', 3785: '만화가', 3786: '있는가', 3787: '유혹', 3788: '싶다면', 3789: '나오나', 3790: '재방송', 3791: '불쌍해', 3792: '러셀', 3793: '상큼', 3794: '강요', 3795: '살리지', 3796: '두고두고', 3797: '편하게', 3798: '껴', 3799: '종', 3800: '대학', 3801: '빠져들게', 3802: '제시카', 3803: '볼줄', 3804: '않으면', 3805: '동양', 3806: '뛰어넘는', 3807: '지극히', 3808: '부를', 3809: '흘러가는', 3810: '복선', 3811: '어설프게', 3812: '재치', 3813: '높은지', 3814: '층', 3815: '박찬욱', 3816: '구석', 3817: '해야하나', 3818: '삶은', 3819: '이럼', 3820: '전라도', 3821: '하는가', 3822: '사이코', 3823: '향기', 3824: '끈', 3825: '많음', 3826: '된다고', 3827: '자랑', 3828: '살아있는', 3829: '더욱더', 3830: '입고', 3831: '환자', 3832: '잔인하고', 3833: '새삼', 3834: '걸린', 3835: '곤', 3836: '잼있는', 3837: '가네', 3838: '하더라', 3839: '들의', 3840: '대상', 3841: '치료', 3842: '내는', 3843: '세련된', 3844: '그런거', 3845: '..!!', 3846: '이상함', 3847: '숨은', 3848: '싶음', 3849: '아니네요', 3850: '광', 3851: '꼽', 3852: '!~', 3853: '될수', 3854: '슬퍼', 3855: '전지현', 3856: '시장', 3857: '되냐', 3858: '나왔던', 3859: '둔', 3860: '원하는', 3861: '송승헌', 3862: '피디', 3863: '색깔', 3864: '손예진', 3865: '예수', 3866: '높네', 3867: '먹기', 3868: '기억난다', 3869: '영활', 3870: '오해', 3871: '모독', 3872: '러브스토리', 3873: '홧팅', 3874: '깨달음', 3875: '잇고', 3876: '하고도', 3877: '절반', 3878: '추격', 3879: '콜린', 3880: '재미없었음', 3881: '자본', 3882: '원주율', 3883: '남고', 3884: '차태현', 3885: '아깝다는', 3886: '설경구', 3887: '지루했음', 3888: '였으면', 3889: '멀리', 3890: '이정재', 3891: '안되서', 3892: '피식', 3893: '답답해', 3894: '크리스찬', 3895: '싶었던', 3896: '박평', 3897: '오지', 3898: '레이첼', 3899: '백배', 3900: '황정민', 3901: '살렸다', 3902: '가식', 3903: '고작', 3904: '군더더기', 3905: '봐야겠다', 3906: '...(', 3907: '신세계', 3908: '갖춘', 3909: '로드', 3910: '정화', 3911: '억지스런', 3912: '정선', 3913: '재방', 3914: '부담', 3915: '람보', 3916: '사무라이', 3917: '평화', 3918: '회상', 3919: '찌', 3920: '진영화', 3921: '하고싶은', 3922: 'ㅓ', 3923: '있어도', 3924: '없으니', 3925: '웃다가', 3926: '없구', 3927: '힙합', 3928: '재밋네', 3929: '들아', 3930: '주온', 3931: '버릴', 3932: '젊은이', 3933: '의해', 3934: '김구라', 3935: '수십', 3936: '신비', 3937: '에드', 3938: '재미있어서', 3939: '번역', 3940: '맞게', 3941: '대하', 3942: '크레딧', 3943: '하기에', 3944: '밋밋한', 3945: '엑스맨', 3946: '하더니', 3947: '하던가', 3948: '주원', 3949: '대학생', 3950: '재밌었습니다', 3951: '클라스', 3952: '할려고', 3953: '출현', 3954: '웬만하면', 3955: '60년', 3956: '신도', 3957: '납치', 3958: '낀', 3959: '5년', 3960: '오그라드는', 3961: '킹', 3962: '언어', 3963: '만든것', 3964: '통쾌한', 3965: '가관', 3966: '오랫동안', 3967: '매주', 3968: '우롱', 3969: '주관', 3970: '토니', 3971: '개똥', 3972: '건데', 3973: '의견', 3974: '마시고', 3975: '웃긴다', 3976: '혹', 3977: '겨울왕국', 3978: '디테', 3979: '잼나요', 3980: '구혜선', 3981: '까는', 3982: '왕자', 3983: '하고싶다', 3984: '외로움', 3985: '만드는지', 3986: '하자면', 3987: '해외', 3988: '흥미롭게', 3989: '심각하게', 3990: '싶었는데', 3991: '팍팍', 3992: '각각', 3993: '기타', 3994: '기승', 3995: '유우', 3996: '도를', 3997: '래야', 3998: '울림', 3999: '밖에는'}\n"
          ]
        }
      ]
    },
    {
      "cell_type": "code",
      "metadata": {
        "colab": {
          "base_uri": "https://localhost:8080/"
        },
        "id": "ULWKOtsONJEn",
        "outputId": "2c9c8eb6-4e3e-4759-f429-72ef01763f3d"
      },
      "source": [
        "x = np.array(encoded_reviews)\n",
        "print(x.shape)\n",
        "\n",
        "y = labels\n",
        "print(y.shape)"
      ],
      "execution_count": 22,
      "outputs": [
        {
          "output_type": "stream",
          "name": "stdout",
          "text": [
            "(200000, 128)\n",
            "(200000,)\n"
          ]
        }
      ]
    },
    {
      "cell_type": "code",
      "source": [
        "print(tokenized_reviews[0])"
      ],
      "metadata": {
        "id": "fY4O2hHydjxI",
        "outputId": "8826206a-cf4f-449f-9ae8-912388975ca7",
        "colab": {
          "base_uri": "https://localhost:8080/"
        }
      },
      "execution_count": 23,
      "outputs": [
        {
          "output_type": "stream",
          "name": "stdout",
          "text": [
            "['뒤', '로', '갈수록', '유치', '뽕짝', '..']\n"
          ]
        }
      ]
    },
    {
      "cell_type": "code",
      "source": [
        "print(encoded_reviews[0])"
      ],
      "metadata": {
        "id": "Y0wdsoAJdndQ",
        "outputId": "dea2f3e3-aee2-46c2-f2a9-581eb1856545",
        "colab": {
          "base_uri": "https://localhost:8080/"
        }
      },
      "execution_count": 25,
      "outputs": [
        {
          "output_type": "stream",
          "name": "stdout",
          "text": [
            "[492, 28, 506, 972, 1, 6, 0, 0, 0, 0, 0, 0, 0, 0, 0, 0, 0, 0, 0, 0, 0, 0, 0, 0, 0, 0, 0, 0, 0, 0, 0, 0, 0, 0, 0, 0, 0, 0, 0, 0, 0, 0, 0, 0, 0, 0, 0, 0, 0, 0, 0, 0, 0, 0, 0, 0, 0, 0, 0, 0, 0, 0, 0, 0, 0, 0, 0, 0, 0, 0, 0, 0, 0, 0, 0, 0, 0, 0, 0, 0, 0, 0, 0, 0, 0, 0, 0, 0, 0, 0, 0, 0, 0, 0, 0, 0, 0, 0, 0, 0, 0, 0, 0, 0, 0, 0, 0, 0, 0, 0, 0, 0, 0, 0, 0, 0, 0, 0, 0, 0, 0, 0, 0, 0, 0, 0, 0, 0]\n"
          ]
        }
      ]
    },
    {
      "cell_type": "markdown",
      "metadata": {
        "id": "QV3tzw-_7_mJ"
      },
      "source": [
        "# 모델 학습"
      ]
    },
    {
      "cell_type": "markdown",
      "metadata": {
        "id": "OHygtKvxWajN"
      },
      "source": [
        "## 데이터 준비"
      ]
    },
    {
      "cell_type": "code",
      "metadata": {
        "id": "tW-CSluWFYOl"
      },
      "source": [
        "from sklearn.model_selection import train_test_split\n",
        "\n",
        "train_x, test_x, train_y, test_y = train_test_split(x, y, test_size=0.2, shuffle=True)"
      ],
      "execution_count": 26,
      "outputs": []
    },
    {
      "cell_type": "code",
      "metadata": {
        "colab": {
          "base_uri": "https://localhost:8080/"
        },
        "id": "WFMO4vuEUGKE",
        "outputId": "585b8357-7bc9-48b7-c8fd-260c1f4c1a09"
      },
      "source": [
        "print(train_x.shape)\n",
        "print(train_y.shape)\n",
        "print(test_x.shape)\n",
        "print(test_y.shape)"
      ],
      "execution_count": 27,
      "outputs": [
        {
          "output_type": "stream",
          "name": "stdout",
          "text": [
            "(160000, 128)\n",
            "(160000,)\n",
            "(40000, 128)\n",
            "(40000,)\n"
          ]
        }
      ]
    },
    {
      "cell_type": "markdown",
      "metadata": {
        "id": "byj8Sz89W18q"
      },
      "source": [
        "## 학습 실행"
      ]
    },
    {
      "cell_type": "code",
      "metadata": {
        "id": "3H1M9-jogekW",
        "colab": {
          "base_uri": "https://localhost:8080/"
        },
        "outputId": "a19a07eb-d289-43b4-d1ef-bc65477b5f8d"
      },
      "source": [
        "from tensorflow.keras.preprocessing import sequence\n",
        "from tensorflow.keras import Sequential\n",
        "from tensorflow.keras.layers import Input, Dense, Dropout, Activation, BatchNormalization\n",
        "from tensorflow.keras.layers import Embedding\n",
        "from tensorflow.keras.layers import Conv1D, GlobalMaxPooling1D, Bidirectional, LSTM\n",
        "\n",
        "EMBEDDING_SIZE = 64\n",
        "\n",
        "model = Sequential()\n",
        "model.add(Input(SEQ_LENGTH))\n",
        "model.add(Embedding(VOCA_SIZE, EMBEDDING_SIZE))\n",
        "model.add(BatchNormalization())\n",
        "model.add(Bidirectional(LSTM(64)))\n",
        "model.add(Dense(250, activation=\"relu\"))\n",
        "model.add(BatchNormalization())\n",
        "model.add(Dense(1, activation=\"sigmoid\"))\n",
        "\n",
        "model.compile(loss='binary_crossentropy', optimizer='adam', metrics=['accuracy'])\n",
        "model.summary()\n",
        "\n",
        "model.fit(train_x, train_y, batch_size=32, epochs=5, validation_split=0.1)\n",
        "\n",
        "# Evaluation\n",
        "loss, acc = model.evaluate(test_x, test_y)\n",
        "print(\"loss =\", loss)\n",
        "print(\"acc =\", acc)"
      ],
      "execution_count": 28,
      "outputs": [
        {
          "output_type": "stream",
          "name": "stdout",
          "text": [
            "Model: \"sequential\"\n",
            "_________________________________________________________________\n",
            " Layer (type)                Output Shape              Param #   \n",
            "=================================================================\n",
            " embedding (Embedding)       (None, 128, 64)           256000    \n",
            "                                                                 \n",
            " batch_normalization (BatchN  (None, 128, 64)          256       \n",
            " ormalization)                                                   \n",
            "                                                                 \n",
            " bidirectional (Bidirectiona  (None, 128)              66048     \n",
            " l)                                                              \n",
            "                                                                 \n",
            " dense (Dense)               (None, 250)               32250     \n",
            "                                                                 \n",
            " batch_normalization_1 (Batc  (None, 250)              1000      \n",
            " hNormalization)                                                 \n",
            "                                                                 \n",
            " dense_1 (Dense)             (None, 1)                 251       \n",
            "                                                                 \n",
            "=================================================================\n",
            "Total params: 355,805\n",
            "Trainable params: 355,177\n",
            "Non-trainable params: 628\n",
            "_________________________________________________________________\n",
            "Epoch 1/5\n",
            "4500/4500 [==============================] - 79s 14ms/step - loss: 0.4008 - accuracy: 0.8142 - val_loss: 0.3902 - val_accuracy: 0.8117\n",
            "Epoch 2/5\n",
            "4500/4500 [==============================] - 62s 14ms/step - loss: 0.3462 - accuracy: 0.8429 - val_loss: 0.3429 - val_accuracy: 0.8485\n",
            "Epoch 3/5\n",
            "4500/4500 [==============================] - 63s 14ms/step - loss: 0.3194 - accuracy: 0.8566 - val_loss: 0.3369 - val_accuracy: 0.8485\n",
            "Epoch 4/5\n",
            "4500/4500 [==============================] - 63s 14ms/step - loss: 0.2957 - accuracy: 0.8676 - val_loss: 0.3614 - val_accuracy: 0.8411\n",
            "Epoch 5/5\n",
            "4500/4500 [==============================] - 63s 14ms/step - loss: 0.2720 - accuracy: 0.8795 - val_loss: 0.4159 - val_accuracy: 0.8134\n",
            "1250/1250 [==============================] - 7s 6ms/step - loss: 0.4131 - accuracy: 0.8094\n",
            "loss = 0.41312119364738464\n",
            "acc = 0.8094000220298767\n"
          ]
        }
      ]
    },
    {
      "cell_type": "markdown",
      "metadata": {
        "id": "PvnNncG_3p87"
      },
      "source": [
        "## 분류 실행"
      ]
    },
    {
      "cell_type": "code",
      "metadata": {
        "id": "RNsQMfcjV5T8",
        "colab": {
          "base_uri": "https://localhost:8080/"
        },
        "outputId": "304997cb-4fb2-45fb-877d-803cbbcc9164"
      },
      "source": [
        "def do_classify(test_text):\n",
        "  tokenized_text = tokenize([test_text])\n",
        "  encoded_text = encode(tokenized_text, word2index)\n",
        "  model_input = np.array(encoded_text)\n",
        "  y_ = model.predict(model_input)\n",
        "  predicted = \"긍정\" if y_>0.5 else \"부정\"\n",
        "\n",
        "  print(test_text, \"-->\", predicted, \",score :\",y_[0][0])\n",
        "\n",
        "do_classify(\"여운이 많이 남는 영화\")\n",
        "do_classify(\"여운이 많이 남는 영화. 스토리 전개는 뻔함.\")\n",
        "do_classify(\"여운이 많이 남는 영화. 스토리 전개는 뻔함. 시간 때우기 용\")\n",
        "do_classify(\"여운이 많이 남는 영화. 스토리 전개는 뻔함. 시간 때우기 용, 비추.\")"
      ],
      "execution_count": 29,
      "outputs": [
        {
          "output_type": "stream",
          "name": "stdout",
          "text": [
            "여운이 많이 남는 영화 --> 긍정 ,score : 0.99724674\n",
            "여운이 많이 남는 영화. 스토리 전개는 뻔함. --> 긍정 ,score : 0.9942538\n",
            "여운이 많이 남는 영화. 스토리 전개는 뻔함. 시간 때우기 용 --> 긍정 ,score : 0.98687994\n",
            "여운이 많이 남는 영화. 스토리 전개는 뻔함. 시간 때우기 용, 비추. --> 긍정 ,score : 0.9059328\n"
          ]
        }
      ]
    },
    {
      "cell_type": "code",
      "metadata": {
        "id": "zvmMNRKX9f6w",
        "outputId": "0f03f60b-73c2-4854-bbfa-9dbaedb678cd",
        "colab": {
          "base_uri": "https://localhost:8080/"
        }
      },
      "source": [
        "do_classify(\"탑건1(1986년)의 36년만의 나온 속편. 매우 만족 스러웠고 매우 재밌었다 무조건 특별관에서 봐야되는 영화 2022년 개봉작 영화중에서 범죄도시2 이후 2번째로 엄청 좋았던 영화 톰 크루즈 미모는 여전히 잘생겼다 1편을 보고 가야되는 질문에서 답을 하자면 1편 보고 가는게 더 좋다 감동도 2배 더 느낄 수 있음\")"
      ],
      "execution_count": 33,
      "outputs": [
        {
          "output_type": "stream",
          "name": "stdout",
          "text": [
            "탑건1(1986년)의 36년만의 나온 속편. 매우 만족 스러웠고 매우 재밌었다 무조건 특별관에서 봐야되는 영화 2022년 개봉작 영화중에서 범죄도시2 이후 2번째로 엄청 좋았던 영화 톰 크루즈 미모는 여전히 잘생겼다 1편을 보고 가야되는 질문에서 답을 하자면 1편 보고 가는게 더 좋다 감동도 2배 더 느낄 수 있음 --> 긍정 ,score : 0.99787676\n"
          ]
        }
      ]
    },
    {
      "cell_type": "code",
      "source": [
        "do_classify(\"평점 잘 안주는데 만점 줄려고 왔다\")"
      ],
      "metadata": {
        "id": "hSshqPFKftBO",
        "outputId": "33b39a7c-1f59-424b-9e73-84624435a533",
        "colab": {
          "base_uri": "https://localhost:8080/"
        }
      },
      "execution_count": 35,
      "outputs": [
        {
          "output_type": "stream",
          "name": "stdout",
          "text": [
            "평점 잘 안주는데 만점 줄려고 왔다 --> 긍정 ,score : 0.870542\n"
          ]
        }
      ]
    },
    {
      "cell_type": "code",
      "source": [
        ""
      ],
      "metadata": {
        "id": "yH-3m1WLg2vH"
      },
      "execution_count": null,
      "outputs": []
    }
  ]
}