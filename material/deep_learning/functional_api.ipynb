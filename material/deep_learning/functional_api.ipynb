{
  "nbformat": 4,
  "nbformat_minor": 0,
  "metadata": {
    "colab": {
      "name": "functional_api.ipynb",
      "provenance": [],
      "collapsed_sections": []
    },
    "kernelspec": {
      "name": "python3",
      "display_name": "Python 3"
    },
    "accelerator": "GPU"
  },
  "cells": [
    {
      "cell_type": "markdown",
      "metadata": {
        "id": "c503DSvxvOU5"
      },
      "source": [
        "# 이전 CNN MNIST\n"
      ]
    },
    {
      "cell_type": "code",
      "metadata": {
        "id": "fYlMkT8axIoi"
      },
      "source": [
        "import numpy as np\n",
        "import matplotlib.pyplot as plt\n",
        "\n",
        "import tensorflow as tf\n",
        "from tensorflow import keras\n",
        "from tensorflow.keras import optimizers\n",
        "from tensorflow.keras.layers import Dense, Flatten, Conv2D, MaxPooling2D, Input\n",
        "\n",
        "import time"
      ],
      "execution_count": 1,
      "outputs": []
    },
    {
      "cell_type": "code",
      "metadata": {
        "id": "puN5QRLz2toU",
        "outputId": "3b0e5ef7-ccff-4868-b15d-1bf9b8c1e1c9",
        "colab": {
          "base_uri": "https://localhost:8080/"
        }
      },
      "source": [
        "(raw_train_x, raw_train_y), (raw_test_x, raw_test_y) = tf.keras.datasets.mnist.load_data()\n",
        "\n",
        "train_x = raw_train_x/255\n",
        "test_x = raw_test_x/255\n",
        "\n",
        "train_x = train_x.reshape((60000, 28, 28, 1))\n",
        "test_x = test_x.reshape((10000, 28, 28, 1))\n",
        "\n",
        "train_y = raw_train_y\n",
        "test_y = raw_test_y"
      ],
      "execution_count": 2,
      "outputs": [
        {
          "output_type": "stream",
          "name": "stdout",
          "text": [
            "Downloading data from https://storage.googleapis.com/tensorflow/tf-keras-datasets/mnist.npz\n",
            "11493376/11490434 [==============================] - 0s 0us/step\n",
            "11501568/11490434 [==============================] - 0s 0us/step\n"
          ]
        }
      ]
    },
    {
      "cell_type": "code",
      "metadata": {
        "id": "kkrsyGy2Ixk2"
      },
      "source": [
        "model = keras.Sequential()\n",
        "model.add(Input((28,28,1)))\n",
        "model.add(Conv2D(32, (3, 3)))\n",
        "model.add(MaxPooling2D((2, 2)))\n",
        "model.add(Conv2D(64, (3, 3)))\n",
        "model.add(MaxPooling2D((2, 2)))\n",
        "model.add(Flatten())\n",
        "model.add(Dense(10, activation='relu'))\n",
        "model.add(Dense(10, activation='relu'))\n",
        "model.add(Dense(10, activation='softmax'))"
      ],
      "execution_count": 3,
      "outputs": []
    },
    {
      "cell_type": "code",
      "metadata": {
        "id": "cuW2ftNT2trB",
        "colab": {
          "base_uri": "https://localhost:8080/"
        },
        "outputId": "4e416e2b-9c81-4627-e727-df4419a24039"
      },
      "source": [
        "model.compile(optimizer=\"adam\", loss=\"sparse_categorical_crossentropy\", metrics=[\"accuracy\"])\n",
        "model.summary()\n",
        "\n",
        "\n",
        "model.fit(train_x, train_y, epochs=5, verbose=1, batch_size=128)\n",
        "\n",
        "\n",
        "loss, acc = model.evaluate(test_x, test_y)\n",
        "print(\"loss=\",loss)\n",
        "print(\"acc=\",acc)\n",
        "\n",
        "y_ = model.predict(test_x)\n",
        "predicted = np.argmax(y_, axis=1)\n",
        "\n",
        "print(predicted)\n"
      ],
      "execution_count": 4,
      "outputs": [
        {
          "output_type": "stream",
          "name": "stdout",
          "text": [
            "Model: \"sequential\"\n",
            "_________________________________________________________________\n",
            " Layer (type)                Output Shape              Param #   \n",
            "=================================================================\n",
            " conv2d (Conv2D)             (None, 26, 26, 32)        320       \n",
            "                                                                 \n",
            " max_pooling2d (MaxPooling2D  (None, 13, 13, 32)       0         \n",
            " )                                                               \n",
            "                                                                 \n",
            " conv2d_1 (Conv2D)           (None, 11, 11, 64)        18496     \n",
            "                                                                 \n",
            " max_pooling2d_1 (MaxPooling  (None, 5, 5, 64)         0         \n",
            " 2D)                                                             \n",
            "                                                                 \n",
            " flatten (Flatten)           (None, 1600)              0         \n",
            "                                                                 \n",
            " dense (Dense)               (None, 10)                16010     \n",
            "                                                                 \n",
            " dense_1 (Dense)             (None, 10)                110       \n",
            "                                                                 \n",
            " dense_2 (Dense)             (None, 10)                110       \n",
            "                                                                 \n",
            "=================================================================\n",
            "Total params: 35,046\n",
            "Trainable params: 35,046\n",
            "Non-trainable params: 0\n",
            "_________________________________________________________________\n",
            "Epoch 1/5\n",
            "469/469 [==============================] - 15s 4ms/step - loss: 0.5675 - accuracy: 0.8174\n",
            "Epoch 2/5\n",
            "469/469 [==============================] - 2s 4ms/step - loss: 0.1775 - accuracy: 0.9488\n",
            "Epoch 3/5\n",
            "469/469 [==============================] - 2s 4ms/step - loss: 0.1254 - accuracy: 0.9622\n",
            "Epoch 4/5\n",
            "469/469 [==============================] - 2s 4ms/step - loss: 0.1002 - accuracy: 0.9702\n",
            "Epoch 5/5\n",
            "469/469 [==============================] - 2s 4ms/step - loss: 0.0840 - accuracy: 0.9747\n",
            "313/313 [==============================] - 1s 3ms/step - loss: 0.0824 - accuracy: 0.9761\n",
            "loss= 0.08235092461109161\n",
            "acc= 0.9761000275611877\n",
            "[7 2 1 ... 4 5 6]\n"
          ]
        }
      ]
    },
    {
      "cell_type": "markdown",
      "metadata": {
        "id": "_6yj3_5GI064"
      },
      "source": [
        "# Functional API 타입 CNN MNIST"
      ]
    },
    {
      "cell_type": "code",
      "metadata": {
        "id": "nRkSjvdSkgfc"
      },
      "source": [
        "import numpy as np\n",
        "import matplotlib.pyplot as plt\n",
        "\n",
        "import tensorflow as tf\n",
        "from tensorflow import keras\n",
        "from tensorflow.keras import optimizers\n",
        "from tensorflow.keras.layers import Dense, Flatten, Conv2D, MaxPooling2D, Input\n",
        "\n",
        "import time"
      ],
      "execution_count": 5,
      "outputs": []
    },
    {
      "cell_type": "code",
      "metadata": {
        "id": "H1C6Ev9hI7JD"
      },
      "source": [
        "# model = keras.Sequential()\n",
        "# model.add(Input((28,28,1)))\n",
        "# model.add(Conv2D(32, (3, 3)))\n",
        "# model.add(MaxPooling2D((2, 2)))\n",
        "# model.add(Conv2D(64, (3, 3)))\n",
        "# model.add(MaxPooling2D((2, 2)))\n",
        "# model.add(Flatten())\n",
        "# model.add(Dense(10, activation='relu'))\n",
        "# model.add(Dense(10, activation='relu'))\n",
        "# model.add(Dense(10, activation='softmax'))\n",
        "\n",
        "\n",
        "from tensorflow.keras import Model\n",
        "\n",
        "input = Input((28,28,1))\n",
        "x = Conv2D(32, (3,3))(input)\n",
        "x = MaxPooling2D((2,2))(x)\n",
        "x = Conv2D(32, (3,3))(x)\n",
        "x = MaxPooling2D((2,2))(x)\n",
        "x = Flatten()(x)\n",
        "x = Dense(10, activation='relu')(x)\n",
        "x = Dense(10, activation='relu')(x)\n",
        "output = Dense(10, activation='softmax')(x)\n",
        "\n",
        "model = Model(input, output)"
      ],
      "execution_count": 6,
      "outputs": []
    },
    {
      "cell_type": "code",
      "metadata": {
        "id": "SH90FFocI7GG",
        "colab": {
          "base_uri": "https://localhost:8080/"
        },
        "outputId": "917c3e40-8fc5-4f39-8886-487f7ca3b081"
      },
      "source": [
        "model.compile(optimizer=\"adam\", loss=\"sparse_categorical_crossentropy\", metrics=[\"accuracy\"])\n",
        "model.summary()\n",
        "\n",
        "\n",
        "model.fit(train_x, train_y, epochs=5, verbose=1, batch_size=128)\n",
        "\n",
        "\n",
        "loss, acc = model.evaluate(test_x, test_y)\n",
        "print(\"loss=\",loss)\n",
        "print(\"acc=\",acc)\n",
        "\n",
        "y_ = model.predict(test_x)\n",
        "predicted = np.argmax(y_, axis=1)\n",
        "\n",
        "print(predicted)"
      ],
      "execution_count": 7,
      "outputs": [
        {
          "output_type": "stream",
          "name": "stdout",
          "text": [
            "Model: \"model\"\n",
            "_________________________________________________________________\n",
            " Layer (type)                Output Shape              Param #   \n",
            "=================================================================\n",
            " input_2 (InputLayer)        [(None, 28, 28, 1)]       0         \n",
            "                                                                 \n",
            " conv2d_2 (Conv2D)           (None, 26, 26, 32)        320       \n",
            "                                                                 \n",
            " max_pooling2d_2 (MaxPooling  (None, 13, 13, 32)       0         \n",
            " 2D)                                                             \n",
            "                                                                 \n",
            " conv2d_3 (Conv2D)           (None, 11, 11, 32)        9248      \n",
            "                                                                 \n",
            " max_pooling2d_3 (MaxPooling  (None, 5, 5, 32)         0         \n",
            " 2D)                                                             \n",
            "                                                                 \n",
            " flatten_1 (Flatten)         (None, 800)               0         \n",
            "                                                                 \n",
            " dense_3 (Dense)             (None, 10)                8010      \n",
            "                                                                 \n",
            " dense_4 (Dense)             (None, 10)                110       \n",
            "                                                                 \n",
            " dense_5 (Dense)             (None, 10)                110       \n",
            "                                                                 \n",
            "=================================================================\n",
            "Total params: 17,798\n",
            "Trainable params: 17,798\n",
            "Non-trainable params: 0\n",
            "_________________________________________________________________\n",
            "Epoch 1/5\n",
            "469/469 [==============================] - 2s 4ms/step - loss: 0.5475 - accuracy: 0.8353\n",
            "Epoch 2/5\n",
            "469/469 [==============================] - 2s 3ms/step - loss: 0.1760 - accuracy: 0.9498\n",
            "Epoch 3/5\n",
            "469/469 [==============================] - 2s 3ms/step - loss: 0.1245 - accuracy: 0.9632\n",
            "Epoch 4/5\n",
            "469/469 [==============================] - 2s 3ms/step - loss: 0.1004 - accuracy: 0.9701\n",
            "Epoch 5/5\n",
            "469/469 [==============================] - 2s 3ms/step - loss: 0.0837 - accuracy: 0.9743\n",
            "313/313 [==============================] - 1s 3ms/step - loss: 0.0744 - accuracy: 0.9763\n",
            "loss= 0.074370376765728\n",
            "acc= 0.9763000011444092\n",
            "[7 2 1 ... 4 5 6]\n"
          ]
        }
      ]
    },
    {
      "cell_type": "markdown",
      "metadata": {
        "id": "WRB8AVGJK_Iz"
      },
      "source": [
        "# 다중 입력\n",
        "\n",
        "copy from https://www.pyimagesearch.com/2019/02/04/keras-multiple-inputs-and-mixed-data/\n"
      ]
    },
    {
      "cell_type": "markdown",
      "metadata": {
        "id": "aR8fS0GoE3m_"
      },
      "source": [
        "## 데이터 준비"
      ]
    },
    {
      "cell_type": "code",
      "metadata": {
        "id": "w6UWmnjzI7DS",
        "colab": {
          "base_uri": "https://localhost:8080/"
        },
        "outputId": "927a9866-9a7a-493e-fe9a-b15105950963"
      },
      "source": [
        "!git clone https://github.com/emanhamed/Houses-dataset"
      ],
      "execution_count": 8,
      "outputs": [
        {
          "output_type": "stream",
          "name": "stdout",
          "text": [
            "Cloning into 'Houses-dataset'...\n",
            "remote: Enumerating objects: 2166, done.\u001b[K\n",
            "remote: Counting objects: 100% (1/1), done.\u001b[K\n",
            "remote: Total 2166 (delta 0), reused 0 (delta 0), pack-reused 2165\u001b[K\n",
            "Receiving objects: 100% (2166/2166), 176.26 MiB | 26.88 MiB/s, done.\n",
            "Resolving deltas: 100% (20/20), done.\n"
          ]
        }
      ]
    },
    {
      "cell_type": "markdown",
      "metadata": {
        "id": "tgLmgfnJFJkR"
      },
      "source": [
        "```\n",
        "Houses-dataset/\n",
        "  Houses Dataset/\n",
        "    100_bathroom.jpg\n",
        "    100_bedroom.jpg\n",
        "    ...\n",
        "    HousesInfo.txt\n",
        "```"
      ]
    },
    {
      "cell_type": "code",
      "metadata": {
        "id": "LnppMLOAFgtQ",
        "colab": {
          "base_uri": "https://localhost:8080/"
        },
        "outputId": "8ba5024f-5054-485b-c7bf-ed216e704d36"
      },
      "source": [
        "!head 'Houses-dataset/Houses Dataset/HousesInfo.txt'"
      ],
      "execution_count": 9,
      "outputs": [
        {
          "output_type": "stream",
          "name": "stdout",
          "text": [
            "4 4 4053 85255 869500\n",
            "4 3 3343 36372 865200\n",
            "3 4 3923 85266 889000\n",
            "5 5 4022 85262 910000\n",
            "3 4 4116 85266 971226\n",
            "4 5 4581 85266 1249000\n",
            "3 4 2544 85262 799000\n",
            "4 5 5524 85266 1698000\n",
            "3 4 4229 85255 1749000\n",
            "4 5 3550 85262 1500000\n"
          ]
        }
      ]
    },
    {
      "cell_type": "code",
      "metadata": {
        "id": "pmpEfpGogwJb"
      },
      "source": [
        "import matplotlib\n",
        "\n",
        "from tensorflow.keras.optimizers import Adam\n",
        "from tensorflow.keras.preprocessing.image import img_to_array\n",
        "from sklearn.preprocessing import LabelBinarizer\n",
        "from sklearn.model_selection import train_test_split\n",
        "\n",
        "from imutils import paths\n",
        "import matplotlib.pyplot as plt\n",
        "import numpy as np\n",
        "import argparse\n",
        "import random\n",
        "import pickle\n",
        "import cv2\n",
        "import os"
      ],
      "execution_count": 10,
      "outputs": []
    },
    {
      "cell_type": "code",
      "metadata": {
        "id": "FEteIEtNFwvP"
      },
      "source": [
        "# import the necessary packages\n",
        "from sklearn.preprocessing import LabelBinarizer\n",
        "from sklearn.preprocessing import MinMaxScaler\n",
        "import pandas as pd\n",
        "import numpy as np\n",
        "import glob\n",
        "import cv2\n",
        "import os\n",
        "\n",
        "def load_house_attributes(inputPath):\n",
        "\n",
        "\tcols = [\"bedrooms\", \"bathrooms\", \"area\", \"zipcode\", \"price\"]\n",
        "\tdf = pd.read_csv(inputPath, sep=\" \", header=None, names=cols)\n",
        " \n",
        "\t# determine (1) the unique zip codes and (2) the number of data\n",
        "\t# points with each zip code\n",
        "\tzipcodes = df[\"zipcode\"].value_counts().keys().tolist()\n",
        "\tcounts = df[\"zipcode\"].value_counts().tolist()\n",
        " \n",
        "\t# loop over each of the unique zip codes and their corresponding\n",
        "\t# count\n",
        "\tfor (zipcode, count) in zip(zipcodes, counts):\n",
        "\t\t# the zip code counts for our housing dataset is *extremely*\n",
        "\t\t# unbalanced (some only having 1 or 2 houses per zip code)\n",
        "\t\t# so let's sanitize our data by removing any houses with less\n",
        "\t\t# than 25 houses per zip code\n",
        "\t\tif count < 25:\n",
        "\t\t\tidxs = df[df[\"zipcode\"] == zipcode].index\n",
        "\t\t\tdf.drop(idxs, inplace=True)\n",
        "   \n",
        "\t# return the data frame\n",
        "\treturn df\n",
        "\n",
        "def process_house_attributes(df, train, test):\n",
        "\t# initialize the column names of the continuous data\n",
        "\tcontinuous = [\"bedrooms\", \"bathrooms\", \"area\"]\n",
        "\n",
        "\t# performin min-max scaling each continuous feature column to\n",
        "\t# the range [0, 1]\n",
        "\tcs = MinMaxScaler()\n",
        "\ttrainContinuous = cs.fit_transform(train[continuous])\n",
        "\ttestContinuous = cs.transform(test[continuous])\n",
        " \n",
        "\t# one-hot encode the zip code categorical data (by definition of\n",
        "\t# one-hot encoding, all output features are now in the range [0, 1])\n",
        "\tzipBinarizer = LabelBinarizer().fit(df[\"zipcode\"])\n",
        "\ttrainCategorical = zipBinarizer.transform(train[\"zipcode\"])\n",
        "\ttestCategorical = zipBinarizer.transform(test[\"zipcode\"])\n",
        " \n",
        "\t# construct our training and testing data points by concatenating\n",
        "\t# the categorical features with the continuous features\n",
        "\ttrainX = np.hstack([trainCategorical, trainContinuous])\n",
        "\ttestX = np.hstack([testCategorical, testContinuous])\n",
        " \n",
        "\t# return the concatenated training and testing data\n",
        "\treturn (trainX, testX)  "
      ],
      "execution_count": 11,
      "outputs": []
    },
    {
      "cell_type": "code",
      "metadata": {
        "id": "_I8GQV4mFwrk"
      },
      "source": [
        "IMAGE_SIZE = 32*4\n",
        "def load_house_images(df, inputPath):\n",
        "\n",
        "\t# initialize our images array (i.e., the house images themselves)\n",
        "\timages = []\n",
        "\n",
        "\t# loop over the indexes of the houses\n",
        "\tfor i in df.index.values:\n",
        "\t\t# find the four images for the house and sort the file paths,\n",
        "\t\t# ensuring the four are always in the *same order*\n",
        "\t\tbasePath = os.path.sep.join([inputPath, \"{}_*\".format(i + 1)])\n",
        "\t\thousePaths = sorted(list(glob.glob(basePath)))\n",
        "  \n",
        "\t\t# initialize our list of input images along with the output image\n",
        "\t\t# after *combining* the four input images\n",
        "\t\tinputImages = []\n",
        "\t\toutputImage = np.zeros((IMAGE_SIZE*2, IMAGE_SIZE*2, 3), dtype=\"uint8\")\n",
        "  \n",
        "\t\t# loop over the input house paths\n",
        "\t\tfor housePath in housePaths:\n",
        "\t\t\t# load the input image, resize it to be IMAGE_SIZExIMAGE_SIZE, and then\n",
        "\t\t\t# update the list of input images\n",
        "\t\t\timage = cv2.imread(housePath)\n",
        "\t\t\timage = cv2.resize(image, (IMAGE_SIZE, IMAGE_SIZE))\n",
        "\t\t\tinputImages.append(image)\n",
        "   \n",
        "\t\t# tile the four input images in the output image such the first\n",
        "\t\t# image goes in the top-right corner, the second image in the\n",
        "\t\t# top-left corner, the third image in the bottom-right corner,\n",
        "\t\t# and the final image in the bottom-left corner\n",
        "\t\toutputImage[0:IMAGE_SIZE, 0:IMAGE_SIZE] = inputImages[0]\n",
        "\t\toutputImage[0:IMAGE_SIZE, IMAGE_SIZE:IMAGE_SIZE*2] = inputImages[1]\n",
        "\t\toutputImage[IMAGE_SIZE:IMAGE_SIZE*2, 0:IMAGE_SIZE] = inputImages[2]\n",
        "\t\toutputImage[IMAGE_SIZE:IMAGE_SIZE*2, IMAGE_SIZE:IMAGE_SIZE*2] = inputImages[3]\n",
        "\n",
        "\t\t# add the tiled image to our set of images the network will be\n",
        "\t\t# trained on\n",
        "\t\timages.append(outputImage)\n",
        "  \n",
        "\t# return our set of images\n",
        "\treturn np.array(images)  "
      ],
      "execution_count": 12,
      "outputs": []
    },
    {
      "cell_type": "markdown",
      "metadata": {
        "id": "HEJ6Gp0qHVi6"
      },
      "source": [
        "### 값 정보 읽기"
      ]
    },
    {
      "cell_type": "code",
      "metadata": {
        "id": "Ke6Xu-5PGdkr"
      },
      "source": [
        "df = load_house_attributes(\"Houses-dataset/Houses Dataset/HousesInfo.txt\")"
      ],
      "execution_count": 13,
      "outputs": []
    },
    {
      "cell_type": "code",
      "metadata": {
        "id": "ouQ27yABHR2w",
        "colab": {
          "base_uri": "https://localhost:8080/",
          "height": 206
        },
        "outputId": "8e6eab88-21dc-48bc-c72e-fde5a06eeb61"
      },
      "source": [
        "df.head()"
      ],
      "execution_count": 14,
      "outputs": [
        {
          "output_type": "execute_result",
          "data": {
            "text/plain": [
              "    bedrooms  bathrooms  area  zipcode   price\n",
              "30         5        3.0  2520    93446  789000\n",
              "32         3        2.0  1802    93446  365000\n",
              "39         3        3.0  2146    93446  455000\n",
              "80         4        2.5  2464    91901  599000\n",
              "81         2        2.0  1845    91901  529800"
            ],
            "text/html": [
              "\n",
              "  <div id=\"df-15e6bafd-1536-47cb-91c5-da1d88058567\">\n",
              "    <div class=\"colab-df-container\">\n",
              "      <div>\n",
              "<style scoped>\n",
              "    .dataframe tbody tr th:only-of-type {\n",
              "        vertical-align: middle;\n",
              "    }\n",
              "\n",
              "    .dataframe tbody tr th {\n",
              "        vertical-align: top;\n",
              "    }\n",
              "\n",
              "    .dataframe thead th {\n",
              "        text-align: right;\n",
              "    }\n",
              "</style>\n",
              "<table border=\"1\" class=\"dataframe\">\n",
              "  <thead>\n",
              "    <tr style=\"text-align: right;\">\n",
              "      <th></th>\n",
              "      <th>bedrooms</th>\n",
              "      <th>bathrooms</th>\n",
              "      <th>area</th>\n",
              "      <th>zipcode</th>\n",
              "      <th>price</th>\n",
              "    </tr>\n",
              "  </thead>\n",
              "  <tbody>\n",
              "    <tr>\n",
              "      <th>30</th>\n",
              "      <td>5</td>\n",
              "      <td>3.0</td>\n",
              "      <td>2520</td>\n",
              "      <td>93446</td>\n",
              "      <td>789000</td>\n",
              "    </tr>\n",
              "    <tr>\n",
              "      <th>32</th>\n",
              "      <td>3</td>\n",
              "      <td>2.0</td>\n",
              "      <td>1802</td>\n",
              "      <td>93446</td>\n",
              "      <td>365000</td>\n",
              "    </tr>\n",
              "    <tr>\n",
              "      <th>39</th>\n",
              "      <td>3</td>\n",
              "      <td>3.0</td>\n",
              "      <td>2146</td>\n",
              "      <td>93446</td>\n",
              "      <td>455000</td>\n",
              "    </tr>\n",
              "    <tr>\n",
              "      <th>80</th>\n",
              "      <td>4</td>\n",
              "      <td>2.5</td>\n",
              "      <td>2464</td>\n",
              "      <td>91901</td>\n",
              "      <td>599000</td>\n",
              "    </tr>\n",
              "    <tr>\n",
              "      <th>81</th>\n",
              "      <td>2</td>\n",
              "      <td>2.0</td>\n",
              "      <td>1845</td>\n",
              "      <td>91901</td>\n",
              "      <td>529800</td>\n",
              "    </tr>\n",
              "  </tbody>\n",
              "</table>\n",
              "</div>\n",
              "      <button class=\"colab-df-convert\" onclick=\"convertToInteractive('df-15e6bafd-1536-47cb-91c5-da1d88058567')\"\n",
              "              title=\"Convert this dataframe to an interactive table.\"\n",
              "              style=\"display:none;\">\n",
              "        \n",
              "  <svg xmlns=\"http://www.w3.org/2000/svg\" height=\"24px\"viewBox=\"0 0 24 24\"\n",
              "       width=\"24px\">\n",
              "    <path d=\"M0 0h24v24H0V0z\" fill=\"none\"/>\n",
              "    <path d=\"M18.56 5.44l.94 2.06.94-2.06 2.06-.94-2.06-.94-.94-2.06-.94 2.06-2.06.94zm-11 1L8.5 8.5l.94-2.06 2.06-.94-2.06-.94L8.5 2.5l-.94 2.06-2.06.94zm10 10l.94 2.06.94-2.06 2.06-.94-2.06-.94-.94-2.06-.94 2.06-2.06.94z\"/><path d=\"M17.41 7.96l-1.37-1.37c-.4-.4-.92-.59-1.43-.59-.52 0-1.04.2-1.43.59L10.3 9.45l-7.72 7.72c-.78.78-.78 2.05 0 2.83L4 21.41c.39.39.9.59 1.41.59.51 0 1.02-.2 1.41-.59l7.78-7.78 2.81-2.81c.8-.78.8-2.07 0-2.86zM5.41 20L4 18.59l7.72-7.72 1.47 1.35L5.41 20z\"/>\n",
              "  </svg>\n",
              "      </button>\n",
              "      \n",
              "  <style>\n",
              "    .colab-df-container {\n",
              "      display:flex;\n",
              "      flex-wrap:wrap;\n",
              "      gap: 12px;\n",
              "    }\n",
              "\n",
              "    .colab-df-convert {\n",
              "      background-color: #E8F0FE;\n",
              "      border: none;\n",
              "      border-radius: 50%;\n",
              "      cursor: pointer;\n",
              "      display: none;\n",
              "      fill: #1967D2;\n",
              "      height: 32px;\n",
              "      padding: 0 0 0 0;\n",
              "      width: 32px;\n",
              "    }\n",
              "\n",
              "    .colab-df-convert:hover {\n",
              "      background-color: #E2EBFA;\n",
              "      box-shadow: 0px 1px 2px rgba(60, 64, 67, 0.3), 0px 1px 3px 1px rgba(60, 64, 67, 0.15);\n",
              "      fill: #174EA6;\n",
              "    }\n",
              "\n",
              "    [theme=dark] .colab-df-convert {\n",
              "      background-color: #3B4455;\n",
              "      fill: #D2E3FC;\n",
              "    }\n",
              "\n",
              "    [theme=dark] .colab-df-convert:hover {\n",
              "      background-color: #434B5C;\n",
              "      box-shadow: 0px 1px 3px 1px rgba(0, 0, 0, 0.15);\n",
              "      filter: drop-shadow(0px 1px 2px rgba(0, 0, 0, 0.3));\n",
              "      fill: #FFFFFF;\n",
              "    }\n",
              "  </style>\n",
              "\n",
              "      <script>\n",
              "        const buttonEl =\n",
              "          document.querySelector('#df-15e6bafd-1536-47cb-91c5-da1d88058567 button.colab-df-convert');\n",
              "        buttonEl.style.display =\n",
              "          google.colab.kernel.accessAllowed ? 'block' : 'none';\n",
              "\n",
              "        async function convertToInteractive(key) {\n",
              "          const element = document.querySelector('#df-15e6bafd-1536-47cb-91c5-da1d88058567');\n",
              "          const dataTable =\n",
              "            await google.colab.kernel.invokeFunction('convertToInteractive',\n",
              "                                                     [key], {});\n",
              "          if (!dataTable) return;\n",
              "\n",
              "          const docLinkHtml = 'Like what you see? Visit the ' +\n",
              "            '<a target=\"_blank\" href=https://colab.research.google.com/notebooks/data_table.ipynb>data table notebook</a>'\n",
              "            + ' to learn more about interactive tables.';\n",
              "          element.innerHTML = '';\n",
              "          dataTable['output_type'] = 'display_data';\n",
              "          await google.colab.output.renderOutput(dataTable, element);\n",
              "          const docLink = document.createElement('div');\n",
              "          docLink.innerHTML = docLinkHtml;\n",
              "          element.appendChild(docLink);\n",
              "        }\n",
              "      </script>\n",
              "    </div>\n",
              "  </div>\n",
              "  "
            ]
          },
          "metadata": {},
          "execution_count": 14
        }
      ]
    },
    {
      "cell_type": "markdown",
      "metadata": {
        "id": "J-xIyIR1HZiE"
      },
      "source": [
        "### 영상 데이터 읽기"
      ]
    },
    {
      "cell_type": "code",
      "metadata": {
        "id": "FuZ-lxe_Gde4"
      },
      "source": [
        "images = load_house_images(df, \"Houses-dataset/Houses Dataset/\")\n",
        "images = images/255."
      ],
      "execution_count": 15,
      "outputs": []
    },
    {
      "cell_type": "code",
      "metadata": {
        "id": "wZhmpoc8HNfQ",
        "colab": {
          "base_uri": "https://localhost:8080/"
        },
        "outputId": "e9cbdf38-252e-486e-c0c3-08dfd898cfd4"
      },
      "source": [
        "print(images.shape)"
      ],
      "execution_count": 16,
      "outputs": [
        {
          "output_type": "stream",
          "name": "stdout",
          "text": [
            "(362, 256, 256, 3)\n"
          ]
        }
      ]
    },
    {
      "cell_type": "code",
      "source": [
        "plt.imshow(images[0])\n",
        "plt.show()"
      ],
      "metadata": {
        "id": "nvFxkmfXtxvO",
        "outputId": "3e080f4e-d62e-4f67-f86b-19fbc61ef171",
        "colab": {
          "base_uri": "https://localhost:8080/",
          "height": 269
        }
      },
      "execution_count": 17,
      "outputs": [
        {
          "output_type": "display_data",
          "data": {
            "text/plain": [
              "<Figure size 432x288 with 1 Axes>"
            ],
            "image/png": "[encoded data removed]"
          },
          "metadata": {
            "needs_background": "light"
          }
        }
      ]
    },
    {
      "cell_type": "code",
      "metadata": {
        "id": "ZW9H5fZuHNbW"
      },
      "source": [
        "(trainAttrX, testAttrX, trainImagesX, testImagesX) = train_test_split(df, images, test_size=0.25, random_state=42)\n",
        "\n",
        "maxPrice = trainAttrX[\"price\"].max()\n",
        "trainY = trainAttrX[\"price\"] / maxPrice\n",
        "testY = testAttrX[\"price\"] / maxPrice\n",
        "(trainAttrX, testAttrX) = process_house_attributes(df, trainAttrX, testAttrX)"
      ],
      "execution_count": 18,
      "outputs": []
    },
    {
      "cell_type": "code",
      "metadata": {
        "id": "ZoR7qloQHNYn",
        "colab": {
          "base_uri": "https://localhost:8080/"
        },
        "outputId": "3d3e72ff-1708-4102-d3cb-699633b8da29"
      },
      "source": [
        "print(\"tainAttrX.shape=\", trainAttrX.shape)\n",
        "print(\"trainImagesX.shape=\", trainImagesX.shape)\n",
        "print(\"trainY.shape=\", trainY.shape)\n",
        "print(\"testAttrX.shape=\", testAttrX.shape)\n",
        "print(\"testImageX.shape=\", testImagesX.shape)\n",
        "print(\"testY.shape=\", testY.shape)"
      ],
      "execution_count": 19,
      "outputs": [
        {
          "output_type": "stream",
          "name": "stdout",
          "text": [
            "tainAttrX.shape= (271, 10)\n",
            "trainImagesX.shape= (271, 256, 256, 3)\n",
            "trainY.shape= (271,)\n",
            "testAttrX.shape= (91, 10)\n",
            "testImageX.shape= (91, 256, 256, 3)\n",
            "testY.shape= (91,)\n"
          ]
        }
      ]
    },
    {
      "cell_type": "code",
      "metadata": {
        "id": "aZclMyzHFwpA"
      },
      "source": [
        "# import the necessary packages\n",
        "from tensorflow.keras import Sequential\n",
        "from tensorflow.keras.layers import BatchNormalization\n",
        "from tensorflow.keras.layers import Conv2D\n",
        "from tensorflow.keras.layers import MaxPooling2D\n",
        "from tensorflow.keras.layers import Activation\n",
        "from tensorflow.keras.layers import Dropout\n",
        "from tensorflow.keras.layers import Dense\n",
        "from tensorflow.keras.layers import Flatten\n",
        "from tensorflow.keras.layers import Input\n",
        "from tensorflow.keras import Model\n",
        "from tensorflow.keras.layers import concatenate"
      ],
      "execution_count": 20,
      "outputs": []
    },
    {
      "cell_type": "markdown",
      "metadata": {
        "id": "kow-UjvTIlO7"
      },
      "source": [
        "## 개별 모델로 학습 실행"
      ]
    },
    {
      "cell_type": "markdown",
      "metadata": {
        "id": "rMiM6S1aJDdi"
      },
      "source": [
        "### 속성 모델"
      ]
    },
    {
      "cell_type": "code",
      "metadata": {
        "id": "a7ABhyiqFwj7"
      },
      "source": [
        "input = Input(trainAttrX[0].shape)\n",
        "x = Dense(10, activation='relu')(input)\n",
        "x = Dense(10, activation='relu')(x)\n",
        "output = Dense(1)(x)\n",
        "\n",
        "attr_model = Model(input, output)"
      ],
      "execution_count": 53,
      "outputs": []
    },
    {
      "cell_type": "code",
      "metadata": {
        "id": "roratdC_JdVs",
        "colab": {
          "base_uri": "https://localhost:8080/"
        },
        "outputId": "6abbf2bc-2939-463e-ba8d-2ee61fa4fba0"
      },
      "source": [
        "attr_model.compile(optimizer=\"Adam\", loss=\"mse\")\n",
        "attr_model.summary()\n",
        "\n",
        "attr_model.fit(trainAttrX, trainY, epochs=50, verbose=1, batch_size=128, validation_split=0.1)"
      ],
      "execution_count": 54,
      "outputs": [
        {
          "output_type": "stream",
          "name": "stdout",
          "text": [
            "Model: \"model_5\"\n",
            "_________________________________________________________________\n",
            " Layer (type)                Output Shape              Param #   \n",
            "=================================================================\n",
            " input_10 (InputLayer)       [(None, 10)]              0         \n",
            "                                                                 \n",
            " dense_28 (Dense)            (None, 10)                110       \n",
            "                                                                 \n",
            " dense_29 (Dense)            (None, 10)                110       \n",
            "                                                                 \n",
            " dense_30 (Dense)            (None, 1)                 11        \n",
            "                                                                 \n",
            "=================================================================\n",
            "Total params: 231\n",
            "Trainable params: 231\n",
            "Non-trainable params: 0\n",
            "_________________________________________________________________\n",
            "Epoch 1/50\n",
            "2/2 [==============================] - 1s 227ms/step - loss: 0.0303 - val_loss: 0.0244\n",
            "Epoch 2/50\n",
            "2/2 [==============================] - 0s 37ms/step - loss: 0.0274 - val_loss: 0.0222\n",
            "Epoch 3/50\n",
            "2/2 [==============================] - 0s 33ms/step - loss: 0.0246 - val_loss: 0.0202\n",
            "Epoch 4/50\n",
            "2/2 [==============================] - 0s 65ms/step - loss: 0.0224 - val_loss: 0.0182\n",
            "Epoch 5/50\n",
            "2/2 [==============================] - 0s 36ms/step - loss: 0.0199 - val_loss: 0.0165\n",
            "Epoch 6/50\n",
            "2/2 [==============================] - 0s 57ms/step - loss: 0.0182 - val_loss: 0.0150\n",
            "Epoch 7/50\n",
            "2/2 [==============================] - 0s 42ms/step - loss: 0.0163 - val_loss: 0.0137\n",
            "Epoch 8/50\n",
            "2/2 [==============================] - 0s 39ms/step - loss: 0.0149 - val_loss: 0.0125\n",
            "Epoch 9/50\n",
            "2/2 [==============================] - 0s 33ms/step - loss: 0.0135 - val_loss: 0.0115\n",
            "Epoch 10/50\n",
            "2/2 [==============================] - 0s 46ms/step - loss: 0.0123 - val_loss: 0.0106\n",
            "Epoch 11/50\n",
            "2/2 [==============================] - 0s 74ms/step - loss: 0.0114 - val_loss: 0.0098\n",
            "Epoch 12/50\n",
            "2/2 [==============================] - 0s 59ms/step - loss: 0.0106 - val_loss: 0.0092\n",
            "Epoch 13/50\n",
            "2/2 [==============================] - 0s 38ms/step - loss: 0.0099 - val_loss: 0.0086\n",
            "Epoch 14/50\n",
            "2/2 [==============================] - 0s 39ms/step - loss: 0.0093 - val_loss: 0.0082\n",
            "Epoch 15/50\n",
            "2/2 [==============================] - 0s 68ms/step - loss: 0.0089 - val_loss: 0.0078\n",
            "Epoch 16/50\n",
            "2/2 [==============================] - 0s 46ms/step - loss: 0.0086 - val_loss: 0.0075\n",
            "Epoch 17/50\n",
            "2/2 [==============================] - 0s 93ms/step - loss: 0.0083 - val_loss: 0.0073\n",
            "Epoch 18/50\n",
            "2/2 [==============================] - 0s 76ms/step - loss: 0.0081 - val_loss: 0.0071\n",
            "Epoch 19/50\n",
            "2/2 [==============================] - 0s 60ms/step - loss: 0.0079 - val_loss: 0.0070\n",
            "Epoch 20/50\n",
            "2/2 [==============================] - 0s 67ms/step - loss: 0.0078 - val_loss: 0.0069\n",
            "Epoch 21/50\n",
            "2/2 [==============================] - 0s 31ms/step - loss: 0.0076 - val_loss: 0.0069\n",
            "Epoch 22/50\n",
            "2/2 [==============================] - 0s 35ms/step - loss: 0.0075 - val_loss: 0.0068\n",
            "Epoch 23/50\n",
            "2/2 [==============================] - 0s 41ms/step - loss: 0.0074 - val_loss: 0.0068\n",
            "Epoch 24/50\n",
            "2/2 [==============================] - 0s 51ms/step - loss: 0.0073 - val_loss: 0.0068\n",
            "Epoch 25/50\n",
            "2/2 [==============================] - 0s 74ms/step - loss: 0.0072 - val_loss: 0.0067\n",
            "Epoch 26/50\n",
            "2/2 [==============================] - 0s 35ms/step - loss: 0.0071 - val_loss: 0.0067\n",
            "Epoch 27/50\n",
            "2/2 [==============================] - 0s 38ms/step - loss: 0.0070 - val_loss: 0.0067\n",
            "Epoch 28/50\n",
            "2/2 [==============================] - 0s 61ms/step - loss: 0.0070 - val_loss: 0.0066\n",
            "Epoch 29/50\n",
            "2/2 [==============================] - 0s 48ms/step - loss: 0.0069 - val_loss: 0.0066\n",
            "Epoch 30/50\n",
            "2/2 [==============================] - 0s 39ms/step - loss: 0.0068 - val_loss: 0.0065\n",
            "Epoch 31/50\n",
            "2/2 [==============================] - 0s 38ms/step - loss: 0.0067 - val_loss: 0.0065\n",
            "Epoch 32/50\n",
            "2/2 [==============================] - 0s 56ms/step - loss: 0.0066 - val_loss: 0.0065\n",
            "Epoch 33/50\n",
            "2/2 [==============================] - 0s 37ms/step - loss: 0.0066 - val_loss: 0.0065\n",
            "Epoch 34/50\n",
            "2/2 [==============================] - 0s 36ms/step - loss: 0.0065 - val_loss: 0.0064\n",
            "Epoch 35/50\n",
            "2/2 [==============================] - 0s 34ms/step - loss: 0.0065 - val_loss: 0.0064\n",
            "Epoch 36/50\n",
            "2/2 [==============================] - 0s 81ms/step - loss: 0.0065 - val_loss: 0.0064\n",
            "Epoch 37/50\n",
            "2/2 [==============================] - 0s 57ms/step - loss: 0.0064 - val_loss: 0.0063\n",
            "Epoch 38/50\n",
            "2/2 [==============================] - 0s 45ms/step - loss: 0.0064 - val_loss: 0.0063\n",
            "Epoch 39/50\n",
            "2/2 [==============================] - 0s 91ms/step - loss: 0.0063 - val_loss: 0.0062\n",
            "Epoch 40/50\n",
            "2/2 [==============================] - 0s 39ms/step - loss: 0.0063 - val_loss: 0.0062\n",
            "Epoch 41/50\n",
            "2/2 [==============================] - 0s 34ms/step - loss: 0.0063 - val_loss: 0.0061\n",
            "Epoch 42/50\n",
            "2/2 [==============================] - 0s 37ms/step - loss: 0.0062 - val_loss: 0.0061\n",
            "Epoch 43/50\n",
            "2/2 [==============================] - 0s 63ms/step - loss: 0.0062 - val_loss: 0.0060\n",
            "Epoch 44/50\n",
            "2/2 [==============================] - 0s 42ms/step - loss: 0.0062 - val_loss: 0.0059\n",
            "Epoch 45/50\n",
            "2/2 [==============================] - 0s 87ms/step - loss: 0.0061 - val_loss: 0.0059\n",
            "Epoch 46/50\n",
            "2/2 [==============================] - 0s 88ms/step - loss: 0.0061 - val_loss: 0.0058\n",
            "Epoch 47/50\n",
            "2/2 [==============================] - 0s 63ms/step - loss: 0.0061 - val_loss: 0.0058\n",
            "Epoch 48/50\n",
            "2/2 [==============================] - 0s 37ms/step - loss: 0.0060 - val_loss: 0.0057\n",
            "Epoch 49/50\n",
            "2/2 [==============================] - 0s 34ms/step - loss: 0.0060 - val_loss: 0.0056\n",
            "Epoch 50/50\n",
            "2/2 [==============================] - 0s 35ms/step - loss: 0.0060 - val_loss: 0.0056\n"
          ]
        },
        {
          "output_type": "execute_result",
          "data": {
            "text/plain": [
              "<keras.callbacks.History at 0x7effbb0e9110>"
            ]
          },
          "metadata": {},
          "execution_count": 54
        }
      ]
    },
    {
      "cell_type": "code",
      "metadata": {
        "id": "Hk5WagwnJdTO",
        "colab": {
          "base_uri": "https://localhost:8080/"
        },
        "outputId": "57afcb7f-5d0d-49c0-a681-bb162f559446"
      },
      "source": [
        "preds = attr_model.predict(testAttrX)\n",
        "\n",
        "diff = preds.flatten() - testY\n",
        "percentDiff = (diff / testY) * 100\n",
        "absPercentDiff = np.abs(percentDiff)\n",
        "\n",
        "mean = np.mean(absPercentDiff)\n",
        "std = np.std(absPercentDiff)\n",
        "\n",
        "print(\"[INFO] mean: {:.2f}%, std: {:.2f}\".format(mean, std))"
      ],
      "execution_count": 55,
      "outputs": [
        {
          "output_type": "stream",
          "name": "stdout",
          "text": [
            "WARNING:tensorflow:5 out of the last 323 calls to <function Model.make_predict_function.<locals>.predict_function at 0x7eff3202eef0> triggered tf.function retracing. Tracing is expensive and the excessive number of tracings could be due to (1) creating @tf.function repeatedly in a loop, (2) passing tensors with different shapes, (3) passing Python objects instead of tensors. For (1), please define your @tf.function outside of the loop. For (2), @tf.function has experimental_relax_shapes=True option that relaxes argument shapes that can avoid unnecessary retracing. For (3), please refer to https://www.tensorflow.org/guide/function#controlling_retracing and https://www.tensorflow.org/api_docs/python/tf/function for  more details.\n",
            "[INFO] mean: 51.62%, std: 86.15\n"
          ]
        }
      ]
    },
    {
      "cell_type": "code",
      "metadata": {
        "id": "3L6Nr-1ZJdP_"
      },
      "source": [
        ""
      ],
      "execution_count": 23,
      "outputs": []
    },
    {
      "cell_type": "markdown",
      "metadata": {
        "id": "EY4cMiohJFKc"
      },
      "source": [
        "### 영상 모델"
      ]
    },
    {
      "cell_type": "code",
      "metadata": {
        "id": "JEbOBK0ULRlT"
      },
      "source": [
        "input = Input(trainImagesX[0].shape)\n",
        "x = Conv2D(32, (3,3), padding='same')(input)\n",
        "x = MaxPooling2D((2,2))(x)\n",
        "x = Conv2D(32, (3,3), padding='same')(x)\n",
        "x = MaxPooling2D((2,2))(x)\n",
        "x = Flatten()(x)\n",
        "x = Dense(64, activation='relu')(x)\n",
        "x = Dense(10, activation='relu')(x)\n",
        "output = Dense(1)(x)\n",
        "\n",
        "image_model = Model(input, output)"
      ],
      "execution_count": 56,
      "outputs": []
    },
    {
      "cell_type": "code",
      "metadata": {
        "id": "jprcg41pLRhL",
        "colab": {
          "base_uri": "https://localhost:8080/"
        },
        "outputId": "89fa9574-d967-4c0b-e101-8992ac1e03d9"
      },
      "source": [
        "image_model.compile(optimizer=\"Adam\", loss=\"mse\")\n",
        "image_model.summary()\n",
        "\n",
        "image_model.fit(trainImagesX, trainY, epochs=50, verbose=1, batch_size=128, validation_split=0.1)"
      ],
      "execution_count": 57,
      "outputs": [
        {
          "output_type": "stream",
          "name": "stdout",
          "text": [
            "Model: \"model_6\"\n",
            "_________________________________________________________________\n",
            " Layer (type)                Output Shape              Param #   \n",
            "=================================================================\n",
            " input_11 (InputLayer)       [(None, 256, 256, 3)]     0         \n",
            "                                                                 \n",
            " conv2d_14 (Conv2D)          (None, 256, 256, 32)      896       \n",
            "                                                                 \n",
            " max_pooling2d_14 (MaxPoolin  (None, 128, 128, 32)     0         \n",
            " g2D)                                                            \n",
            "                                                                 \n",
            " conv2d_15 (Conv2D)          (None, 128, 128, 32)      9248      \n",
            "                                                                 \n",
            " max_pooling2d_15 (MaxPoolin  (None, 64, 64, 32)       0         \n",
            " g2D)                                                            \n",
            "                                                                 \n",
            " flatten_7 (Flatten)         (None, 131072)            0         \n",
            "                                                                 \n",
            " dense_31 (Dense)            (None, 64)                8388672   \n",
            "                                                                 \n",
            " dense_32 (Dense)            (None, 10)                650       \n",
            "                                                                 \n",
            " dense_33 (Dense)            (None, 1)                 11        \n",
            "                                                                 \n",
            "=================================================================\n",
            "Total params: 8,399,477\n",
            "Trainable params: 8,399,477\n",
            "Non-trainable params: 0\n",
            "_________________________________________________________________\n",
            "Epoch 1/50\n",
            "2/2 [==============================] - 1s 223ms/step - loss: 0.9715 - val_loss: 3.0598\n",
            "Epoch 2/50\n",
            "2/2 [==============================] - 0s 113ms/step - loss: 1.6814 - val_loss: 0.0148\n",
            "Epoch 3/50\n",
            "2/2 [==============================] - 0s 112ms/step - loss: 0.0227 - val_loss: 609.9528\n",
            "Epoch 4/50\n",
            "2/2 [==============================] - 0s 111ms/step - loss: 322.5199 - val_loss: 0.1836\n",
            "Epoch 5/50\n",
            "2/2 [==============================] - 0s 107ms/step - loss: 0.1072 - val_loss: 0.0149\n",
            "Epoch 6/50\n",
            "2/2 [==============================] - 0s 110ms/step - loss: 0.0163 - val_loss: 0.0150\n",
            "Epoch 7/50\n",
            "2/2 [==============================] - 0s 115ms/step - loss: 0.0164 - val_loss: 0.0150\n",
            "Epoch 8/50\n",
            "2/2 [==============================] - 0s 116ms/step - loss: 0.0165 - val_loss: 0.0151\n",
            "Epoch 9/50\n",
            "2/2 [==============================] - 0s 112ms/step - loss: 0.0165 - val_loss: 0.0152\n",
            "Epoch 10/50\n",
            "2/2 [==============================] - 0s 110ms/step - loss: 0.0166 - val_loss: 0.0152\n",
            "Epoch 11/50\n",
            "2/2 [==============================] - 0s 109ms/step - loss: 0.0166 - val_loss: 0.0152\n",
            "Epoch 12/50\n",
            "2/2 [==============================] - 0s 117ms/step - loss: 0.0166 - val_loss: 0.0153\n",
            "Epoch 13/50\n",
            "2/2 [==============================] - 0s 110ms/step - loss: 0.0167 - val_loss: 0.0153\n",
            "Epoch 14/50\n",
            "2/2 [==============================] - 0s 109ms/step - loss: 0.0167 - val_loss: 0.0153\n",
            "Epoch 15/50\n",
            "2/2 [==============================] - 0s 112ms/step - loss: 0.0167 - val_loss: 0.0153\n",
            "Epoch 16/50\n",
            "2/2 [==============================] - 0s 112ms/step - loss: 0.0167 - val_loss: 0.0153\n",
            "Epoch 17/50\n",
            "2/2 [==============================] - 0s 110ms/step - loss: 0.0167 - val_loss: 0.0153\n",
            "Epoch 18/50\n",
            "2/2 [==============================] - 0s 109ms/step - loss: 0.0167 - val_loss: 0.0153\n",
            "Epoch 19/50\n",
            "2/2 [==============================] - 0s 110ms/step - loss: 0.0167 - val_loss: 0.0153\n",
            "Epoch 20/50\n",
            "2/2 [==============================] - 0s 109ms/step - loss: 0.0167 - val_loss: 0.0153\n",
            "Epoch 21/50\n",
            "2/2 [==============================] - 0s 108ms/step - loss: 0.0167 - val_loss: 0.0153\n",
            "Epoch 22/50\n",
            "2/2 [==============================] - 0s 110ms/step - loss: 0.0167 - val_loss: 0.0153\n",
            "Epoch 23/50\n",
            "2/2 [==============================] - 0s 112ms/step - loss: 0.0167 - val_loss: 0.0153\n",
            "Epoch 24/50\n",
            "2/2 [==============================] - 0s 107ms/step - loss: 0.0167 - val_loss: 0.0153\n",
            "Epoch 25/50\n",
            "2/2 [==============================] - 0s 111ms/step - loss: 0.0167 - val_loss: 0.0153\n",
            "Epoch 26/50\n",
            "2/2 [==============================] - 0s 113ms/step - loss: 0.0167 - val_loss: 0.0153\n",
            "Epoch 27/50\n",
            "2/2 [==============================] - 0s 110ms/step - loss: 0.0167 - val_loss: 0.0153\n",
            "Epoch 28/50\n",
            "2/2 [==============================] - 0s 116ms/step - loss: 0.0167 - val_loss: 0.0153\n",
            "Epoch 29/50\n",
            "2/2 [==============================] - 0s 116ms/step - loss: 0.0167 - val_loss: 0.0153\n",
            "Epoch 30/50\n",
            "2/2 [==============================] - 0s 111ms/step - loss: 0.0167 - val_loss: 0.0152\n",
            "Epoch 31/50\n",
            "2/2 [==============================] - 0s 110ms/step - loss: 0.0167 - val_loss: 0.0152\n",
            "Epoch 32/50\n",
            "2/2 [==============================] - 0s 111ms/step - loss: 0.0166 - val_loss: 0.0152\n",
            "Epoch 33/50\n",
            "2/2 [==============================] - 0s 115ms/step - loss: 0.0166 - val_loss: 0.0152\n",
            "Epoch 34/50\n",
            "2/2 [==============================] - 0s 123ms/step - loss: 0.0166 - val_loss: 0.0152\n",
            "Epoch 35/50\n",
            "2/2 [==============================] - 0s 111ms/step - loss: 0.0166 - val_loss: 0.0152\n",
            "Epoch 36/50\n",
            "2/2 [==============================] - 0s 112ms/step - loss: 0.0166 - val_loss: 0.0152\n",
            "Epoch 37/50\n",
            "2/2 [==============================] - 0s 110ms/step - loss: 0.0166 - val_loss: 0.0152\n",
            "Epoch 38/50\n",
            "2/2 [==============================] - 0s 111ms/step - loss: 0.0166 - val_loss: 0.0152\n",
            "Epoch 39/50\n",
            "2/2 [==============================] - 0s 112ms/step - loss: 0.0166 - val_loss: 0.0151\n",
            "Epoch 40/50\n",
            "2/2 [==============================] - 0s 109ms/step - loss: 0.0166 - val_loss: 0.0151\n",
            "Epoch 41/50\n",
            "2/2 [==============================] - 0s 110ms/step - loss: 0.0165 - val_loss: 0.0151\n",
            "Epoch 42/50\n",
            "2/2 [==============================] - 0s 110ms/step - loss: 0.0165 - val_loss: 0.0151\n",
            "Epoch 43/50\n",
            "2/2 [==============================] - 0s 109ms/step - loss: 0.0165 - val_loss: 0.0151\n",
            "Epoch 44/50\n",
            "2/2 [==============================] - 0s 112ms/step - loss: 0.0165 - val_loss: 0.0151\n",
            "Epoch 45/50\n",
            "2/2 [==============================] - 0s 110ms/step - loss: 0.0165 - val_loss: 0.0151\n",
            "Epoch 46/50\n",
            "2/2 [==============================] - 0s 108ms/step - loss: 0.0165 - val_loss: 0.0151\n",
            "Epoch 47/50\n",
            "2/2 [==============================] - 0s 108ms/step - loss: 0.0165 - val_loss: 0.0150\n",
            "Epoch 48/50\n",
            "2/2 [==============================] - 0s 111ms/step - loss: 0.0165 - val_loss: 0.0150\n",
            "Epoch 49/50\n",
            "2/2 [==============================] - 0s 115ms/step - loss: 0.0164 - val_loss: 0.0150\n",
            "Epoch 50/50\n",
            "2/2 [==============================] - 0s 102ms/step - loss: 0.0164 - val_loss: 0.0150\n"
          ]
        },
        {
          "output_type": "execute_result",
          "data": {
            "text/plain": [
              "<keras.callbacks.History at 0x7effb8db9e90>"
            ]
          },
          "metadata": {},
          "execution_count": 57
        }
      ]
    },
    {
      "cell_type": "code",
      "metadata": {
        "id": "OROOOvr9LRet",
        "colab": {
          "base_uri": "https://localhost:8080/"
        },
        "outputId": "97729b61-4ca0-48ce-a5a9-f00aabd7f6a5"
      },
      "source": [
        "preds = image_model.predict(testImagesX)\n",
        "\n",
        "diff = preds.flatten() - testY\n",
        "percentDiff = (diff / testY) * 100\n",
        "absPercentDiff = np.abs(percentDiff)\n",
        "\n",
        "mean = np.mean(absPercentDiff)\n",
        "std = np.std(absPercentDiff)\n",
        "\n",
        "print(\"[INFO] mean: {:.2f}%, std: {:.2f}\".format(mean, std))"
      ],
      "execution_count": 58,
      "outputs": [
        {
          "output_type": "stream",
          "name": "stdout",
          "text": [
            "WARNING:tensorflow:5 out of the last 13 calls to <function Model.make_predict_function.<locals>.predict_function at 0x7efeecf279e0> triggered tf.function retracing. Tracing is expensive and the excessive number of tracings could be due to (1) creating @tf.function repeatedly in a loop, (2) passing tensors with different shapes, (3) passing Python objects instead of tensors. For (1), please define your @tf.function outside of the loop. For (2), @tf.function has experimental_relax_shapes=True option that relaxes argument shapes that can avoid unnecessary retracing. For (3), please refer to https://www.tensorflow.org/guide/function#controlling_retracing and https://www.tensorflow.org/api_docs/python/tf/function for  more details.\n",
            "[INFO] mean: 100.23%, std: 0.26\n"
          ]
        }
      ]
    },
    {
      "cell_type": "markdown",
      "metadata": {
        "id": "k7DX0yusIn78"
      },
      "source": [
        "## 다중 입력 모델로 학습 실행"
      ]
    },
    {
      "cell_type": "code",
      "metadata": {
        "id": "P7iDDfb-LRb6"
      },
      "source": [
        "attr_input = Input(trainAttrX[0].shape)\n",
        "x = Dense(10, activation='relu')(attr_input)\n",
        "attr_out = Dense(10, activation='relu')(x)\n",
        "\n",
        "image_input = Input(trainImagesX[0].shape)\n",
        "x = Conv2D(32, (3,3), padding='same')(image_input)\n",
        "x = MaxPooling2D((2,2))(x)\n",
        "x = Conv2D(32, (3,3), padding='same')(x)\n",
        "x = MaxPooling2D((2,2))(x)\n",
        "x = Flatten()(x)\n",
        "x = Dense(64, activation='relu')(x)\n",
        "image_output = Dense(10, activation='relu')(x)\n",
        "\n",
        "combined_input = concatenate([attr_out, image_output])\n",
        "\n",
        "x = Dense(10, activation=\"relu\")(combined_input)\n",
        "output = Dense(1)(x)\n",
        "\n",
        "\n",
        "combined_model = Model([attr_input, image_input], output)"
      ],
      "execution_count": 66,
      "outputs": []
    },
    {
      "cell_type": "code",
      "metadata": {
        "id": "2fVpru2CLRYu",
        "colab": {
          "base_uri": "https://localhost:8080/"
        },
        "outputId": "73a5a33b-c22f-48f2-87c3-b615769344a7"
      },
      "source": [
        "combined_model.compile(optimizer=\"Adam\", loss=\"mse\")\n",
        "combined_model.summary()\n",
        "\n",
        "combined_model.fit([trainAttrX, trainImagesX], trainY, epochs=50, verbose=1, batch_size=128, validation_split=0.1)"
      ],
      "execution_count": 67,
      "outputs": [
        {
          "output_type": "stream",
          "name": "stdout",
          "text": [
            "Model: \"model_9\"\n",
            "__________________________________________________________________________________________________\n",
            " Layer (type)                   Output Shape         Param #     Connected to                     \n",
            "==================================================================================================\n",
            " input_17 (InputLayer)          [(None, 256, 256, 3  0           []                               \n",
            "                                )]                                                                \n",
            "                                                                                                  \n",
            " conv2d_20 (Conv2D)             (None, 256, 256, 32  896         ['input_17[0][0]']               \n",
            "                                )                                                                 \n",
            "                                                                                                  \n",
            " max_pooling2d_20 (MaxPooling2D  (None, 128, 128, 32  0          ['conv2d_20[0][0]']              \n",
            " )                              )                                                                 \n",
            "                                                                                                  \n",
            " conv2d_21 (Conv2D)             (None, 128, 128, 32  9248        ['max_pooling2d_20[0][0]']       \n",
            "                                )                                                                 \n",
            "                                                                                                  \n",
            " max_pooling2d_21 (MaxPooling2D  (None, 64, 64, 32)  0           ['conv2d_21[0][0]']              \n",
            " )                                                                                                \n",
            "                                                                                                  \n",
            " input_16 (InputLayer)          [(None, 10)]         0           []                               \n",
            "                                                                                                  \n",
            " flatten_10 (Flatten)           (None, 131072)       0           ['max_pooling2d_21[0][0]']       \n",
            "                                                                                                  \n",
            " dense_46 (Dense)               (None, 10)           110         ['input_16[0][0]']               \n",
            "                                                                                                  \n",
            " dense_48 (Dense)               (None, 64)           8388672     ['flatten_10[0][0]']             \n",
            "                                                                                                  \n",
            " dense_47 (Dense)               (None, 10)           110         ['dense_46[0][0]']               \n",
            "                                                                                                  \n",
            " dense_49 (Dense)               (None, 10)           650         ['dense_48[0][0]']               \n",
            "                                                                                                  \n",
            " concatenate_3 (Concatenate)    (None, 20)           0           ['dense_47[0][0]',               \n",
            "                                                                  'dense_49[0][0]']               \n",
            "                                                                                                  \n",
            " dense_50 (Dense)               (None, 10)           210         ['concatenate_3[0][0]']          \n",
            "                                                                                                  \n",
            " dense_51 (Dense)               (None, 1)            11          ['dense_50[0][0]']               \n",
            "                                                                                                  \n",
            "==================================================================================================\n",
            "Total params: 8,399,907\n",
            "Trainable params: 8,399,907\n",
            "Non-trainable params: 0\n",
            "__________________________________________________________________________________________________\n",
            "Epoch 1/50\n",
            "2/2 [==============================] - 1s 255ms/step - loss: 170.6057 - val_loss: 1.6435\n",
            "Epoch 2/50\n",
            "2/2 [==============================] - 0s 112ms/step - loss: 1.7200 - val_loss: 0.2604\n",
            "Epoch 3/50\n",
            "2/2 [==============================] - 0s 121ms/step - loss: 0.3627 - val_loss: 0.1741\n",
            "Epoch 4/50\n",
            "2/2 [==============================] - 0s 112ms/step - loss: 0.1082 - val_loss: 0.2393\n",
            "Epoch 5/50\n",
            "2/2 [==============================] - 0s 113ms/step - loss: 0.1972 - val_loss: 0.0968\n",
            "Epoch 6/50\n",
            "2/2 [==============================] - 0s 112ms/step - loss: 0.2977 - val_loss: 0.0189\n",
            "Epoch 7/50\n",
            "2/2 [==============================] - 0s 113ms/step - loss: 0.0355 - val_loss: 0.0471\n",
            "Epoch 8/50\n",
            "2/2 [==============================] - 0s 112ms/step - loss: 0.0354 - val_loss: 0.0071\n",
            "Epoch 9/50\n",
            "2/2 [==============================] - 0s 112ms/step - loss: 0.0090 - val_loss: 0.0065\n",
            "Epoch 10/50\n",
            "2/2 [==============================] - 0s 110ms/step - loss: 0.0089 - val_loss: 0.0065\n",
            "Epoch 11/50\n",
            "2/2 [==============================] - 0s 111ms/step - loss: 0.0091 - val_loss: 0.0067\n",
            "Epoch 12/50\n",
            "2/2 [==============================] - 0s 113ms/step - loss: 0.0096 - val_loss: 0.0070\n",
            "Epoch 13/50\n",
            "2/2 [==============================] - 0s 111ms/step - loss: 0.0099 - val_loss: 0.0071\n",
            "Epoch 14/50\n",
            "2/2 [==============================] - 0s 106ms/step - loss: 0.0100 - val_loss: 0.0070\n",
            "Epoch 15/50\n",
            "2/2 [==============================] - 0s 113ms/step - loss: 0.0098 - val_loss: 0.0068\n",
            "Epoch 16/50\n",
            "2/2 [==============================] - 0s 111ms/step - loss: 0.0094 - val_loss: 0.0065\n",
            "Epoch 17/50\n",
            "2/2 [==============================] - 0s 114ms/step - loss: 0.0090 - val_loss: 0.0064\n",
            "Epoch 18/50\n",
            "2/2 [==============================] - 0s 115ms/step - loss: 0.0088 - val_loss: 0.0064\n",
            "Epoch 19/50\n",
            "2/2 [==============================] - 0s 118ms/step - loss: 0.0087 - val_loss: 0.0065\n",
            "Epoch 20/50\n",
            "2/2 [==============================] - 0s 119ms/step - loss: 0.0088 - val_loss: 0.0067\n",
            "Epoch 21/50\n",
            "2/2 [==============================] - 0s 113ms/step - loss: 0.0089 - val_loss: 0.0068\n",
            "Epoch 22/50\n",
            "2/2 [==============================] - 0s 113ms/step - loss: 0.0089 - val_loss: 0.0068\n",
            "Epoch 23/50\n",
            "2/2 [==============================] - 0s 114ms/step - loss: 0.0089 - val_loss: 0.0067\n",
            "Epoch 24/50\n",
            "2/2 [==============================] - 0s 109ms/step - loss: 0.0088 - val_loss: 0.0066\n",
            "Epoch 25/50\n",
            "2/2 [==============================] - 0s 139ms/step - loss: 0.0087 - val_loss: 0.0064\n",
            "Epoch 26/50\n",
            "2/2 [==============================] - 0s 199ms/step - loss: 0.0086 - val_loss: 0.0063\n",
            "Epoch 27/50\n",
            "2/2 [==============================] - 0s 173ms/step - loss: 0.0086 - val_loss: 0.0063\n",
            "Epoch 28/50\n",
            "2/2 [==============================] - 0s 112ms/step - loss: 0.0086 - val_loss: 0.0062\n",
            "Epoch 29/50\n",
            "2/2 [==============================] - 0s 110ms/step - loss: 0.0086 - val_loss: 0.0062\n",
            "Epoch 30/50\n",
            "2/2 [==============================] - 0s 206ms/step - loss: 0.0086 - val_loss: 0.0062\n",
            "Epoch 31/50\n",
            "2/2 [==============================] - 0s 241ms/step - loss: 0.0086 - val_loss: 0.0062\n",
            "Epoch 32/50\n",
            "2/2 [==============================] - 0s 112ms/step - loss: 0.0085 - val_loss: 0.0062\n",
            "Epoch 33/50\n",
            "2/2 [==============================] - 0s 112ms/step - loss: 0.0085 - val_loss: 0.0062\n",
            "Epoch 34/50\n",
            "2/2 [==============================] - 0s 212ms/step - loss: 0.0085 - val_loss: 0.0063\n",
            "Epoch 35/50\n",
            "2/2 [==============================] - 0s 222ms/step - loss: 0.0085 - val_loss: 0.0063\n",
            "Epoch 36/50\n",
            "2/2 [==============================] - 0s 117ms/step - loss: 0.0084 - val_loss: 0.0063\n",
            "Epoch 37/50\n",
            "2/2 [==============================] - 0s 111ms/step - loss: 0.0084 - val_loss: 0.0062\n",
            "Epoch 38/50\n",
            "2/2 [==============================] - 0s 109ms/step - loss: 0.0084 - val_loss: 0.0062\n",
            "Epoch 39/50\n",
            "2/2 [==============================] - 0s 112ms/step - loss: 0.0084 - val_loss: 0.0062\n",
            "Epoch 40/50\n",
            "2/2 [==============================] - 0s 113ms/step - loss: 0.0084 - val_loss: 0.0062\n",
            "Epoch 41/50\n",
            "2/2 [==============================] - 0s 113ms/step - loss: 0.0084 - val_loss: 0.0061\n",
            "Epoch 42/50\n",
            "2/2 [==============================] - 0s 117ms/step - loss: 0.0083 - val_loss: 0.0061\n",
            "Epoch 43/50\n",
            "2/2 [==============================] - 0s 113ms/step - loss: 0.0083 - val_loss: 0.0061\n",
            "Epoch 44/50\n",
            "2/2 [==============================] - 0s 111ms/step - loss: 0.0083 - val_loss: 0.0061\n",
            "Epoch 45/50\n",
            "2/2 [==============================] - 0s 111ms/step - loss: 0.0083 - val_loss: 0.0061\n",
            "Epoch 46/50\n",
            "2/2 [==============================] - 0s 112ms/step - loss: 0.0083 - val_loss: 0.0061\n",
            "Epoch 47/50\n",
            "2/2 [==============================] - 0s 113ms/step - loss: 0.0082 - val_loss: 0.0061\n",
            "Epoch 48/50\n",
            "2/2 [==============================] - 0s 115ms/step - loss: 0.0082 - val_loss: 0.0061\n",
            "Epoch 49/50\n",
            "2/2 [==============================] - 0s 112ms/step - loss: 0.0082 - val_loss: 0.0061\n",
            "Epoch 50/50\n",
            "2/2 [==============================] - 0s 94ms/step - loss: 0.0082 - val_loss: 0.0061\n"
          ]
        },
        {
          "output_type": "execute_result",
          "data": {
            "text/plain": [
              "<keras.callbacks.History at 0x7eff1c02aa90>"
            ]
          },
          "metadata": {},
          "execution_count": 67
        }
      ]
    },
    {
      "cell_type": "code",
      "metadata": {
        "id": "cdJXO5maFwh0",
        "colab": {
          "base_uri": "https://localhost:8080/"
        },
        "outputId": "cd22b41e-6228-4881-ed6a-27cdd038b019"
      },
      "source": [
        "preds = combined_model.predict([testAttrX, testImagesX])\n",
        "\n",
        "diff = preds.flatten() - testY\n",
        "percentDiff = (diff / testY) * 100\n",
        "absPercentDiff = np.abs(percentDiff)\n",
        "\n",
        "mean = np.mean(absPercentDiff)\n",
        "std = np.std(absPercentDiff)\n",
        "\n",
        "print(\"[INFO] mean: {:.2f}%, std: {:.2f}\".format(mean, std))"
      ],
      "execution_count": 68,
      "outputs": [
        {
          "output_type": "stream",
          "name": "stdout",
          "text": [
            "[INFO] mean: 109.97%, std: 178.11\n"
          ]
        }
      ]
    },
    {
      "cell_type": "code",
      "metadata": {
        "id": "ZAh3boxuFwez"
      },
      "source": [
        ""
      ],
      "execution_count": 29,
      "outputs": []
    },
    {
      "cell_type": "markdown",
      "metadata": {
        "id": "ejOg9i5KMU28"
      },
      "source": [
        "# 다중 출력\n",
        "\n",
        "copy from https://www.pyimagesearch.com/2018/06/04/keras-multiple-outputs-and-multiple-losses/"
      ]
    },
    {
      "cell_type": "markdown",
      "metadata": {
        "id": "oLnb63o5ottv"
      },
      "source": [
        "## 데이터 준비"
      ]
    },
    {
      "cell_type": "code",
      "metadata": {
        "id": "FBXMpbDn76uf",
        "colab": {
          "base_uri": "https://localhost:8080/"
        },
        "outputId": "86b9808c-6491-4732-f86f-5f2e810d1cd4"
      },
      "source": [
        "!wget https://github.com/dhrim/cau_2022_summer/raw/master/material/deep_learning/fashion_dataset.zip"
      ],
      "execution_count": 30,
      "outputs": [
        {
          "output_type": "stream",
          "name": "stdout",
          "text": [
            "--2022-07-25 04:24:51--  https://github.com/dhrim/cau_2022_summer/raw/master/material/deep_learning/fashion_dataset.zip\n",
            "Resolving github.com (github.com)... 140.82.121.3\n",
            "Connecting to github.com (github.com)|140.82.121.3|:443... connected.\n",
            "HTTP request sent, awaiting response... 302 Found\n",
            "Location: https://raw.githubusercontent.com/dhrim/cau_2022_summer/master/material/deep_learning/fashion_dataset.zip [following]\n",
            "--2022-07-25 04:24:51--  https://raw.githubusercontent.com/dhrim/cau_2022_summer/master/material/deep_learning/fashion_dataset.zip\n",
            "Resolving raw.githubusercontent.com (raw.githubusercontent.com)... 185.199.111.133, 185.199.108.133, 185.199.109.133, ...\n",
            "Connecting to raw.githubusercontent.com (raw.githubusercontent.com)|185.199.111.133|:443... connected.\n",
            "HTTP request sent, awaiting response... 200 OK\n",
            "Length: 26991216 (26M) [application/zip]\n",
            "Saving to: ‘fashion_dataset.zip’\n",
            "\n",
            "fashion_dataset.zip 100%[===================>]  25.74M  --.-KB/s    in 0.08s   \n",
            "\n",
            "2022-07-25 04:24:52 (316 MB/s) - ‘fashion_dataset.zip’ saved [26991216/26991216]\n",
            "\n"
          ]
        }
      ]
    },
    {
      "cell_type": "code",
      "metadata": {
        "id": "mFt96FMqvjah",
        "colab": {
          "base_uri": "https://localhost:8080/"
        },
        "outputId": "1e9a3102-1838-4ce3-f6bf-13c7d1597ab7"
      },
      "source": [
        "!ls -alh"
      ],
      "execution_count": 31,
      "outputs": [
        {
          "output_type": "stream",
          "name": "stdout",
          "text": [
            "total 26M\n",
            "drwxr-xr-x 1 root root 4.0K Jul 25 04:24 .\n",
            "drwxr-xr-x 1 root root 4.0K Jul 25 04:10 ..\n",
            "drwxr-xr-x 4 root root 4.0K Jul 13 13:42 .config\n",
            "-rw-r--r-- 1 root root  26M Jul 25 04:24 fashion_dataset.zip\n",
            "drwxr-xr-x 4 root root 4.0K Jul 25 04:23 Houses-dataset\n",
            "drwxr-xr-x 1 root root 4.0K Jul 13 13:43 sample_data\n"
          ]
        }
      ]
    },
    {
      "cell_type": "code",
      "metadata": {
        "id": "zYCavDIjh5RK",
        "colab": {
          "base_uri": "https://localhost:8080/"
        },
        "outputId": "ae693e83-ea85-4fb7-d292-eb5ab7e1ce20"
      },
      "source": [
        "!unzip fashion_dataset.zip"
      ],
      "execution_count": 32,
      "outputs": [
        {
          "output_type": "stream",
          "name": "stdout",
          "text": [
            "Archive:  fashion_dataset.zip\n",
            "   creating: fashion_dataset/\n",
            "   creating: fashion_dataset/black_jeans/\n",
            "  inflating: fashion_dataset/black_jeans/00000000.jpg  \n",
            "   creating: __MACOSX/\n",
            "   creating: __MACOSX/fashion_dataset/\n",
            "   creating: __MACOSX/fashion_dataset/black_jeans/\n",
            "  inflating: __MACOSX/fashion_dataset/black_jeans/._00000000.jpg  \n",
            "  inflating: fashion_dataset/black_jeans/00000004.jpg  \n",
            "  inflating: __MACOSX/fashion_dataset/black_jeans/._00000004.jpg  \n",
            "  inflating: fashion_dataset/black_jeans/00000006.jpg  \n",
            "  inflating: __MACOSX/fashion_dataset/black_jeans/._00000006.jpg  \n",
            "  inflating: fashion_dataset/black_jeans/00000007.jpg  \n",
            "  inflating: __MACOSX/fashion_dataset/black_jeans/._00000007.jpg  \n",
            "  inflating: fashion_dataset/black_jeans/00000009.jpg  \n",
            "  inflating: __MACOSX/fashion_dataset/black_jeans/._00000009.jpg  \n",
            "  inflating: fashion_dataset/black_jeans/00000010.jpg  \n",
            "  inflating: __MACOSX/fashion_dataset/black_jeans/._00000010.jpg  \n",
            "  inflating: fashion_dataset/black_jeans/00000011.jpg  \n",
            "  inflating: __MACOSX/fashion_dataset/black_jeans/._00000011.jpg  \n",
            "  inflating: fashion_dataset/black_jeans/00000014.jpg  \n",
            "  inflating: __MACOSX/fashion_dataset/black_jeans/._00000014.jpg  \n",
            "  inflating: fashion_dataset/black_jeans/00000015.jpg  \n",
            "  inflating: __MACOSX/fashion_dataset/black_jeans/._00000015.jpg  \n",
            "  inflating: fashion_dataset/black_jeans/00000016.jpg  \n",
            "  inflating: __MACOSX/fashion_dataset/black_jeans/._00000016.jpg  \n",
            "  inflating: fashion_dataset/black_jeans/00000017.jpg  \n",
            "  inflating: __MACOSX/fashion_dataset/black_jeans/._00000017.jpg  \n",
            "  inflating: fashion_dataset/black_jeans/00000018.jpg  \n",
            "  inflating: __MACOSX/fashion_dataset/black_jeans/._00000018.jpg  \n",
            "  inflating: fashion_dataset/black_jeans/00000019.jpg  \n",
            "  inflating: __MACOSX/fashion_dataset/black_jeans/._00000019.jpg  \n",
            "  inflating: fashion_dataset/black_jeans/00000040.jpg  \n",
            "  inflating: __MACOSX/fashion_dataset/black_jeans/._00000040.jpg  \n",
            "  inflating: fashion_dataset/black_jeans/00000041.jpg  \n",
            "  inflating: __MACOSX/fashion_dataset/black_jeans/._00000041.jpg  \n",
            "  inflating: fashion_dataset/black_jeans/00000047.jpg  \n",
            "  inflating: __MACOSX/fashion_dataset/black_jeans/._00000047.jpg  \n",
            "  inflating: fashion_dataset/black_jeans/00000048.jpg  \n",
            "  inflating: __MACOSX/fashion_dataset/black_jeans/._00000048.jpg  \n",
            "  inflating: fashion_dataset/black_jeans/00000049.jpg  \n",
            "  inflating: __MACOSX/fashion_dataset/black_jeans/._00000049.jpg  \n",
            "  inflating: fashion_dataset/black_jeans/00000051.jpg  \n",
            "  inflating: __MACOSX/fashion_dataset/black_jeans/._00000051.jpg  \n",
            "  inflating: fashion_dataset/black_jeans/00000054.jpg  \n",
            "  inflating: __MACOSX/fashion_dataset/black_jeans/._00000054.jpg  \n",
            "  inflating: fashion_dataset/black_jeans/00000055.jpg  \n",
            "  inflating: __MACOSX/fashion_dataset/black_jeans/._00000055.jpg  \n",
            "  inflating: fashion_dataset/black_jeans/00000056.jpg  \n",
            "  inflating: __MACOSX/fashion_dataset/black_jeans/._00000056.jpg  \n",
            "  inflating: fashion_dataset/black_jeans/00000057.jpg  \n",
            "  inflating: __MACOSX/fashion_dataset/black_jeans/._00000057.jpg  \n",
            "  inflating: fashion_dataset/black_jeans/00000060.jpg  \n",
            "  inflating: __MACOSX/fashion_dataset/black_jeans/._00000060.jpg  \n",
            "  inflating: fashion_dataset/black_jeans/00000061.jpg  \n",
            "  inflating: __MACOSX/fashion_dataset/black_jeans/._00000061.jpg  \n",
            "  inflating: fashion_dataset/black_jeans/00000064.jpg  \n",
            "  inflating: __MACOSX/fashion_dataset/black_jeans/._00000064.jpg  \n",
            "  inflating: fashion_dataset/black_jeans/00000065.jpg  \n",
            "  inflating: __MACOSX/fashion_dataset/black_jeans/._00000065.jpg  \n",
            "  inflating: fashion_dataset/black_jeans/00000066.jpg  \n",
            "  inflating: __MACOSX/fashion_dataset/black_jeans/._00000066.jpg  \n",
            "  inflating: fashion_dataset/black_jeans/00000067.jpg  \n",
            "  inflating: __MACOSX/fashion_dataset/black_jeans/._00000067.jpg  \n",
            "  inflating: fashion_dataset/black_jeans/00000068.jpg  \n",
            "  inflating: __MACOSX/fashion_dataset/black_jeans/._00000068.jpg  \n",
            "  inflating: fashion_dataset/black_jeans/00000071.jpg  \n",
            "  inflating: __MACOSX/fashion_dataset/black_jeans/._00000071.jpg  \n",
            "  inflating: fashion_dataset/black_jeans/00000074.jpg  \n",
            "  inflating: __MACOSX/fashion_dataset/black_jeans/._00000074.jpg  \n",
            "  inflating: fashion_dataset/black_jeans/00000075.jpg  \n",
            "  inflating: __MACOSX/fashion_dataset/black_jeans/._00000075.jpg  \n",
            "  inflating: fashion_dataset/black_jeans/00000076.jpg  \n",
            "  inflating: __MACOSX/fashion_dataset/black_jeans/._00000076.jpg  \n",
            "  inflating: fashion_dataset/black_jeans/00000078.jpg  \n",
            "  inflating: __MACOSX/fashion_dataset/black_jeans/._00000078.jpg  \n",
            "  inflating: fashion_dataset/black_jeans/00000079.png  \n",
            "  inflating: __MACOSX/fashion_dataset/black_jeans/._00000079.png  \n",
            "  inflating: fashion_dataset/black_jeans/00000080.jpg  \n",
            "  inflating: __MACOSX/fashion_dataset/black_jeans/._00000080.jpg  \n",
            "  inflating: fashion_dataset/black_jeans/00000081.jpg  \n",
            "  inflating: __MACOSX/fashion_dataset/black_jeans/._00000081.jpg  \n",
            "  inflating: fashion_dataset/black_jeans/00000084.jpg  \n",
            "  inflating: __MACOSX/fashion_dataset/black_jeans/._00000084.jpg  \n",
            "  inflating: fashion_dataset/black_jeans/00000085.jpg  \n",
            "  inflating: __MACOSX/fashion_dataset/black_jeans/._00000085.jpg  \n",
            "  inflating: fashion_dataset/black_jeans/00000086.jpg  \n",
            "  inflating: __MACOSX/fashion_dataset/black_jeans/._00000086.jpg  \n",
            "  inflating: fashion_dataset/black_jeans/00000088.jpg  \n",
            "  inflating: __MACOSX/fashion_dataset/black_jeans/._00000088.jpg  \n",
            "  inflating: fashion_dataset/black_jeans/00000089.jpg  \n",
            "  inflating: __MACOSX/fashion_dataset/black_jeans/._00000089.jpg  \n",
            "  inflating: fashion_dataset/black_jeans/00000090.jpg  \n",
            "  inflating: __MACOSX/fashion_dataset/black_jeans/._00000090.jpg  \n",
            "  inflating: fashion_dataset/black_jeans/00000094.jpg  \n",
            "  inflating: __MACOSX/fashion_dataset/black_jeans/._00000094.jpg  \n",
            "  inflating: fashion_dataset/black_jeans/00000095.jpg  \n",
            "  inflating: __MACOSX/fashion_dataset/black_jeans/._00000095.jpg  \n",
            "  inflating: fashion_dataset/black_jeans/00000096.jpg  \n",
            "  inflating: __MACOSX/fashion_dataset/black_jeans/._00000096.jpg  \n",
            "  inflating: fashion_dataset/black_jeans/00000097.jpg  \n",
            "  inflating: __MACOSX/fashion_dataset/black_jeans/._00000097.jpg  \n",
            "  inflating: fashion_dataset/black_jeans/00000098.jpg  \n",
            "  inflating: __MACOSX/fashion_dataset/black_jeans/._00000098.jpg  \n",
            "  inflating: fashion_dataset/black_jeans/00000100.jpg  \n",
            "  inflating: __MACOSX/fashion_dataset/black_jeans/._00000100.jpg  \n",
            "  inflating: fashion_dataset/black_jeans/00000101.jpg  \n",
            "  inflating: __MACOSX/fashion_dataset/black_jeans/._00000101.jpg  \n",
            "  inflating: fashion_dataset/black_jeans/00000104.jpg  \n",
            "  inflating: __MACOSX/fashion_dataset/black_jeans/._00000104.jpg  \n",
            "  inflating: fashion_dataset/black_jeans/00000105.jpg  \n",
            "  inflating: __MACOSX/fashion_dataset/black_jeans/._00000105.jpg  \n",
            "  inflating: fashion_dataset/black_jeans/00000107.jpg  \n",
            "  inflating: __MACOSX/fashion_dataset/black_jeans/._00000107.jpg  \n",
            "  inflating: fashion_dataset/black_jeans/00000108.jpg  \n",
            "  inflating: __MACOSX/fashion_dataset/black_jeans/._00000108.jpg  \n",
            "  inflating: fashion_dataset/black_jeans/00000110.jpg  \n",
            "  inflating: __MACOSX/fashion_dataset/black_jeans/._00000110.jpg  \n",
            "  inflating: fashion_dataset/black_jeans/00000111.jpg  \n",
            "  inflating: __MACOSX/fashion_dataset/black_jeans/._00000111.jpg  \n",
            "  inflating: fashion_dataset/black_jeans/00000117.jpg  \n",
            "  inflating: __MACOSX/fashion_dataset/black_jeans/._00000117.jpg  \n",
            "  inflating: fashion_dataset/black_jeans/00000118.jpg  \n",
            "  inflating: __MACOSX/fashion_dataset/black_jeans/._00000118.jpg  \n",
            "  inflating: fashion_dataset/black_jeans/00000140.jpg  \n",
            "  inflating: __MACOSX/fashion_dataset/black_jeans/._00000140.jpg  \n",
            "  inflating: fashion_dataset/black_jeans/00000141.jpg  \n",
            "  inflating: __MACOSX/fashion_dataset/black_jeans/._00000141.jpg  \n",
            "  inflating: fashion_dataset/black_jeans/00000144.jpg  \n",
            "  inflating: __MACOSX/fashion_dataset/black_jeans/._00000144.jpg  \n",
            "  inflating: fashion_dataset/black_jeans/00000145.jpg  \n",
            "  inflating: __MACOSX/fashion_dataset/black_jeans/._00000145.jpg  \n",
            "  inflating: fashion_dataset/black_jeans/00000146.jpg  \n",
            "  inflating: __MACOSX/fashion_dataset/black_jeans/._00000146.jpg  \n",
            "  inflating: fashion_dataset/black_jeans/00000148.jpg  \n",
            "  inflating: __MACOSX/fashion_dataset/black_jeans/._00000148.jpg  \n",
            "  inflating: fashion_dataset/black_jeans/00000149.jpg  \n",
            "  inflating: __MACOSX/fashion_dataset/black_jeans/._00000149.jpg  \n",
            "  inflating: fashion_dataset/black_jeans/00000150.jpg  \n",
            "  inflating: __MACOSX/fashion_dataset/black_jeans/._00000150.jpg  \n",
            "  inflating: fashion_dataset/black_jeans/00000151.jpg  \n",
            "  inflating: __MACOSX/fashion_dataset/black_jeans/._00000151.jpg  \n",
            "  inflating: fashion_dataset/black_jeans/00000155.jpg  \n",
            "  inflating: __MACOSX/fashion_dataset/black_jeans/._00000155.jpg  \n",
            "  inflating: fashion_dataset/black_jeans/00000156.jpg  \n",
            "  inflating: __MACOSX/fashion_dataset/black_jeans/._00000156.jpg  \n",
            "  inflating: fashion_dataset/black_jeans/00000157.jpg  \n",
            "  inflating: __MACOSX/fashion_dataset/black_jeans/._00000157.jpg  \n",
            "  inflating: fashion_dataset/black_jeans/00000159.jpg  \n",
            "  inflating: __MACOSX/fashion_dataset/black_jeans/._00000159.jpg  \n",
            "  inflating: fashion_dataset/black_jeans/00000160.jpg  \n",
            "  inflating: __MACOSX/fashion_dataset/black_jeans/._00000160.jpg  \n",
            "  inflating: fashion_dataset/black_jeans/00000164.JPG  \n",
            "  inflating: __MACOSX/fashion_dataset/black_jeans/._00000164.JPG  \n",
            "  inflating: fashion_dataset/black_jeans/00000166.jpg  \n",
            "  inflating: __MACOSX/fashion_dataset/black_jeans/._00000166.jpg  \n",
            "  inflating: fashion_dataset/black_jeans/00000167.jpg  \n",
            "  inflating: __MACOSX/fashion_dataset/black_jeans/._00000167.jpg  \n",
            "  inflating: fashion_dataset/black_jeans/00000168.jpg  \n",
            "  inflating: __MACOSX/fashion_dataset/black_jeans/._00000168.jpg  \n",
            "  inflating: fashion_dataset/black_jeans/00000169.png  \n",
            "  inflating: __MACOSX/fashion_dataset/black_jeans/._00000169.png  \n",
            "  inflating: fashion_dataset/black_jeans/00000171.jpg  \n",
            "  inflating: __MACOSX/fashion_dataset/black_jeans/._00000171.jpg  \n",
            "  inflating: fashion_dataset/black_jeans/00000176.jpg  \n",
            "  inflating: __MACOSX/fashion_dataset/black_jeans/._00000176.jpg  \n",
            "  inflating: fashion_dataset/black_jeans/00000177.jpg  \n",
            "  inflating: __MACOSX/fashion_dataset/black_jeans/._00000177.jpg  \n",
            "  inflating: fashion_dataset/black_jeans/00000184.jpg  \n",
            "  inflating: __MACOSX/fashion_dataset/black_jeans/._00000184.jpg  \n",
            "  inflating: fashion_dataset/black_jeans/00000185.jpg  \n",
            "  inflating: __MACOSX/fashion_dataset/black_jeans/._00000185.jpg  \n",
            "  inflating: fashion_dataset/black_jeans/00000186.jpg  \n",
            "  inflating: __MACOSX/fashion_dataset/black_jeans/._00000186.jpg  \n",
            "  inflating: fashion_dataset/black_jeans/00000189.jpg  \n",
            "  inflating: __MACOSX/fashion_dataset/black_jeans/._00000189.jpg  \n",
            "  inflating: fashion_dataset/black_jeans/00000190.jpg  \n",
            "  inflating: __MACOSX/fashion_dataset/black_jeans/._00000190.jpg  \n",
            "  inflating: fashion_dataset/black_jeans/00000191.jpg  \n",
            "  inflating: __MACOSX/fashion_dataset/black_jeans/._00000191.jpg  \n",
            "  inflating: fashion_dataset/black_jeans/00000194.jpg  \n",
            "  inflating: __MACOSX/fashion_dataset/black_jeans/._00000194.jpg  \n",
            "  inflating: fashion_dataset/black_jeans/00000195.jpg  \n",
            "  inflating: __MACOSX/fashion_dataset/black_jeans/._00000195.jpg  \n",
            "  inflating: fashion_dataset/black_jeans/00000196.jpg  \n",
            "  inflating: __MACOSX/fashion_dataset/black_jeans/._00000196.jpg  \n",
            "  inflating: fashion_dataset/black_jeans/00000197.jpg  \n",
            "  inflating: __MACOSX/fashion_dataset/black_jeans/._00000197.jpg  \n",
            "  inflating: fashion_dataset/black_jeans/00000198.jpg  \n",
            "  inflating: __MACOSX/fashion_dataset/black_jeans/._00000198.jpg  \n",
            "  inflating: fashion_dataset/black_jeans/00000199.jpg  \n",
            "  inflating: __MACOSX/fashion_dataset/black_jeans/._00000199.jpg  \n",
            "   creating: fashion_dataset/black_shoes/\n",
            "  inflating: fashion_dataset/black_shoes/00000000.jpg  \n",
            "  inflating: fashion_dataset/black_shoes/00000001.jpg  \n",
            "  inflating: fashion_dataset/black_shoes/00000004.jpg  \n",
            "  inflating: fashion_dataset/black_shoes/00000005.jpg  \n",
            "  inflating: fashion_dataset/black_shoes/00000006.jpg  \n",
            "  inflating: fashion_dataset/black_shoes/00000007.jpg  \n",
            "  inflating: fashion_dataset/black_shoes/00000008.jpg  \n",
            "  inflating: fashion_dataset/black_shoes/00000009.jpg  \n",
            "  inflating: fashion_dataset/black_shoes/00000010.jpg  \n",
            "  inflating: fashion_dataset/black_shoes/00000011.jpg  \n",
            "  inflating: fashion_dataset/black_shoes/00000015.jpg  \n",
            "  inflating: fashion_dataset/black_shoes/00000016.jpg  \n",
            "  inflating: fashion_dataset/black_shoes/00000017.jpg  \n",
            "  inflating: fashion_dataset/black_shoes/00000018.jpg  \n",
            "  inflating: fashion_dataset/black_shoes/00000019.jpg  \n",
            "  inflating: fashion_dataset/black_shoes/00000040.jpg  \n",
            "  inflating: fashion_dataset/black_shoes/00000041.jpg  \n",
            "  inflating: fashion_dataset/black_shoes/00000044.jpg  \n",
            "  inflating: fashion_dataset/black_shoes/00000045.jpg  \n",
            "  inflating: fashion_dataset/black_shoes/00000048.jpg  \n",
            "  inflating: fashion_dataset/black_shoes/00000049.jpg  \n",
            "  inflating: fashion_dataset/black_shoes/00000051.jpg  \n",
            "  inflating: fashion_dataset/black_shoes/00000054.jpg  \n",
            "  inflating: fashion_dataset/black_shoes/00000055.jpg  \n",
            "  inflating: fashion_dataset/black_shoes/00000056.jpg  \n",
            "  inflating: fashion_dataset/black_shoes/00000057.jpg  \n",
            "  inflating: fashion_dataset/black_shoes/00000059.jpg  \n",
            "  inflating: fashion_dataset/black_shoes/00000060.jpg  \n",
            "  inflating: fashion_dataset/black_shoes/00000061.jpg  \n",
            "  inflating: fashion_dataset/black_shoes/00000064.jpg  \n",
            "  inflating: fashion_dataset/black_shoes/00000065.jpg  \n",
            "  inflating: fashion_dataset/black_shoes/00000066.jpg  \n",
            "  inflating: fashion_dataset/black_shoes/00000067.png  \n",
            "  inflating: fashion_dataset/black_shoes/00000068.jpg  \n",
            "  inflating: fashion_dataset/black_shoes/00000069.jpg  \n",
            "  inflating: fashion_dataset/black_shoes/00000070.jpg  \n",
            "  inflating: fashion_dataset/black_shoes/00000071.jpg  \n",
            "  inflating: fashion_dataset/black_shoes/00000075.jpg  \n",
            "  inflating: fashion_dataset/black_shoes/00000076.jpg  \n",
            "  inflating: fashion_dataset/black_shoes/00000078.jpg  \n",
            "  inflating: fashion_dataset/black_shoes/00000079.jpg  \n",
            "  inflating: fashion_dataset/black_shoes/00000080.jpg  \n",
            "  inflating: fashion_dataset/black_shoes/00000081.jpg  \n",
            "  inflating: fashion_dataset/black_shoes/00000084.JPG  \n",
            "  inflating: fashion_dataset/black_shoes/00000086.jpg  \n",
            "  inflating: fashion_dataset/black_shoes/00000087.jpg  \n",
            "  inflating: fashion_dataset/black_shoes/00000088.jpg  \n",
            "  inflating: fashion_dataset/black_shoes/00000089.jpg  \n",
            "  inflating: fashion_dataset/black_shoes/00000090.jpg  \n",
            "  inflating: fashion_dataset/black_shoes/00000091.jpg  \n",
            "  inflating: fashion_dataset/black_shoes/00000094.jpg  \n",
            "  inflating: fashion_dataset/black_shoes/00000095.jpg  \n",
            "  inflating: fashion_dataset/black_shoes/00000096.jpg  \n",
            "  inflating: fashion_dataset/black_shoes/00000097.jpg  \n",
            "  inflating: fashion_dataset/black_shoes/00000098.jpg  \n",
            "  inflating: fashion_dataset/black_shoes/00000099.jpg  \n",
            "  inflating: fashion_dataset/black_shoes/00000100.jpg  \n",
            "  inflating: fashion_dataset/black_shoes/00000104.jpg  \n",
            "  inflating: fashion_dataset/black_shoes/00000105.jpg  \n",
            "  inflating: fashion_dataset/black_shoes/00000106.jpg  \n",
            "  inflating: fashion_dataset/black_shoes/00000107.jpg  \n",
            "  inflating: fashion_dataset/black_shoes/00000108.jpg  \n",
            "  inflating: fashion_dataset/black_shoes/00000109.jpg  \n",
            "  inflating: fashion_dataset/black_shoes/00000110.jpg  \n",
            "  inflating: fashion_dataset/black_shoes/00000111.jpg  \n",
            "  inflating: fashion_dataset/black_shoes/00000114.jpg  \n",
            "  inflating: fashion_dataset/black_shoes/00000115.jpg  \n",
            "  inflating: fashion_dataset/black_shoes/00000116.png  \n",
            "  inflating: fashion_dataset/black_shoes/00000117.jpg  \n",
            "  inflating: fashion_dataset/black_shoes/00000118.jpg  \n",
            "  inflating: fashion_dataset/black_shoes/00000119.jpg  \n",
            "  inflating: fashion_dataset/black_shoes/00000140.jpg  \n",
            "  inflating: fashion_dataset/black_shoes/00000141.jpg  \n",
            "  inflating: fashion_dataset/black_shoes/00000144.jpg  \n",
            "  inflating: fashion_dataset/black_shoes/00000145.JPG  \n",
            "  inflating: fashion_dataset/black_shoes/00000146.jpg  \n",
            "  inflating: fashion_dataset/black_shoes/00000147.jpg  \n",
            "  inflating: fashion_dataset/black_shoes/00000148.jpg  \n",
            "  inflating: fashion_dataset/black_shoes/00000149.jpg  \n",
            "  inflating: fashion_dataset/black_shoes/00000150.jpg  \n",
            "  inflating: fashion_dataset/black_shoes/00000151.jpg  \n",
            "  inflating: fashion_dataset/black_shoes/00000154.jpg  \n",
            "  inflating: fashion_dataset/black_shoes/00000156.JPG  \n",
            "  inflating: fashion_dataset/black_shoes/00000157.jpg  \n",
            "  inflating: fashion_dataset/black_shoes/00000158.jpg  \n",
            "  inflating: fashion_dataset/black_shoes/00000159.jpg  \n",
            "  inflating: fashion_dataset/black_shoes/00000160.jpg  \n",
            "  inflating: fashion_dataset/black_shoes/00000161.jpg  \n",
            "  inflating: fashion_dataset/black_shoes/00000165.jpg  \n",
            "  inflating: fashion_dataset/black_shoes/00000166.jpg  \n",
            "  inflating: fashion_dataset/black_shoes/00000168.jpg  \n",
            "  inflating: fashion_dataset/black_shoes/00000169.jpg  \n",
            "  inflating: fashion_dataset/black_shoes/00000170.jpg  \n",
            "  inflating: fashion_dataset/black_shoes/00000171.jpg  \n",
            "  inflating: fashion_dataset/black_shoes/00000174.jpg  \n",
            "  inflating: fashion_dataset/black_shoes/00000175.jpg  \n",
            "  inflating: fashion_dataset/black_shoes/00000176.jpg  \n",
            "  inflating: fashion_dataset/black_shoes/00000177.jpg  \n",
            "  inflating: fashion_dataset/black_shoes/00000179.jpg  \n",
            "  inflating: fashion_dataset/black_shoes/00000180.jpg  \n",
            "  inflating: fashion_dataset/black_shoes/00000181.jpg  \n",
            "  inflating: fashion_dataset/black_shoes/00000185.jpg  \n",
            "  inflating: fashion_dataset/black_shoes/00000186.jpg  \n",
            "  inflating: fashion_dataset/black_shoes/00000187.jpg  \n",
            "  inflating: fashion_dataset/black_shoes/00000188.jpg  \n",
            "  inflating: fashion_dataset/black_shoes/00000189.jpg  \n",
            "  inflating: fashion_dataset/black_shoes/00000190.jpg  \n",
            "  inflating: fashion_dataset/black_shoes/00000191.jpg  \n",
            "  inflating: fashion_dataset/black_shoes/00000194.jpg  \n",
            "  inflating: fashion_dataset/black_shoes/00000195.jpg  \n",
            "  inflating: fashion_dataset/black_shoes/00000196.jpg  \n",
            "  inflating: fashion_dataset/black_shoes/00000198.jpg  \n",
            "  inflating: fashion_dataset/black_shoes/00000199.gif  \n",
            "   creating: fashion_dataset/blue_dress/\n",
            "  inflating: fashion_dataset/blue_dress/00000000.jpg  \n",
            "  inflating: fashion_dataset/blue_dress/00000001.jpg  \n",
            "  inflating: fashion_dataset/blue_dress/00000004.jpg  \n",
            "  inflating: fashion_dataset/blue_dress/00000005.jpg  \n",
            "  inflating: fashion_dataset/blue_dress/00000007.jpg  \n",
            "  inflating: fashion_dataset/blue_dress/00000008.jpg  \n",
            "  inflating: fashion_dataset/blue_dress/00000009.jpg  \n",
            "  inflating: fashion_dataset/blue_dress/00000010.jpg  \n",
            "  inflating: fashion_dataset/blue_dress/00000011.jpg  \n",
            "  inflating: fashion_dataset/blue_dress/00000014.jpg  \n",
            "  inflating: fashion_dataset/blue_dress/00000015.jpg  \n",
            "  inflating: fashion_dataset/blue_dress/00000016.jpg  \n",
            "  inflating: fashion_dataset/blue_dress/00000017.jpg  \n",
            "  inflating: fashion_dataset/blue_dress/00000018.jpg  \n",
            "  inflating: fashion_dataset/blue_dress/00000019.jpg  \n",
            "  inflating: fashion_dataset/blue_dress/00000040.jpg  \n",
            "  inflating: fashion_dataset/blue_dress/00000044.jpg  \n",
            "  inflating: fashion_dataset/blue_dress/00000045.jpg  \n",
            "  inflating: fashion_dataset/blue_dress/00000046.jpg  \n",
            "  inflating: fashion_dataset/blue_dress/00000047.jpg  \n",
            "  inflating: fashion_dataset/blue_dress/00000048.jpg  \n",
            "  inflating: fashion_dataset/blue_dress/00000049.jpg  \n",
            "  inflating: fashion_dataset/blue_dress/00000050.jpg  \n",
            "  inflating: fashion_dataset/blue_dress/00000051.jpg  \n",
            "  inflating: fashion_dataset/blue_dress/00000054.jpg  \n",
            "  inflating: fashion_dataset/blue_dress/00000056.jpg  \n",
            "  inflating: fashion_dataset/blue_dress/00000057.jpg  \n",
            "  inflating: fashion_dataset/blue_dress/00000058.jpg  \n",
            "  inflating: fashion_dataset/blue_dress/00000059.jpg  \n",
            "  inflating: fashion_dataset/blue_dress/00000060.jpg  \n",
            "  inflating: fashion_dataset/blue_dress/00000061.jpg  \n",
            "  inflating: fashion_dataset/blue_dress/00000064.jpg  \n",
            "  inflating: fashion_dataset/blue_dress/00000065.jpg  \n",
            "  inflating: fashion_dataset/blue_dress/00000066.jpg  \n",
            "  inflating: fashion_dataset/blue_dress/00000067.jpg  \n",
            "  inflating: fashion_dataset/blue_dress/00000068.jpg  \n",
            "  inflating: fashion_dataset/blue_dress/00000069.jpg  \n",
            "  inflating: fashion_dataset/blue_dress/00000071.jpg  \n",
            "  inflating: fashion_dataset/blue_dress/00000074.jpg  \n",
            "  inflating: fashion_dataset/blue_dress/00000075.jpg  \n",
            "  inflating: fashion_dataset/blue_dress/00000076.jpg  \n",
            "  inflating: fashion_dataset/blue_dress/00000077.jpg  \n",
            "  inflating: fashion_dataset/blue_dress/00000079.jpg  \n",
            "  inflating: fashion_dataset/blue_dress/00000080.jpg  \n",
            "  inflating: fashion_dataset/blue_dress/00000081.jpg  \n",
            "  inflating: fashion_dataset/blue_dress/00000084.jpg  \n",
            "  inflating: fashion_dataset/blue_dress/00000085.jpg  \n",
            "  inflating: fashion_dataset/blue_dress/00000086.jpg  \n",
            "  inflating: fashion_dataset/blue_dress/00000087.jpg  \n",
            "  inflating: fashion_dataset/blue_dress/00000088.jpg  \n",
            "  inflating: fashion_dataset/blue_dress/00000089.jpg  \n",
            "  inflating: fashion_dataset/blue_dress/00000090.jpg  \n",
            "  inflating: fashion_dataset/blue_dress/00000091.jpg  \n",
            "  inflating: fashion_dataset/blue_dress/00000094.jpg  \n",
            "  inflating: fashion_dataset/blue_dress/00000095.jpg  \n",
            "  inflating: fashion_dataset/blue_dress/00000097.jpg  \n",
            "  inflating: fashion_dataset/blue_dress/00000100.jpg  \n",
            "  inflating: fashion_dataset/blue_dress/00000101.jpg  \n",
            "  inflating: fashion_dataset/blue_dress/00000104.jpg  \n",
            "  inflating: fashion_dataset/blue_dress/00000105.jpg  \n",
            "  inflating: fashion_dataset/blue_dress/00000106.jpg  \n",
            "  inflating: fashion_dataset/blue_dress/00000107.jpg  \n",
            "  inflating: fashion_dataset/blue_dress/00000108.jpg  \n",
            "  inflating: fashion_dataset/blue_dress/00000109.jpg  \n",
            "  inflating: fashion_dataset/blue_dress/00000110.jpg  \n",
            "  inflating: fashion_dataset/blue_dress/00000111.jpg  \n",
            "  inflating: fashion_dataset/blue_dress/00000114.jpg  \n",
            "  inflating: fashion_dataset/blue_dress/00000115.jpg  \n",
            "  inflating: fashion_dataset/blue_dress/00000116.jpg  \n",
            "  inflating: fashion_dataset/blue_dress/00000117.jpg  \n",
            "  inflating: fashion_dataset/blue_dress/00000118.jpg  \n",
            "  inflating: fashion_dataset/blue_dress/00000119.jpg  \n",
            "  inflating: fashion_dataset/blue_dress/00000141.jpg  \n",
            "  inflating: fashion_dataset/blue_dress/00000144.jpg  \n",
            "  inflating: fashion_dataset/blue_dress/00000146.jpg  \n",
            "  inflating: fashion_dataset/blue_dress/00000147.jpg  \n",
            "  inflating: fashion_dataset/blue_dress/00000148.jpg  \n",
            "  inflating: fashion_dataset/blue_dress/00000149.jpg  \n",
            "  inflating: fashion_dataset/blue_dress/00000150.jpg  \n",
            "  inflating: fashion_dataset/blue_dress/00000155.jpg  \n",
            "  inflating: fashion_dataset/blue_dress/00000156.jpg  \n",
            "  inflating: fashion_dataset/blue_dress/00000157.jpg  \n",
            "  inflating: fashion_dataset/blue_dress/00000158.jpg  \n",
            "  inflating: fashion_dataset/blue_dress/00000159.jpg  \n",
            "  inflating: fashion_dataset/blue_dress/00000160.jpg  \n",
            "  inflating: fashion_dataset/blue_dress/00000161.jpg  \n",
            "  inflating: fashion_dataset/blue_dress/00000164.jpg  \n",
            "  inflating: fashion_dataset/blue_dress/00000166.jpg  \n",
            "  inflating: fashion_dataset/blue_dress/00000167.jpg  \n",
            "  inflating: fashion_dataset/blue_dress/00000168.jpg  \n",
            "  inflating: fashion_dataset/blue_dress/00000169.jpg  \n",
            "  inflating: fashion_dataset/blue_dress/00000170.jpg  \n",
            "  inflating: fashion_dataset/blue_dress/00000171.jpg  \n",
            "  inflating: fashion_dataset/blue_dress/00000174.jpg  \n",
            "  inflating: fashion_dataset/blue_dress/00000176.jpg  \n",
            "  inflating: fashion_dataset/blue_dress/00000177.jpg  \n",
            "  inflating: fashion_dataset/blue_dress/00000178.jpg  \n",
            "  inflating: fashion_dataset/blue_dress/00000179.jpg  \n",
            "  inflating: fashion_dataset/blue_dress/00000180.jpg  \n",
            "  inflating: fashion_dataset/blue_dress/00000181.jpg  \n",
            "  inflating: fashion_dataset/blue_dress/00000184.jpg  \n",
            "  inflating: fashion_dataset/blue_dress/00000185.jpg  \n",
            "  inflating: fashion_dataset/blue_dress/00000186.jpg  \n",
            "  inflating: fashion_dataset/blue_dress/00000187.jpg  \n",
            "  inflating: fashion_dataset/blue_dress/00000188.jpg  \n",
            "  inflating: fashion_dataset/blue_dress/00000189.jpg  \n",
            "  inflating: fashion_dataset/blue_dress/00000190.jpg  \n",
            "  inflating: fashion_dataset/blue_dress/00000191.jpg  \n",
            "  inflating: fashion_dataset/blue_dress/00000194.jpg  \n",
            "  inflating: fashion_dataset/blue_dress/00000195.jpg  \n",
            "  inflating: fashion_dataset/blue_dress/00000196.jpg  \n",
            "  inflating: fashion_dataset/blue_dress/00000197.jpg  \n",
            "  inflating: fashion_dataset/blue_dress/00000198.jpg  \n",
            "  inflating: fashion_dataset/blue_dress/00000199.jpg  \n",
            "   creating: fashion_dataset/blue_jeans/\n",
            "  inflating: fashion_dataset/blue_jeans/00000000.jpg  \n",
            "  inflating: fashion_dataset/blue_jeans/00000004.jpg  \n",
            "  inflating: fashion_dataset/blue_jeans/00000005.jpg  \n",
            "  inflating: fashion_dataset/blue_jeans/00000006.jpg  \n",
            "  inflating: fashion_dataset/blue_jeans/00000007.jpg  \n",
            "  inflating: fashion_dataset/blue_jeans/00000009.jpg  \n",
            "  inflating: fashion_dataset/blue_jeans/00000010.jpg  \n",
            "  inflating: fashion_dataset/blue_jeans/00000011.jpg  \n",
            "  inflating: fashion_dataset/blue_jeans/00000014.jpg  \n",
            "  inflating: fashion_dataset/blue_jeans/00000015.jpg  \n",
            "  inflating: fashion_dataset/blue_jeans/00000016.jpg  \n",
            "  inflating: fashion_dataset/blue_jeans/00000017.jpg  \n",
            "  inflating: fashion_dataset/blue_jeans/00000019.jpg  \n",
            "  inflating: fashion_dataset/blue_jeans/00000040.jpg  \n",
            "  inflating: fashion_dataset/blue_jeans/00000041.jpg  \n",
            "  inflating: fashion_dataset/blue_jeans/00000044.jpg  \n",
            "  inflating: fashion_dataset/blue_jeans/00000045.jpg  \n",
            "  inflating: fashion_dataset/blue_jeans/00000046.jpg  \n",
            "  inflating: fashion_dataset/blue_jeans/00000047.jpg  \n",
            "  inflating: fashion_dataset/blue_jeans/00000049.jpg  \n",
            "  inflating: fashion_dataset/blue_jeans/00000050.jpg  \n",
            "  inflating: fashion_dataset/blue_jeans/00000051.jpg  \n",
            "  inflating: fashion_dataset/blue_jeans/00000054.jpg  \n",
            "  inflating: fashion_dataset/blue_jeans/00000055.jpg  \n",
            "  inflating: fashion_dataset/blue_jeans/00000056.jpg  \n",
            "  inflating: fashion_dataset/blue_jeans/00000057.jpg  \n",
            "  inflating: fashion_dataset/blue_jeans/00000058.jpg  \n",
            "  inflating: fashion_dataset/blue_jeans/00000059.jpg  \n",
            "  inflating: fashion_dataset/blue_jeans/00000061.jpg  \n",
            "  inflating: fashion_dataset/blue_jeans/00000064.jpg  \n",
            "  inflating: fashion_dataset/blue_jeans/00000065.jpg  \n",
            "  inflating: fashion_dataset/blue_jeans/00000067.jpg  \n",
            "  inflating: fashion_dataset/blue_jeans/00000069.jpg  \n",
            "  inflating: fashion_dataset/blue_jeans/00000071.jpg  \n",
            "  inflating: fashion_dataset/blue_jeans/00000074.jpg  \n",
            "  inflating: fashion_dataset/blue_jeans/00000077.jpg  \n",
            "  inflating: fashion_dataset/blue_jeans/00000080.jpg  \n",
            "  inflating: fashion_dataset/blue_jeans/00000081.jpg  \n",
            "  inflating: fashion_dataset/blue_jeans/00000084.jpg  \n",
            "  inflating: fashion_dataset/blue_jeans/00000086.jpg  \n",
            "  inflating: fashion_dataset/blue_jeans/00000087.jpg  \n",
            "  inflating: fashion_dataset/blue_jeans/00000088.jpg  \n",
            "  inflating: fashion_dataset/blue_jeans/00000089.jpg  \n",
            "  inflating: fashion_dataset/blue_jeans/00000090.jpg  \n",
            "  inflating: fashion_dataset/blue_jeans/00000091.jpg  \n",
            "  inflating: fashion_dataset/blue_jeans/00000094.jpg  \n",
            "  inflating: fashion_dataset/blue_jeans/00000095.jpg  \n",
            "  inflating: fashion_dataset/blue_jeans/00000096.jpg  \n",
            "  inflating: fashion_dataset/blue_jeans/00000097.jpg  \n",
            "  inflating: fashion_dataset/blue_jeans/00000098.jpg  \n",
            "  inflating: fashion_dataset/blue_jeans/00000099.jpg  \n",
            "  inflating: fashion_dataset/blue_jeans/00000100.jpg  \n",
            "  inflating: fashion_dataset/blue_jeans/00000104.jpg  \n",
            "  inflating: fashion_dataset/blue_jeans/00000105.jpg  \n",
            "  inflating: fashion_dataset/blue_jeans/00000106.jpg  \n",
            "  inflating: fashion_dataset/blue_jeans/00000108.jpg  \n",
            "  inflating: fashion_dataset/blue_jeans/00000109.jpg  \n",
            "  inflating: fashion_dataset/blue_jeans/00000110.jpg  \n",
            "  inflating: fashion_dataset/blue_jeans/00000111.jpg  \n",
            "  inflating: fashion_dataset/blue_jeans/00000117.jpg  \n",
            "  inflating: fashion_dataset/blue_jeans/00000118.jpg  \n",
            "  inflating: fashion_dataset/blue_jeans/00000119.jpg  \n",
            "  inflating: fashion_dataset/blue_jeans/00000140.jpg  \n",
            "  inflating: fashion_dataset/blue_jeans/00000141.jpg  \n",
            "  inflating: fashion_dataset/blue_jeans/00000144.jpg  \n",
            "  inflating: fashion_dataset/blue_jeans/00000146.jpg  \n",
            "  inflating: fashion_dataset/blue_jeans/00000148.jpg  \n",
            "  inflating: fashion_dataset/blue_jeans/00000149.jpg  \n",
            "  inflating: fashion_dataset/blue_jeans/00000150.jpg  \n",
            "  inflating: fashion_dataset/blue_jeans/00000151.jpg  \n",
            "  inflating: fashion_dataset/blue_jeans/00000154.jpg  \n",
            "  inflating: fashion_dataset/blue_jeans/00000155.jpg  \n",
            "  inflating: fashion_dataset/blue_jeans/00000156.jpg  \n",
            "  inflating: fashion_dataset/blue_jeans/00000157.jpg  \n",
            "  inflating: fashion_dataset/blue_jeans/00000158.jpg  \n",
            "  inflating: fashion_dataset/blue_jeans/00000159.jpg  \n",
            "  inflating: fashion_dataset/blue_jeans/00000160.jpg  \n",
            "  inflating: fashion_dataset/blue_jeans/00000161.jpg  \n",
            "  inflating: fashion_dataset/blue_jeans/00000164.jpg  \n",
            "  inflating: fashion_dataset/blue_jeans/00000165.png  \n",
            "  inflating: fashion_dataset/blue_jeans/00000167.jpg  \n",
            "  inflating: fashion_dataset/blue_jeans/00000168.jpg  \n",
            "  inflating: fashion_dataset/blue_jeans/00000169.jpg  \n",
            "  inflating: fashion_dataset/blue_jeans/00000170.jpg  \n",
            "  inflating: fashion_dataset/blue_jeans/00000171.png  \n",
            "  inflating: fashion_dataset/blue_jeans/00000174.jpg  \n",
            "  inflating: fashion_dataset/blue_jeans/00000175.jpg  \n",
            "  inflating: fashion_dataset/blue_jeans/00000177.jpg  \n",
            "  inflating: fashion_dataset/blue_jeans/00000180.jpg  \n",
            "  inflating: fashion_dataset/blue_jeans/00000186.jpg  \n",
            "  inflating: fashion_dataset/blue_jeans/00000187.jpg  \n",
            "  inflating: fashion_dataset/blue_jeans/00000188.jpg  \n",
            "  inflating: fashion_dataset/blue_jeans/00000189.jpg  \n",
            "  inflating: fashion_dataset/blue_jeans/00000190.jpg  \n",
            "  inflating: fashion_dataset/blue_jeans/00000194.jpg  \n",
            "  inflating: fashion_dataset/blue_jeans/00000195.png  \n",
            "  inflating: fashion_dataset/blue_jeans/00000196.jpg  \n",
            "  inflating: fashion_dataset/blue_jeans/00000198.jpg  \n",
            "   creating: fashion_dataset/blue_shirt/\n",
            "  inflating: fashion_dataset/blue_shirt/00000000.jpg  \n",
            "  inflating: fashion_dataset/blue_shirt/00000001.jpg  \n",
            "  inflating: fashion_dataset/blue_shirt/00000004.jpg  \n",
            "  inflating: fashion_dataset/blue_shirt/00000005.jpg  \n",
            "  inflating: fashion_dataset/blue_shirt/00000006.jpg  \n",
            "  inflating: fashion_dataset/blue_shirt/00000007.jpg  \n",
            "  inflating: fashion_dataset/blue_shirt/00000008.jpg  \n",
            "  inflating: fashion_dataset/blue_shirt/00000009.JPG  \n",
            "  inflating: fashion_dataset/blue_shirt/00000010.jpg  \n",
            "  inflating: fashion_dataset/blue_shirt/00000011.jpg  \n",
            "  inflating: fashion_dataset/blue_shirt/00000014.jpg  \n",
            "  inflating: fashion_dataset/blue_shirt/00000015.jpg  \n",
            "  inflating: fashion_dataset/blue_shirt/00000016.jpg  \n",
            "  inflating: fashion_dataset/blue_shirt/00000017.jpg  \n",
            "  inflating: fashion_dataset/blue_shirt/00000018.jpg  \n",
            "  inflating: fashion_dataset/blue_shirt/00000019.jpg  \n",
            "  inflating: fashion_dataset/blue_shirt/00000040.png  \n",
            "  inflating: fashion_dataset/blue_shirt/00000041.jpg  \n",
            "  inflating: fashion_dataset/blue_shirt/00000044.jpg  \n",
            "  inflating: fashion_dataset/blue_shirt/00000045.jpg  \n",
            "  inflating: fashion_dataset/blue_shirt/00000046.jpg  \n",
            "  inflating: fashion_dataset/blue_shirt/00000049.jpg  \n",
            "  inflating: fashion_dataset/blue_shirt/00000050.jpg  \n",
            "  inflating: fashion_dataset/blue_shirt/00000051.jpg  \n",
            "  inflating: fashion_dataset/blue_shirt/00000054.jpg  \n",
            "  inflating: fashion_dataset/blue_shirt/00000055.jpg  \n",
            "  inflating: fashion_dataset/blue_shirt/00000056.png  \n",
            "  inflating: fashion_dataset/blue_shirt/00000057.jpg  \n",
            "  inflating: fashion_dataset/blue_shirt/00000058.jpg  \n",
            "  inflating: fashion_dataset/blue_shirt/00000060.jpg  \n",
            "  inflating: fashion_dataset/blue_shirt/00000061.jpg  \n",
            "  inflating: fashion_dataset/blue_shirt/00000064.jpg  \n",
            "  inflating: fashion_dataset/blue_shirt/00000065.jpg  \n",
            "  inflating: fashion_dataset/blue_shirt/00000067.jpg  \n",
            "  inflating: fashion_dataset/blue_shirt/00000068.jpg  \n",
            "  inflating: fashion_dataset/blue_shirt/00000069.jpg  \n",
            "  inflating: fashion_dataset/blue_shirt/00000070.jpg  \n",
            "  inflating: fashion_dataset/blue_shirt/00000071.jpg  \n",
            "  inflating: fashion_dataset/blue_shirt/00000074.jpg  \n",
            "  inflating: fashion_dataset/blue_shirt/00000075.jpg  \n",
            "  inflating: fashion_dataset/blue_shirt/00000078.jpg  \n",
            "  inflating: fashion_dataset/blue_shirt/00000079.jpg  \n",
            "  inflating: fashion_dataset/blue_shirt/00000080.jpg  \n",
            "  inflating: fashion_dataset/blue_shirt/00000081.jpg  \n",
            "  inflating: fashion_dataset/blue_shirt/00000084.jpg  \n",
            "  inflating: fashion_dataset/blue_shirt/00000085.jpg  \n",
            "  inflating: fashion_dataset/blue_shirt/00000086.jpg  \n",
            "  inflating: fashion_dataset/blue_shirt/00000088.jpg  \n",
            "  inflating: fashion_dataset/blue_shirt/00000089.jpg  \n",
            "  inflating: fashion_dataset/blue_shirt/00000090.jpg  \n",
            "  inflating: fashion_dataset/blue_shirt/00000091.png  \n",
            "  inflating: fashion_dataset/blue_shirt/00000094.jpg  \n",
            "  inflating: fashion_dataset/blue_shirt/00000095.jpg  \n",
            "  inflating: fashion_dataset/blue_shirt/00000096.jpg  \n",
            "  inflating: fashion_dataset/blue_shirt/00000097.jpg  \n",
            "  inflating: fashion_dataset/blue_shirt/00000098.jpg  \n",
            "  inflating: fashion_dataset/blue_shirt/00000099.png  \n",
            "  inflating: fashion_dataset/blue_shirt/00000100.png  \n",
            "  inflating: fashion_dataset/blue_shirt/00000101.jpg  \n",
            "  inflating: fashion_dataset/blue_shirt/00000104.jpg  \n",
            "  inflating: fashion_dataset/blue_shirt/00000105.jpg  \n",
            "  inflating: fashion_dataset/blue_shirt/00000106.png  \n",
            "  inflating: fashion_dataset/blue_shirt/00000107.jpg  \n",
            "  inflating: fashion_dataset/blue_shirt/00000108.jpg  \n",
            "  inflating: fashion_dataset/blue_shirt/00000109.jpg  \n",
            "  inflating: fashion_dataset/blue_shirt/00000110.jpg  \n",
            "  inflating: fashion_dataset/blue_shirt/00000111.jpg  \n",
            "  inflating: fashion_dataset/blue_shirt/00000114.jpg  \n",
            "  inflating: fashion_dataset/blue_shirt/00000115.jpg  \n",
            "  inflating: fashion_dataset/blue_shirt/00000116.jpg  \n",
            "  inflating: fashion_dataset/blue_shirt/00000117.jpg  \n",
            "  inflating: fashion_dataset/blue_shirt/00000118.jpg  \n",
            "  inflating: fashion_dataset/blue_shirt/00000119.jpg  \n",
            "  inflating: fashion_dataset/blue_shirt/00000140.jpg  \n",
            "  inflating: fashion_dataset/blue_shirt/00000141.jpg  \n",
            "  inflating: fashion_dataset/blue_shirt/00000144.JPG  \n",
            "  inflating: fashion_dataset/blue_shirt/00000146.jpg  \n",
            "  inflating: fashion_dataset/blue_shirt/00000147.jpg  \n",
            "  inflating: fashion_dataset/blue_shirt/00000148.jpg  \n",
            "  inflating: fashion_dataset/blue_shirt/00000149.jpg  \n",
            "  inflating: fashion_dataset/blue_shirt/00000151.jpg  \n",
            "  inflating: fashion_dataset/blue_shirt/00000154.jpg  \n",
            "  inflating: fashion_dataset/blue_shirt/00000155.jpg  \n",
            "  inflating: fashion_dataset/blue_shirt/00000156.JPG  \n",
            "  inflating: fashion_dataset/blue_shirt/00000157.jpg  \n",
            "  inflating: fashion_dataset/blue_shirt/00000158.jpg  \n",
            "  inflating: fashion_dataset/blue_shirt/00000159.jpg  \n",
            "  inflating: fashion_dataset/blue_shirt/00000160.jpg  \n",
            "  inflating: fashion_dataset/blue_shirt/00000161.jpg  \n",
            "  inflating: fashion_dataset/blue_shirt/00000164.jpg  \n",
            "  inflating: fashion_dataset/blue_shirt/00000165.jpg  \n",
            "  inflating: fashion_dataset/blue_shirt/00000166.jpg  \n",
            "  inflating: fashion_dataset/blue_shirt/00000167.jpg  \n",
            "  inflating: fashion_dataset/blue_shirt/00000168.jpg  \n",
            "  inflating: fashion_dataset/blue_shirt/00000169.png  \n",
            "  inflating: fashion_dataset/blue_shirt/00000171.jpg  \n",
            "  inflating: fashion_dataset/blue_shirt/00000174.jpg  \n",
            "  inflating: fashion_dataset/blue_shirt/00000175.jpg  \n",
            "  inflating: fashion_dataset/blue_shirt/00000178.jpg  \n",
            "  inflating: fashion_dataset/blue_shirt/00000179.jpg  \n",
            "  inflating: fashion_dataset/blue_shirt/00000180.jpg  \n",
            "  inflating: fashion_dataset/blue_shirt/00000181.png  \n",
            "  inflating: fashion_dataset/blue_shirt/00000184.jpg  \n",
            "  inflating: fashion_dataset/blue_shirt/00000185.jpg  \n",
            "  inflating: fashion_dataset/blue_shirt/00000186.jpg  \n",
            "  inflating: fashion_dataset/blue_shirt/00000187.jpg  \n",
            "  inflating: fashion_dataset/blue_shirt/00000190.jpg  \n",
            "  inflating: fashion_dataset/blue_shirt/00000191.jpg  \n",
            "  inflating: fashion_dataset/blue_shirt/00000194.jpg  \n",
            "  inflating: fashion_dataset/blue_shirt/00000195.jpg  \n",
            "  inflating: fashion_dataset/blue_shirt/00000196.jpg  \n",
            "  inflating: fashion_dataset/blue_shirt/00000197.jpg  \n",
            "  inflating: fashion_dataset/blue_shirt/00000198.jpg  \n",
            "   creating: fashion_dataset/red_dress/\n",
            "  inflating: fashion_dataset/red_dress/00000000.jpg  \n",
            "  inflating: fashion_dataset/red_dress/00000001.jpg  \n",
            "  inflating: fashion_dataset/red_dress/00000004.jpg  \n",
            "  inflating: fashion_dataset/red_dress/00000005.jpg  \n",
            "  inflating: fashion_dataset/red_dress/00000006.jpg  \n",
            "  inflating: fashion_dataset/red_dress/00000007.jpg  \n",
            "  inflating: fashion_dataset/red_dress/00000008.jpg  \n",
            "  inflating: fashion_dataset/red_dress/00000009.JPG  \n",
            "  inflating: fashion_dataset/red_dress/00000010.jpg  \n",
            "  inflating: fashion_dataset/red_dress/00000011.jpg  \n",
            "  inflating: fashion_dataset/red_dress/00000014.jpg  \n",
            "  inflating: fashion_dataset/red_dress/00000015.jpg  \n",
            "  inflating: fashion_dataset/red_dress/00000016.jpg  \n",
            "  inflating: fashion_dataset/red_dress/00000017.jpg  \n",
            "  inflating: fashion_dataset/red_dress/00000018.jpg  \n",
            "  inflating: fashion_dataset/red_dress/00000019.jpg  \n",
            "  inflating: fashion_dataset/red_dress/00000040.jpg  \n",
            "  inflating: fashion_dataset/red_dress/00000041.jpg  \n",
            "  inflating: fashion_dataset/red_dress/00000044.jpg  \n",
            "  inflating: fashion_dataset/red_dress/00000045.jpg  \n",
            "  inflating: fashion_dataset/red_dress/00000046.jpg  \n",
            "  inflating: fashion_dataset/red_dress/00000047.png  \n",
            "  inflating: fashion_dataset/red_dress/00000048.jpg  \n",
            "  inflating: fashion_dataset/red_dress/00000049.png  \n",
            "  inflating: fashion_dataset/red_dress/00000050.jpg  \n",
            "  inflating: fashion_dataset/red_dress/00000051.jpg  \n",
            "  inflating: fashion_dataset/red_dress/00000054.jpg  \n",
            "  inflating: fashion_dataset/red_dress/00000055.jpg  \n",
            "  inflating: fashion_dataset/red_dress/00000056.png  \n",
            "  inflating: fashion_dataset/red_dress/00000057.jpg  \n",
            "  inflating: fashion_dataset/red_dress/00000058.jpg  \n",
            "  inflating: fashion_dataset/red_dress/00000059.jpg  \n",
            "  inflating: fashion_dataset/red_dress/00000060.jpg  \n",
            "  inflating: fashion_dataset/red_dress/00000061.jpg  \n",
            "  inflating: fashion_dataset/red_dress/00000064.jpg  \n",
            "  inflating: fashion_dataset/red_dress/00000065.jpg  \n",
            "  inflating: fashion_dataset/red_dress/00000066.jpg  \n",
            "  inflating: fashion_dataset/red_dress/00000067.jpg  \n",
            "  inflating: fashion_dataset/red_dress/00000069.jpg  \n",
            "  inflating: fashion_dataset/red_dress/00000071.jpg  \n",
            "  inflating: fashion_dataset/red_dress/00000074.jpg  \n",
            "  inflating: fashion_dataset/red_dress/00000075.jpg  \n",
            "  inflating: fashion_dataset/red_dress/00000076.jpg  \n",
            "  inflating: fashion_dataset/red_dress/00000077.jpg  \n",
            "  inflating: fashion_dataset/red_dress/00000078.jpg  \n",
            "  inflating: fashion_dataset/red_dress/00000079.jpg  \n",
            "  inflating: fashion_dataset/red_dress/00000080.JPG  \n",
            "  inflating: fashion_dataset/red_dress/00000081.jpg  \n",
            "  inflating: fashion_dataset/red_dress/00000085.jpg  \n",
            "  inflating: fashion_dataset/red_dress/00000086.jpg  \n",
            "  inflating: fashion_dataset/red_dress/00000087.jpg  \n",
            "  inflating: fashion_dataset/red_dress/00000088.jpg  \n",
            "  inflating: fashion_dataset/red_dress/00000089.jpg  \n",
            "  inflating: fashion_dataset/red_dress/00000090.jpg  \n",
            "  inflating: fashion_dataset/red_dress/00000094.jpg  \n",
            "  inflating: fashion_dataset/red_dress/00000095.jpg  \n",
            "  inflating: fashion_dataset/red_dress/00000096.jpg  \n",
            "  inflating: fashion_dataset/red_dress/00000097.jpg  \n",
            "  inflating: fashion_dataset/red_dress/00000098.jpg  \n",
            "  inflating: fashion_dataset/red_dress/00000099.jpg  \n",
            "  inflating: fashion_dataset/red_dress/00000100.jpg  \n",
            "  inflating: fashion_dataset/red_dress/00000101.jpg  \n",
            "  inflating: fashion_dataset/red_dress/00000104.jpg  \n",
            "  inflating: fashion_dataset/red_dress/00000105.jpg  \n",
            "  inflating: fashion_dataset/red_dress/00000106.jpg  \n",
            "  inflating: fashion_dataset/red_dress/00000107.jpg  \n",
            "  inflating: fashion_dataset/red_dress/00000108.jpg  \n",
            "  inflating: fashion_dataset/red_dress/00000109.jpg  \n",
            "  inflating: fashion_dataset/red_dress/00000110.jpg  \n",
            "  inflating: fashion_dataset/red_dress/00000111.jpg  \n",
            "  inflating: fashion_dataset/red_dress/00000114.jpg  \n",
            "  inflating: fashion_dataset/red_dress/00000115.jpg  \n",
            "  inflating: fashion_dataset/red_dress/00000116.gif  \n",
            "  inflating: fashion_dataset/red_dress/00000117.jpg  \n",
            "  inflating: fashion_dataset/red_dress/00000118.jpg  \n",
            "  inflating: fashion_dataset/red_dress/00000140.jpg  \n",
            "  inflating: fashion_dataset/red_dress/00000141.jpg  \n",
            "  inflating: fashion_dataset/red_dress/00000146.jpg  \n",
            "  inflating: fashion_dataset/red_dress/00000147.jpg  \n",
            "  inflating: fashion_dataset/red_dress/00000148.jpg  \n",
            "  inflating: fashion_dataset/red_dress/00000149.jpg  \n",
            "  inflating: fashion_dataset/red_dress/00000151.jpg  \n",
            "  inflating: fashion_dataset/red_dress/00000154.jpg  \n",
            "  inflating: fashion_dataset/red_dress/00000155.jpg  \n",
            "  inflating: fashion_dataset/red_dress/00000156.jpg  \n",
            "  inflating: fashion_dataset/red_dress/00000158.jpg  \n",
            "  inflating: fashion_dataset/red_dress/00000159.jpg  \n",
            "  inflating: fashion_dataset/red_dress/00000160.jpg  \n",
            "  inflating: fashion_dataset/red_dress/00000161.jpg  \n",
            "  inflating: fashion_dataset/red_dress/00000164.jpg  \n",
            "  inflating: fashion_dataset/red_dress/00000165.jpg  \n",
            "  inflating: fashion_dataset/red_dress/00000166.jpg  \n",
            "  inflating: fashion_dataset/red_dress/00000167.jpg  \n",
            "  inflating: fashion_dataset/red_dress/00000168.jpg  \n",
            "  inflating: fashion_dataset/red_dress/00000169.jpg  \n",
            "  inflating: fashion_dataset/red_dress/00000170.jpg  \n",
            "  inflating: fashion_dataset/red_dress/00000174.jpg  \n",
            "  inflating: fashion_dataset/red_dress/00000175.jpg  \n",
            "  inflating: fashion_dataset/red_dress/00000176.jpg  \n",
            "  inflating: fashion_dataset/red_dress/00000177.jpg  \n",
            "  inflating: fashion_dataset/red_dress/00000178.jpg  \n",
            "  inflating: fashion_dataset/red_dress/00000179.jpg  \n",
            "  inflating: fashion_dataset/red_dress/00000181.jpg  \n",
            "  inflating: fashion_dataset/red_dress/00000184.jpg  \n",
            "  inflating: fashion_dataset/red_dress/00000185.jpg  \n",
            "  inflating: fashion_dataset/red_dress/00000186.jpg  \n",
            "  inflating: fashion_dataset/red_dress/00000187.jpg  \n",
            "  inflating: fashion_dataset/red_dress/00000188.jpg  \n",
            "  inflating: fashion_dataset/red_dress/00000189.jpg  \n",
            "  inflating: fashion_dataset/red_dress/00000190.jpg  \n",
            "  inflating: fashion_dataset/red_dress/00000191.jpg  \n",
            "  inflating: fashion_dataset/red_dress/00000194.jpg  \n",
            "  inflating: fashion_dataset/red_dress/00000195.jpg  \n",
            "  inflating: fashion_dataset/red_dress/00000196.jpg  \n",
            "  inflating: fashion_dataset/red_dress/00000197.jpg  \n",
            "  inflating: fashion_dataset/red_dress/00000198.jpg  \n",
            "  inflating: fashion_dataset/red_dress/00000199.jpg  \n",
            "   creating: fashion_dataset/red_shirt/\n",
            "  inflating: fashion_dataset/red_shirt/00000000.jpg  \n",
            "  inflating: fashion_dataset/red_shirt/00000001.png  \n",
            "  inflating: fashion_dataset/red_shirt/00000004.jpg  \n",
            "  inflating: fashion_dataset/red_shirt/00000005.png  \n",
            "  inflating: fashion_dataset/red_shirt/00000006.png  \n",
            "  inflating: fashion_dataset/red_shirt/00000007.png  \n",
            "  inflating: fashion_dataset/red_shirt/00000008.png  \n",
            "  inflating: fashion_dataset/red_shirt/00000011.jpg  \n",
            "  inflating: fashion_dataset/red_shirt/00000014.jpg  \n",
            "  inflating: fashion_dataset/red_shirt/00000015.jpg  \n",
            "  inflating: fashion_dataset/red_shirt/00000016.jpg  \n",
            "  inflating: fashion_dataset/red_shirt/00000018.jpg  \n",
            "  inflating: fashion_dataset/red_shirt/00000019.png  \n",
            "  inflating: fashion_dataset/red_shirt/00000040.png  \n",
            "  inflating: fashion_dataset/red_shirt/00000041.jpg  \n",
            "  inflating: fashion_dataset/red_shirt/00000044.png  \n",
            "  inflating: fashion_dataset/red_shirt/00000045.jpg  \n",
            "  inflating: fashion_dataset/red_shirt/00000046.jpg  \n",
            "  inflating: fashion_dataset/red_shirt/00000047.jpg  \n",
            "  inflating: fashion_dataset/red_shirt/00000048.jpg  \n",
            "  inflating: fashion_dataset/red_shirt/00000049.jpg  \n",
            "  inflating: fashion_dataset/red_shirt/00000050.jpg  \n",
            "  inflating: fashion_dataset/red_shirt/00000051.jpg  \n",
            "  inflating: fashion_dataset/red_shirt/00000054.jpg  \n",
            "  inflating: fashion_dataset/red_shirt/00000055.jpg  \n",
            "  inflating: fashion_dataset/red_shirt/00000056.jpg  \n",
            "  inflating: fashion_dataset/red_shirt/00000057.jpg  \n",
            "  inflating: fashion_dataset/red_shirt/00000058.png  \n",
            "  inflating: fashion_dataset/red_shirt/00000059.jpg  \n",
            "  inflating: fashion_dataset/red_shirt/00000060.jpg  \n",
            "  inflating: fashion_dataset/red_shirt/00000064.jpg  \n",
            "  inflating: fashion_dataset/red_shirt/00000065.jpg  \n",
            "  inflating: fashion_dataset/red_shirt/00000066.jpg  \n",
            "  inflating: fashion_dataset/red_shirt/00000067.jpg  \n",
            "  inflating: fashion_dataset/red_shirt/00000068.jpg  \n",
            "  inflating: fashion_dataset/red_shirt/00000069.jpg  \n",
            "  inflating: fashion_dataset/red_shirt/00000070.jpg  \n",
            "  inflating: fashion_dataset/red_shirt/00000071.jpg  \n",
            "  inflating: fashion_dataset/red_shirt/00000074.jpg  \n",
            "  inflating: fashion_dataset/red_shirt/00000075.jpg  \n",
            "  inflating: fashion_dataset/red_shirt/00000076.png  \n",
            "  inflating: fashion_dataset/red_shirt/00000077.jpg  \n",
            "  inflating: fashion_dataset/red_shirt/00000078.jpg  \n",
            "  inflating: fashion_dataset/red_shirt/00000079.jpg  \n",
            "  inflating: fashion_dataset/red_shirt/00000080.jpg  \n",
            "  inflating: fashion_dataset/red_shirt/00000081.png  \n",
            "  inflating: fashion_dataset/red_shirt/00000084.jpg  \n",
            "  inflating: fashion_dataset/red_shirt/00000085.jpg  \n",
            "  inflating: fashion_dataset/red_shirt/00000089.jpg  \n",
            "  inflating: fashion_dataset/red_shirt/00000091.jpg  \n",
            "  inflating: fashion_dataset/red_shirt/00000094.jpg  \n",
            "  inflating: fashion_dataset/red_shirt/00000095.jpg  \n",
            "  inflating: fashion_dataset/red_shirt/00000096.jpg  \n",
            "  inflating: fashion_dataset/red_shirt/00000097.jpg  \n",
            "  inflating: fashion_dataset/red_shirt/00000098.jpg  \n",
            "  inflating: fashion_dataset/red_shirt/00000099.jpg  \n",
            "  inflating: fashion_dataset/red_shirt/00000100.jpg  \n",
            "  inflating: fashion_dataset/red_shirt/00000101.jpg  \n",
            "  inflating: fashion_dataset/red_shirt/00000105.jpg  \n",
            "  inflating: fashion_dataset/red_shirt/00000106.jpg  \n",
            "  inflating: fashion_dataset/red_shirt/00000107.jpg  \n",
            "  inflating: fashion_dataset/red_shirt/00000108.jpg  \n",
            "  inflating: fashion_dataset/red_shirt/00000110.jpg  \n",
            "  inflating: fashion_dataset/red_shirt/00000111.jpg  \n",
            "  inflating: fashion_dataset/red_shirt/00000114.jpg  \n",
            "  inflating: fashion_dataset/red_shirt/00000115.jpg  \n",
            "  inflating: fashion_dataset/red_shirt/00000116.jpg  \n",
            "  inflating: fashion_dataset/red_shirt/00000117.jpg  \n",
            "  inflating: fashion_dataset/red_shirt/00000140.jpg  \n",
            "  inflating: fashion_dataset/red_shirt/00000141.jpg  \n",
            "  inflating: fashion_dataset/red_shirt/00000144.jpg  \n",
            "  inflating: fashion_dataset/red_shirt/00000145.jpg  \n",
            "  inflating: fashion_dataset/red_shirt/00000146.jpg  \n",
            "  inflating: fashion_dataset/red_shirt/00000147.jpg  \n",
            "  inflating: fashion_dataset/red_shirt/00000149.jpg  \n",
            "  inflating: fashion_dataset/red_shirt/00000150.jpg  \n",
            "  inflating: fashion_dataset/red_shirt/00000151.jpg  \n",
            "  inflating: fashion_dataset/red_shirt/00000154.jpg  \n",
            "  inflating: fashion_dataset/red_shirt/00000155.jpg  \n",
            "  inflating: fashion_dataset/red_shirt/00000156.jpg  \n",
            "  inflating: fashion_dataset/red_shirt/00000157.jpg  \n",
            "  inflating: fashion_dataset/red_shirt/00000158.jpg  \n",
            "  inflating: fashion_dataset/red_shirt/00000159.jpg  \n",
            "  inflating: fashion_dataset/red_shirt/00000160.jpg  \n",
            "  inflating: fashion_dataset/red_shirt/00000161.jpg  \n",
            "  inflating: fashion_dataset/red_shirt/00000164.jpg  \n",
            "  inflating: fashion_dataset/red_shirt/00000165.jpg  \n",
            "  inflating: fashion_dataset/red_shirt/00000167.jpg  \n",
            "  inflating: fashion_dataset/red_shirt/00000168.jpg  \n",
            "  inflating: fashion_dataset/red_shirt/00000169.jpg  \n",
            "  inflating: fashion_dataset/red_shirt/00000170.jpg  \n",
            "  inflating: fashion_dataset/red_shirt/00000171.jpg  \n",
            "  inflating: fashion_dataset/red_shirt/00000174.jpg  \n",
            "  inflating: fashion_dataset/red_shirt/00000175.jpg  \n",
            "  inflating: fashion_dataset/red_shirt/00000176.jpg  \n",
            "  inflating: fashion_dataset/red_shirt/00000177.jpg  \n",
            "  inflating: fashion_dataset/red_shirt/00000178.jpg  \n",
            "  inflating: fashion_dataset/red_shirt/00000180.jpg  \n",
            "  inflating: fashion_dataset/red_shirt/00000181.jpg  \n",
            "  inflating: fashion_dataset/red_shirt/00000184.jpg  \n",
            "  inflating: fashion_dataset/red_shirt/00000187.jpg  \n",
            "  inflating: fashion_dataset/red_shirt/00000188.jpg  \n",
            "  inflating: fashion_dataset/red_shirt/00000190.jpg  \n",
            "  inflating: fashion_dataset/red_shirt/00000191.jpg  \n",
            "  inflating: fashion_dataset/red_shirt/00000195.jpg  \n",
            "  inflating: fashion_dataset/red_shirt/00000196.jpg  \n",
            "  inflating: fashion_dataset/red_shirt/00000197.jpg  \n",
            "  inflating: fashion_dataset/red_shirt/00000198.jpg  \n",
            "  inflating: fashion_dataset/red_shirt/00000199.jpg  \n"
          ]
        }
      ]
    },
    {
      "cell_type": "markdown",
      "metadata": {
        "id": "c48Y7utfiKHQ"
      },
      "source": [
        "```\n",
        "fashion_dataset/\n",
        "  black_jeans\n",
        "  black_shoes/\n",
        "  blue_dress/\n",
        "  blue_jeans\n",
        "  blue_shirt/\n",
        "  red_dress/\n",
        "  red_shirt/\n",
        "```\n",
        "\n",
        "```\n",
        "category : jeans, shoes, dress, shirt\n",
        "color : black, blue, red\n",
        "```"
      ]
    },
    {
      "cell_type": "code",
      "metadata": {
        "id": "8dodBjvth_d-"
      },
      "source": [
        "import matplotlib\n",
        "\n",
        "from tensorflow.keras.optimizers import Adam\n",
        "from tensorflow.keras.preprocessing.image import img_to_array\n",
        "from sklearn.preprocessing import LabelBinarizer\n",
        "from sklearn.model_selection import train_test_split\n",
        "\n",
        "from imutils import paths\n",
        "import matplotlib.pyplot as plt\n",
        "import numpy as np\n",
        "import argparse\n",
        "import random\n",
        "import pickle\n",
        "import cv2\n",
        "import os"
      ],
      "execution_count": 33,
      "outputs": []
    },
    {
      "cell_type": "code",
      "metadata": {
        "id": "pD_ONY_4jtzK"
      },
      "source": [
        "IMAGE_DIMS = (96, 96, 3)"
      ],
      "execution_count": 34,
      "outputs": []
    },
    {
      "cell_type": "markdown",
      "metadata": {
        "id": "XTw_iOmOizug"
      },
      "source": [
        "### 영상 파일이름 읽기"
      ]
    },
    {
      "cell_type": "code",
      "metadata": {
        "id": "w_f5QIPziT6R",
        "colab": {
          "base_uri": "https://localhost:8080/"
        },
        "outputId": "005330e1-525b-4525-d365-b1c18cc58f4b"
      },
      "source": [
        "imagePaths = sorted(list(paths.list_images('fashion_dataset')))\n",
        "random.shuffle(imagePaths)\n",
        "print(len(imagePaths))\n",
        "print(imagePaths[:3])"
      ],
      "execution_count": 35,
      "outputs": [
        {
          "output_type": "stream",
          "name": "stdout",
          "text": [
            "755\n",
            "['fashion_dataset/black_jeans/00000098.jpg', 'fashion_dataset/black_shoes/00000041.jpg', 'fashion_dataset/blue_shirt/00000119.jpg']\n"
          ]
        }
      ]
    },
    {
      "cell_type": "markdown",
      "metadata": {
        "id": "4gIJx0rTjdMj"
      },
      "source": [
        "### 영상 읽기, 카테고리와 컬러 읽기"
      ]
    },
    {
      "cell_type": "code",
      "metadata": {
        "id": "0cKf7OqHjXq-"
      },
      "source": [
        "data = []\n",
        "categoryLabels = []\n",
        "colorLabels = []\n",
        "\n",
        "for imagePath in imagePaths:\n",
        "\timage = cv2.imread(imagePath)\n",
        "\timage = cv2.resize(image, (IMAGE_DIMS[1], IMAGE_DIMS[0]))\n",
        "\timage = cv2.cvtColor(image, cv2.COLOR_BGR2RGB)\n",
        "\timage = img_to_array(image)\n",
        "\tdata.append(image)\n",
        "\n",
        "\t(color, cat) = imagePath.split(os.path.sep)[-2].split(\"_\")\n",
        "  # imagePath = 'fashion_dataset/black_shoes/00000048.jpg'\n",
        "  # color = 'black'\n",
        "  # cat = 'shoes'\n",
        "\tcategoryLabels.append(cat)\n",
        "\tcolorLabels.append(color)"
      ],
      "execution_count": 36,
      "outputs": []
    },
    {
      "cell_type": "code",
      "metadata": {
        "id": "IME5dUwqilgV",
        "colab": {
          "base_uri": "https://localhost:8080/"
        },
        "outputId": "b4e558fb-99eb-4a1b-c252-c7fdc9598260"
      },
      "source": [
        "print(categoryLabels[:10])\n",
        "print(colorLabels[:10])"
      ],
      "execution_count": 37,
      "outputs": [
        {
          "output_type": "stream",
          "name": "stdout",
          "text": [
            "['jeans', 'shoes', 'shirt', 'jeans', 'shirt', 'shirt', 'dress', 'shoes', 'dress', 'shirt']\n",
            "['black', 'black', 'blue', 'black', 'blue', 'blue', 'red', 'black', 'red', 'blue']\n"
          ]
        }
      ]
    },
    {
      "cell_type": "code",
      "metadata": {
        "id": "FHIVMXWyjxov",
        "colab": {
          "base_uri": "https://localhost:8080/",
          "height": 601
        },
        "outputId": "aa03156d-7ae3-4240-8710-8314cf8dbf27"
      },
      "source": [
        "from IPython.display import Image, display\n",
        "\n",
        "print(len(data), len(categoryLabels), len(colorLabels))\n",
        "print(\"iamgePaths[0]=\", imagePaths[0])\n",
        "display(Image(imagePaths[0]))\n",
        "\n",
        "print(\"data[0]=\", data[0].shape)\n",
        "plt.imshow(data[0]/255)\n",
        "print(\"categoryLabels[0]=\", categoryLabels[0])\n",
        "print(\"colorLabels[0]=\", colorLabels[0])"
      ],
      "execution_count": 38,
      "outputs": [
        {
          "output_type": "stream",
          "name": "stdout",
          "text": [
            "755 755 755\n",
            "iamgePaths[0]= fashion_dataset/black_jeans/00000098.jpg\n"
          ]
        },
        {
          "output_type": "display_data",
          "data": {
            "text/plain": [
              "<IPython.core.display.Image object>"
            ],
            "image/jpeg": "[encoded data removed]"
          },
          "metadata": {}
        },
        {
          "output_type": "stream",
          "name": "stdout",
          "text": [
            "data[0]= (96, 96, 3)\n",
            "categoryLabels[0]= jeans\n",
            "colorLabels[0]= black\n"
          ]
        },
        {
          "output_type": "display_data",
          "data": {
            "text/plain": [
              "<Figure size 432x288 with 1 Axes>"
            ],
            "image/png": "[encoded data removed]"
          },
          "metadata": {
            "needs_background": "light"
          }
        }
      ]
    },
    {
      "cell_type": "markdown",
      "metadata": {
        "id": "4CcZd2FUnTAb"
      },
      "source": [
        "### numpy로 변환"
      ]
    },
    {
      "cell_type": "code",
      "metadata": {
        "id": "CFPjrQRCnSSb",
        "colab": {
          "base_uri": "https://localhost:8080/"
        },
        "outputId": "465c5b7f-adf2-41b4-ab9f-988fc9ecf4d2"
      },
      "source": [
        "data = np.array(data, dtype=\"float\")\n",
        "print(\"[INFO] data matrix: {} images ({:.2f}MB)\".format(len(imagePaths), data.nbytes / (1024 * 1000.0)))\n",
        "\n",
        "# convert the label lists to NumPy arrays prior to binarization\n",
        "categoryLabels = np.array(categoryLabels)\n",
        "colorLabels = np.array(colorLabels)"
      ],
      "execution_count": 39,
      "outputs": [
        {
          "output_type": "stream",
          "name": "stdout",
          "text": [
            "[INFO] data matrix: 755 images (163.08MB)\n"
          ]
        }
      ]
    },
    {
      "cell_type": "markdown",
      "metadata": {
        "id": "wJEmMrAXrmDP"
      },
      "source": [
        "## normalization"
      ]
    },
    {
      "cell_type": "code",
      "metadata": {
        "id": "r8Xeo-Rorjwd"
      },
      "source": [
        "data = data/255."
      ],
      "execution_count": 40,
      "outputs": []
    },
    {
      "cell_type": "markdown",
      "metadata": {
        "id": "3G8ZqLqfnYRy"
      },
      "source": [
        "### 레이블 데이터를 one-hot 인코딩"
      ]
    },
    {
      "cell_type": "code",
      "metadata": {
        "id": "m2KnUkTEieV5",
        "colab": {
          "base_uri": "https://localhost:8080/"
        },
        "outputId": "0b36a848-f51e-470d-d1cf-810dd4f4b820"
      },
      "source": [
        "print(categoryLabels[:5])\n",
        "categoryLB = LabelBinarizer()\n",
        "categoryLabels = categoryLB.fit_transform(categoryLabels)\n",
        "print(categoryLabels[:5])\n",
        "\n",
        "\n",
        "print(colorLabels[:5])\n",
        "colorLB = LabelBinarizer()\n",
        "colorLabels = colorLB.fit_transform(colorLabels)\n",
        "print(colorLabels[:5])"
      ],
      "execution_count": 41,
      "outputs": [
        {
          "output_type": "stream",
          "name": "stdout",
          "text": [
            "['jeans' 'shoes' 'shirt' 'jeans' 'shirt']\n",
            "[[0 1 0 0]\n",
            " [0 0 0 1]\n",
            " [0 0 1 0]\n",
            " [0 1 0 0]\n",
            " [0 0 1 0]]\n",
            "['black' 'black' 'blue' 'black' 'blue']\n",
            "[[1 0 0]\n",
            " [1 0 0]\n",
            " [0 1 0]\n",
            " [1 0 0]\n",
            " [0 1 0]]\n"
          ]
        }
      ]
    },
    {
      "cell_type": "markdown",
      "metadata": {
        "id": "AXcJIhU1noje"
      },
      "source": [
        "### 데이터 분리"
      ]
    },
    {
      "cell_type": "code",
      "metadata": {
        "id": "H6H1tL3unAOv",
        "colab": {
          "base_uri": "https://localhost:8080/"
        },
        "outputId": "c62ca652-a771-40b8-e2e9-bf8fbe437a15"
      },
      "source": [
        "(trainX, testX, trainCategoryY, testCategoryY, trainColorY, testColorY) = train_test_split(data, categoryLabels, colorLabels, test_size=0.2, random_state=42)\n",
        "\n",
        "print(trainX.shape)\n",
        "print(trainCategoryY.shape)\n",
        "print(trainColorY.shape)\n",
        "\n",
        "print(testX.shape)\n",
        "print(testCategoryY.shape)\n",
        "print(testColorY.shape)"
      ],
      "execution_count": 42,
      "outputs": [
        {
          "output_type": "stream",
          "name": "stdout",
          "text": [
            "(604, 96, 96, 3)\n",
            "(604, 4)\n",
            "(604, 3)\n",
            "(151, 96, 96, 3)\n",
            "(151, 4)\n",
            "(151, 3)\n"
          ]
        }
      ]
    },
    {
      "cell_type": "code",
      "metadata": {
        "id": "_vHgevIupt6_",
        "colab": {
          "base_uri": "https://localhost:8080/"
        },
        "outputId": "decd379f-731b-4775-95dc-71f83ed3c102"
      },
      "source": [
        "CATEGORY_COUNT = categoryLabels.shape[-1]\n",
        "COLOR_COUNT = colorLabels.shape[-1]\n",
        "\n",
        "print(CATEGORY_COUNT)\n",
        "print(COLOR_COUNT)"
      ],
      "execution_count": 43,
      "outputs": [
        {
          "output_type": "stream",
          "name": "stdout",
          "text": [
            "4\n",
            "3\n"
          ]
        }
      ]
    },
    {
      "cell_type": "markdown",
      "metadata": {
        "id": "dAcKr4uko_51"
      },
      "source": [
        "## 개별 모델로 학습 실행"
      ]
    },
    {
      "cell_type": "code",
      "metadata": {
        "id": "X3gbBIm7oBMX"
      },
      "source": [
        "import numpy as np\n",
        "import matplotlib.pyplot as plt\n",
        "\n",
        "import tensorflow as tf\n",
        "from tensorflow import keras\n",
        "from tensorflow.keras import optimizers\n",
        "from tensorflow.keras.layers import Dense, Flatten, Conv2D, MaxPooling2D, Input\n",
        "\n",
        "\n",
        "def build_category_model():\n",
        "\n",
        "  model = keras.Sequential()\n",
        "  model.add(Input(IMAGE_DIMS))\n",
        "  model.add(Conv2D(32, (3, 3)))\n",
        "  model.add(MaxPooling2D((2, 2)))\n",
        "  model.add(Conv2D(64, (3, 3)))\n",
        "  model.add(MaxPooling2D((2, 2)))\n",
        "  model.add(Flatten())\n",
        "  model.add(Dense(10, activation='relu'))\n",
        "  model.add(Dense(10, activation='relu'))\n",
        "  model.add(Dense(CATEGORY_COUNT, activation='softmax'))\n",
        "\n",
        "  return model\n",
        "\n",
        "def build_color_model():\n",
        "\n",
        "  model = keras.Sequential()\n",
        "  model.add(Input(IMAGE_DIMS))\n",
        "  model.add(Conv2D(32, (3, 3)))\n",
        "  model.add(MaxPooling2D((2, 2)))\n",
        "  model.add(Conv2D(64, (3, 3)))\n",
        "  model.add(MaxPooling2D((2, 2)))\n",
        "  model.add(Flatten())\n",
        "  model.add(Dense(10, activation='relu'))\n",
        "  model.add(Dense(10, activation='relu'))\n",
        "  model.add(Dense(COLOR_COUNT, activation='softmax'))\n",
        "\n",
        "  return model  "
      ],
      "execution_count": 44,
      "outputs": []
    },
    {
      "cell_type": "code",
      "metadata": {
        "id": "Vh-cWdnw9YIM",
        "colab": {
          "base_uri": "https://localhost:8080/"
        },
        "outputId": "d7803d3e-4633-4230-bd5b-18f992b66fd4"
      },
      "source": [
        "print(trainX.shape)\n",
        "print(trainCategoryY.shape)\n",
        "print(CATEGORY_COUNT)"
      ],
      "execution_count": 45,
      "outputs": [
        {
          "output_type": "stream",
          "name": "stdout",
          "text": [
            "(604, 96, 96, 3)\n",
            "(604, 4)\n",
            "4\n"
          ]
        }
      ]
    },
    {
      "cell_type": "markdown",
      "metadata": {
        "id": "DnwbSGt4I5Er"
      },
      "source": [
        "### 카테고리 모델"
      ]
    },
    {
      "cell_type": "code",
      "metadata": {
        "id": "O0CE4sh2pXrm",
        "colab": {
          "base_uri": "https://localhost:8080/"
        },
        "outputId": "1fd69f8c-4732-4c74-cb8b-0f316d46fda6"
      },
      "source": [
        "category_model = build_category_model()\n",
        "\n",
        "category_model.compile(optimizer=\"adam\", loss=\"categorical_crossentropy\", metrics=[\"accuracy\"])\n",
        "category_model.summary()\n",
        "\n",
        "\n",
        "category_model.fit(trainX, trainCategoryY, epochs=50, verbose=1, batch_size=128)\n",
        "\n",
        "\n",
        "loss, acc = category_model.evaluate(testX, testCategoryY)\n",
        "print(\"loss=\",loss)\n",
        "print(\"acc=\",acc)\n"
      ],
      "execution_count": 46,
      "outputs": [
        {
          "output_type": "stream",
          "name": "stdout",
          "text": [
            "Model: \"sequential_1\"\n",
            "_________________________________________________________________\n",
            " Layer (type)                Output Shape              Param #   \n",
            "=================================================================\n",
            " conv2d_8 (Conv2D)           (None, 94, 94, 32)        896       \n",
            "                                                                 \n",
            " max_pooling2d_8 (MaxPooling  (None, 47, 47, 32)       0         \n",
            " 2D)                                                             \n",
            "                                                                 \n",
            " conv2d_9 (Conv2D)           (None, 45, 45, 64)        18496     \n",
            "                                                                 \n",
            " max_pooling2d_9 (MaxPooling  (None, 22, 22, 64)       0         \n",
            " 2D)                                                             \n",
            "                                                                 \n",
            " flatten_4 (Flatten)         (None, 30976)             0         \n",
            "                                                                 \n",
            " dense_18 (Dense)            (None, 10)                309770    \n",
            "                                                                 \n",
            " dense_19 (Dense)            (None, 10)                110       \n",
            "                                                                 \n",
            " dense_20 (Dense)            (None, 4)                 44        \n",
            "                                                                 \n",
            "=================================================================\n",
            "Total params: 329,316\n",
            "Trainable params: 329,316\n",
            "Non-trainable params: 0\n",
            "_________________________________________________________________\n",
            "Epoch 1/50\n",
            "5/5 [==============================] - 1s 38ms/step - loss: 1.5497 - accuracy: 0.2914\n",
            "Epoch 2/50\n",
            "5/5 [==============================] - 0s 16ms/step - loss: 1.4283 - accuracy: 0.2632\n",
            "Epoch 3/50\n",
            "5/5 [==============================] - 0s 15ms/step - loss: 1.2420 - accuracy: 0.3858\n",
            "Epoch 4/50\n",
            "5/5 [==============================] - 0s 15ms/step - loss: 1.0783 - accuracy: 0.3825\n",
            "Epoch 5/50\n",
            "5/5 [==============================] - 0s 15ms/step - loss: 0.9881 - accuracy: 0.6192\n",
            "Epoch 6/50\n",
            "5/5 [==============================] - 0s 17ms/step - loss: 0.9110 - accuracy: 0.6954\n",
            "Epoch 7/50\n",
            "5/5 [==============================] - 0s 19ms/step - loss: 0.8380 - accuracy: 0.7053\n",
            "Epoch 8/50\n",
            "5/5 [==============================] - 0s 14ms/step - loss: 0.7692 - accuracy: 0.7732\n",
            "Epoch 9/50\n",
            "5/5 [==============================] - 0s 16ms/step - loss: 0.6855 - accuracy: 0.7831\n",
            "Epoch 10/50\n",
            "5/5 [==============================] - 0s 16ms/step - loss: 0.6041 - accuracy: 0.7864\n",
            "Epoch 11/50\n",
            "5/5 [==============================] - 0s 15ms/step - loss: 0.5585 - accuracy: 0.7699\n",
            "Epoch 12/50\n",
            "5/5 [==============================] - 0s 14ms/step - loss: 0.4969 - accuracy: 0.7964\n",
            "Epoch 13/50\n",
            "5/5 [==============================] - 0s 15ms/step - loss: 0.4111 - accuracy: 0.8328\n",
            "Epoch 14/50\n",
            "5/5 [==============================] - 0s 15ms/step - loss: 0.4191 - accuracy: 0.8162\n",
            "Epoch 15/50\n",
            "5/5 [==============================] - 0s 15ms/step - loss: 0.3635 - accuracy: 0.8427\n",
            "Epoch 16/50\n",
            "5/5 [==============================] - 0s 17ms/step - loss: 0.3318 - accuracy: 0.8593\n",
            "Epoch 17/50\n",
            "5/5 [==============================] - 0s 15ms/step - loss: 0.3084 - accuracy: 0.8841\n",
            "Epoch 18/50\n",
            "5/5 [==============================] - 0s 15ms/step - loss: 0.2559 - accuracy: 0.9156\n",
            "Epoch 19/50\n",
            "5/5 [==============================] - 0s 20ms/step - loss: 0.2084 - accuracy: 0.9288\n",
            "Epoch 20/50\n",
            "5/5 [==============================] - 0s 16ms/step - loss: 0.1796 - accuracy: 0.9470\n",
            "Epoch 21/50\n",
            "5/5 [==============================] - 0s 15ms/step - loss: 0.1762 - accuracy: 0.9503\n",
            "Epoch 22/50\n",
            "5/5 [==============================] - 0s 16ms/step - loss: 0.2853 - accuracy: 0.9056\n",
            "Epoch 23/50\n",
            "5/5 [==============================] - 0s 16ms/step - loss: 0.1789 - accuracy: 0.9354\n",
            "Epoch 24/50\n",
            "5/5 [==============================] - 0s 15ms/step - loss: 0.1763 - accuracy: 0.9470\n",
            "Epoch 25/50\n",
            "5/5 [==============================] - 0s 15ms/step - loss: 0.1347 - accuracy: 0.9652\n",
            "Epoch 26/50\n",
            "5/5 [==============================] - 0s 15ms/step - loss: 0.1338 - accuracy: 0.9454\n",
            "Epoch 27/50\n",
            "5/5 [==============================] - 0s 16ms/step - loss: 0.1005 - accuracy: 0.9685\n",
            "Epoch 28/50\n",
            "5/5 [==============================] - 0s 16ms/step - loss: 0.0786 - accuracy: 0.9801\n",
            "Epoch 29/50\n",
            "5/5 [==============================] - 0s 17ms/step - loss: 0.0751 - accuracy: 0.9818\n",
            "Epoch 30/50\n",
            "5/5 [==============================] - 0s 15ms/step - loss: 0.0669 - accuracy: 0.9818\n",
            "Epoch 31/50\n",
            "5/5 [==============================] - 0s 17ms/step - loss: 0.0652 - accuracy: 0.9768\n",
            "Epoch 32/50\n",
            "5/5 [==============================] - 0s 15ms/step - loss: 0.0517 - accuracy: 0.9868\n",
            "Epoch 33/50\n",
            "5/5 [==============================] - 0s 15ms/step - loss: 0.0498 - accuracy: 0.9868\n",
            "Epoch 34/50\n",
            "5/5 [==============================] - 0s 15ms/step - loss: 0.0432 - accuracy: 0.9884\n",
            "Epoch 35/50\n",
            "5/5 [==============================] - 0s 16ms/step - loss: 0.0386 - accuracy: 0.9901\n",
            "Epoch 36/50\n",
            "5/5 [==============================] - 0s 16ms/step - loss: 0.0387 - accuracy: 0.9884\n",
            "Epoch 37/50\n",
            "5/5 [==============================] - 0s 16ms/step - loss: 0.0353 - accuracy: 0.9917\n",
            "Epoch 38/50\n",
            "5/5 [==============================] - 0s 16ms/step - loss: 0.0352 - accuracy: 0.9917\n",
            "Epoch 39/50\n",
            "5/5 [==============================] - 0s 16ms/step - loss: 0.0349 - accuracy: 0.9901\n",
            "Epoch 40/50\n",
            "5/5 [==============================] - 0s 15ms/step - loss: 0.0376 - accuracy: 0.9901\n",
            "Epoch 41/50\n",
            "5/5 [==============================] - 0s 16ms/step - loss: 0.0308 - accuracy: 0.9934\n",
            "Epoch 42/50\n",
            "5/5 [==============================] - 0s 15ms/step - loss: 0.0270 - accuracy: 0.9917\n",
            "Epoch 43/50\n",
            "5/5 [==============================] - 0s 15ms/step - loss: 0.0250 - accuracy: 0.9967\n",
            "Epoch 44/50\n",
            "5/5 [==============================] - 0s 14ms/step - loss: 0.0219 - accuracy: 0.9950\n",
            "Epoch 45/50\n",
            "5/5 [==============================] - 0s 15ms/step - loss: 0.0200 - accuracy: 0.9950\n",
            "Epoch 46/50\n",
            "5/5 [==============================] - 0s 15ms/step - loss: 0.0185 - accuracy: 0.9950\n",
            "Epoch 47/50\n",
            "5/5 [==============================] - 0s 15ms/step - loss: 0.0169 - accuracy: 0.9950\n",
            "Epoch 48/50\n",
            "5/5 [==============================] - 0s 15ms/step - loss: 0.0158 - accuracy: 0.9950\n",
            "Epoch 49/50\n",
            "5/5 [==============================] - 0s 14ms/step - loss: 0.0147 - accuracy: 0.9967\n",
            "Epoch 50/50\n",
            "5/5 [==============================] - 0s 14ms/step - loss: 0.0139 - accuracy: 0.9967\n",
            "5/5 [==============================] - 0s 9ms/step - loss: 0.2239 - accuracy: 0.9470\n",
            "loss= 0.22394804656505585\n",
            "acc= 0.9470198750495911\n"
          ]
        }
      ]
    },
    {
      "cell_type": "markdown",
      "metadata": {
        "id": "g_h8W_oHI_CZ"
      },
      "source": [
        "### 컬러 모델"
      ]
    },
    {
      "cell_type": "code",
      "metadata": {
        "id": "Z-p1AcRT-IMJ",
        "colab": {
          "base_uri": "https://localhost:8080/"
        },
        "outputId": "5e627817-c669-40ce-eb73-3a3dc6f9495a"
      },
      "source": [
        "print(trainX.shape)\n",
        "print(trainColorY.shape)\n",
        "print(COLOR_COUNT)"
      ],
      "execution_count": 47,
      "outputs": [
        {
          "output_type": "stream",
          "name": "stdout",
          "text": [
            "(604, 96, 96, 3)\n",
            "(604, 3)\n",
            "3\n"
          ]
        }
      ]
    },
    {
      "cell_type": "code",
      "metadata": {
        "id": "Qgm2tq2I-Sym",
        "colab": {
          "base_uri": "https://localhost:8080/"
        },
        "outputId": "2da44cfd-f3ad-46b6-ac8a-beaccddd899a"
      },
      "source": [
        "color_model = build_color_model()\n",
        "\n",
        "color_model.compile(optimizer=\"adam\", loss=\"categorical_crossentropy\", metrics=[\"accuracy\"])\n",
        "color_model.summary()\n",
        "\n",
        "\n",
        "color_model.fit(trainX, trainColorY, epochs=50, verbose=1, batch_size=128)\n",
        "\n",
        "\n",
        "loss, acc = color_model.evaluate(testX, testColorY)\n",
        "print(\"loss=\",loss)\n",
        "print(\"acc=\",acc)\n"
      ],
      "execution_count": 48,
      "outputs": [
        {
          "output_type": "stream",
          "name": "stdout",
          "text": [
            "Model: \"sequential_2\"\n",
            "_________________________________________________________________\n",
            " Layer (type)                Output Shape              Param #   \n",
            "=================================================================\n",
            " conv2d_10 (Conv2D)          (None, 94, 94, 32)        896       \n",
            "                                                                 \n",
            " max_pooling2d_10 (MaxPoolin  (None, 47, 47, 32)       0         \n",
            " g2D)                                                            \n",
            "                                                                 \n",
            " conv2d_11 (Conv2D)          (None, 45, 45, 64)        18496     \n",
            "                                                                 \n",
            " max_pooling2d_11 (MaxPoolin  (None, 22, 22, 64)       0         \n",
            " g2D)                                                            \n",
            "                                                                 \n",
            " flatten_5 (Flatten)         (None, 30976)             0         \n",
            "                                                                 \n",
            " dense_21 (Dense)            (None, 10)                309770    \n",
            "                                                                 \n",
            " dense_22 (Dense)            (None, 10)                110       \n",
            "                                                                 \n",
            " dense_23 (Dense)            (None, 3)                 33        \n",
            "                                                                 \n",
            "=================================================================\n",
            "Total params: 329,305\n",
            "Trainable params: 329,305\n",
            "Non-trainable params: 0\n",
            "_________________________________________________________________\n",
            "Epoch 1/50\n",
            "5/5 [==============================] - 1s 16ms/step - loss: 1.1016 - accuracy: 0.3742\n",
            "Epoch 2/50\n",
            "5/5 [==============================] - 0s 16ms/step - loss: 0.9525 - accuracy: 0.5629\n",
            "Epoch 3/50\n",
            "5/5 [==============================] - 0s 15ms/step - loss: 0.7833 - accuracy: 0.6606\n",
            "Epoch 4/50\n",
            "5/5 [==============================] - 0s 16ms/step - loss: 0.5953 - accuracy: 0.7152\n",
            "Epoch 5/50\n",
            "5/5 [==============================] - 0s 15ms/step - loss: 0.5112 - accuracy: 0.7252\n",
            "Epoch 6/50\n",
            "5/5 [==============================] - 0s 16ms/step - loss: 0.4499 - accuracy: 0.7732\n",
            "Epoch 7/50\n",
            "5/5 [==============================] - 0s 15ms/step - loss: 0.4051 - accuracy: 0.9437\n",
            "Epoch 8/50\n",
            "5/5 [==============================] - 0s 15ms/step - loss: 0.3189 - accuracy: 0.9222\n",
            "Epoch 9/50\n",
            "5/5 [==============================] - 0s 16ms/step - loss: 0.2063 - accuracy: 0.9321\n",
            "Epoch 10/50\n",
            "5/5 [==============================] - 0s 15ms/step - loss: 0.1283 - accuracy: 0.9603\n",
            "Epoch 11/50\n",
            "5/5 [==============================] - 0s 14ms/step - loss: 0.0822 - accuracy: 0.9801\n",
            "Epoch 12/50\n",
            "5/5 [==============================] - 0s 15ms/step - loss: 0.0655 - accuracy: 0.9818\n",
            "Epoch 13/50\n",
            "5/5 [==============================] - 0s 15ms/step - loss: 0.0464 - accuracy: 0.9851\n",
            "Epoch 14/50\n",
            "5/5 [==============================] - 0s 14ms/step - loss: 0.0382 - accuracy: 0.9934\n",
            "Epoch 15/50\n",
            "5/5 [==============================] - 0s 15ms/step - loss: 0.0314 - accuracy: 0.9934\n",
            "Epoch 16/50\n",
            "5/5 [==============================] - 0s 22ms/step - loss: 0.0245 - accuracy: 0.9950\n",
            "Epoch 17/50\n",
            "5/5 [==============================] - 0s 15ms/step - loss: 0.0212 - accuracy: 0.9983\n",
            "Epoch 18/50\n",
            "5/5 [==============================] - 0s 15ms/step - loss: 0.0151 - accuracy: 0.9983\n",
            "Epoch 19/50\n",
            "5/5 [==============================] - 0s 16ms/step - loss: 0.0127 - accuracy: 0.9983\n",
            "Epoch 20/50\n",
            "5/5 [==============================] - 0s 15ms/step - loss: 0.0104 - accuracy: 0.9983\n",
            "Epoch 21/50\n",
            "5/5 [==============================] - 0s 15ms/step - loss: 0.0079 - accuracy: 0.9983\n",
            "Epoch 22/50\n",
            "5/5 [==============================] - 0s 15ms/step - loss: 0.0064 - accuracy: 1.0000\n",
            "Epoch 23/50\n",
            "5/5 [==============================] - 0s 16ms/step - loss: 0.0064 - accuracy: 1.0000\n",
            "Epoch 24/50\n",
            "5/5 [==============================] - 0s 14ms/step - loss: 0.0048 - accuracy: 1.0000\n",
            "Epoch 25/50\n",
            "5/5 [==============================] - 0s 14ms/step - loss: 0.0040 - accuracy: 1.0000\n",
            "Epoch 26/50\n",
            "5/5 [==============================] - 0s 15ms/step - loss: 0.0034 - accuracy: 1.0000\n",
            "Epoch 27/50\n",
            "5/5 [==============================] - 0s 15ms/step - loss: 0.0030 - accuracy: 1.0000\n",
            "Epoch 28/50\n",
            "5/5 [==============================] - 0s 16ms/step - loss: 0.0026 - accuracy: 1.0000\n",
            "Epoch 29/50\n",
            "5/5 [==============================] - 0s 15ms/step - loss: 0.0025 - accuracy: 1.0000\n",
            "Epoch 30/50\n",
            "5/5 [==============================] - 0s 15ms/step - loss: 0.0023 - accuracy: 1.0000\n",
            "Epoch 31/50\n",
            "5/5 [==============================] - 0s 16ms/step - loss: 0.0022 - accuracy: 1.0000\n",
            "Epoch 32/50\n",
            "5/5 [==============================] - 0s 15ms/step - loss: 0.0019 - accuracy: 1.0000\n",
            "Epoch 33/50\n",
            "5/5 [==============================] - 0s 15ms/step - loss: 0.0019 - accuracy: 1.0000\n",
            "Epoch 34/50\n",
            "5/5 [==============================] - 0s 16ms/step - loss: 0.0017 - accuracy: 1.0000\n",
            "Epoch 35/50\n",
            "5/5 [==============================] - 0s 16ms/step - loss: 0.0016 - accuracy: 1.0000\n",
            "Epoch 36/50\n",
            "5/5 [==============================] - 0s 16ms/step - loss: 0.0015 - accuracy: 1.0000\n",
            "Epoch 37/50\n",
            "5/5 [==============================] - 0s 16ms/step - loss: 0.0014 - accuracy: 1.0000\n",
            "Epoch 38/50\n",
            "5/5 [==============================] - 0s 17ms/step - loss: 0.0013 - accuracy: 1.0000\n",
            "Epoch 39/50\n",
            "5/5 [==============================] - 0s 15ms/step - loss: 0.0012 - accuracy: 1.0000\n",
            "Epoch 40/50\n",
            "5/5 [==============================] - 0s 16ms/step - loss: 0.0011 - accuracy: 1.0000\n",
            "Epoch 41/50\n",
            "5/5 [==============================] - 0s 16ms/step - loss: 0.0011 - accuracy: 1.0000\n",
            "Epoch 42/50\n",
            "5/5 [==============================] - 0s 19ms/step - loss: 0.0010 - accuracy: 1.0000\n",
            "Epoch 43/50\n",
            "5/5 [==============================] - 0s 16ms/step - loss: 0.0010 - accuracy: 1.0000\n",
            "Epoch 44/50\n",
            "5/5 [==============================] - 0s 16ms/step - loss: 9.2715e-04 - accuracy: 1.0000\n",
            "Epoch 45/50\n",
            "5/5 [==============================] - 0s 15ms/step - loss: 8.9119e-04 - accuracy: 1.0000\n",
            "Epoch 46/50\n",
            "5/5 [==============================] - 0s 15ms/step - loss: 8.6719e-04 - accuracy: 1.0000\n",
            "Epoch 47/50\n",
            "5/5 [==============================] - 0s 15ms/step - loss: 7.9631e-04 - accuracy: 1.0000\n",
            "Epoch 48/50\n",
            "5/5 [==============================] - 0s 16ms/step - loss: 7.8038e-04 - accuracy: 1.0000\n",
            "Epoch 49/50\n",
            "5/5 [==============================] - 0s 15ms/step - loss: 7.2527e-04 - accuracy: 1.0000\n",
            "Epoch 50/50\n",
            "5/5 [==============================] - 0s 13ms/step - loss: 8.2646e-04 - accuracy: 1.0000\n",
            "5/5 [==============================] - 0s 6ms/step - loss: 0.1403 - accuracy: 0.9801\n",
            "loss= 0.14027619361877441\n",
            "acc= 0.9801324605941772\n"
          ]
        }
      ]
    },
    {
      "cell_type": "code",
      "metadata": {
        "id": "BlumccIP-YUu"
      },
      "source": [
        ""
      ],
      "execution_count": 48,
      "outputs": []
    },
    {
      "cell_type": "markdown",
      "metadata": {
        "id": "Z1fdpl5c-iW_"
      },
      "source": [
        "## 다중 출력 모델로 학습 실행"
      ]
    },
    {
      "cell_type": "code",
      "metadata": {
        "id": "KOyQbsVo-ke8"
      },
      "source": [
        "import numpy as np\n",
        "import matplotlib.pyplot as plt\n",
        "\n",
        "import tensorflow as tf\n",
        "from tensorflow import keras\n",
        "from tensorflow.keras import optimizers, Model\n",
        "from tensorflow.keras.layers import Dense, Flatten, Conv2D, MaxPooling2D, Input\n",
        "\n",
        "\n",
        "def common_input_branch(input):\n",
        "\n",
        "  x = Conv2D(32, (3, 3))(input)\n",
        "  x = MaxPooling2D((2, 2))(x)\n",
        "  x = Conv2D(64, (3, 3))(x)\n",
        "  x = MaxPooling2D((2, 2))(x)\n",
        "  x = Flatten()(x)\n",
        "\n",
        "  return x\n",
        "\n",
        "\n",
        "def category_branch(x):\n",
        "\n",
        "  x = Dense(10, activation='relu')(x)\n",
        "  x = Dense(10, activation='relu')(x)\n",
        "  x = Dense(CATEGORY_COUNT, activation='softmax', name='category_output')(x)\n",
        "\n",
        "  return x\n",
        "\n",
        "def color_branch(x):\n",
        "\n",
        "  x = Dense(10, activation='relu')(x)\n",
        "  x = Dense(10, activation='relu')(x)\n",
        "  x = Dense(COLOR_COUNT, activation='softmax', name='color_output')(x)\n",
        "\n",
        "  return x"
      ],
      "execution_count": 49,
      "outputs": []
    },
    {
      "cell_type": "code",
      "metadata": {
        "id": "49vnw8ZSAEYN",
        "colab": {
          "base_uri": "https://localhost:8080/"
        },
        "outputId": "82eb0bfa-4a4a-4021-8383-2605702a6d71"
      },
      "source": [
        "input = Input(IMAGE_DIMS)\n",
        "\n",
        "common_input = common_input_branch(input)\n",
        "category_output = category_branch(common_input)\n",
        "color_output = color_branch(common_input)\n",
        "\n",
        "multi_output_model = Model(input, [category_output, color_output])\n",
        "\n",
        "multi_output_model.summary()"
      ],
      "execution_count": 50,
      "outputs": [
        {
          "output_type": "stream",
          "name": "stdout",
          "text": [
            "Model: \"model_4\"\n",
            "__________________________________________________________________________________________________\n",
            " Layer (type)                   Output Shape         Param #     Connected to                     \n",
            "==================================================================================================\n",
            " input_9 (InputLayer)           [(None, 96, 96, 3)]  0           []                               \n",
            "                                                                                                  \n",
            " conv2d_12 (Conv2D)             (None, 94, 94, 32)   896         ['input_9[0][0]']                \n",
            "                                                                                                  \n",
            " max_pooling2d_12 (MaxPooling2D  (None, 47, 47, 32)  0           ['conv2d_12[0][0]']              \n",
            " )                                                                                                \n",
            "                                                                                                  \n",
            " conv2d_13 (Conv2D)             (None, 45, 45, 64)   18496       ['max_pooling2d_12[0][0]']       \n",
            "                                                                                                  \n",
            " max_pooling2d_13 (MaxPooling2D  (None, 22, 22, 64)  0           ['conv2d_13[0][0]']              \n",
            " )                                                                                                \n",
            "                                                                                                  \n",
            " flatten_6 (Flatten)            (None, 30976)        0           ['max_pooling2d_13[0][0]']       \n",
            "                                                                                                  \n",
            " dense_24 (Dense)               (None, 10)           309770      ['flatten_6[0][0]']              \n",
            "                                                                                                  \n",
            " dense_26 (Dense)               (None, 10)           309770      ['flatten_6[0][0]']              \n",
            "                                                                                                  \n",
            " dense_25 (Dense)               (None, 10)           110         ['dense_24[0][0]']               \n",
            "                                                                                                  \n",
            " dense_27 (Dense)               (None, 10)           110         ['dense_26[0][0]']               \n",
            "                                                                                                  \n",
            " category_output (Dense)        (None, 4)            44          ['dense_25[0][0]']               \n",
            "                                                                                                  \n",
            " color_output (Dense)           (None, 3)            33          ['dense_27[0][0]']               \n",
            "                                                                                                  \n",
            "==================================================================================================\n",
            "Total params: 639,229\n",
            "Trainable params: 639,229\n",
            "Non-trainable params: 0\n",
            "__________________________________________________________________________________________________\n"
          ]
        }
      ]
    },
    {
      "cell_type": "code",
      "metadata": {
        "id": "SftqPQsKAHCU",
        "colab": {
          "base_uri": "https://localhost:8080/"
        },
        "outputId": "3dee0709-e55a-49e1-d358-5504a5c2e501"
      },
      "source": [
        "losses = { \n",
        "    \"category_output\":\"categorical_crossentropy\", \n",
        "    \"color_output\":\"categorical_crossentropy\"\n",
        "}\n",
        "multi_output_model.compile(optimizer=\"adam\", loss=losses, metrics=[\"accuracy\"])\n",
        "\n",
        "multi_output_model.fit(trainX, {\"category_output\":trainCategoryY, \"color_output\":trainColorY}, epochs=50, verbose=1, batch_size=128)"
      ],
      "execution_count": 51,
      "outputs": [
        {
          "output_type": "stream",
          "name": "stdout",
          "text": [
            "Epoch 1/50\n",
            "5/5 [==============================] - 1s 19ms/step - loss: 3.0351 - category_output_loss: 1.6214 - color_output_loss: 1.4137 - category_output_accuracy: 0.3526 - color_output_accuracy: 0.5298\n",
            "Epoch 2/50\n",
            "5/5 [==============================] - 0s 16ms/step - loss: 2.2195 - category_output_loss: 1.2535 - color_output_loss: 0.9660 - category_output_accuracy: 0.3874 - color_output_accuracy: 0.5132\n",
            "Epoch 3/50\n",
            "5/5 [==============================] - 0s 16ms/step - loss: 2.0206 - category_output_loss: 1.1814 - color_output_loss: 0.8392 - category_output_accuracy: 0.3775 - color_output_accuracy: 0.6490\n",
            "Epoch 4/50\n",
            "5/5 [==============================] - 0s 16ms/step - loss: 1.8207 - category_output_loss: 1.0844 - color_output_loss: 0.7362 - category_output_accuracy: 0.5033 - color_output_accuracy: 0.6573\n",
            "Epoch 5/50\n",
            "5/5 [==============================] - 0s 17ms/step - loss: 1.7035 - category_output_loss: 0.9985 - color_output_loss: 0.7050 - category_output_accuracy: 0.5017 - color_output_accuracy: 0.7070\n",
            "Epoch 6/50\n",
            "5/5 [==============================] - 0s 18ms/step - loss: 1.5402 - category_output_loss: 0.9299 - color_output_loss: 0.6103 - category_output_accuracy: 0.5232 - color_output_accuracy: 0.8460\n",
            "Epoch 7/50\n",
            "5/5 [==============================] - 0s 17ms/step - loss: 1.4141 - category_output_loss: 0.8759 - color_output_loss: 0.5382 - category_output_accuracy: 0.5265 - color_output_accuracy: 0.9156\n",
            "Epoch 8/50\n",
            "5/5 [==============================] - 0s 18ms/step - loss: 1.3043 - category_output_loss: 0.8415 - color_output_loss: 0.4627 - category_output_accuracy: 0.5331 - color_output_accuracy: 0.9454\n",
            "Epoch 9/50\n",
            "5/5 [==============================] - 0s 16ms/step - loss: 1.2547 - category_output_loss: 0.8248 - color_output_loss: 0.4299 - category_output_accuracy: 0.5265 - color_output_accuracy: 0.9586\n",
            "Epoch 10/50\n",
            "5/5 [==============================] - 0s 17ms/step - loss: 1.1945 - category_output_loss: 0.7929 - color_output_loss: 0.4016 - category_output_accuracy: 0.5546 - color_output_accuracy: 0.9636\n",
            "Epoch 11/50\n",
            "5/5 [==============================] - 0s 16ms/step - loss: 1.1430 - category_output_loss: 0.7593 - color_output_loss: 0.3837 - category_output_accuracy: 0.5579 - color_output_accuracy: 0.9752\n",
            "Epoch 12/50\n",
            "5/5 [==============================] - 0s 17ms/step - loss: 1.1009 - category_output_loss: 0.7368 - color_output_loss: 0.3641 - category_output_accuracy: 0.5596 - color_output_accuracy: 0.9834\n",
            "Epoch 13/50\n",
            "5/5 [==============================] - 0s 18ms/step - loss: 1.0646 - category_output_loss: 0.6988 - color_output_loss: 0.3657 - category_output_accuracy: 0.5712 - color_output_accuracy: 0.9702\n",
            "Epoch 14/50\n",
            "5/5 [==============================] - 0s 17ms/step - loss: 1.0072 - category_output_loss: 0.6506 - color_output_loss: 0.3566 - category_output_accuracy: 0.6374 - color_output_accuracy: 0.9768\n",
            "Epoch 15/50\n",
            "5/5 [==============================] - 0s 16ms/step - loss: 0.9432 - category_output_loss: 0.6119 - color_output_loss: 0.3312 - category_output_accuracy: 0.7003 - color_output_accuracy: 0.9884\n",
            "Epoch 16/50\n",
            "5/5 [==============================] - 0s 16ms/step - loss: 0.8798 - category_output_loss: 0.5630 - color_output_loss: 0.3168 - category_output_accuracy: 0.7417 - color_output_accuracy: 0.9917\n",
            "Epoch 17/50\n",
            "5/5 [==============================] - 0s 17ms/step - loss: 0.8392 - category_output_loss: 0.5330 - color_output_loss: 0.3062 - category_output_accuracy: 0.7831 - color_output_accuracy: 0.9950\n",
            "Epoch 18/50\n",
            "5/5 [==============================] - 0s 17ms/step - loss: 0.7904 - category_output_loss: 0.4876 - color_output_loss: 0.3028 - category_output_accuracy: 0.7881 - color_output_accuracy: 0.9950\n",
            "Epoch 19/50\n",
            "5/5 [==============================] - 0s 16ms/step - loss: 0.7391 - category_output_loss: 0.4417 - color_output_loss: 0.2974 - category_output_accuracy: 0.7914 - color_output_accuracy: 0.9934\n",
            "Epoch 20/50\n",
            "5/5 [==============================] - 0s 17ms/step - loss: 0.7014 - category_output_loss: 0.4101 - color_output_loss: 0.2913 - category_output_accuracy: 0.8129 - color_output_accuracy: 0.9934\n",
            "Epoch 21/50\n",
            "5/5 [==============================] - 0s 19ms/step - loss: 0.6659 - category_output_loss: 0.3819 - color_output_loss: 0.2840 - category_output_accuracy: 0.8642 - color_output_accuracy: 0.9967\n",
            "Epoch 22/50\n",
            "5/5 [==============================] - 0s 17ms/step - loss: 0.6326 - category_output_loss: 0.3534 - color_output_loss: 0.2792 - category_output_accuracy: 0.9023 - color_output_accuracy: 0.9967\n",
            "Epoch 23/50\n",
            "5/5 [==============================] - 0s 17ms/step - loss: 0.6141 - category_output_loss: 0.3384 - color_output_loss: 0.2757 - category_output_accuracy: 0.9189 - color_output_accuracy: 0.9967\n",
            "Epoch 24/50\n",
            "5/5 [==============================] - 0s 16ms/step - loss: 0.5817 - category_output_loss: 0.3088 - color_output_loss: 0.2729 - category_output_accuracy: 0.9387 - color_output_accuracy: 0.9950\n",
            "Epoch 25/50\n",
            "5/5 [==============================] - 0s 16ms/step - loss: 0.5704 - category_output_loss: 0.3032 - color_output_loss: 0.2672 - category_output_accuracy: 0.9338 - color_output_accuracy: 0.9983\n",
            "Epoch 26/50\n",
            "5/5 [==============================] - 0s 17ms/step - loss: 0.5434 - category_output_loss: 0.2815 - color_output_loss: 0.2619 - category_output_accuracy: 0.9454 - color_output_accuracy: 0.9967\n",
            "Epoch 27/50\n",
            "5/5 [==============================] - 0s 18ms/step - loss: 0.5208 - category_output_loss: 0.2621 - color_output_loss: 0.2587 - category_output_accuracy: 0.9652 - color_output_accuracy: 0.9983\n",
            "Epoch 28/50\n",
            "5/5 [==============================] - 0s 16ms/step - loss: 0.5131 - category_output_loss: 0.2585 - color_output_loss: 0.2546 - category_output_accuracy: 0.9685 - color_output_accuracy: 0.9983\n",
            "Epoch 29/50\n",
            "5/5 [==============================] - 0s 18ms/step - loss: 0.4983 - category_output_loss: 0.2477 - color_output_loss: 0.2506 - category_output_accuracy: 0.9669 - color_output_accuracy: 0.9983\n",
            "Epoch 30/50\n",
            "5/5 [==============================] - 0s 18ms/step - loss: 0.4890 - category_output_loss: 0.2428 - color_output_loss: 0.2463 - category_output_accuracy: 0.9719 - color_output_accuracy: 0.9983\n",
            "Epoch 31/50\n",
            "5/5 [==============================] - 0s 16ms/step - loss: 0.4746 - category_output_loss: 0.2318 - color_output_loss: 0.2428 - category_output_accuracy: 0.9719 - color_output_accuracy: 0.9983\n",
            "Epoch 32/50\n",
            "5/5 [==============================] - 0s 15ms/step - loss: 0.4659 - category_output_loss: 0.2265 - color_output_loss: 0.2394 - category_output_accuracy: 0.9785 - color_output_accuracy: 0.9983\n",
            "Epoch 33/50\n",
            "5/5 [==============================] - 0s 18ms/step - loss: 0.4547 - category_output_loss: 0.2195 - color_output_loss: 0.2352 - category_output_accuracy: 0.9884 - color_output_accuracy: 0.9983\n",
            "Epoch 34/50\n",
            "5/5 [==============================] - 0s 18ms/step - loss: 0.4447 - category_output_loss: 0.2129 - color_output_loss: 0.2318 - category_output_accuracy: 0.9834 - color_output_accuracy: 0.9983\n",
            "Epoch 35/50\n",
            "5/5 [==============================] - 0s 15ms/step - loss: 0.4156 - category_output_loss: 0.1874 - color_output_loss: 0.2282 - category_output_accuracy: 0.9834 - color_output_accuracy: 0.9983\n",
            "Epoch 36/50\n",
            "5/5 [==============================] - 0s 17ms/step - loss: 0.3264 - category_output_loss: 0.1001 - color_output_loss: 0.2263 - category_output_accuracy: 0.9669 - color_output_accuracy: 0.9983\n",
            "Epoch 37/50\n",
            "5/5 [==============================] - 0s 17ms/step - loss: 0.2815 - category_output_loss: 0.0591 - color_output_loss: 0.2223 - category_output_accuracy: 0.9801 - color_output_accuracy: 0.9983\n",
            "Epoch 38/50\n",
            "5/5 [==============================] - 0s 16ms/step - loss: 0.2822 - category_output_loss: 0.0629 - color_output_loss: 0.2193 - category_output_accuracy: 0.9818 - color_output_accuracy: 0.9934\n",
            "Epoch 39/50\n",
            "5/5 [==============================] - 0s 18ms/step - loss: 0.2755 - category_output_loss: 0.0586 - color_output_loss: 0.2170 - category_output_accuracy: 0.9851 - color_output_accuracy: 0.9983\n",
            "Epoch 40/50\n",
            "5/5 [==============================] - 0s 17ms/step - loss: 0.2481 - category_output_loss: 0.0349 - color_output_loss: 0.2132 - category_output_accuracy: 0.9934 - color_output_accuracy: 0.9967\n",
            "Epoch 41/50\n",
            "5/5 [==============================] - 0s 16ms/step - loss: 0.2417 - category_output_loss: 0.0319 - color_output_loss: 0.2098 - category_output_accuracy: 0.9934 - color_output_accuracy: 0.9967\n",
            "Epoch 42/50\n",
            "5/5 [==============================] - 0s 18ms/step - loss: 0.2316 - category_output_loss: 0.0275 - color_output_loss: 0.2041 - category_output_accuracy: 0.9934 - color_output_accuracy: 0.9983\n",
            "Epoch 43/50\n",
            "5/5 [==============================] - 0s 18ms/step - loss: 0.2234 - category_output_loss: 0.0248 - color_output_loss: 0.1986 - category_output_accuracy: 0.9934 - color_output_accuracy: 0.9983\n",
            "Epoch 44/50\n",
            "5/5 [==============================] - 0s 16ms/step - loss: 0.2163 - category_output_loss: 0.0179 - color_output_loss: 0.1985 - category_output_accuracy: 0.9967 - color_output_accuracy: 0.9983\n",
            "Epoch 45/50\n",
            "5/5 [==============================] - 0s 16ms/step - loss: 0.2105 - category_output_loss: 0.0182 - color_output_loss: 0.1923 - category_output_accuracy: 0.9983 - color_output_accuracy: 1.0000\n",
            "Epoch 46/50\n",
            "5/5 [==============================] - 0s 17ms/step - loss: 0.2075 - category_output_loss: 0.0177 - color_output_loss: 0.1898 - category_output_accuracy: 0.9983 - color_output_accuracy: 1.0000\n",
            "Epoch 47/50\n",
            "5/5 [==============================] - 0s 17ms/step - loss: 0.1989 - category_output_loss: 0.0152 - color_output_loss: 0.1837 - category_output_accuracy: 0.9983 - color_output_accuracy: 1.0000\n",
            "Epoch 48/50\n",
            "5/5 [==============================] - 0s 16ms/step - loss: 0.1930 - category_output_loss: 0.0136 - color_output_loss: 0.1794 - category_output_accuracy: 0.9983 - color_output_accuracy: 1.0000\n",
            "Epoch 49/50\n",
            "5/5 [==============================] - 0s 18ms/step - loss: 0.1872 - category_output_loss: 0.0115 - color_output_loss: 0.1757 - category_output_accuracy: 0.9983 - color_output_accuracy: 1.0000\n",
            "Epoch 50/50\n",
            "5/5 [==============================] - 0s 15ms/step - loss: 0.1823 - category_output_loss: 0.0104 - color_output_loss: 0.1719 - category_output_accuracy: 0.9983 - color_output_accuracy: 1.0000\n"
          ]
        },
        {
          "output_type": "execute_result",
          "data": {
            "text/plain": [
              "<keras.callbacks.History at 0x7effbb3f2f90>"
            ]
          },
          "metadata": {},
          "execution_count": 51
        }
      ]
    },
    {
      "cell_type": "code",
      "metadata": {
        "id": "NHH3al7zB4uK",
        "colab": {
          "base_uri": "https://localhost:8080/"
        },
        "outputId": "d05ed620-0fe9-457e-d418-e2cbacfb1750"
      },
      "source": [
        "loss, category_loss, color_loss, category_acc, color_acc = multi_output_model.evaluate(testX, {\"category_output\":testCategoryY, \"color_output\":testColorY})\n",
        "print(\"loss=\",loss)\n",
        "print(\"categoyr_loss=\", category_loss)\n",
        "print(\"color_loss=\", color_loss)\n",
        "print(\"category_acc=\", category_acc)\n",
        "print(\"color_acc=\", color_acc)"
      ],
      "execution_count": 52,
      "outputs": [
        {
          "output_type": "stream",
          "name": "stdout",
          "text": [
            "5/5 [==============================] - 0s 6ms/step - loss: 0.7000 - category_output_loss: 0.3723 - color_output_loss: 0.3277 - category_output_accuracy: 0.9272 - color_output_accuracy: 0.9801\n",
            "loss= 0.7000102996826172\n",
            "categoyr_loss= 0.37234002351760864\n",
            "color_loss= 0.32767030596733093\n",
            "category_acc= 0.9271523356437683\n",
            "color_acc= 0.9801324605941772\n"
          ]
        }
      ]
    },
    {
      "cell_type": "code",
      "metadata": {
        "id": "nGPuLHteCIso"
      },
      "source": [
        ""
      ],
      "execution_count": 52,
      "outputs": []
    }
  ]
}