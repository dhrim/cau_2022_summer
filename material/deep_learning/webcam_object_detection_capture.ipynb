{
  "nbformat": 4,
  "nbformat_minor": 0,
  "metadata": {
    "colab": {
      "name": "webcam_object_detection_capture.ipynb",
      "provenance": [],
      "collapsed_sections": []
    },
    "kernelspec": {
      "name": "python3",
      "display_name": "Python 3"
    },
    "language_info": {
      "name": "python"
    },
    "accelerator": "GPU",
    "gpuClass": "standard"
  },
  "cells": [
    {
      "cell_type": "code",
      "execution_count": 1,
      "metadata": {
        "id": "2YPiAFkkeDqT"
      },
      "outputs": [],
      "source": [
        "from IPython.display import display, Javascript\n",
        "from google.colab.output import eval_js\n",
        "from base64 import b64decode\n",
        "from IPython.display import Image\n",
        "from IPython.display import clear_output\n",
        "import warnings\n",
        "import os \n",
        "from glob import glob \n",
        "import pandas as pd \n",
        "warnings.filterwarnings(\"ignore\", category=FutureWarning)\n",
        "warnings.filterwarnings(\"ignore\", category=DeprecationWarning) "
      ]
    },
    {
      "cell_type": "markdown",
      "metadata": {
        "id": "kQj643MQTDf_"
      },
      "source": [
        "#디렉토리 생성 "
      ]
    },
    {
      "cell_type": "code",
      "source": [
        "!rm -rf cup"
      ],
      "metadata": {
        "id": "kEeWONf0CNce"
      },
      "execution_count": 2,
      "outputs": []
    },
    {
      "cell_type": "code",
      "source": [
        "!mkdir -p ./cup/"
      ],
      "metadata": {
        "id": "eKJxyRCUB_YS"
      },
      "execution_count": 3,
      "outputs": []
    },
    {
      "cell_type": "markdown",
      "metadata": {
        "id": "s-9HVzYsG5XJ"
      },
      "source": [
        "# 이미지 캡쳐 "
      ]
    },
    {
      "cell_type": "code",
      "source": [
        "def take_photo(last_file_path, quality=1.0):\n",
        "\n",
        "    js = Javascript('''\n",
        "\n",
        "        async function takePhoto([last_file_path, quality]) {\n",
        "\n",
        "            const div = document.createElement('div');\n",
        "            const video = document.createElement('video');\n",
        "            video.style.display = 'block';\n",
        "            video.height = 224\n",
        "            video.width = 224\n",
        "            const stream = await navigator.mediaDevices.getUserMedia({video: true});\n",
        "\n",
        "            document.body.appendChild(div);\n",
        "            div.appendChild(video);\n",
        "            video.srcObject = stream;\n",
        "            await video.play();\n",
        "\n",
        "            // Resize the output to fit the video element.\n",
        "            // google.colab.output.setIframeHeight(document.documentElement.scrollHeight, true);\n",
        "\n",
        "\n",
        "            const capture = document.createElement('button');\n",
        "\n",
        "            capture.textContent = 'Capture';\n",
        "\n",
        "            div.appendChild(capture);\n",
        "            \n",
        "            file_path = last_file_path\n",
        "\n",
        "            // Wait for Capture to be clicked.\n",
        "            await new Promise((resolve) => capture.onclick = resolve);\n",
        "            const canvas = document.createElement('canvas');\n",
        "            canvas.width = video.videoWidth;\n",
        "            canvas.height = video.videoHeight;\n",
        "            // canvas.width = 224;\n",
        "            // canvas.height = 224;\n",
        "            canvas.getContext('2d').drawImage(video, 0, 0);\n",
        "            stream.getVideoTracks()[0].stop();\n",
        "            div.remove();\n",
        "            \n",
        "            return [canvas.toDataURL('image/jpeg', quality), file_path];\n",
        "        }\n",
        "        \n",
        "    ''')\n",
        "\n",
        "    display(js)\n",
        "\n",
        "    data, file_path = eval_js('takePhoto({})'.format([last_file_path, quality]))\n",
        "    binary = b64decode(data.split(',')[1])\n",
        "    return binary, file_path\n"
      ],
      "metadata": {
        "id": "PoFAWFReM1tv"
      },
      "execution_count": 4,
      "outputs": []
    },
    {
      "cell_type": "code",
      "source": [
        "def find_max_index(file_path):\n",
        "    import re\n",
        "    file_names = glob(file_path)\n",
        "    # file_names = ['Picture 03.jpg', '02.jpg', '1.jpg']\n",
        "    if len(file_names)==0: return 0\n",
        "\n",
        "    file_indexes = [int(re.sub('\\D','',file_name)) for file_name in file_names]\n",
        "    # file_indexes = [3, 2, 1]\n",
        "\n",
        "    max_value = max(file_indexes)\n",
        "    # max_value = 3\n",
        "    return max_value\n",
        "\n",
        "max_index = find_max_index('./cup/*')\n",
        "print(max_index)"
      ],
      "metadata": {
        "id": "SpH9i5NLC1-y",
        "outputId": "306d3f12-e8b0-4608-b1bc-5bdd76073f45",
        "colab": {
          "base_uri": "https://localhost:8080/"
        }
      },
      "execution_count": 5,
      "outputs": [
        {
          "output_type": "stream",
          "name": "stdout",
          "text": [
            "0\n"
          ]
        }
      ]
    },
    {
      "cell_type": "code",
      "execution_count": 6,
      "metadata": {
        "colab": {
          "base_uri": "https://localhost:8080/",
          "height": 636
        },
        "id": "5O0BKCVBb6z_",
        "outputId": "3c6648af-b26e-4aa4-ba41-21dde3802907"
      },
      "outputs": [
        {
          "output_type": "display_data",
          "data": {
            "text/plain": [
              "<IPython.core.display.Javascript object>"
            ],
            "application/javascript": [
              "\n",
              "\n",
              "        async function takePhoto([last_file_path, quality]) {\n",
              "\n",
              "            const div = document.createElement('div');\n",
              "            const video = document.createElement('video');\n",
              "            video.style.display = 'block';\n",
              "            video.height = 224\n",
              "            video.width = 224\n",
              "            const stream = await navigator.mediaDevices.getUserMedia({video: true});\n",
              "\n",
              "            document.body.appendChild(div);\n",
              "            div.appendChild(video);\n",
              "            video.srcObject = stream;\n",
              "            await video.play();\n",
              "\n",
              "            // Resize the output to fit the video element.\n",
              "            // google.colab.output.setIframeHeight(document.documentElement.scrollHeight, true);\n",
              "\n",
              "\n",
              "            const capture = document.createElement('button');\n",
              "\n",
              "            capture.textContent = 'Capture';\n",
              "\n",
              "            div.appendChild(capture);\n",
              "            \n",
              "            file_path = last_file_path\n",
              "\n",
              "            // Wait for Capture to be clicked.\n",
              "            await new Promise((resolve) => capture.onclick = resolve);\n",
              "            const canvas = document.createElement('canvas');\n",
              "            canvas.width = video.videoWidth;\n",
              "            canvas.height = video.videoHeight;\n",
              "            // canvas.width = 224;\n",
              "            // canvas.height = 224;\n",
              "            canvas.getContext('2d').drawImage(video, 0, 0);\n",
              "            stream.getVideoTracks()[0].stop();\n",
              "            div.remove();\n",
              "            \n",
              "            return [canvas.toDataURL('image/jpeg', quality), file_path];\n",
              "        }\n",
              "        \n",
              "    "
            ]
          },
          "metadata": {}
        },
        {
          "output_type": "display_data",
          "data": {
            "text/plain": [
              "<IPython.core.display.Javascript object>"
            ],
            "application/javascript": [
              "\n",
              "\n",
              "        async function takePhoto([last_file_path, quality]) {\n",
              "\n",
              "            const div = document.createElement('div');\n",
              "            const video = document.createElement('video');\n",
              "            video.style.display = 'block';\n",
              "            video.height = 224\n",
              "            video.width = 224\n",
              "            const stream = await navigator.mediaDevices.getUserMedia({video: true});\n",
              "\n",
              "            document.body.appendChild(div);\n",
              "            div.appendChild(video);\n",
              "            video.srcObject = stream;\n",
              "            await video.play();\n",
              "\n",
              "            // Resize the output to fit the video element.\n",
              "            // google.colab.output.setIframeHeight(document.documentElement.scrollHeight, true);\n",
              "\n",
              "\n",
              "            const capture = document.createElement('button');\n",
              "\n",
              "            capture.textContent = 'Capture';\n",
              "\n",
              "            div.appendChild(capture);\n",
              "            \n",
              "            file_path = last_file_path\n",
              "\n",
              "            // Wait for Capture to be clicked.\n",
              "            await new Promise((resolve) => capture.onclick = resolve);\n",
              "            const canvas = document.createElement('canvas');\n",
              "            canvas.width = video.videoWidth;\n",
              "            canvas.height = video.videoHeight;\n",
              "            // canvas.width = 224;\n",
              "            // canvas.height = 224;\n",
              "            canvas.getContext('2d').drawImage(video, 0, 0);\n",
              "            stream.getVideoTracks()[0].stop();\n",
              "            div.remove();\n",
              "            \n",
              "            return [canvas.toDataURL('image/jpeg', quality), file_path];\n",
              "        }\n",
              "        \n",
              "    "
            ]
          },
          "metadata": {}
        },
        {
          "output_type": "display_data",
          "data": {
            "text/plain": [
              "<IPython.core.display.Javascript object>"
            ],
            "application/javascript": [
              "\n",
              "\n",
              "        async function takePhoto([last_file_path, quality]) {\n",
              "\n",
              "            const div = document.createElement('div');\n",
              "            const video = document.createElement('video');\n",
              "            video.style.display = 'block';\n",
              "            video.height = 224\n",
              "            video.width = 224\n",
              "            const stream = await navigator.mediaDevices.getUserMedia({video: true});\n",
              "\n",
              "            document.body.appendChild(div);\n",
              "            div.appendChild(video);\n",
              "            video.srcObject = stream;\n",
              "            await video.play();\n",
              "\n",
              "            // Resize the output to fit the video element.\n",
              "            // google.colab.output.setIframeHeight(document.documentElement.scrollHeight, true);\n",
              "\n",
              "\n",
              "            const capture = document.createElement('button');\n",
              "\n",
              "            capture.textContent = 'Capture';\n",
              "\n",
              "            div.appendChild(capture);\n",
              "            \n",
              "            file_path = last_file_path\n",
              "\n",
              "            // Wait for Capture to be clicked.\n",
              "            await new Promise((resolve) => capture.onclick = resolve);\n",
              "            const canvas = document.createElement('canvas');\n",
              "            canvas.width = video.videoWidth;\n",
              "            canvas.height = video.videoHeight;\n",
              "            // canvas.width = 224;\n",
              "            // canvas.height = 224;\n",
              "            canvas.getContext('2d').drawImage(video, 0, 0);\n",
              "            stream.getVideoTracks()[0].stop();\n",
              "            div.remove();\n",
              "            \n",
              "            return [canvas.toDataURL('image/jpeg', quality), file_path];\n",
              "        }\n",
              "        \n",
              "    "
            ]
          },
          "metadata": {}
        },
        {
          "output_type": "display_data",
          "data": {
            "text/plain": [
              "<IPython.core.display.Javascript object>"
            ],
            "application/javascript": [
              "\n",
              "\n",
              "        async function takePhoto([last_file_path, quality]) {\n",
              "\n",
              "            const div = document.createElement('div');\n",
              "            const video = document.createElement('video');\n",
              "            video.style.display = 'block';\n",
              "            video.height = 224\n",
              "            video.width = 224\n",
              "            const stream = await navigator.mediaDevices.getUserMedia({video: true});\n",
              "\n",
              "            document.body.appendChild(div);\n",
              "            div.appendChild(video);\n",
              "            video.srcObject = stream;\n",
              "            await video.play();\n",
              "\n",
              "            // Resize the output to fit the video element.\n",
              "            // google.colab.output.setIframeHeight(document.documentElement.scrollHeight, true);\n",
              "\n",
              "\n",
              "            const capture = document.createElement('button');\n",
              "\n",
              "            capture.textContent = 'Capture';\n",
              "\n",
              "            div.appendChild(capture);\n",
              "            \n",
              "            file_path = last_file_path\n",
              "\n",
              "            // Wait for Capture to be clicked.\n",
              "            await new Promise((resolve) => capture.onclick = resolve);\n",
              "            const canvas = document.createElement('canvas');\n",
              "            canvas.width = video.videoWidth;\n",
              "            canvas.height = video.videoHeight;\n",
              "            // canvas.width = 224;\n",
              "            // canvas.height = 224;\n",
              "            canvas.getContext('2d').drawImage(video, 0, 0);\n",
              "            stream.getVideoTracks()[0].stop();\n",
              "            div.remove();\n",
              "            \n",
              "            return [canvas.toDataURL('image/jpeg', quality), file_path];\n",
              "        }\n",
              "        \n",
              "    "
            ]
          },
          "metadata": {}
        },
        {
          "output_type": "error",
          "ename": "KeyboardInterrupt",
          "evalue": "ignored",
          "traceback": [
            "\u001b[0;31m---------------------------------------------------------------------------\u001b[0m",
            "\u001b[0;31mKeyboardInterrupt\u001b[0m                         Traceback (most recent call last)",
            "\u001b[0;32m<ipython-input-6-b24bdc995a7d>\u001b[0m in \u001b[0;36m<module>\u001b[0;34m()\u001b[0m\n\u001b[1;32m      1\u001b[0m \u001b[0mlast_file_path\u001b[0m \u001b[0;34m=\u001b[0m \u001b[0;34m\"./cup\"\u001b[0m\u001b[0;34m\u001b[0m\u001b[0;34m\u001b[0m\u001b[0m\n\u001b[1;32m      2\u001b[0m \u001b[0;32mwhile\u001b[0m\u001b[0;34m(\u001b[0m\u001b[0;32mTrue\u001b[0m\u001b[0;34m)\u001b[0m\u001b[0;34m:\u001b[0m\u001b[0;34m\u001b[0m\u001b[0;34m\u001b[0m\u001b[0m\n\u001b[0;32m----> 3\u001b[0;31m   \u001b[0mbinary\u001b[0m\u001b[0;34m,\u001b[0m \u001b[0mfile_path\u001b[0m \u001b[0;34m=\u001b[0m \u001b[0mtake_photo\u001b[0m\u001b[0;34m(\u001b[0m\u001b[0mlast_file_path\u001b[0m\u001b[0;34m)\u001b[0m\u001b[0;34m\u001b[0m\u001b[0;34m\u001b[0m\u001b[0m\n\u001b[0m\u001b[1;32m      4\u001b[0m   \u001b[0mmax_index\u001b[0m \u001b[0;34m+=\u001b[0m \u001b[0;36m1\u001b[0m\u001b[0;34m\u001b[0m\u001b[0;34m\u001b[0m\u001b[0m\n\u001b[1;32m      5\u001b[0m   \u001b[0mfile_name\u001b[0m \u001b[0;34m=\u001b[0m \u001b[0;34mf'{file_path}/image{max_index}.jpg'\u001b[0m\u001b[0;34m\u001b[0m\u001b[0;34m\u001b[0m\u001b[0m\n",
            "\u001b[0;32m<ipython-input-4-7122b235c6ab>\u001b[0m in \u001b[0;36mtake_photo\u001b[0;34m(last_file_path, quality)\u001b[0m\n\u001b[1;32m     47\u001b[0m     \u001b[0mdisplay\u001b[0m\u001b[0;34m(\u001b[0m\u001b[0mjs\u001b[0m\u001b[0;34m)\u001b[0m\u001b[0;34m\u001b[0m\u001b[0;34m\u001b[0m\u001b[0m\n\u001b[1;32m     48\u001b[0m \u001b[0;34m\u001b[0m\u001b[0m\n\u001b[0;32m---> 49\u001b[0;31m     \u001b[0mdata\u001b[0m\u001b[0;34m,\u001b[0m \u001b[0mfile_path\u001b[0m \u001b[0;34m=\u001b[0m \u001b[0meval_js\u001b[0m\u001b[0;34m(\u001b[0m\u001b[0;34m'takePhoto({})'\u001b[0m\u001b[0;34m.\u001b[0m\u001b[0mformat\u001b[0m\u001b[0;34m(\u001b[0m\u001b[0;34m[\u001b[0m\u001b[0mlast_file_path\u001b[0m\u001b[0;34m,\u001b[0m \u001b[0mquality\u001b[0m\u001b[0;34m]\u001b[0m\u001b[0;34m)\u001b[0m\u001b[0;34m)\u001b[0m\u001b[0;34m\u001b[0m\u001b[0;34m\u001b[0m\u001b[0m\n\u001b[0m\u001b[1;32m     50\u001b[0m     \u001b[0mbinary\u001b[0m \u001b[0;34m=\u001b[0m \u001b[0mb64decode\u001b[0m\u001b[0;34m(\u001b[0m\u001b[0mdata\u001b[0m\u001b[0;34m.\u001b[0m\u001b[0msplit\u001b[0m\u001b[0;34m(\u001b[0m\u001b[0;34m','\u001b[0m\u001b[0;34m)\u001b[0m\u001b[0;34m[\u001b[0m\u001b[0;36m1\u001b[0m\u001b[0;34m]\u001b[0m\u001b[0;34m)\u001b[0m\u001b[0;34m\u001b[0m\u001b[0;34m\u001b[0m\u001b[0m\n\u001b[1;32m     51\u001b[0m     \u001b[0;32mreturn\u001b[0m \u001b[0mbinary\u001b[0m\u001b[0;34m,\u001b[0m \u001b[0mfile_path\u001b[0m\u001b[0;34m\u001b[0m\u001b[0;34m\u001b[0m\u001b[0m\n",
            "\u001b[0;32m/usr/local/lib/python3.7/dist-packages/google/colab/output/_js.py\u001b[0m in \u001b[0;36meval_js\u001b[0;34m(script, ignore_result, timeout_sec)\u001b[0m\n\u001b[1;32m     38\u001b[0m   \u001b[0;32mif\u001b[0m \u001b[0mignore_result\u001b[0m\u001b[0;34m:\u001b[0m\u001b[0;34m\u001b[0m\u001b[0;34m\u001b[0m\u001b[0m\n\u001b[1;32m     39\u001b[0m     \u001b[0;32mreturn\u001b[0m\u001b[0;34m\u001b[0m\u001b[0;34m\u001b[0m\u001b[0m\n\u001b[0;32m---> 40\u001b[0;31m   \u001b[0;32mreturn\u001b[0m \u001b[0m_message\u001b[0m\u001b[0;34m.\u001b[0m\u001b[0mread_reply_from_input\u001b[0m\u001b[0;34m(\u001b[0m\u001b[0mrequest_id\u001b[0m\u001b[0;34m,\u001b[0m \u001b[0mtimeout_sec\u001b[0m\u001b[0;34m)\u001b[0m\u001b[0;34m\u001b[0m\u001b[0;34m\u001b[0m\u001b[0m\n\u001b[0m\u001b[1;32m     41\u001b[0m \u001b[0;34m\u001b[0m\u001b[0m\n\u001b[1;32m     42\u001b[0m \u001b[0;34m\u001b[0m\u001b[0m\n",
            "\u001b[0;32m/usr/local/lib/python3.7/dist-packages/google/colab/_message.py\u001b[0m in \u001b[0;36mread_reply_from_input\u001b[0;34m(message_id, timeout_sec)\u001b[0m\n\u001b[1;32m     95\u001b[0m     \u001b[0mreply\u001b[0m \u001b[0;34m=\u001b[0m \u001b[0m_read_next_input_message\u001b[0m\u001b[0;34m(\u001b[0m\u001b[0;34m)\u001b[0m\u001b[0;34m\u001b[0m\u001b[0;34m\u001b[0m\u001b[0m\n\u001b[1;32m     96\u001b[0m     \u001b[0;32mif\u001b[0m \u001b[0mreply\u001b[0m \u001b[0;34m==\u001b[0m \u001b[0m_NOT_READY\u001b[0m \u001b[0;32mor\u001b[0m \u001b[0;32mnot\u001b[0m \u001b[0misinstance\u001b[0m\u001b[0;34m(\u001b[0m\u001b[0mreply\u001b[0m\u001b[0;34m,\u001b[0m \u001b[0mdict\u001b[0m\u001b[0;34m)\u001b[0m\u001b[0;34m:\u001b[0m\u001b[0;34m\u001b[0m\u001b[0;34m\u001b[0m\u001b[0m\n\u001b[0;32m---> 97\u001b[0;31m       \u001b[0mtime\u001b[0m\u001b[0;34m.\u001b[0m\u001b[0msleep\u001b[0m\u001b[0;34m(\u001b[0m\u001b[0;36m0.025\u001b[0m\u001b[0;34m)\u001b[0m\u001b[0;34m\u001b[0m\u001b[0;34m\u001b[0m\u001b[0m\n\u001b[0m\u001b[1;32m     98\u001b[0m       \u001b[0;32mcontinue\u001b[0m\u001b[0;34m\u001b[0m\u001b[0;34m\u001b[0m\u001b[0m\n\u001b[1;32m     99\u001b[0m     if (reply.get('type') == 'colab_reply' and\n",
            "\u001b[0;31mKeyboardInterrupt\u001b[0m: "
          ]
        }
      ],
      "source": [
        "last_file_path = \"./cup\"\n",
        "while(True):\n",
        "  binary, file_path = take_photo(last_file_path)\n",
        "  max_index += 1\n",
        "  file_name = f'{file_path}/image{max_index}.jpg'\n",
        "  \n",
        "  with open(file_name,'wb') as f:\n",
        "    f.write(binary)\n",
        "#   print(file_name)\n",
        "  last_file_path = file_path\n"
      ]
    },
    {
      "cell_type": "code",
      "source": [
        "!tar cvfz cup.tar.gz cup"
      ],
      "metadata": {
        "id": "KyiyxFqwVaY2",
        "colab": {
          "base_uri": "https://localhost:8080/"
        },
        "outputId": "6f0d82a0-56b8-41a1-92ce-3c6faba7ea45"
      },
      "execution_count": 7,
      "outputs": [
        {
          "output_type": "stream",
          "name": "stdout",
          "text": [
            "cup/\n",
            "cup/image2.jpg\n",
            "cup/image1.jpg\n",
            "cup/image3.jpg\n"
          ]
        }
      ]
    },
    {
      "cell_type": "code",
      "source": [
        "from google.colab import drive\n",
        "drive.mount('/gdrive')"
      ],
      "metadata": {
        "colab": {
          "base_uri": "https://localhost:8080/"
        },
        "id": "PfPn4OaCV12S",
        "outputId": "4e837fef-0f98-4db5-ff34-95609d5d68a1"
      },
      "execution_count": null,
      "outputs": [
        {
          "output_type": "stream",
          "name": "stdout",
          "text": [
            "Mounted at /gdrive\n"
          ]
        }
      ]
    },
    {
      "cell_type": "code",
      "source": [
        "!cp cup.tar.gz /gdrive/MyDrive/tmp/"
      ],
      "metadata": {
        "id": "Ws3j0dpIV38m"
      },
      "execution_count": null,
      "outputs": []
    },
    {
      "cell_type": "code",
      "source": [
        ""
      ],
      "metadata": {
        "id": "PFcbRpwYXaIi"
      },
      "execution_count": null,
      "outputs": []
    }
  ]
}